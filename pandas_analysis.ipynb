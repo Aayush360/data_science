{
  "nbformat": 4,
  "nbformat_minor": 0,
  "metadata": {
    "colab": {
      "name": "pandas_analysis.ipynb",
      "provenance": [],
      "collapsed_sections": [],
      "authorship_tag": "ABX9TyNjV6MyNxxvPavKrjaeZfIO",
      "include_colab_link": true
    },
    "kernelspec": {
      "name": "python3",
      "display_name": "Python 3"
    }
  },
  "cells": [
    {
      "cell_type": "markdown",
      "metadata": {
        "id": "view-in-github",
        "colab_type": "text"
      },
      "source": [
        "<a href=\"https://colab.research.google.com/github/Aayush360/data_science/blob/master/pandas_analysis.ipynb\" target=\"_parent\"><img src=\"https://colab.research.google.com/assets/colab-badge.svg\" alt=\"Open In Colab\"/></a>"
      ]
    },
    {
      "cell_type": "code",
      "metadata": {
        "id": "A-m74fGUmo1S",
        "colab_type": "code",
        "colab": {}
      },
      "source": [
        "#Description: using pandas for sales data analysis"
      ],
      "execution_count": 0,
      "outputs": []
    },
    {
      "cell_type": "code",
      "metadata": {
        "id": "OyCYP8UNmsW-",
        "colab_type": "code",
        "colab": {}
      },
      "source": [
        "#import the dependencies\n",
        "import pandas as pd\n",
        "import os"
      ],
      "execution_count": 0,
      "outputs": []
    },
    {
      "cell_type": "code",
      "metadata": {
        "id": "BB1n-rXBnYfC",
        "colab_type": "code",
        "outputId": "a15c8b59-ddb2-4d5f-b9a1-9883e9c6c4cd",
        "colab": {
          "resources": {
            "http://localhost:8080/nbextensions/google.colab/files.js": {
              "data": "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",
              "ok": true,
              "headers": [
                [
                  "content-type",
                  "application/javascript"
                ]
              ],
              "status": 200,
              "status_text": ""
            }
          },
          "base_uri": "https://localhost:8080/",
          "height": 440
        }
      },
      "source": [
        "#using google colab to upload the file\n",
        "from google.colab import files\n",
        "uploaded = files.upload()"
      ],
      "execution_count": 3,
      "outputs": [
        {
          "output_type": "display_data",
          "data": {
            "text/html": [
              "\n",
              "     <input type=\"file\" id=\"files-ca6a2a78-60c9-4c3f-b548-5ee6c3418960\" name=\"files[]\" multiple disabled />\n",
              "     <output id=\"result-ca6a2a78-60c9-4c3f-b548-5ee6c3418960\">\n",
              "      Upload widget is only available when the cell has been executed in the\n",
              "      current browser session. Please rerun this cell to enable.\n",
              "      </output>\n",
              "      <script src=\"/nbextensions/google.colab/files.js\"></script> "
            ],
            "text/plain": [
              "<IPython.core.display.HTML object>"
            ]
          },
          "metadata": {
            "tags": []
          }
        },
        {
          "output_type": "stream",
          "text": [
            "Saving Sales_April_2019.csv to Sales_April_2019.csv\n",
            "Saving Sales_August_2019.csv to Sales_August_2019.csv\n",
            "Saving Sales_December_2019.csv to Sales_December_2019.csv\n",
            "Saving Sales_February_2019.csv to Sales_February_2019.csv\n",
            "Saving Sales_January_2019.csv to Sales_January_2019.csv\n",
            "Saving Sales_July_2019.csv to Sales_July_2019.csv\n",
            "Saving Sales_June_2019.csv to Sales_June_2019.csv\n",
            "Saving Sales_March_2019.csv to Sales_March_2019.csv\n",
            "Saving Sales_May_2019.csv to Sales_May_2019.csv\n",
            "Saving Sales_November_2019.csv to Sales_November_2019.csv\n",
            "Saving Sales_October_2019.csv to Sales_October_2019.csv\n",
            "Saving Sales_September_2019.csv to Sales_September_2019.csv\n"
          ],
          "name": "stdout"
        }
      ]
    },
    {
      "cell_type": "code",
      "metadata": {
        "id": "A5sIOEpQnDk0",
        "colab_type": "code",
        "colab": {}
      },
      "source": [
        ""
      ],
      "execution_count": 0,
      "outputs": []
    },
    {
      "cell_type": "code",
      "metadata": {
        "id": "et8kWqninVNR",
        "colab_type": "code",
        "outputId": "c22a0787-0af5-4326-c775-b37e0a4050c2",
        "colab": {
          "base_uri": "https://localhost:8080/",
          "height": 195
        }
      },
      "source": [
        "#reading the first file\n",
        "\n",
        "df1 = pd.read_csv('Sales_January_2019.csv')\n",
        "df1 = pd.DataFrame(df1)\n",
        "df1.head()"
      ],
      "execution_count": 0,
      "outputs": [
        {
          "output_type": "execute_result",
          "data": {
            "text/html": [
              "<div>\n",
              "<style scoped>\n",
              "    .dataframe tbody tr th:only-of-type {\n",
              "        vertical-align: middle;\n",
              "    }\n",
              "\n",
              "    .dataframe tbody tr th {\n",
              "        vertical-align: top;\n",
              "    }\n",
              "\n",
              "    .dataframe thead th {\n",
              "        text-align: right;\n",
              "    }\n",
              "</style>\n",
              "<table border=\"1\" class=\"dataframe\">\n",
              "  <thead>\n",
              "    <tr style=\"text-align: right;\">\n",
              "      <th></th>\n",
              "      <th>Order ID</th>\n",
              "      <th>Product</th>\n",
              "      <th>Quantity Ordered</th>\n",
              "      <th>Price Each</th>\n",
              "      <th>Order Date</th>\n",
              "      <th>Purchase Address</th>\n",
              "    </tr>\n",
              "  </thead>\n",
              "  <tbody>\n",
              "    <tr>\n",
              "      <th>0</th>\n",
              "      <td>141234</td>\n",
              "      <td>iPhone</td>\n",
              "      <td>1</td>\n",
              "      <td>700</td>\n",
              "      <td>01/22/19 21:25</td>\n",
              "      <td>944 Walnut St, Boston, MA 02215</td>\n",
              "    </tr>\n",
              "    <tr>\n",
              "      <th>1</th>\n",
              "      <td>141235</td>\n",
              "      <td>Lightning Charging Cable</td>\n",
              "      <td>1</td>\n",
              "      <td>14.95</td>\n",
              "      <td>01/28/19 14:15</td>\n",
              "      <td>185 Maple St, Portland, OR 97035</td>\n",
              "    </tr>\n",
              "    <tr>\n",
              "      <th>2</th>\n",
              "      <td>141236</td>\n",
              "      <td>Wired Headphones</td>\n",
              "      <td>2</td>\n",
              "      <td>11.99</td>\n",
              "      <td>01/17/19 13:33</td>\n",
              "      <td>538 Adams St, San Francisco, CA 94016</td>\n",
              "    </tr>\n",
              "    <tr>\n",
              "      <th>3</th>\n",
              "      <td>141237</td>\n",
              "      <td>27in FHD Monitor</td>\n",
              "      <td>1</td>\n",
              "      <td>149.99</td>\n",
              "      <td>01/05/19 20:33</td>\n",
              "      <td>738 10th St, Los Angeles, CA 90001</td>\n",
              "    </tr>\n",
              "    <tr>\n",
              "      <th>4</th>\n",
              "      <td>141238</td>\n",
              "      <td>Wired Headphones</td>\n",
              "      <td>1</td>\n",
              "      <td>11.99</td>\n",
              "      <td>01/25/19 11:59</td>\n",
              "      <td>387 10th St, Austin, TX 73301</td>\n",
              "    </tr>\n",
              "  </tbody>\n",
              "</table>\n",
              "</div>"
            ],
            "text/plain": [
              "  Order ID  ...                       Purchase Address\n",
              "0   141234  ...        944 Walnut St, Boston, MA 02215\n",
              "1   141235  ...       185 Maple St, Portland, OR 97035\n",
              "2   141236  ...  538 Adams St, San Francisco, CA 94016\n",
              "3   141237  ...     738 10th St, Los Angeles, CA 90001\n",
              "4   141238  ...          387 10th St, Austin, TX 73301\n",
              "\n",
              "[5 rows x 6 columns]"
            ]
          },
          "metadata": {
            "tags": []
          },
          "execution_count": 7
        }
      ]
    },
    {
      "cell_type": "code",
      "metadata": {
        "id": "9zKY4OaFo6BM",
        "colab_type": "code",
        "colab": {}
      },
      "source": [
        "#merging 12 months of sales data into a single file\n",
        "\n",
        "\n",
        "files = [files for files in os.listdir('/content/datas')]\n",
        "\n",
        "#create an empty DataFrame\n",
        "\n",
        "all_month = pd.DataFrame()\n",
        "\n",
        "\n",
        "for file in files:\n",
        "  df = pd.read_csv('/content/datas/'+file)\n",
        "  all_month = pd.concat([all_month,df])\n",
        "\n",
        "all_month.to_csv(\"first_combo.csv\", index=False)\n",
        "\n",
        "  "
      ],
      "execution_count": 0,
      "outputs": []
    },
    {
      "cell_type": "code",
      "metadata": {
        "id": "TofiMVjiqT-w",
        "colab_type": "code",
        "outputId": "ff217203-0ce0-40f4-b058-5b7c6a124a7f",
        "colab": {
          "base_uri": "https://localhost:8080/",
          "height": 195
        }
      },
      "source": [
        "#read the updated dataframe\n",
        "\n",
        "all_data = pd.read_csv('first_combo.csv')\n",
        "all_data.head()"
      ],
      "execution_count": 5,
      "outputs": [
        {
          "output_type": "execute_result",
          "data": {
            "text/html": [
              "<div>\n",
              "<style scoped>\n",
              "    .dataframe tbody tr th:only-of-type {\n",
              "        vertical-align: middle;\n",
              "    }\n",
              "\n",
              "    .dataframe tbody tr th {\n",
              "        vertical-align: top;\n",
              "    }\n",
              "\n",
              "    .dataframe thead th {\n",
              "        text-align: right;\n",
              "    }\n",
              "</style>\n",
              "<table border=\"1\" class=\"dataframe\">\n",
              "  <thead>\n",
              "    <tr style=\"text-align: right;\">\n",
              "      <th></th>\n",
              "      <th>Order ID</th>\n",
              "      <th>Product</th>\n",
              "      <th>Quantity Ordered</th>\n",
              "      <th>Price Each</th>\n",
              "      <th>Order Date</th>\n",
              "      <th>Purchase Address</th>\n",
              "    </tr>\n",
              "  </thead>\n",
              "  <tbody>\n",
              "    <tr>\n",
              "      <th>0</th>\n",
              "      <td>162009</td>\n",
              "      <td>iPhone</td>\n",
              "      <td>1</td>\n",
              "      <td>700</td>\n",
              "      <td>03/28/19 20:59</td>\n",
              "      <td>942 Church St, Austin, TX 73301</td>\n",
              "    </tr>\n",
              "    <tr>\n",
              "      <th>1</th>\n",
              "      <td>162009</td>\n",
              "      <td>Lightning Charging Cable</td>\n",
              "      <td>1</td>\n",
              "      <td>14.95</td>\n",
              "      <td>03/28/19 20:59</td>\n",
              "      <td>942 Church St, Austin, TX 73301</td>\n",
              "    </tr>\n",
              "    <tr>\n",
              "      <th>2</th>\n",
              "      <td>162009</td>\n",
              "      <td>Wired Headphones</td>\n",
              "      <td>2</td>\n",
              "      <td>11.99</td>\n",
              "      <td>03/28/19 20:59</td>\n",
              "      <td>942 Church St, Austin, TX 73301</td>\n",
              "    </tr>\n",
              "    <tr>\n",
              "      <th>3</th>\n",
              "      <td>162010</td>\n",
              "      <td>Bose SoundSport Headphones</td>\n",
              "      <td>1</td>\n",
              "      <td>99.99</td>\n",
              "      <td>03/17/19 05:39</td>\n",
              "      <td>261 10th St, San Francisco, CA 94016</td>\n",
              "    </tr>\n",
              "    <tr>\n",
              "      <th>4</th>\n",
              "      <td>162011</td>\n",
              "      <td>34in Ultrawide Monitor</td>\n",
              "      <td>1</td>\n",
              "      <td>379.99</td>\n",
              "      <td>03/10/19 00:01</td>\n",
              "      <td>764 13th St, San Francisco, CA 94016</td>\n",
              "    </tr>\n",
              "  </tbody>\n",
              "</table>\n",
              "</div>"
            ],
            "text/plain": [
              "  Order ID  ...                      Purchase Address\n",
              "0   162009  ...       942 Church St, Austin, TX 73301\n",
              "1   162009  ...       942 Church St, Austin, TX 73301\n",
              "2   162009  ...       942 Church St, Austin, TX 73301\n",
              "3   162010  ...  261 10th St, San Francisco, CA 94016\n",
              "4   162011  ...  764 13th St, San Francisco, CA 94016\n",
              "\n",
              "[5 rows x 6 columns]"
            ]
          },
          "metadata": {
            "tags": []
          },
          "execution_count": 5
        }
      ]
    },
    {
      "cell_type": "code",
      "metadata": {
        "id": "CU_a-RRUxUvG",
        "colab_type": "code",
        "outputId": "ebd2beae-8700-4ab5-f0fe-9c5f107e6136",
        "colab": {
          "base_uri": "https://localhost:8080/",
          "height": 34
        }
      },
      "source": [
        "#see the shape of the data\n",
        "\n",
        "all_data.shape"
      ],
      "execution_count": 6,
      "outputs": [
        {
          "output_type": "execute_result",
          "data": {
            "text/plain": [
              "(186850, 6)"
            ]
          },
          "metadata": {
            "tags": []
          },
          "execution_count": 6
        }
      ]
    },
    {
      "cell_type": "code",
      "metadata": {
        "id": "NTblgeCGwaoB",
        "colab_type": "code",
        "outputId": "29e09300-4ad8-43b8-9ef4-b90a58f32df4",
        "colab": {
          "base_uri": "https://localhost:8080/",
          "height": 195
        }
      },
      "source": [
        "#cleaning the data to remove the NaN \n",
        "\n",
        "all_data.isna().sum()\n",
        "\n",
        "#get the nan rows\n",
        "\n",
        "all_nan_data = all_data[all_data.isna().any(axis=1)]\n",
        "all_nan_data.head()\n",
        "\n"
      ],
      "execution_count": 7,
      "outputs": [
        {
          "output_type": "execute_result",
          "data": {
            "text/html": [
              "<div>\n",
              "<style scoped>\n",
              "    .dataframe tbody tr th:only-of-type {\n",
              "        vertical-align: middle;\n",
              "    }\n",
              "\n",
              "    .dataframe tbody tr th {\n",
              "        vertical-align: top;\n",
              "    }\n",
              "\n",
              "    .dataframe thead th {\n",
              "        text-align: right;\n",
              "    }\n",
              "</style>\n",
              "<table border=\"1\" class=\"dataframe\">\n",
              "  <thead>\n",
              "    <tr style=\"text-align: right;\">\n",
              "      <th></th>\n",
              "      <th>Order ID</th>\n",
              "      <th>Product</th>\n",
              "      <th>Quantity Ordered</th>\n",
              "      <th>Price Each</th>\n",
              "      <th>Order Date</th>\n",
              "      <th>Purchase Address</th>\n",
              "    </tr>\n",
              "  </thead>\n",
              "  <tbody>\n",
              "    <tr>\n",
              "      <th>1047</th>\n",
              "      <td>NaN</td>\n",
              "      <td>NaN</td>\n",
              "      <td>NaN</td>\n",
              "      <td>NaN</td>\n",
              "      <td>NaN</td>\n",
              "      <td>NaN</td>\n",
              "    </tr>\n",
              "    <tr>\n",
              "      <th>1542</th>\n",
              "      <td>NaN</td>\n",
              "      <td>NaN</td>\n",
              "      <td>NaN</td>\n",
              "      <td>NaN</td>\n",
              "      <td>NaN</td>\n",
              "      <td>NaN</td>\n",
              "    </tr>\n",
              "    <tr>\n",
              "      <th>1653</th>\n",
              "      <td>NaN</td>\n",
              "      <td>NaN</td>\n",
              "      <td>NaN</td>\n",
              "      <td>NaN</td>\n",
              "      <td>NaN</td>\n",
              "      <td>NaN</td>\n",
              "    </tr>\n",
              "    <tr>\n",
              "      <th>2014</th>\n",
              "      <td>NaN</td>\n",
              "      <td>NaN</td>\n",
              "      <td>NaN</td>\n",
              "      <td>NaN</td>\n",
              "      <td>NaN</td>\n",
              "      <td>NaN</td>\n",
              "    </tr>\n",
              "    <tr>\n",
              "      <th>2043</th>\n",
              "      <td>NaN</td>\n",
              "      <td>NaN</td>\n",
              "      <td>NaN</td>\n",
              "      <td>NaN</td>\n",
              "      <td>NaN</td>\n",
              "      <td>NaN</td>\n",
              "    </tr>\n",
              "  </tbody>\n",
              "</table>\n",
              "</div>"
            ],
            "text/plain": [
              "     Order ID Product Quantity Ordered Price Each Order Date Purchase Address\n",
              "1047      NaN     NaN              NaN        NaN        NaN              NaN\n",
              "1542      NaN     NaN              NaN        NaN        NaN              NaN\n",
              "1653      NaN     NaN              NaN        NaN        NaN              NaN\n",
              "2014      NaN     NaN              NaN        NaN        NaN              NaN\n",
              "2043      NaN     NaN              NaN        NaN        NaN              NaN"
            ]
          },
          "metadata": {
            "tags": []
          },
          "execution_count": 7
        }
      ]
    },
    {
      "cell_type": "code",
      "metadata": {
        "id": "nkTmUsoexF0F",
        "colab_type": "code",
        "outputId": "88293ae4-0494-4fdd-8d53-162ec048bdfe",
        "colab": {
          "base_uri": "https://localhost:8080/",
          "height": 34
        }
      },
      "source": [
        "#drop the nan values \n",
        "\n",
        "all_data=all_data.dropna(axis=0)\n",
        "all_data.shape"
      ],
      "execution_count": 8,
      "outputs": [
        {
          "output_type": "execute_result",
          "data": {
            "text/plain": [
              "(186305, 6)"
            ]
          },
          "metadata": {
            "tags": []
          },
          "execution_count": 8
        }
      ]
    },
    {
      "cell_type": "code",
      "metadata": {
        "id": "shhQH_8QtO9t",
        "colab_type": "code",
        "outputId": "09c7db54-d5c1-4496-b9b1-fa493ef20d7d",
        "colab": {
          "base_uri": "https://localhost:8080/",
          "height": 195
        }
      },
      "source": [
        "#augment the data with additional columns\n",
        "#first add month column in the data\n",
        "\n",
        "all_data['Months'] = all_data['Order Date'].str[0:2]\n",
        "all_data.head()\n",
        "\n"
      ],
      "execution_count": 9,
      "outputs": [
        {
          "output_type": "execute_result",
          "data": {
            "text/html": [
              "<div>\n",
              "<style scoped>\n",
              "    .dataframe tbody tr th:only-of-type {\n",
              "        vertical-align: middle;\n",
              "    }\n",
              "\n",
              "    .dataframe tbody tr th {\n",
              "        vertical-align: top;\n",
              "    }\n",
              "\n",
              "    .dataframe thead th {\n",
              "        text-align: right;\n",
              "    }\n",
              "</style>\n",
              "<table border=\"1\" class=\"dataframe\">\n",
              "  <thead>\n",
              "    <tr style=\"text-align: right;\">\n",
              "      <th></th>\n",
              "      <th>Order ID</th>\n",
              "      <th>Product</th>\n",
              "      <th>Quantity Ordered</th>\n",
              "      <th>Price Each</th>\n",
              "      <th>Order Date</th>\n",
              "      <th>Purchase Address</th>\n",
              "      <th>Months</th>\n",
              "    </tr>\n",
              "  </thead>\n",
              "  <tbody>\n",
              "    <tr>\n",
              "      <th>0</th>\n",
              "      <td>162009</td>\n",
              "      <td>iPhone</td>\n",
              "      <td>1</td>\n",
              "      <td>700</td>\n",
              "      <td>03/28/19 20:59</td>\n",
              "      <td>942 Church St, Austin, TX 73301</td>\n",
              "      <td>03</td>\n",
              "    </tr>\n",
              "    <tr>\n",
              "      <th>1</th>\n",
              "      <td>162009</td>\n",
              "      <td>Lightning Charging Cable</td>\n",
              "      <td>1</td>\n",
              "      <td>14.95</td>\n",
              "      <td>03/28/19 20:59</td>\n",
              "      <td>942 Church St, Austin, TX 73301</td>\n",
              "      <td>03</td>\n",
              "    </tr>\n",
              "    <tr>\n",
              "      <th>2</th>\n",
              "      <td>162009</td>\n",
              "      <td>Wired Headphones</td>\n",
              "      <td>2</td>\n",
              "      <td>11.99</td>\n",
              "      <td>03/28/19 20:59</td>\n",
              "      <td>942 Church St, Austin, TX 73301</td>\n",
              "      <td>03</td>\n",
              "    </tr>\n",
              "    <tr>\n",
              "      <th>3</th>\n",
              "      <td>162010</td>\n",
              "      <td>Bose SoundSport Headphones</td>\n",
              "      <td>1</td>\n",
              "      <td>99.99</td>\n",
              "      <td>03/17/19 05:39</td>\n",
              "      <td>261 10th St, San Francisco, CA 94016</td>\n",
              "      <td>03</td>\n",
              "    </tr>\n",
              "    <tr>\n",
              "      <th>4</th>\n",
              "      <td>162011</td>\n",
              "      <td>34in Ultrawide Monitor</td>\n",
              "      <td>1</td>\n",
              "      <td>379.99</td>\n",
              "      <td>03/10/19 00:01</td>\n",
              "      <td>764 13th St, San Francisco, CA 94016</td>\n",
              "      <td>03</td>\n",
              "    </tr>\n",
              "  </tbody>\n",
              "</table>\n",
              "</div>"
            ],
            "text/plain": [
              "  Order ID  ... Months\n",
              "0   162009  ...     03\n",
              "1   162009  ...     03\n",
              "2   162009  ...     03\n",
              "3   162010  ...     03\n",
              "4   162011  ...     03\n",
              "\n",
              "[5 rows x 7 columns]"
            ]
          },
          "metadata": {
            "tags": []
          },
          "execution_count": 9
        }
      ]
    },
    {
      "cell_type": "code",
      "metadata": {
        "id": "X1sCB1MG53GR",
        "colab_type": "code",
        "outputId": "a71ee67f-8054-489d-a849-73d9aeb4e674",
        "colab": {
          "base_uri": "https://localhost:8080/",
          "height": 195
        }
      },
      "source": [
        "#removing the month column having value as 'Or' string\n",
        "\n",
        "all_data = all_data[all_data['Order Date'].str[0:2]!='Or']\n",
        "all_data.head()"
      ],
      "execution_count": 10,
      "outputs": [
        {
          "output_type": "execute_result",
          "data": {
            "text/html": [
              "<div>\n",
              "<style scoped>\n",
              "    .dataframe tbody tr th:only-of-type {\n",
              "        vertical-align: middle;\n",
              "    }\n",
              "\n",
              "    .dataframe tbody tr th {\n",
              "        vertical-align: top;\n",
              "    }\n",
              "\n",
              "    .dataframe thead th {\n",
              "        text-align: right;\n",
              "    }\n",
              "</style>\n",
              "<table border=\"1\" class=\"dataframe\">\n",
              "  <thead>\n",
              "    <tr style=\"text-align: right;\">\n",
              "      <th></th>\n",
              "      <th>Order ID</th>\n",
              "      <th>Product</th>\n",
              "      <th>Quantity Ordered</th>\n",
              "      <th>Price Each</th>\n",
              "      <th>Order Date</th>\n",
              "      <th>Purchase Address</th>\n",
              "      <th>Months</th>\n",
              "    </tr>\n",
              "  </thead>\n",
              "  <tbody>\n",
              "    <tr>\n",
              "      <th>0</th>\n",
              "      <td>162009</td>\n",
              "      <td>iPhone</td>\n",
              "      <td>1</td>\n",
              "      <td>700</td>\n",
              "      <td>03/28/19 20:59</td>\n",
              "      <td>942 Church St, Austin, TX 73301</td>\n",
              "      <td>03</td>\n",
              "    </tr>\n",
              "    <tr>\n",
              "      <th>1</th>\n",
              "      <td>162009</td>\n",
              "      <td>Lightning Charging Cable</td>\n",
              "      <td>1</td>\n",
              "      <td>14.95</td>\n",
              "      <td>03/28/19 20:59</td>\n",
              "      <td>942 Church St, Austin, TX 73301</td>\n",
              "      <td>03</td>\n",
              "    </tr>\n",
              "    <tr>\n",
              "      <th>2</th>\n",
              "      <td>162009</td>\n",
              "      <td>Wired Headphones</td>\n",
              "      <td>2</td>\n",
              "      <td>11.99</td>\n",
              "      <td>03/28/19 20:59</td>\n",
              "      <td>942 Church St, Austin, TX 73301</td>\n",
              "      <td>03</td>\n",
              "    </tr>\n",
              "    <tr>\n",
              "      <th>3</th>\n",
              "      <td>162010</td>\n",
              "      <td>Bose SoundSport Headphones</td>\n",
              "      <td>1</td>\n",
              "      <td>99.99</td>\n",
              "      <td>03/17/19 05:39</td>\n",
              "      <td>261 10th St, San Francisco, CA 94016</td>\n",
              "      <td>03</td>\n",
              "    </tr>\n",
              "    <tr>\n",
              "      <th>4</th>\n",
              "      <td>162011</td>\n",
              "      <td>34in Ultrawide Monitor</td>\n",
              "      <td>1</td>\n",
              "      <td>379.99</td>\n",
              "      <td>03/10/19 00:01</td>\n",
              "      <td>764 13th St, San Francisco, CA 94016</td>\n",
              "      <td>03</td>\n",
              "    </tr>\n",
              "  </tbody>\n",
              "</table>\n",
              "</div>"
            ],
            "text/plain": [
              "  Order ID  ... Months\n",
              "0   162009  ...     03\n",
              "1   162009  ...     03\n",
              "2   162009  ...     03\n",
              "3   162010  ...     03\n",
              "4   162011  ...     03\n",
              "\n",
              "[5 rows x 7 columns]"
            ]
          },
          "metadata": {
            "tags": []
          },
          "execution_count": 10
        }
      ]
    },
    {
      "cell_type": "code",
      "metadata": {
        "id": "NYBv-CPcv50G",
        "colab_type": "code",
        "outputId": "0fc53b85-41c8-4c30-91f8-c52b9ade0045",
        "colab": {
          "base_uri": "https://localhost:8080/",
          "height": 195
        }
      },
      "source": [
        "#convert the string type data in months columns into integer number\n",
        "\n",
        "all_data['Months'] =all_data['Months'].astype('int32')\n",
        "all_data.head()\n"
      ],
      "execution_count": 11,
      "outputs": [
        {
          "output_type": "execute_result",
          "data": {
            "text/html": [
              "<div>\n",
              "<style scoped>\n",
              "    .dataframe tbody tr th:only-of-type {\n",
              "        vertical-align: middle;\n",
              "    }\n",
              "\n",
              "    .dataframe tbody tr th {\n",
              "        vertical-align: top;\n",
              "    }\n",
              "\n",
              "    .dataframe thead th {\n",
              "        text-align: right;\n",
              "    }\n",
              "</style>\n",
              "<table border=\"1\" class=\"dataframe\">\n",
              "  <thead>\n",
              "    <tr style=\"text-align: right;\">\n",
              "      <th></th>\n",
              "      <th>Order ID</th>\n",
              "      <th>Product</th>\n",
              "      <th>Quantity Ordered</th>\n",
              "      <th>Price Each</th>\n",
              "      <th>Order Date</th>\n",
              "      <th>Purchase Address</th>\n",
              "      <th>Months</th>\n",
              "    </tr>\n",
              "  </thead>\n",
              "  <tbody>\n",
              "    <tr>\n",
              "      <th>0</th>\n",
              "      <td>162009</td>\n",
              "      <td>iPhone</td>\n",
              "      <td>1</td>\n",
              "      <td>700</td>\n",
              "      <td>03/28/19 20:59</td>\n",
              "      <td>942 Church St, Austin, TX 73301</td>\n",
              "      <td>3</td>\n",
              "    </tr>\n",
              "    <tr>\n",
              "      <th>1</th>\n",
              "      <td>162009</td>\n",
              "      <td>Lightning Charging Cable</td>\n",
              "      <td>1</td>\n",
              "      <td>14.95</td>\n",
              "      <td>03/28/19 20:59</td>\n",
              "      <td>942 Church St, Austin, TX 73301</td>\n",
              "      <td>3</td>\n",
              "    </tr>\n",
              "    <tr>\n",
              "      <th>2</th>\n",
              "      <td>162009</td>\n",
              "      <td>Wired Headphones</td>\n",
              "      <td>2</td>\n",
              "      <td>11.99</td>\n",
              "      <td>03/28/19 20:59</td>\n",
              "      <td>942 Church St, Austin, TX 73301</td>\n",
              "      <td>3</td>\n",
              "    </tr>\n",
              "    <tr>\n",
              "      <th>3</th>\n",
              "      <td>162010</td>\n",
              "      <td>Bose SoundSport Headphones</td>\n",
              "      <td>1</td>\n",
              "      <td>99.99</td>\n",
              "      <td>03/17/19 05:39</td>\n",
              "      <td>261 10th St, San Francisco, CA 94016</td>\n",
              "      <td>3</td>\n",
              "    </tr>\n",
              "    <tr>\n",
              "      <th>4</th>\n",
              "      <td>162011</td>\n",
              "      <td>34in Ultrawide Monitor</td>\n",
              "      <td>1</td>\n",
              "      <td>379.99</td>\n",
              "      <td>03/10/19 00:01</td>\n",
              "      <td>764 13th St, San Francisco, CA 94016</td>\n",
              "      <td>3</td>\n",
              "    </tr>\n",
              "  </tbody>\n",
              "</table>\n",
              "</div>"
            ],
            "text/plain": [
              "  Order ID  ... Months\n",
              "0   162009  ...      3\n",
              "1   162009  ...      3\n",
              "2   162009  ...      3\n",
              "3   162010  ...      3\n",
              "4   162011  ...      3\n",
              "\n",
              "[5 rows x 7 columns]"
            ]
          },
          "metadata": {
            "tags": []
          },
          "execution_count": 11
        }
      ]
    },
    {
      "cell_type": "code",
      "metadata": {
        "id": "zoCljqrByEo2",
        "colab_type": "code",
        "colab": {}
      },
      "source": [
        "#convert columns to the correct type\n",
        "\n",
        "all_data['Quantity Ordered'] = pd.to_numeric(all_data['Quantity Ordered']) #converting to integer\n",
        "all_data['Price Each'] = pd.to_numeric(all_data['Price Each']) #converting to float\n"
      ],
      "execution_count": 0,
      "outputs": []
    },
    {
      "cell_type": "code",
      "metadata": {
        "id": "I91iUCRJ7623",
        "colab_type": "code",
        "outputId": "1da7d5a2-8819-41a7-ad8a-7dd0a866c2cf",
        "colab": {
          "base_uri": "https://localhost:8080/",
          "height": 296
        }
      },
      "source": [
        "all_data['sales'] = all_data['Quantity Ordered']* all_data['Price Each']\n",
        "all_data.head()"
      ],
      "execution_count": 13,
      "outputs": [
        {
          "output_type": "execute_result",
          "data": {
            "text/html": [
              "<div>\n",
              "<style scoped>\n",
              "    .dataframe tbody tr th:only-of-type {\n",
              "        vertical-align: middle;\n",
              "    }\n",
              "\n",
              "    .dataframe tbody tr th {\n",
              "        vertical-align: top;\n",
              "    }\n",
              "\n",
              "    .dataframe thead th {\n",
              "        text-align: right;\n",
              "    }\n",
              "</style>\n",
              "<table border=\"1\" class=\"dataframe\">\n",
              "  <thead>\n",
              "    <tr style=\"text-align: right;\">\n",
              "      <th></th>\n",
              "      <th>Order ID</th>\n",
              "      <th>Product</th>\n",
              "      <th>Quantity Ordered</th>\n",
              "      <th>Price Each</th>\n",
              "      <th>Order Date</th>\n",
              "      <th>Purchase Address</th>\n",
              "      <th>Months</th>\n",
              "      <th>sales</th>\n",
              "    </tr>\n",
              "  </thead>\n",
              "  <tbody>\n",
              "    <tr>\n",
              "      <th>0</th>\n",
              "      <td>162009</td>\n",
              "      <td>iPhone</td>\n",
              "      <td>1</td>\n",
              "      <td>700.00</td>\n",
              "      <td>03/28/19 20:59</td>\n",
              "      <td>942 Church St, Austin, TX 73301</td>\n",
              "      <td>3</td>\n",
              "      <td>700.00</td>\n",
              "    </tr>\n",
              "    <tr>\n",
              "      <th>1</th>\n",
              "      <td>162009</td>\n",
              "      <td>Lightning Charging Cable</td>\n",
              "      <td>1</td>\n",
              "      <td>14.95</td>\n",
              "      <td>03/28/19 20:59</td>\n",
              "      <td>942 Church St, Austin, TX 73301</td>\n",
              "      <td>3</td>\n",
              "      <td>14.95</td>\n",
              "    </tr>\n",
              "    <tr>\n",
              "      <th>2</th>\n",
              "      <td>162009</td>\n",
              "      <td>Wired Headphones</td>\n",
              "      <td>2</td>\n",
              "      <td>11.99</td>\n",
              "      <td>03/28/19 20:59</td>\n",
              "      <td>942 Church St, Austin, TX 73301</td>\n",
              "      <td>3</td>\n",
              "      <td>23.98</td>\n",
              "    </tr>\n",
              "    <tr>\n",
              "      <th>3</th>\n",
              "      <td>162010</td>\n",
              "      <td>Bose SoundSport Headphones</td>\n",
              "      <td>1</td>\n",
              "      <td>99.99</td>\n",
              "      <td>03/17/19 05:39</td>\n",
              "      <td>261 10th St, San Francisco, CA 94016</td>\n",
              "      <td>3</td>\n",
              "      <td>99.99</td>\n",
              "    </tr>\n",
              "    <tr>\n",
              "      <th>4</th>\n",
              "      <td>162011</td>\n",
              "      <td>34in Ultrawide Monitor</td>\n",
              "      <td>1</td>\n",
              "      <td>379.99</td>\n",
              "      <td>03/10/19 00:01</td>\n",
              "      <td>764 13th St, San Francisco, CA 94016</td>\n",
              "      <td>3</td>\n",
              "      <td>379.99</td>\n",
              "    </tr>\n",
              "  </tbody>\n",
              "</table>\n",
              "</div>"
            ],
            "text/plain": [
              "  Order ID                     Product  ...  Months   sales\n",
              "0   162009                      iPhone  ...       3  700.00\n",
              "1   162009    Lightning Charging Cable  ...       3   14.95\n",
              "2   162009            Wired Headphones  ...       3   23.98\n",
              "3   162010  Bose SoundSport Headphones  ...       3   99.99\n",
              "4   162011      34in Ultrawide Monitor  ...       3  379.99\n",
              "\n",
              "[5 rows x 8 columns]"
            ]
          },
          "metadata": {
            "tags": []
          },
          "execution_count": 13
        }
      ]
    },
    {
      "cell_type": "code",
      "metadata": {
        "id": "GhnhCA8xCXF6",
        "colab_type": "code",
        "colab": {}
      },
      "source": [
        "City = pd.DataFrame()\n",
        "City =all_data['Purchase Address'].str.split(',')\n",
        "\n"
      ],
      "execution_count": 0,
      "outputs": []
    },
    {
      "cell_type": "code",
      "metadata": {
        "id": "jD_4mdOgNNcP",
        "colab_type": "code",
        "colab": {}
      },
      "source": [
        "#we can also define a function that would give us the address \n",
        "\n",
        "def get_add(address):\n",
        "  return address.split(',')[1]\n",
        "\n",
        "def get_state(address):\n",
        "  return address.split(',')[2].split(' ')[1]"
      ],
      "execution_count": 0,
      "outputs": []
    },
    {
      "cell_type": "code",
      "metadata": {
        "id": "QfdRBtEjE9gR",
        "colab_type": "code",
        "outputId": "8c47d8ca-ea22-4f3f-de3c-fbad4674a565",
        "colab": {
          "base_uri": "https://localhost:8080/",
          "height": 296
        }
      },
      "source": [
        "#add a city column\n",
        "#apply pandas apply method\n",
        "\n",
        "#use lambda to grab the cell content\n",
        "\n",
        "all_data['city'] =all_data['Purchase Address'].apply(lambda x:f\" {x.split(',')[1]}({get_state(x)})\") #or we can call get_add(x) method from above\n",
        "all_data.head()\n",
        "\n",
        "\n"
      ],
      "execution_count": 16,
      "outputs": [
        {
          "output_type": "execute_result",
          "data": {
            "text/html": [
              "<div>\n",
              "<style scoped>\n",
              "    .dataframe tbody tr th:only-of-type {\n",
              "        vertical-align: middle;\n",
              "    }\n",
              "\n",
              "    .dataframe tbody tr th {\n",
              "        vertical-align: top;\n",
              "    }\n",
              "\n",
              "    .dataframe thead th {\n",
              "        text-align: right;\n",
              "    }\n",
              "</style>\n",
              "<table border=\"1\" class=\"dataframe\">\n",
              "  <thead>\n",
              "    <tr style=\"text-align: right;\">\n",
              "      <th></th>\n",
              "      <th>Order ID</th>\n",
              "      <th>Product</th>\n",
              "      <th>Quantity Ordered</th>\n",
              "      <th>Price Each</th>\n",
              "      <th>Order Date</th>\n",
              "      <th>Purchase Address</th>\n",
              "      <th>Months</th>\n",
              "      <th>sales</th>\n",
              "      <th>city</th>\n",
              "    </tr>\n",
              "  </thead>\n",
              "  <tbody>\n",
              "    <tr>\n",
              "      <th>0</th>\n",
              "      <td>162009</td>\n",
              "      <td>iPhone</td>\n",
              "      <td>1</td>\n",
              "      <td>700.00</td>\n",
              "      <td>03/28/19 20:59</td>\n",
              "      <td>942 Church St, Austin, TX 73301</td>\n",
              "      <td>3</td>\n",
              "      <td>700.00</td>\n",
              "      <td>Austin(TX)</td>\n",
              "    </tr>\n",
              "    <tr>\n",
              "      <th>1</th>\n",
              "      <td>162009</td>\n",
              "      <td>Lightning Charging Cable</td>\n",
              "      <td>1</td>\n",
              "      <td>14.95</td>\n",
              "      <td>03/28/19 20:59</td>\n",
              "      <td>942 Church St, Austin, TX 73301</td>\n",
              "      <td>3</td>\n",
              "      <td>14.95</td>\n",
              "      <td>Austin(TX)</td>\n",
              "    </tr>\n",
              "    <tr>\n",
              "      <th>2</th>\n",
              "      <td>162009</td>\n",
              "      <td>Wired Headphones</td>\n",
              "      <td>2</td>\n",
              "      <td>11.99</td>\n",
              "      <td>03/28/19 20:59</td>\n",
              "      <td>942 Church St, Austin, TX 73301</td>\n",
              "      <td>3</td>\n",
              "      <td>23.98</td>\n",
              "      <td>Austin(TX)</td>\n",
              "    </tr>\n",
              "    <tr>\n",
              "      <th>3</th>\n",
              "      <td>162010</td>\n",
              "      <td>Bose SoundSport Headphones</td>\n",
              "      <td>1</td>\n",
              "      <td>99.99</td>\n",
              "      <td>03/17/19 05:39</td>\n",
              "      <td>261 10th St, San Francisco, CA 94016</td>\n",
              "      <td>3</td>\n",
              "      <td>99.99</td>\n",
              "      <td>San Francisco(CA)</td>\n",
              "    </tr>\n",
              "    <tr>\n",
              "      <th>4</th>\n",
              "      <td>162011</td>\n",
              "      <td>34in Ultrawide Monitor</td>\n",
              "      <td>1</td>\n",
              "      <td>379.99</td>\n",
              "      <td>03/10/19 00:01</td>\n",
              "      <td>764 13th St, San Francisco, CA 94016</td>\n",
              "      <td>3</td>\n",
              "      <td>379.99</td>\n",
              "      <td>San Francisco(CA)</td>\n",
              "    </tr>\n",
              "  </tbody>\n",
              "</table>\n",
              "</div>"
            ],
            "text/plain": [
              "  Order ID                     Product  ...   sales                 city\n",
              "0   162009                      iPhone  ...  700.00           Austin(TX)\n",
              "1   162009    Lightning Charging Cable  ...   14.95           Austin(TX)\n",
              "2   162009            Wired Headphones  ...   23.98           Austin(TX)\n",
              "3   162010  Bose SoundSport Headphones  ...   99.99    San Francisco(CA)\n",
              "4   162011      34in Ultrawide Monitor  ...  379.99    San Francisco(CA)\n",
              "\n",
              "[5 rows x 9 columns]"
            ]
          },
          "metadata": {
            "tags": []
          },
          "execution_count": 16
        }
      ]
    },
    {
      "cell_type": "code",
      "metadata": {
        "id": "o2lDUhwaIOVg",
        "colab_type": "code",
        "colab": {}
      },
      "source": [
        ""
      ],
      "execution_count": 0,
      "outputs": []
    },
    {
      "cell_type": "code",
      "metadata": {
        "id": "MJEMaYG59Ftr",
        "colab_type": "code",
        "colab": {}
      },
      "source": [
        "#use groupby method to add up the values in the sales columns\n",
        "result = all_data.groupby('Months').sum()"
      ],
      "execution_count": 0,
      "outputs": []
    },
    {
      "cell_type": "code",
      "metadata": {
        "id": "pOMYdLAf9xMa",
        "colab_type": "code",
        "outputId": "2dc08c74-3497-4a65-d568-1b9218d2912b",
        "colab": {
          "base_uri": "https://localhost:8080/",
          "height": 279
        }
      },
      "source": [
        "#for visualization\n",
        "\n",
        "import matplotlib.pyplot as plt\n",
        "\n",
        "months=range(1,13) #contains value from 1 to 12\n",
        "plt.xticks(months)\n",
        "plt.xlabel('Months')\n",
        "plt.ylabel('Sales in USD($)')\n",
        "plt.bar(months,result['sales'])\n",
        "plt.show()"
      ],
      "execution_count": 18,
      "outputs": [
        {
          "output_type": "display_data",
          "data": {
            "image/png": "[encoded data removed]",
            "text/plain": [
              "<Figure size 432x288 with 1 Axes>"
            ]
          },
          "metadata": {
            "tags": []
          }
        }
      ]
    },
    {
      "cell_type": "code",
      "metadata": {
        "id": "N0KPIRrgBBQh",
        "colab_type": "code",
        "outputId": "f820f52e-837b-4472-a33f-ea040c628ed6",
        "colab": {
          "base_uri": "https://localhost:8080/",
          "height": 373
        }
      },
      "source": [
        " #which US city had the highest number of sales?\n",
        "\n",
        "result2 = all_data.groupby('city').sum()\n",
        "result2\n"
      ],
      "execution_count": 19,
      "outputs": [
        {
          "output_type": "execute_result",
          "data": {
            "text/html": [
              "<div>\n",
              "<style scoped>\n",
              "    .dataframe tbody tr th:only-of-type {\n",
              "        vertical-align: middle;\n",
              "    }\n",
              "\n",
              "    .dataframe tbody tr th {\n",
              "        vertical-align: top;\n",
              "    }\n",
              "\n",
              "    .dataframe thead th {\n",
              "        text-align: right;\n",
              "    }\n",
              "</style>\n",
              "<table border=\"1\" class=\"dataframe\">\n",
              "  <thead>\n",
              "    <tr style=\"text-align: right;\">\n",
              "      <th></th>\n",
              "      <th>Quantity Ordered</th>\n",
              "      <th>Price Each</th>\n",
              "      <th>Months</th>\n",
              "      <th>sales</th>\n",
              "    </tr>\n",
              "    <tr>\n",
              "      <th>city</th>\n",
              "      <th></th>\n",
              "      <th></th>\n",
              "      <th></th>\n",
              "      <th></th>\n",
              "    </tr>\n",
              "  </thead>\n",
              "  <tbody>\n",
              "    <tr>\n",
              "      <th>Atlanta(GA)</th>\n",
              "      <td>16602</td>\n",
              "      <td>2.779908e+06</td>\n",
              "      <td>104794</td>\n",
              "      <td>2.795499e+06</td>\n",
              "    </tr>\n",
              "    <tr>\n",
              "      <th>Austin(TX)</th>\n",
              "      <td>11153</td>\n",
              "      <td>1.809874e+06</td>\n",
              "      <td>69829</td>\n",
              "      <td>1.819582e+06</td>\n",
              "    </tr>\n",
              "    <tr>\n",
              "      <th>Boston(MA)</th>\n",
              "      <td>22528</td>\n",
              "      <td>3.637410e+06</td>\n",
              "      <td>141112</td>\n",
              "      <td>3.661642e+06</td>\n",
              "    </tr>\n",
              "    <tr>\n",
              "      <th>Dallas(TX)</th>\n",
              "      <td>16730</td>\n",
              "      <td>2.752628e+06</td>\n",
              "      <td>104620</td>\n",
              "      <td>2.767975e+06</td>\n",
              "    </tr>\n",
              "    <tr>\n",
              "      <th>Los Angeles(CA)</th>\n",
              "      <td>33289</td>\n",
              "      <td>5.421435e+06</td>\n",
              "      <td>208325</td>\n",
              "      <td>5.452571e+06</td>\n",
              "    </tr>\n",
              "    <tr>\n",
              "      <th>New York City(NY)</th>\n",
              "      <td>27932</td>\n",
              "      <td>4.635371e+06</td>\n",
              "      <td>175741</td>\n",
              "      <td>4.664317e+06</td>\n",
              "    </tr>\n",
              "    <tr>\n",
              "      <th>Portland(ME)</th>\n",
              "      <td>2750</td>\n",
              "      <td>4.471893e+05</td>\n",
              "      <td>17144</td>\n",
              "      <td>4.497583e+05</td>\n",
              "    </tr>\n",
              "    <tr>\n",
              "      <th>Portland(OR)</th>\n",
              "      <td>11303</td>\n",
              "      <td>1.860558e+06</td>\n",
              "      <td>70621</td>\n",
              "      <td>1.870732e+06</td>\n",
              "    </tr>\n",
              "    <tr>\n",
              "      <th>San Francisco(CA)</th>\n",
              "      <td>50239</td>\n",
              "      <td>8.211462e+06</td>\n",
              "      <td>315520</td>\n",
              "      <td>8.262204e+06</td>\n",
              "    </tr>\n",
              "    <tr>\n",
              "      <th>Seattle(WA)</th>\n",
              "      <td>16553</td>\n",
              "      <td>2.733296e+06</td>\n",
              "      <td>104941</td>\n",
              "      <td>2.747755e+06</td>\n",
              "    </tr>\n",
              "  </tbody>\n",
              "</table>\n",
              "</div>"
            ],
            "text/plain": [
              "                     Quantity Ordered    Price Each  Months         sales\n",
              "city                                                                     \n",
              "  Atlanta(GA)                   16602  2.779908e+06  104794  2.795499e+06\n",
              "  Austin(TX)                    11153  1.809874e+06   69829  1.819582e+06\n",
              "  Boston(MA)                    22528  3.637410e+06  141112  3.661642e+06\n",
              "  Dallas(TX)                    16730  2.752628e+06  104620  2.767975e+06\n",
              "  Los Angeles(CA)               33289  5.421435e+06  208325  5.452571e+06\n",
              "  New York City(NY)             27932  4.635371e+06  175741  4.664317e+06\n",
              "  Portland(ME)                   2750  4.471893e+05   17144  4.497583e+05\n",
              "  Portland(OR)                  11303  1.860558e+06   70621  1.870732e+06\n",
              "  San Francisco(CA)             50239  8.211462e+06  315520  8.262204e+06\n",
              "  Seattle(WA)                   16553  2.733296e+06  104941  2.747755e+06"
            ]
          },
          "metadata": {
            "tags": []
          },
          "execution_count": 19
        }
      ]
    },
    {
      "cell_type": "code",
      "metadata": {
        "id": "rdRJm7_XQSWu",
        "colab_type": "code",
        "outputId": "15308fa6-f83a-4a6a-aa56-94c68b0b6de7",
        "colab": {
          "base_uri": "https://localhost:8080/",
          "height": 366
        }
      },
      "source": [
        "#for visualization\n",
        "import matplotlib.pyplot as plt\n",
        "\n",
        "cities = [city for city,df in all_data.groupby('city')]\n",
        "plt.bar(cities,result2['sales'])\n",
        "plt.xticks(cities,rotation=90)\n",
        "plt.xlabel('Cities')\n",
        "plt.ylabel('Sales')\n",
        "plt.show()"
      ],
      "execution_count": 20,
      "outputs": [
        {
          "output_type": "display_data",
          "data": {
            "image/png": "[encoded data removed]",
            "text/plain": [
              "<Figure size 432x288 with 1 Axes>"
            ]
          },
          "metadata": {
            "tags": []
          }
        }
      ]
    },
    {
      "cell_type": "code",
      "metadata": {
        "id": "UDJO4_v7Q-bT",
        "colab_type": "code",
        "colab": {}
      },
      "source": [
        "#what time should we display the advertisement to get maximum likelihood of the customer to buy the product"
      ],
      "execution_count": 0,
      "outputs": []
    },
    {
      "cell_type": "code",
      "metadata": {
        "id": "j7v4Z60mSdwu",
        "colab_type": "code",
        "colab": {
          "base_uri": "https://localhost:8080/",
          "height": 296
        },
        "outputId": "72ba7079-a416-421f-f781-db67de7ec180"
      },
      "source": [
        "all_data['Order Date']= pd.to_datetime(all_data['Order Date'])\n",
        "all_data.head()"
      ],
      "execution_count": 23,
      "outputs": [
        {
          "output_type": "execute_result",
          "data": {
            "text/html": [
              "<div>\n",
              "<style scoped>\n",
              "    .dataframe tbody tr th:only-of-type {\n",
              "        vertical-align: middle;\n",
              "    }\n",
              "\n",
              "    .dataframe tbody tr th {\n",
              "        vertical-align: top;\n",
              "    }\n",
              "\n",
              "    .dataframe thead th {\n",
              "        text-align: right;\n",
              "    }\n",
              "</style>\n",
              "<table border=\"1\" class=\"dataframe\">\n",
              "  <thead>\n",
              "    <tr style=\"text-align: right;\">\n",
              "      <th></th>\n",
              "      <th>Order ID</th>\n",
              "      <th>Product</th>\n",
              "      <th>Quantity Ordered</th>\n",
              "      <th>Price Each</th>\n",
              "      <th>Order Date</th>\n",
              "      <th>Purchase Address</th>\n",
              "      <th>Months</th>\n",
              "      <th>sales</th>\n",
              "      <th>city</th>\n",
              "    </tr>\n",
              "  </thead>\n",
              "  <tbody>\n",
              "    <tr>\n",
              "      <th>0</th>\n",
              "      <td>162009</td>\n",
              "      <td>iPhone</td>\n",
              "      <td>1</td>\n",
              "      <td>700.00</td>\n",
              "      <td>2019-03-28 20:59:00</td>\n",
              "      <td>942 Church St, Austin, TX 73301</td>\n",
              "      <td>3</td>\n",
              "      <td>700.00</td>\n",
              "      <td>Austin(TX)</td>\n",
              "    </tr>\n",
              "    <tr>\n",
              "      <th>1</th>\n",
              "      <td>162009</td>\n",
              "      <td>Lightning Charging Cable</td>\n",
              "      <td>1</td>\n",
              "      <td>14.95</td>\n",
              "      <td>2019-03-28 20:59:00</td>\n",
              "      <td>942 Church St, Austin, TX 73301</td>\n",
              "      <td>3</td>\n",
              "      <td>14.95</td>\n",
              "      <td>Austin(TX)</td>\n",
              "    </tr>\n",
              "    <tr>\n",
              "      <th>2</th>\n",
              "      <td>162009</td>\n",
              "      <td>Wired Headphones</td>\n",
              "      <td>2</td>\n",
              "      <td>11.99</td>\n",
              "      <td>2019-03-28 20:59:00</td>\n",
              "      <td>942 Church St, Austin, TX 73301</td>\n",
              "      <td>3</td>\n",
              "      <td>23.98</td>\n",
              "      <td>Austin(TX)</td>\n",
              "    </tr>\n",
              "    <tr>\n",
              "      <th>3</th>\n",
              "      <td>162010</td>\n",
              "      <td>Bose SoundSport Headphones</td>\n",
              "      <td>1</td>\n",
              "      <td>99.99</td>\n",
              "      <td>2019-03-17 05:39:00</td>\n",
              "      <td>261 10th St, San Francisco, CA 94016</td>\n",
              "      <td>3</td>\n",
              "      <td>99.99</td>\n",
              "      <td>San Francisco(CA)</td>\n",
              "    </tr>\n",
              "    <tr>\n",
              "      <th>4</th>\n",
              "      <td>162011</td>\n",
              "      <td>34in Ultrawide Monitor</td>\n",
              "      <td>1</td>\n",
              "      <td>379.99</td>\n",
              "      <td>2019-03-10 00:01:00</td>\n",
              "      <td>764 13th St, San Francisco, CA 94016</td>\n",
              "      <td>3</td>\n",
              "      <td>379.99</td>\n",
              "      <td>San Francisco(CA)</td>\n",
              "    </tr>\n",
              "  </tbody>\n",
              "</table>\n",
              "</div>"
            ],
            "text/plain": [
              "  Order ID                     Product  ...   sales                 city\n",
              "0   162009                      iPhone  ...  700.00           Austin(TX)\n",
              "1   162009    Lightning Charging Cable  ...   14.95           Austin(TX)\n",
              "2   162009            Wired Headphones  ...   23.98           Austin(TX)\n",
              "3   162010  Bose SoundSport Headphones  ...   99.99    San Francisco(CA)\n",
              "4   162011      34in Ultrawide Monitor  ...  379.99    San Francisco(CA)\n",
              "\n",
              "[5 rows x 9 columns]"
            ]
          },
          "metadata": {
            "tags": []
          },
          "execution_count": 23
        }
      ]
    },
    {
      "cell_type": "code",
      "metadata": {
        "id": "tJFUfkFVStYz",
        "colab_type": "code",
        "colab": {
          "base_uri": "https://localhost:8080/",
          "height": 296
        },
        "outputId": "c815e7b8-bca2-49d5-be87-d871e87babb2"
      },
      "source": [
        "#grab the hour and minute value from Order Date columns\n",
        "\n",
        "all_data['hour'] = all_data['Order Date'].dt.hour\n",
        "all_data['minute'] =all_data['Order Date'].dt.minute\n",
        "all_data.head()"
      ],
      "execution_count": 25,
      "outputs": [
        {
          "output_type": "execute_result",
          "data": {
            "text/html": [
              "<div>\n",
              "<style scoped>\n",
              "    .dataframe tbody tr th:only-of-type {\n",
              "        vertical-align: middle;\n",
              "    }\n",
              "\n",
              "    .dataframe tbody tr th {\n",
              "        vertical-align: top;\n",
              "    }\n",
              "\n",
              "    .dataframe thead th {\n",
              "        text-align: right;\n",
              "    }\n",
              "</style>\n",
              "<table border=\"1\" class=\"dataframe\">\n",
              "  <thead>\n",
              "    <tr style=\"text-align: right;\">\n",
              "      <th></th>\n",
              "      <th>Order ID</th>\n",
              "      <th>Product</th>\n",
              "      <th>Quantity Ordered</th>\n",
              "      <th>Price Each</th>\n",
              "      <th>Order Date</th>\n",
              "      <th>Purchase Address</th>\n",
              "      <th>Months</th>\n",
              "      <th>sales</th>\n",
              "      <th>city</th>\n",
              "      <th>hour</th>\n",
              "      <th>minute</th>\n",
              "    </tr>\n",
              "  </thead>\n",
              "  <tbody>\n",
              "    <tr>\n",
              "      <th>0</th>\n",
              "      <td>162009</td>\n",
              "      <td>iPhone</td>\n",
              "      <td>1</td>\n",
              "      <td>700.00</td>\n",
              "      <td>2019-03-28 20:59:00</td>\n",
              "      <td>942 Church St, Austin, TX 73301</td>\n",
              "      <td>3</td>\n",
              "      <td>700.00</td>\n",
              "      <td>Austin(TX)</td>\n",
              "      <td>20</td>\n",
              "      <td>59</td>\n",
              "    </tr>\n",
              "    <tr>\n",
              "      <th>1</th>\n",
              "      <td>162009</td>\n",
              "      <td>Lightning Charging Cable</td>\n",
              "      <td>1</td>\n",
              "      <td>14.95</td>\n",
              "      <td>2019-03-28 20:59:00</td>\n",
              "      <td>942 Church St, Austin, TX 73301</td>\n",
              "      <td>3</td>\n",
              "      <td>14.95</td>\n",
              "      <td>Austin(TX)</td>\n",
              "      <td>20</td>\n",
              "      <td>59</td>\n",
              "    </tr>\n",
              "    <tr>\n",
              "      <th>2</th>\n",
              "      <td>162009</td>\n",
              "      <td>Wired Headphones</td>\n",
              "      <td>2</td>\n",
              "      <td>11.99</td>\n",
              "      <td>2019-03-28 20:59:00</td>\n",
              "      <td>942 Church St, Austin, TX 73301</td>\n",
              "      <td>3</td>\n",
              "      <td>23.98</td>\n",
              "      <td>Austin(TX)</td>\n",
              "      <td>20</td>\n",
              "      <td>59</td>\n",
              "    </tr>\n",
              "    <tr>\n",
              "      <th>3</th>\n",
              "      <td>162010</td>\n",
              "      <td>Bose SoundSport Headphones</td>\n",
              "      <td>1</td>\n",
              "      <td>99.99</td>\n",
              "      <td>2019-03-17 05:39:00</td>\n",
              "      <td>261 10th St, San Francisco, CA 94016</td>\n",
              "      <td>3</td>\n",
              "      <td>99.99</td>\n",
              "      <td>San Francisco(CA)</td>\n",
              "      <td>5</td>\n",
              "      <td>39</td>\n",
              "    </tr>\n",
              "    <tr>\n",
              "      <th>4</th>\n",
              "      <td>162011</td>\n",
              "      <td>34in Ultrawide Monitor</td>\n",
              "      <td>1</td>\n",
              "      <td>379.99</td>\n",
              "      <td>2019-03-10 00:01:00</td>\n",
              "      <td>764 13th St, San Francisco, CA 94016</td>\n",
              "      <td>3</td>\n",
              "      <td>379.99</td>\n",
              "      <td>San Francisco(CA)</td>\n",
              "      <td>0</td>\n",
              "      <td>1</td>\n",
              "    </tr>\n",
              "  </tbody>\n",
              "</table>\n",
              "</div>"
            ],
            "text/plain": [
              "  Order ID                     Product  ...  hour  minute\n",
              "0   162009                      iPhone  ...    20      59\n",
              "1   162009    Lightning Charging Cable  ...    20      59\n",
              "2   162009            Wired Headphones  ...    20      59\n",
              "3   162010  Bose SoundSport Headphones  ...     5      39\n",
              "4   162011      34in Ultrawide Monitor  ...     0       1\n",
              "\n",
              "[5 rows x 11 columns]"
            ]
          },
          "metadata": {
            "tags": []
          },
          "execution_count": 25
        }
      ]
    },
    {
      "cell_type": "code",
      "metadata": {
        "id": "ZWLp-Kx5TPmE",
        "colab_type": "code",
        "colab": {}
      },
      "source": [
        "all_data['time_h'] =pd.to_numeric(all_data['hour'])\n",
        "all_data['time_m']= pd.to_numeric(all_data['minute'])"
      ],
      "execution_count": 0,
      "outputs": []
    },
    {
      "cell_type": "code",
      "metadata": {
        "id": "rwKKK-bpUTEj",
        "colab_type": "code",
        "colab": {
          "base_uri": "https://localhost:8080/",
          "height": 484
        },
        "outputId": "85c59158-50b7-47f1-aa37-dcb65dbf3594"
      },
      "source": [
        "all_data['time_total']= all_data['time_h']+(all_data['time_m']/60)\n",
        "all_data.head()"
      ],
      "execution_count": 28,
      "outputs": [
        {
          "output_type": "execute_result",
          "data": {
            "text/html": [
              "<div>\n",
              "<style scoped>\n",
              "    .dataframe tbody tr th:only-of-type {\n",
              "        vertical-align: middle;\n",
              "    }\n",
              "\n",
              "    .dataframe tbody tr th {\n",
              "        vertical-align: top;\n",
              "    }\n",
              "\n",
              "    .dataframe thead th {\n",
              "        text-align: right;\n",
              "    }\n",
              "</style>\n",
              "<table border=\"1\" class=\"dataframe\">\n",
              "  <thead>\n",
              "    <tr style=\"text-align: right;\">\n",
              "      <th></th>\n",
              "      <th>Order ID</th>\n",
              "      <th>Product</th>\n",
              "      <th>Quantity Ordered</th>\n",
              "      <th>Price Each</th>\n",
              "      <th>Order Date</th>\n",
              "      <th>Purchase Address</th>\n",
              "      <th>Months</th>\n",
              "      <th>sales</th>\n",
              "      <th>city</th>\n",
              "      <th>hour</th>\n",
              "      <th>minute</th>\n",
              "      <th>time_h</th>\n",
              "      <th>time_m</th>\n",
              "      <th>time_total</th>\n",
              "    </tr>\n",
              "  </thead>\n",
              "  <tbody>\n",
              "    <tr>\n",
              "      <th>0</th>\n",
              "      <td>162009</td>\n",
              "      <td>iPhone</td>\n",
              "      <td>1</td>\n",
              "      <td>700.00</td>\n",
              "      <td>2019-03-28 20:59:00</td>\n",
              "      <td>942 Church St, Austin, TX 73301</td>\n",
              "      <td>3</td>\n",
              "      <td>700.00</td>\n",
              "      <td>Austin(TX)</td>\n",
              "      <td>20</td>\n",
              "      <td>59</td>\n",
              "      <td>20</td>\n",
              "      <td>59</td>\n",
              "      <td>20.983333</td>\n",
              "    </tr>\n",
              "    <tr>\n",
              "      <th>1</th>\n",
              "      <td>162009</td>\n",
              "      <td>Lightning Charging Cable</td>\n",
              "      <td>1</td>\n",
              "      <td>14.95</td>\n",
              "      <td>2019-03-28 20:59:00</td>\n",
              "      <td>942 Church St, Austin, TX 73301</td>\n",
              "      <td>3</td>\n",
              "      <td>14.95</td>\n",
              "      <td>Austin(TX)</td>\n",
              "      <td>20</td>\n",
              "      <td>59</td>\n",
              "      <td>20</td>\n",
              "      <td>59</td>\n",
              "      <td>20.983333</td>\n",
              "    </tr>\n",
              "    <tr>\n",
              "      <th>2</th>\n",
              "      <td>162009</td>\n",
              "      <td>Wired Headphones</td>\n",
              "      <td>2</td>\n",
              "      <td>11.99</td>\n",
              "      <td>2019-03-28 20:59:00</td>\n",
              "      <td>942 Church St, Austin, TX 73301</td>\n",
              "      <td>3</td>\n",
              "      <td>23.98</td>\n",
              "      <td>Austin(TX)</td>\n",
              "      <td>20</td>\n",
              "      <td>59</td>\n",
              "      <td>20</td>\n",
              "      <td>59</td>\n",
              "      <td>20.983333</td>\n",
              "    </tr>\n",
              "    <tr>\n",
              "      <th>3</th>\n",
              "      <td>162010</td>\n",
              "      <td>Bose SoundSport Headphones</td>\n",
              "      <td>1</td>\n",
              "      <td>99.99</td>\n",
              "      <td>2019-03-17 05:39:00</td>\n",
              "      <td>261 10th St, San Francisco, CA 94016</td>\n",
              "      <td>3</td>\n",
              "      <td>99.99</td>\n",
              "      <td>San Francisco(CA)</td>\n",
              "      <td>5</td>\n",
              "      <td>39</td>\n",
              "      <td>5</td>\n",
              "      <td>39</td>\n",
              "      <td>5.650000</td>\n",
              "    </tr>\n",
              "    <tr>\n",
              "      <th>4</th>\n",
              "      <td>162011</td>\n",
              "      <td>34in Ultrawide Monitor</td>\n",
              "      <td>1</td>\n",
              "      <td>379.99</td>\n",
              "      <td>2019-03-10 00:01:00</td>\n",
              "      <td>764 13th St, San Francisco, CA 94016</td>\n",
              "      <td>3</td>\n",
              "      <td>379.99</td>\n",
              "      <td>San Francisco(CA)</td>\n",
              "      <td>0</td>\n",
              "      <td>1</td>\n",
              "      <td>0</td>\n",
              "      <td>1</td>\n",
              "      <td>0.016667</td>\n",
              "    </tr>\n",
              "  </tbody>\n",
              "</table>\n",
              "</div>"
            ],
            "text/plain": [
              "  Order ID                     Product  ...  time_m  time_total\n",
              "0   162009                      iPhone  ...      59   20.983333\n",
              "1   162009    Lightning Charging Cable  ...      59   20.983333\n",
              "2   162009            Wired Headphones  ...      59   20.983333\n",
              "3   162010  Bose SoundSport Headphones  ...      39    5.650000\n",
              "4   162011      34in Ultrawide Monitor  ...       1    0.016667\n",
              "\n",
              "[5 rows x 14 columns]"
            ]
          },
          "metadata": {
            "tags": []
          },
          "execution_count": 28
        }
      ]
    },
    {
      "cell_type": "code",
      "metadata": {
        "id": "mir7lF__UfPk",
        "colab_type": "code",
        "colab": {
          "base_uri": "https://localhost:8080/",
          "height": 279
        },
        "outputId": "45be9f04-3488-43ab-e12d-ec03acd82890"
      },
      "source": [
        "#data visualization for time column and sales value using matplotlib\n",
        "\n",
        "hour = [hour for hour,df in all_data.groupby('time_total')]\n",
        "plt.plot(hour, all_data.groupby(['time_total']).count())\n",
        "plt.xticks(hour)\n",
        "plt.xlabel('Hours')\n",
        "plt.ylabel('No of Sales')\n",
        "plt.show()"
      ],
      "execution_count": 34,
      "outputs": [
        {
          "output_type": "display_data",
          "data": {
            "image/png": "[encoded data removed]",
            "text/plain": [
              "<Figure size 432x288 with 1 Axes>"
            ]
          },
          "metadata": {
            "tags": []
          }
        }
      ]
    },
    {
      "cell_type": "code",
      "metadata": {
        "id": "SHZNgw9vVXDD",
        "colab_type": "code",
        "colab": {
          "base_uri": "https://localhost:8080/",
          "height": 279
        },
        "outputId": "405d77a2-a0b0-4580-d749-7597d185e7c4"
      },
      "source": [
        "#to get more discrete verision of the graph by taking only the hours columns\n",
        "\n",
        "hours =[hours for hours,df in all_data.groupby('hour')]\n",
        "plt.plot(hours, all_data.groupby(['hour']).count() )\n",
        "plt.xticks(hours)\n",
        "plt.grid()\n",
        "plt.xlabel('HOurs')\n",
        "plt.ylabel('No of orderss')\n",
        "plt.show()"
      ],
      "execution_count": 38,
      "outputs": [
        {
          "output_type": "display_data",
          "data": {
            "image/png": "[encoded data removed]",
            "text/plain": [
              "<Figure size 432x288 with 1 Axes>"
            ]
          },
          "metadata": {
            "tags": []
          }
        }
      ]
    },
    {
      "cell_type": "code",
      "metadata": {
        "id": "ftGMwKz6XO6d",
        "colab_type": "code",
        "colab": {
          "base_uri": "https://localhost:8080/",
          "height": 484
        },
        "outputId": "0a0e46ff-f2e7-4901-98ba-fb984363eed4"
      },
      "source": [
        "#what products are most often sold together?\n",
        "\n",
        "all_data.head()"
      ],
      "execution_count": 39,
      "outputs": [
        {
          "output_type": "execute_result",
          "data": {
            "text/html": [
              "<div>\n",
              "<style scoped>\n",
              "    .dataframe tbody tr th:only-of-type {\n",
              "        vertical-align: middle;\n",
              "    }\n",
              "\n",
              "    .dataframe tbody tr th {\n",
              "        vertical-align: top;\n",
              "    }\n",
              "\n",
              "    .dataframe thead th {\n",
              "        text-align: right;\n",
              "    }\n",
              "</style>\n",
              "<table border=\"1\" class=\"dataframe\">\n",
              "  <thead>\n",
              "    <tr style=\"text-align: right;\">\n",
              "      <th></th>\n",
              "      <th>Order ID</th>\n",
              "      <th>Product</th>\n",
              "      <th>Quantity Ordered</th>\n",
              "      <th>Price Each</th>\n",
              "      <th>Order Date</th>\n",
              "      <th>Purchase Address</th>\n",
              "      <th>Months</th>\n",
              "      <th>sales</th>\n",
              "      <th>city</th>\n",
              "      <th>hour</th>\n",
              "      <th>minute</th>\n",
              "      <th>time_h</th>\n",
              "      <th>time_m</th>\n",
              "      <th>time_total</th>\n",
              "    </tr>\n",
              "  </thead>\n",
              "  <tbody>\n",
              "    <tr>\n",
              "      <th>0</th>\n",
              "      <td>162009</td>\n",
              "      <td>iPhone</td>\n",
              "      <td>1</td>\n",
              "      <td>700.00</td>\n",
              "      <td>2019-03-28 20:59:00</td>\n",
              "      <td>942 Church St, Austin, TX 73301</td>\n",
              "      <td>3</td>\n",
              "      <td>700.00</td>\n",
              "      <td>Austin(TX)</td>\n",
              "      <td>20</td>\n",
              "      <td>59</td>\n",
              "      <td>20</td>\n",
              "      <td>59</td>\n",
              "      <td>20.983333</td>\n",
              "    </tr>\n",
              "    <tr>\n",
              "      <th>1</th>\n",
              "      <td>162009</td>\n",
              "      <td>Lightning Charging Cable</td>\n",
              "      <td>1</td>\n",
              "      <td>14.95</td>\n",
              "      <td>2019-03-28 20:59:00</td>\n",
              "      <td>942 Church St, Austin, TX 73301</td>\n",
              "      <td>3</td>\n",
              "      <td>14.95</td>\n",
              "      <td>Austin(TX)</td>\n",
              "      <td>20</td>\n",
              "      <td>59</td>\n",
              "      <td>20</td>\n",
              "      <td>59</td>\n",
              "      <td>20.983333</td>\n",
              "    </tr>\n",
              "    <tr>\n",
              "      <th>2</th>\n",
              "      <td>162009</td>\n",
              "      <td>Wired Headphones</td>\n",
              "      <td>2</td>\n",
              "      <td>11.99</td>\n",
              "      <td>2019-03-28 20:59:00</td>\n",
              "      <td>942 Church St, Austin, TX 73301</td>\n",
              "      <td>3</td>\n",
              "      <td>23.98</td>\n",
              "      <td>Austin(TX)</td>\n",
              "      <td>20</td>\n",
              "      <td>59</td>\n",
              "      <td>20</td>\n",
              "      <td>59</td>\n",
              "      <td>20.983333</td>\n",
              "    </tr>\n",
              "    <tr>\n",
              "      <th>3</th>\n",
              "      <td>162010</td>\n",
              "      <td>Bose SoundSport Headphones</td>\n",
              "      <td>1</td>\n",
              "      <td>99.99</td>\n",
              "      <td>2019-03-17 05:39:00</td>\n",
              "      <td>261 10th St, San Francisco, CA 94016</td>\n",
              "      <td>3</td>\n",
              "      <td>99.99</td>\n",
              "      <td>San Francisco(CA)</td>\n",
              "      <td>5</td>\n",
              "      <td>39</td>\n",
              "      <td>5</td>\n",
              "      <td>39</td>\n",
              "      <td>5.650000</td>\n",
              "    </tr>\n",
              "    <tr>\n",
              "      <th>4</th>\n",
              "      <td>162011</td>\n",
              "      <td>34in Ultrawide Monitor</td>\n",
              "      <td>1</td>\n",
              "      <td>379.99</td>\n",
              "      <td>2019-03-10 00:01:00</td>\n",
              "      <td>764 13th St, San Francisco, CA 94016</td>\n",
              "      <td>3</td>\n",
              "      <td>379.99</td>\n",
              "      <td>San Francisco(CA)</td>\n",
              "      <td>0</td>\n",
              "      <td>1</td>\n",
              "      <td>0</td>\n",
              "      <td>1</td>\n",
              "      <td>0.016667</td>\n",
              "    </tr>\n",
              "  </tbody>\n",
              "</table>\n",
              "</div>"
            ],
            "text/plain": [
              "  Order ID                     Product  ...  time_m  time_total\n",
              "0   162009                      iPhone  ...      59   20.983333\n",
              "1   162009    Lightning Charging Cable  ...      59   20.983333\n",
              "2   162009            Wired Headphones  ...      59   20.983333\n",
              "3   162010  Bose SoundSport Headphones  ...      39    5.650000\n",
              "4   162011      34in Ultrawide Monitor  ...       1    0.016667\n",
              "\n",
              "[5 rows x 14 columns]"
            ]
          },
          "metadata": {
            "tags": []
          },
          "execution_count": 39
        }
      ]
    },
    {
      "cell_type": "code",
      "metadata": {
        "id": "k0XlAcQLtrK7",
        "colab_type": "code",
        "colab": {
          "base_uri": "https://localhost:8080/",
          "height": 316
        },
        "outputId": "0fcd6952-4fdb-4948-ff37-6295c9931006"
      },
      "source": [
        "#first filter the duplicate rows to retain themn in the new dataframe\n",
        "\n",
        "df = all_data[all_data['Order ID'].duplicated(keep=False)]\n",
        "df['Grouped'] =df.groupby('Order ID')['Product'].transform(lambda x: ','.join(x))\n",
        "\n",
        "#get rid the duplicates pairs of groups\n",
        "\n",
        "df =df[['Order ID','Grouped']].drop_duplicates()\n",
        "df.head()"
      ],
      "execution_count": 46,
      "outputs": [
        {
          "output_type": "stream",
          "text": [
            "/usr/local/lib/python3.6/dist-packages/ipykernel_launcher.py:3: SettingWithCopyWarning: \n",
            "A value is trying to be set on a copy of a slice from a DataFrame.\n",
            "Try using .loc[row_indexer,col_indexer] = value instead\n",
            "\n",
            "See the caveats in the documentation: http://pandas.pydata.org/pandas-docs/stable/user_guide/indexing.html#returning-a-view-versus-a-copy\n",
            "  This is separate from the ipykernel package so we can avoid doing imports until\n"
          ],
          "name": "stderr"
        },
        {
          "output_type": "execute_result",
          "data": {
            "text/html": [
              "<div>\n",
              "<style scoped>\n",
              "    .dataframe tbody tr th:only-of-type {\n",
              "        vertical-align: middle;\n",
              "    }\n",
              "\n",
              "    .dataframe tbody tr th {\n",
              "        vertical-align: top;\n",
              "    }\n",
              "\n",
              "    .dataframe thead th {\n",
              "        text-align: right;\n",
              "    }\n",
              "</style>\n",
              "<table border=\"1\" class=\"dataframe\">\n",
              "  <thead>\n",
              "    <tr style=\"text-align: right;\">\n",
              "      <th></th>\n",
              "      <th>Order ID</th>\n",
              "      <th>Grouped</th>\n",
              "    </tr>\n",
              "  </thead>\n",
              "  <tbody>\n",
              "    <tr>\n",
              "      <th>0</th>\n",
              "      <td>162009</td>\n",
              "      <td>iPhone,Lightning Charging Cable,Wired Headphones</td>\n",
              "    </tr>\n",
              "    <tr>\n",
              "      <th>30</th>\n",
              "      <td>162037</td>\n",
              "      <td>iPhone,Lightning Charging Cable</td>\n",
              "    </tr>\n",
              "    <tr>\n",
              "      <th>60</th>\n",
              "      <td>162066</td>\n",
              "      <td>AA Batteries (4-pack),USB-C Charging Cable</td>\n",
              "    </tr>\n",
              "    <tr>\n",
              "      <th>66</th>\n",
              "      <td>162071</td>\n",
              "      <td>Vareebadd Phone,USB-C Charging Cable</td>\n",
              "    </tr>\n",
              "    <tr>\n",
              "      <th>78</th>\n",
              "      <td>162082</td>\n",
              "      <td>Vareebadd Phone,Wired Headphones</td>\n",
              "    </tr>\n",
              "  </tbody>\n",
              "</table>\n",
              "</div>"
            ],
            "text/plain": [
              "   Order ID                                           Grouped\n",
              "0    162009  iPhone,Lightning Charging Cable,Wired Headphones\n",
              "30   162037                   iPhone,Lightning Charging Cable\n",
              "60   162066        AA Batteries (4-pack),USB-C Charging Cable\n",
              "66   162071              Vareebadd Phone,USB-C Charging Cable\n",
              "78   162082                  Vareebadd Phone,Wired Headphones"
            ]
          },
          "metadata": {
            "tags": []
          },
          "execution_count": 46
        }
      ]
    },
    {
      "cell_type": "code",
      "metadata": {
        "id": "A4L2S4cvt8eM",
        "colab_type": "code",
        "colab": {
          "base_uri": "https://localhost:8080/",
          "height": 185
        },
        "outputId": "252393c5-b830-45f9-c683-218132fc9eea"
      },
      "source": [
        "#count the pairs to what occurs the most frequently\n",
        "\n",
        "from itertools import combinations\n",
        "from collections import Counter\n",
        "\n",
        "count = Counter()\n",
        "\n",
        "for row in df['Grouped']:\n",
        "  row_list = row.split(',')\n",
        "  count.update(Counter(combinations(row_list,2)))\n",
        "\n",
        "for key, value in count.most_common(10):\n",
        "  print(key,value)\n",
        "\n"
      ],
      "execution_count": 47,
      "outputs": [
        {
          "output_type": "stream",
          "text": [
            "('iPhone', 'Lightning Charging Cable') 1005\n",
            "('Google Phone', 'USB-C Charging Cable') 987\n",
            "('iPhone', 'Wired Headphones') 447\n",
            "('Google Phone', 'Wired Headphones') 414\n",
            "('Vareebadd Phone', 'USB-C Charging Cable') 361\n",
            "('iPhone', 'Apple Airpods Headphones') 360\n",
            "('Google Phone', 'Bose SoundSport Headphones') 220\n",
            "('USB-C Charging Cable', 'Wired Headphones') 160\n",
            "('Vareebadd Phone', 'Wired Headphones') 143\n",
            "('Lightning Charging Cable', 'Wired Headphones') 92\n"
          ],
          "name": "stdout"
        }
      ]
    },
    {
      "cell_type": "code",
      "metadata": {
        "id": "v8Yplt4NuajH",
        "colab_type": "code",
        "colab": {}
      },
      "source": [
        "#what product sold the most? why do you it sold the most?\n",
        "\n",
        "temp =all_data\n",
        "\n"
      ],
      "execution_count": 0,
      "outputs": []
    },
    {
      "cell_type": "code",
      "metadata": {
        "id": "Yyfj_iEbzt3u",
        "colab_type": "code",
        "colab": {
          "base_uri": "https://localhost:8080/",
          "height": 225
        },
        "outputId": "6d5ee855-aa27-492d-b9ee-f0051944b8d0"
      },
      "source": [
        "prod_group = temp.groupby('Product')\n",
        "\n",
        "df_prod = temp.groupby('Product').sum()\n",
        "#df_prod = df_prod.sort_values(['Quantity Ordered'],ascending=False)\n",
        "df_prod.head()"
      ],
      "execution_count": 69,
      "outputs": [
        {
          "output_type": "execute_result",
          "data": {
            "text/html": [
              "<div>\n",
              "<style scoped>\n",
              "    .dataframe tbody tr th:only-of-type {\n",
              "        vertical-align: middle;\n",
              "    }\n",
              "\n",
              "    .dataframe tbody tr th {\n",
              "        vertical-align: top;\n",
              "    }\n",
              "\n",
              "    .dataframe thead th {\n",
              "        text-align: right;\n",
              "    }\n",
              "</style>\n",
              "<table border=\"1\" class=\"dataframe\">\n",
              "  <thead>\n",
              "    <tr style=\"text-align: right;\">\n",
              "      <th></th>\n",
              "      <th>Quantity Ordered</th>\n",
              "      <th>Price Each</th>\n",
              "      <th>Months</th>\n",
              "      <th>sales</th>\n",
              "      <th>hour</th>\n",
              "      <th>minute</th>\n",
              "      <th>time_h</th>\n",
              "      <th>time_m</th>\n",
              "      <th>time_total</th>\n",
              "    </tr>\n",
              "    <tr>\n",
              "      <th>Product</th>\n",
              "      <th></th>\n",
              "      <th></th>\n",
              "      <th></th>\n",
              "      <th></th>\n",
              "      <th></th>\n",
              "      <th></th>\n",
              "      <th></th>\n",
              "      <th></th>\n",
              "      <th></th>\n",
              "    </tr>\n",
              "  </thead>\n",
              "  <tbody>\n",
              "    <tr>\n",
              "      <th>20in Monitor</th>\n",
              "      <td>4129</td>\n",
              "      <td>451068.99</td>\n",
              "      <td>29336</td>\n",
              "      <td>454148.71</td>\n",
              "      <td>58764</td>\n",
              "      <td>122252</td>\n",
              "      <td>58764</td>\n",
              "      <td>122252</td>\n",
              "      <td>60801.533333</td>\n",
              "    </tr>\n",
              "    <tr>\n",
              "      <th>27in 4K Gaming Monitor</th>\n",
              "      <td>6244</td>\n",
              "      <td>2429637.70</td>\n",
              "      <td>44440</td>\n",
              "      <td>2435097.56</td>\n",
              "      <td>90916</td>\n",
              "      <td>184331</td>\n",
              "      <td>90916</td>\n",
              "      <td>184331</td>\n",
              "      <td>93988.183333</td>\n",
              "    </tr>\n",
              "    <tr>\n",
              "      <th>27in FHD Monitor</th>\n",
              "      <td>7550</td>\n",
              "      <td>1125974.93</td>\n",
              "      <td>52558</td>\n",
              "      <td>1132424.50</td>\n",
              "      <td>107540</td>\n",
              "      <td>219948</td>\n",
              "      <td>107540</td>\n",
              "      <td>219948</td>\n",
              "      <td>111205.800000</td>\n",
              "    </tr>\n",
              "    <tr>\n",
              "      <th>34in Ultrawide Monitor</th>\n",
              "      <td>6199</td>\n",
              "      <td>2348718.19</td>\n",
              "      <td>43304</td>\n",
              "      <td>2355558.01</td>\n",
              "      <td>89076</td>\n",
              "      <td>183480</td>\n",
              "      <td>89076</td>\n",
              "      <td>183480</td>\n",
              "      <td>92134.000000</td>\n",
              "    </tr>\n",
              "    <tr>\n",
              "      <th>AA Batteries (4-pack)</th>\n",
              "      <td>27635</td>\n",
              "      <td>79015.68</td>\n",
              "      <td>145558</td>\n",
              "      <td>106118.40</td>\n",
              "      <td>298342</td>\n",
              "      <td>609039</td>\n",
              "      <td>298342</td>\n",
              "      <td>609039</td>\n",
              "      <td>308492.650000</td>\n",
              "    </tr>\n",
              "  </tbody>\n",
              "</table>\n",
              "</div>"
            ],
            "text/plain": [
              "                        Quantity Ordered  Price Each  ...  time_m     time_total\n",
              "Product                                               ...                       \n",
              "20in Monitor                        4129   451068.99  ...  122252   60801.533333\n",
              "27in 4K Gaming Monitor              6244  2429637.70  ...  184331   93988.183333\n",
              "27in FHD Monitor                    7550  1125974.93  ...  219948  111205.800000\n",
              "34in Ultrawide Monitor              6199  2348718.19  ...  183480   92134.000000\n",
              "AA Batteries (4-pack)              27635    79015.68  ...  609039  308492.650000\n",
              "\n",
              "[5 rows x 9 columns]"
            ]
          },
          "metadata": {
            "tags": []
          },
          "execution_count": 69
        }
      ]
    },
    {
      "cell_type": "code",
      "metadata": {
        "id": "2__zNyBMzzf7",
        "colab_type": "code",
        "colab": {
          "base_uri": "https://localhost:8080/",
          "height": 420
        },
        "outputId": "4293d5f4-c5db-439b-8974-ee7a4d2977cb"
      },
      "source": [
        "#data visualization using the bar graph\n",
        "\n",
        "quantity_ord = prod_group.sum()['Quantity Ordered']\n",
        "product = [product for product,df in prod_group]\n",
        "\n",
        "plt.plot(product, quantity_ord)\n",
        "plt.xticks(rotation=90)\n",
        "plt.xlabel('Product Name')\n",
        "plt.ylabel('Quantity Ordered')\n",
        "plt.show()\n",
        "\n",
        "\n"
      ],
      "execution_count": 72,
      "outputs": [
        {
          "output_type": "display_data",
          "data": {
            "image/png": "[encoded data removed]",
            "text/plain": [
              "<Figure size 432x288 with 1 Axes>"
            ]
          },
          "metadata": {
            "tags": []
          }
        }
      ]
    },
    {
      "cell_type": "code",
      "metadata": {
        "id": "0BdOK7Hi1Bmt",
        "colab_type": "code",
        "colab": {
          "base_uri": "https://localhost:8080/",
          "height": 370
        },
        "outputId": "f4ca86c7-6ee8-4911-d677-1a2a6b0f6550"
      },
      "source": [
        "#finding the correlation between the sales and price_each of the product\n",
        "\n",
        "price = temp.groupby('Product').mean()['Price Each']\n",
        "price"
      ],
      "execution_count": 73,
      "outputs": [
        {
          "output_type": "execute_result",
          "data": {
            "text/plain": [
              "Product\n",
              "20in Monitor                   109.99\n",
              "27in 4K Gaming Monitor         389.99\n",
              "27in FHD Monitor               149.99\n",
              "34in Ultrawide Monitor         379.99\n",
              "AA Batteries (4-pack)            3.84\n",
              "AAA Batteries (4-pack)           2.99\n",
              "Apple Airpods Headphones       150.00\n",
              "Bose SoundSport Headphones      99.99\n",
              "Flatscreen TV                  300.00\n",
              "Google Phone                   600.00\n",
              "LG Dryer                       600.00\n",
              "LG Washing Machine             600.00\n",
              "Lightning Charging Cable        14.95\n",
              "Macbook Pro Laptop            1700.00\n",
              "ThinkPad Laptop                999.99\n",
              "USB-C Charging Cable            11.95\n",
              "Vareebadd Phone                400.00\n",
              "Wired Headphones                11.99\n",
              "iPhone                         700.00\n",
              "Name: Price Each, dtype: float64"
            ]
          },
          "metadata": {
            "tags": []
          },
          "execution_count": 73
        }
      ]
    },
    {
      "cell_type": "code",
      "metadata": {
        "id": "1Ef1YAw25QHv",
        "colab_type": "code",
        "colab": {
          "base_uri": "https://localhost:8080/",
          "height": 420
        },
        "outputId": "f4b091ce-66e5-4860-8ff0-86a9a7ec7af8"
      },
      "source": [
        "fig, ax1 = plt.subplots()\n",
        "\n",
        "ax2 = ax1.twinx()\n",
        "ax1.plot(product,quantity_ord , 'g-')\n",
        "ax2.plot(product, price, 'b-')\n",
        "ax1.set_xlabel('Product name')\n",
        "ax1.set_ylabel('Quantity Ordered', color='g')\n",
        "ax2.set_ylabel('Mean Price ', color='b')\n",
        "ax1.set_xticklabels(product, rotation='vertical')\n",
        "\n",
        "\n",
        "plt.show()"
      ],
      "execution_count": 81,
      "outputs": [
        {
          "output_type": "display_data",
          "data": {
            "image/png": "[encoded data removed]",
            "text/plain": [
              "<Figure size 432x288 with 2 Axes>"
            ]
          },
          "metadata": {
            "tags": []
          }
        }
      ]
    },
    {
      "cell_type": "code",
      "metadata": {
        "id": "MgJs8v-x6LCW",
        "colab_type": "code",
        "colab": {}
      },
      "source": [
        ""
      ],
      "execution_count": 0,
      "outputs": []
    }
  ]
}