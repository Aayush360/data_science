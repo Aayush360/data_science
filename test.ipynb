{
 "cells": [
  {
   "cell_type": "code",
   "execution_count": 1,
   "id": "b1ab10a9",
   "metadata": {},
   "outputs": [],
   "source": [
    "import numpy as np\n",
    "import pandas as pd"
   ]
  },
  {
   "cell_type": "code",
   "execution_count": 2,
   "id": "7f8611aa",
   "metadata": {},
   "outputs": [],
   "source": [
    "bins_arr = np.array([])\n",
    "bins_arr = np.hstack((bins_arr, (np.ones(10) * 20000).cumsum()))"
   ]
  },
  {
   "cell_type": "code",
   "execution_count": 3,
   "id": "c8c6df04",
   "metadata": {},
   "outputs": [
    {
     "data": {
      "text/plain": [
       "array([ 20000.,  40000.,  60000.,  80000., 100000., 120000., 140000.,\n",
       "       160000., 180000., 200000.])"
      ]
     },
     "execution_count": 3,
     "metadata": {},
     "output_type": "execute_result"
    }
   ],
   "source": [
    "bins_arr"
   ]
  },
  {
   "cell_type": "code",
   "execution_count": 4,
   "id": "a56f06ff",
   "metadata": {},
   "outputs": [
    {
     "data": {
      "text/plain": [
       "array([ 20000.,  40000.,  60000.,  80000., 100000., 120000., 140000.,\n",
       "       160000., 180000., 200000., 220000., 240000., 260000., 280000.,\n",
       "       300000., 320000., 340000., 360000., 380000., 400000.])"
      ]
     },
     "execution_count": 4,
     "metadata": {},
     "output_type": "execute_result"
    }
   ],
   "source": [
    "np.hstack((bins_arr, np.hstack((np.array([bins_arr[-1]]), (np.ones(10) * 20000))).cumsum()[1:]))"
   ]
  },
  {
   "cell_type": "code",
   "execution_count": 5,
   "id": "94cfaadf",
   "metadata": {},
   "outputs": [
    {
     "data": {
      "text/plain": [
       "array([ 20020.,  40020.,  60020.,  80020., 100020., 120020., 140020.,\n",
       "       160020., 180020., 200020.])"
      ]
     },
     "execution_count": 5,
     "metadata": {},
     "output_type": "execute_result"
    }
   ],
   "source": [
    "bins_arr+20"
   ]
  },
  {
   "cell_type": "code",
   "execution_count": 6,
   "id": "06bf4c4d",
   "metadata": {},
   "outputs": [],
   "source": [
    "bins_arr = np.hstack((np.array([200]), bins_arr))"
   ]
  },
  {
   "cell_type": "code",
   "execution_count": 7,
   "id": "c34fa9a5",
   "metadata": {},
   "outputs": [
    {
     "data": {
      "text/plain": [
       "array([   200.,  20000.,  40000.,  60000.,  80000., 100000., 120000.,\n",
       "       140000., 160000., 180000., 200000.])"
      ]
     },
     "execution_count": 7,
     "metadata": {},
     "output_type": "execute_result"
    }
   ],
   "source": [
    "bins_arr"
   ]
  },
  {
   "cell_type": "code",
   "execution_count": 8,
   "id": "4f774e68",
   "metadata": {},
   "outputs": [],
   "source": [
    "test = [(1,2),(2,3)]\n",
    "inde = [1,2]"
   ]
  },
  {
   "cell_type": "code",
   "execution_count": 19,
   "id": "52024b2e",
   "metadata": {},
   "outputs": [
    {
     "data": {
      "text/plain": [
       "{1: (1, 2), 2: (2, 3)}"
      ]
     },
     "execution_count": 19,
     "metadata": {},
     "output_type": "execute_result"
    }
   ],
   "source": [
    "mapper = dict(zip(inde,test))\n",
    "mapper"
   ]
  },
  {
   "cell_type": "code",
   "execution_count": 10,
   "id": "6971878b",
   "metadata": {},
   "outputs": [
    {
     "data": {
      "text/plain": [
       "[1, 1, 3, 3]\n",
       "Categories (3, int64): [1 < 2 < 3]"
      ]
     },
     "execution_count": 10,
     "metadata": {},
     "output_type": "execute_result"
    }
   ],
   "source": [
    "pd.cut([20,50,300,500],bins=[15,50,100,700],labels=[1,2,3])"
   ]
  },
  {
   "cell_type": "code",
   "execution_count": 20,
   "id": "9e0596fe",
   "metadata": {},
   "outputs": [
    {
     "data": {
      "text/plain": [
       "0    (1, 2)\n",
       "1    (2, 3)\n",
       "dtype: object"
      ]
     },
     "execution_count": 20,
     "metadata": {},
     "output_type": "execute_result"
    }
   ],
   "source": [
    "pd.Series([1,2]).map(mapper)"
   ]
  },
  {
   "cell_type": "code",
   "execution_count": 22,
   "id": "3db37210",
   "metadata": {},
   "outputs": [
    {
     "data": {
      "text/plain": [
       "0    2\n",
       "1    3\n",
       "dtype: int64"
      ]
     },
     "execution_count": 22,
     "metadata": {},
     "output_type": "execute_result"
    }
   ],
   "source": [
    "pd.Series([1,2]).map(mapper).apply(lambda x: x[1]) # upper range"
   ]
  },
  {
   "cell_type": "code",
   "execution_count": 24,
   "id": "540c29f8",
   "metadata": {},
   "outputs": [
    {
     "data": {
      "text/plain": [
       "0    1\n",
       "1    2\n",
       "dtype: int64"
      ]
     },
     "execution_count": 24,
     "metadata": {},
     "output_type": "execute_result"
    }
   ],
   "source": [
    "pd.Series([1,2]).map(mapper).apply(lambda x: x[0]) # lower range"
   ]
  },
  {
   "cell_type": "code",
   "execution_count": 26,
   "id": "19ff687d",
   "metadata": {},
   "outputs": [
    {
     "data": {
      "text/plain": [
       "<DateOffset: months=5>"
      ]
     },
     "execution_count": 26,
     "metadata": {},
     "output_type": "execute_result"
    }
   ],
   "source": [
    "pd.DateOffset(months=6 - 1)"
   ]
  },
  {
   "cell_type": "code",
   "execution_count": null,
   "id": "aee3aae0",
   "metadata": {},
   "outputs": [],
   "source": []
  }
 ],
 "metadata": {
  "kernelspec": {
   "display_name": "Python 3",
   "language": "python",
   "name": "python3"
  },
  "language_info": {
   "codemirror_mode": {
    "name": "ipython",
    "version": 3
   },
   "file_extension": ".py",
   "mimetype": "text/x-python",
   "name": "python",
   "nbconvert_exporter": "python",
   "pygments_lexer": "ipython3",
   "version": "3.7.10"
  }
 },
 "nbformat": 4,
 "nbformat_minor": 5
}
