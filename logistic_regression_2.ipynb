{
  "nbformat": 4,
  "nbformat_minor": 0,
  "metadata": {
    "colab": {
      "name": "logistic_regression_2.ipynb",
      "provenance": [],
      "collapsed_sections": [],
      "authorship_tag": "ABX9TyNNF7foVDOVq0uAEN/sl5nY",
      "include_colab_link": true
    },
    "kernelspec": {
      "name": "python3",
      "display_name": "Python 3"
    }
  },
  "cells": [
    {
      "cell_type": "markdown",
      "metadata": {
        "id": "view-in-github",
        "colab_type": "text"
      },
      "source": [
        "<a href=\"https://colab.research.google.com/github/Aayush360/data_science/blob/master/logistic_regression_2.ipynb\" target=\"_parent\"><img src=\"https://colab.research.google.com/assets/colab-badge.svg\" alt=\"Open In Colab\"/></a>"
      ]
    },
    {
      "cell_type": "code",
      "metadata": {
        "id": "9X5Mo4J0mvUs",
        "colab_type": "code",
        "colab": {}
      },
      "source": [
        "#Description: to recognize hand written digits using multivariate classifaication"
      ],
      "execution_count": 0,
      "outputs": []
    },
    {
      "cell_type": "code",
      "metadata": {
        "id": "9LyNbgxbnloe",
        "colab_type": "code",
        "colab": {}
      },
      "source": [
        "#import the dependencies\n",
        "import pandas as pd\n",
        "import matplotlib.pyplot as plt\n",
        "from sklearn.datasets import load_digits\n"
      ],
      "execution_count": 0,
      "outputs": []
    },
    {
      "cell_type": "code",
      "metadata": {
        "id": "VNuXtxjJoEdR",
        "colab_type": "code",
        "colab": {}
      },
      "source": [
        "#load the data\n",
        "\n",
        "digit = load_digits()"
      ],
      "execution_count": 0,
      "outputs": []
    },
    {
      "cell_type": "code",
      "metadata": {
        "id": "qiIquZ7ioUkz",
        "colab_type": "code",
        "colab": {
          "base_uri": "https://localhost:8080/",
          "height": 34
        },
        "outputId": "1753459d-38c7-4f6c-b90a-c0dbcadc26e0"
      },
      "source": [
        "#let us explore the dataset\n",
        "#this dataset contains 1797 predefined images of size 8x8.\n",
        "dir(digit)"
      ],
      "execution_count": 4,
      "outputs": [
        {
          "output_type": "execute_result",
          "data": {
            "text/plain": [
              "['DESCR', 'data', 'images', 'target', 'target_names']"
            ]
          },
          "metadata": {
            "tags": []
          },
          "execution_count": 4
        }
      ]
    },
    {
      "cell_type": "code",
      "metadata": {
        "id": "JAsX_ApZohpW",
        "colab_type": "code",
        "colab": {
          "base_uri": "https://localhost:8080/",
          "height": 101
        },
        "outputId": "3e5f4ad8-235e-4c3c-bd32-36c3fea4bf68"
      },
      "source": [
        "#8x8 images contains 64 pixels of various graylevel\n",
        "digit['data'][0]"
      ],
      "execution_count": 5,
      "outputs": [
        {
          "output_type": "execute_result",
          "data": {
            "text/plain": [
              "array([ 0.,  0.,  5., 13.,  9.,  1.,  0.,  0.,  0.,  0., 13., 15., 10.,\n",
              "       15.,  5.,  0.,  0.,  3., 15.,  2.,  0., 11.,  8.,  0.,  0.,  4.,\n",
              "       12.,  0.,  0.,  8.,  8.,  0.,  0.,  5.,  8.,  0.,  0.,  9.,  8.,\n",
              "        0.,  0.,  4., 11.,  0.,  1., 12.,  7.,  0.,  0.,  2., 14.,  5.,\n",
              "       10., 12.,  0.,  0.,  0.,  0.,  6., 13., 10.,  0.,  0.,  0.])"
            ]
          },
          "metadata": {
            "tags": []
          },
          "execution_count": 5
        }
      ]
    },
    {
      "cell_type": "code",
      "metadata": {
        "id": "6lOkhH6SotLA",
        "colab_type": "code",
        "colab": {
          "base_uri": "https://localhost:8080/",
          "height": 1000
        },
        "outputId": "cd2f7af2-4a14-4d5b-ba8c-6f60f0be87e8"
      },
      "source": [
        "#let's see the same data image using matplotlib\n",
        "\n",
        "plt.gray()\n",
        "for i in range(5):\n",
        "  plt.matshow(digit.images[i])"
      ],
      "execution_count": 6,
      "outputs": [
        {
          "output_type": "display_data",
          "data": {
            "text/plain": [
              "<Figure size 432x288 with 0 Axes>"
            ]
          },
          "metadata": {
            "tags": []
          }
        },
        {
          "output_type": "display_data",
          "data": {
            "image/png": "[encoded data removed]",
            "text/plain": [
              "<Figure size 288x288 with 1 Axes>"
            ]
          },
          "metadata": {
            "tags": []
          }
        },
        {
          "output_type": "display_data",
          "data": {
            "image/png": "[encoded data removed]",
            "text/plain": [
              "<Figure size 288x288 with 1 Axes>"
            ]
          },
          "metadata": {
            "tags": []
          }
        },
        {
          "output_type": "display_data",
          "data": {
            "image/png": "[encoded data removed]",
            "text/plain": [
              "<Figure size 288x288 with 1 Axes>"
            ]
          },
          "metadata": {
            "tags": []
          }
        },
        {
          "output_type": "display_data",
          "data": {
            "image/png": "[encoded data removed]",
            "text/plain": [
              "<Figure size 288x288 with 1 Axes>"
            ]
          },
          "metadata": {
            "tags": []
          }
        },
        {
          "output_type": "display_data",
          "data": {
            "image/png": "[encoded data removed]",
            "text/plain": [
              "<Figure size 288x288 with 1 Axes>"
            ]
          },
          "metadata": {
            "tags": []
          }
        }
      ]
    },
    {
      "cell_type": "code",
      "metadata": {
        "id": "hzgKs_oXpLBY",
        "colab_type": "code",
        "colab": {
          "base_uri": "https://localhost:8080/",
          "height": 34
        },
        "outputId": "7fba33e7-845e-43b0-ba47-30ba198b9123"
      },
      "source": [
        "#let us see the target attribute\n",
        "digit.target[0:5]"
      ],
      "execution_count": 7,
      "outputs": [
        {
          "output_type": "execute_result",
          "data": {
            "text/plain": [
              "array([0, 1, 2, 3, 4])"
            ]
          },
          "metadata": {
            "tags": []
          },
          "execution_count": 7
        }
      ]
    },
    {
      "cell_type": "code",
      "metadata": {
        "id": "MBS_0U1Lp4Jy",
        "colab_type": "code",
        "colab": {}
      },
      "source": [
        "#import train_test_split\n",
        "from sklearn.model_selection import train_test_split\n",
        "X_train, X_test,y_train,y_test = train_test_split(digit.data, digit.target, test_size=0.2)"
      ],
      "execution_count": 0,
      "outputs": []
    },
    {
      "cell_type": "code",
      "metadata": {
        "id": "zaDA_RuZrTOj",
        "colab_type": "code",
        "colab": {}
      },
      "source": [
        "from sklearn.linear_model import LogisticRegression\n",
        "model = LogisticRegression()"
      ],
      "execution_count": 0,
      "outputs": []
    },
    {
      "cell_type": "code",
      "metadata": {
        "id": "_AtPKKGdriPP",
        "colab_type": "code",
        "colab": {
          "base_uri": "https://localhost:8080/",
          "height": 255
        },
        "outputId": "616b11d2-f574-40a2-bc9c-eeb6f88e2cb4"
      },
      "source": [
        "#training the model\n",
        "model.fit(X_train,y_train)"
      ],
      "execution_count": 10,
      "outputs": [
        {
          "output_type": "stream",
          "text": [
            "/usr/local/lib/python3.6/dist-packages/sklearn/linear_model/_logistic.py:940: ConvergenceWarning: lbfgs failed to converge (status=1):\n",
            "STOP: TOTAL NO. of ITERATIONS REACHED LIMIT.\n",
            "\n",
            "Increase the number of iterations (max_iter) or scale the data as shown in:\n",
            "    https://scikit-learn.org/stable/modules/preprocessing.html\n",
            "Please also refer to the documentation for alternative solver options:\n",
            "    https://scikit-learn.org/stable/modules/linear_model.html#logistic-regression\n",
            "  extra_warning_msg=_LOGISTIC_SOLVER_CONVERGENCE_MSG)\n"
          ],
          "name": "stderr"
        },
        {
          "output_type": "execute_result",
          "data": {
            "text/plain": [
              "LogisticRegression(C=1.0, class_weight=None, dual=False, fit_intercept=True,\n",
              "                   intercept_scaling=1, l1_ratio=None, max_iter=100,\n",
              "                   multi_class='auto', n_jobs=None, penalty='l2',\n",
              "                   random_state=None, solver='lbfgs', tol=0.0001, verbose=0,\n",
              "                   warm_start=False)"
            ]
          },
          "metadata": {
            "tags": []
          },
          "execution_count": 10
        }
      ]
    },
    {
      "cell_type": "code",
      "metadata": {
        "id": "-DfKyVkIrpel",
        "colab_type": "code",
        "colab": {
          "base_uri": "https://localhost:8080/",
          "height": 302
        },
        "outputId": "32b78e7c-9ed4-4920-9dcf-c57cf452e9f1"
      },
      "source": [
        "#predicting using the model\n",
        "model.predict(X_test)"
      ],
      "execution_count": 11,
      "outputs": [
        {
          "output_type": "execute_result",
          "data": {
            "text/plain": [
              "array([9, 9, 7, 3, 6, 0, 5, 3, 0, 9, 9, 1, 4, 6, 7, 0, 2, 1, 1, 2, 2, 9,\n",
              "       9, 2, 9, 7, 7, 3, 9, 0, 0, 3, 5, 8, 0, 9, 1, 5, 6, 5, 2, 0, 8, 0,\n",
              "       8, 5, 1, 9, 2, 5, 4, 0, 8, 6, 4, 8, 0, 2, 3, 2, 8, 8, 4, 7, 2, 6,\n",
              "       0, 0, 2, 0, 3, 7, 9, 8, 4, 9, 8, 4, 8, 6, 8, 2, 5, 4, 6, 4, 6, 1,\n",
              "       1, 5, 3, 1, 5, 4, 5, 4, 7, 8, 7, 3, 4, 6, 8, 6, 1, 4, 6, 2, 1, 6,\n",
              "       9, 1, 0, 6, 3, 0, 8, 2, 0, 3, 4, 6, 3, 4, 3, 6, 2, 3, 2, 5, 6, 4,\n",
              "       7, 1, 0, 7, 7, 8, 2, 9, 0, 2, 7, 5, 6, 4, 0, 0, 7, 6, 9, 3, 7, 2,\n",
              "       0, 9, 1, 2, 9, 0, 7, 3, 8, 8, 6, 2, 3, 1, 9, 9, 4, 2, 4, 0, 5, 4,\n",
              "       4, 7, 7, 8, 2, 5, 5, 9, 9, 1, 7, 5, 2, 0, 9, 8, 8, 6, 5, 9, 5, 2,\n",
              "       7, 6, 2, 2, 1, 1, 4, 9, 4, 9, 0, 3, 6, 6, 4, 6, 6, 7, 7, 1, 1, 2,\n",
              "       4, 8, 1, 6, 2, 5, 1, 9, 7, 4, 8, 0, 8, 7, 8, 1, 4, 8, 3, 0, 9, 2,\n",
              "       9, 5, 1, 4, 9, 4, 7, 6, 7, 1, 2, 2, 9, 5, 4, 3, 1, 4, 7, 9, 7, 4,\n",
              "       1, 8, 4, 5, 5, 2, 8, 4, 6, 3, 9, 9, 3, 7, 7, 0, 1, 2, 5, 5, 4, 5,\n",
              "       8, 4, 6, 5, 6, 7, 9, 2, 1, 9, 2, 8, 2, 2, 2, 1, 5, 9, 6, 9, 0, 0,\n",
              "       5, 0, 4, 1, 8, 0, 6, 0, 7, 1, 4, 3, 4, 1, 0, 7, 1, 6, 1, 7, 0, 3,\n",
              "       2, 4, 5, 6, 1, 0, 5, 1, 2, 4, 4, 8, 3, 2, 4, 4, 4, 3, 2, 3, 6, 5,\n",
              "       6, 3, 8, 1, 8, 3, 9, 5])"
            ]
          },
          "metadata": {
            "tags": []
          },
          "execution_count": 11
        }
      ]
    },
    {
      "cell_type": "code",
      "metadata": {
        "id": "-ZvFaCK_ruzX",
        "colab_type": "code",
        "colab": {
          "base_uri": "https://localhost:8080/",
          "height": 302
        },
        "outputId": "ad83d55d-80f7-4642-cd63-f6b3f2d74411"
      },
      "source": [
        "y_test"
      ],
      "execution_count": 12,
      "outputs": [
        {
          "output_type": "execute_result",
          "data": {
            "text/plain": [
              "array([9, 9, 7, 3, 6, 0, 5, 1, 0, 9, 9, 2, 4, 6, 7, 0, 2, 1, 1, 2, 2, 9,\n",
              "       9, 2, 9, 7, 7, 3, 9, 0, 0, 3, 5, 8, 0, 5, 4, 3, 6, 5, 2, 0, 8, 0,\n",
              "       8, 5, 1, 9, 2, 5, 4, 0, 8, 6, 4, 8, 0, 2, 3, 2, 8, 8, 4, 7, 2, 6,\n",
              "       0, 0, 2, 0, 3, 7, 9, 8, 4, 9, 8, 4, 8, 6, 8, 2, 5, 4, 6, 4, 6, 1,\n",
              "       1, 5, 3, 1, 5, 4, 8, 4, 7, 8, 7, 3, 4, 6, 8, 6, 1, 4, 6, 2, 1, 6,\n",
              "       9, 1, 0, 6, 3, 0, 8, 2, 0, 3, 4, 6, 3, 4, 3, 6, 2, 3, 2, 5, 6, 4,\n",
              "       7, 1, 0, 7, 7, 8, 2, 9, 0, 2, 7, 5, 6, 4, 0, 0, 7, 6, 9, 3, 7, 2,\n",
              "       0, 9, 1, 2, 9, 0, 7, 3, 8, 8, 6, 2, 3, 1, 7, 9, 4, 2, 4, 0, 5, 4,\n",
              "       4, 7, 7, 8, 2, 5, 5, 9, 9, 1, 7, 5, 2, 0, 9, 8, 8, 6, 5, 9, 5, 2,\n",
              "       7, 6, 2, 2, 1, 1, 4, 9, 4, 9, 0, 3, 6, 6, 4, 6, 6, 7, 7, 1, 1, 2,\n",
              "       4, 8, 1, 6, 2, 5, 1, 9, 7, 4, 8, 0, 8, 7, 8, 1, 4, 7, 3, 0, 9, 2,\n",
              "       9, 5, 1, 4, 9, 4, 7, 6, 7, 1, 2, 2, 9, 5, 4, 3, 8, 4, 7, 9, 7, 4,\n",
              "       1, 8, 4, 5, 5, 2, 8, 4, 6, 3, 9, 9, 3, 7, 7, 0, 1, 2, 5, 5, 4, 5,\n",
              "       8, 4, 6, 5, 6, 7, 9, 2, 1, 9, 2, 8, 2, 2, 2, 1, 5, 5, 6, 9, 0, 0,\n",
              "       5, 0, 4, 1, 8, 0, 6, 0, 7, 1, 4, 3, 4, 1, 0, 7, 1, 6, 8, 7, 0, 3,\n",
              "       2, 4, 5, 6, 1, 0, 5, 1, 2, 4, 4, 8, 3, 2, 4, 4, 1, 3, 2, 3, 6, 5,\n",
              "       6, 3, 8, 1, 8, 3, 9, 5])"
            ]
          },
          "metadata": {
            "tags": []
          },
          "execution_count": 12
        }
      ]
    },
    {
      "cell_type": "code",
      "metadata": {
        "id": "SznQqERtryB2",
        "colab_type": "code",
        "colab": {
          "base_uri": "https://localhost:8080/",
          "height": 34
        },
        "outputId": "64358716-4014-4c5e-83f1-59a309288813"
      },
      "source": [
        "model.score(X_test,y_test)"
      ],
      "execution_count": 13,
      "outputs": [
        {
          "output_type": "execute_result",
          "data": {
            "text/plain": [
              "0.9666666666666667"
            ]
          },
          "metadata": {
            "tags": []
          },
          "execution_count": 13
        }
      ]
    },
    {
      "cell_type": "code",
      "metadata": {
        "id": "5XaU8EEzubBy",
        "colab_type": "code",
        "colab": {}
      },
      "source": [
        "import random"
      ],
      "execution_count": 0,
      "outputs": []
    },
    {
      "cell_type": "code",
      "metadata": {
        "id": "uuZlrp8qr6R_",
        "colab_type": "code",
        "colab": {
          "base_uri": "https://localhost:8080/",
          "height": 34
        },
        "outputId": "9c4017c4-637d-446b-aa79-4caa72971fbc"
      },
      "source": [
        "#let us predict using the model\n",
        "model.predict([digit.data[67]])"
      ],
      "execution_count": 15,
      "outputs": [
        {
          "output_type": "execute_result",
          "data": {
            "text/plain": [
              "array([6])"
            ]
          },
          "metadata": {
            "tags": []
          },
          "execution_count": 15
        }
      ]
    },
    {
      "cell_type": "code",
      "metadata": {
        "id": "U-mD-VZluw-1",
        "colab_type": "code",
        "colab": {}
      },
      "source": [
        "y_predicted = model.predict(X_test)"
      ],
      "execution_count": 0,
      "outputs": []
    },
    {
      "cell_type": "code",
      "metadata": {
        "id": "SlVn9ObQL7HV",
        "colab_type": "code",
        "colab": {
          "base_uri": "https://localhost:8080/",
          "height": 185
        },
        "outputId": "12898afd-c789-4913-ce25-2a79ff398dcf"
      },
      "source": [
        "from sklearn.metrics import confusion_matrix\n",
        "cm = confusion_matrix(y_test,y_predicted)\n",
        "cm"
      ],
      "execution_count": 17,
      "outputs": [
        {
          "output_type": "execute_result",
          "data": {
            "text/plain": [
              "array([[36,  0,  0,  0,  0,  0,  0,  0,  0,  0],\n",
              "       [ 0, 33,  0,  1,  1,  0,  0,  0,  0,  0],\n",
              "       [ 0,  1, 42,  0,  0,  0,  0,  0,  0,  0],\n",
              "       [ 0,  0,  0, 27,  0,  1,  0,  0,  0,  0],\n",
              "       [ 0,  1,  0,  0, 43,  0,  0,  0,  0,  0],\n",
              "       [ 0,  0,  0,  0,  0, 31,  0,  0,  0,  2],\n",
              "       [ 0,  0,  0,  0,  0,  0, 36,  0,  0,  0],\n",
              "       [ 0,  0,  0,  0,  0,  0,  0, 33,  1,  1],\n",
              "       [ 0,  2,  0,  0,  0,  1,  0,  0, 32,  0],\n",
              "       [ 0,  0,  0,  0,  0,  0,  0,  0,  0, 35]])"
            ]
          },
          "metadata": {
            "tags": []
          },
          "execution_count": 17
        }
      ]
    },
    {
      "cell_type": "code",
      "metadata": {
        "id": "6rWnahiVMiLd",
        "colab_type": "code",
        "colab": {
          "base_uri": "https://localhost:8080/",
          "height": 459
        },
        "outputId": "53264249-5ceb-4df0-9821-b1c806ef5beb"
      },
      "source": [
        "#seaborn used for data Visualization\n",
        "import seaborn as sns\n",
        "plt.figure(figsize=(10,7))\n",
        "sns.heatmap(cm,annot=True)\n",
        "plt.xlabel('predicted')\n",
        "plt.ylabel('true')"
      ],
      "execution_count": 18,
      "outputs": [
        {
          "output_type": "execute_result",
          "data": {
            "text/plain": [
              "Text(69.0, 0.5, 'true')"
            ]
          },
          "metadata": {
            "tags": []
          },
          "execution_count": 18
        },
        {
          "output_type": "display_data",
          "data": {
            "image/png": "[encoded data removed]",
            "text/plain": [
              "<Figure size 720x504 with 2 Axes>"
            ]
          },
          "metadata": {
            "tags": []
          }
        }
      ]
    },
    {
      "cell_type": "code",
      "metadata": {
        "id": "TwCNzZH1NFV6",
        "colab_type": "code",
        "colab": {}
      },
      "source": [
        ""
      ],
      "execution_count": 0,
      "outputs": []
    }
  ]
}