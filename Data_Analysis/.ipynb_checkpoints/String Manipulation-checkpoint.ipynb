{
 "cells": [
  {
   "cell_type": "code",
   "execution_count": 1,
   "id": "1d7ab680",
   "metadata": {},
   "outputs": [],
   "source": [
    "import pandas as pd\n",
    "import numpy as np"
   ]
  },
  {
   "cell_type": "code",
   "execution_count": 2,
   "id": "012d66d0",
   "metadata": {},
   "outputs": [],
   "source": [
    "bm = pd.read_csv('datasets/2017BostonMarathonTop1000.csv')"
   ]
  },
  {
   "cell_type": "code",
   "execution_count": 3,
   "id": "406e22d5",
   "metadata": {},
   "outputs": [
    {
     "name": "stdout",
     "output_type": "stream",
     "text": [
      "<class 'pandas.core.frame.DataFrame'>\n",
      "RangeIndex: 1000 entries, 0 to 999\n",
      "Data columns (total 10 columns):\n",
      " #   Column         Non-Null Count  Dtype \n",
      "---  ------         --------------  ----- \n",
      " 0   Name           1000 non-null   object\n",
      " 1   Age            1000 non-null   int64 \n",
      " 2   M/F            1000 non-null   object\n",
      " 3   City           1000 non-null   object\n",
      " 4   State          807 non-null    object\n",
      " 5   Country        1000 non-null   object\n",
      " 6   Official Time  1000 non-null   object\n",
      " 7   Overall        1000 non-null   int64 \n",
      " 8   Gender         1000 non-null   int64 \n",
      " 9   Years Ran      315 non-null    object\n",
      "dtypes: int64(3), object(7)\n",
      "memory usage: 78.2+ KB\n"
     ]
    }
   ],
   "source": [
    "bm.info()"
   ]
  },
  {
   "cell_type": "code",
   "execution_count": 4,
   "id": "05917892",
   "metadata": {},
   "outputs": [
    {
     "data": {
      "text/html": [
       "<div>\n",
       "<style scoped>\n",
       "    .dataframe tbody tr th:only-of-type {\n",
       "        vertical-align: middle;\n",
       "    }\n",
       "\n",
       "    .dataframe tbody tr th {\n",
       "        vertical-align: top;\n",
       "    }\n",
       "\n",
       "    .dataframe thead th {\n",
       "        text-align: right;\n",
       "    }\n",
       "</style>\n",
       "<table border=\"1\" class=\"dataframe\">\n",
       "  <thead>\n",
       "    <tr style=\"text-align: right;\">\n",
       "      <th></th>\n",
       "      <th>Name</th>\n",
       "      <th>Age</th>\n",
       "      <th>M/F</th>\n",
       "      <th>City</th>\n",
       "      <th>State</th>\n",
       "      <th>Country</th>\n",
       "      <th>Official Time</th>\n",
       "      <th>Overall</th>\n",
       "      <th>Gender</th>\n",
       "      <th>Years Ran</th>\n",
       "    </tr>\n",
       "  </thead>\n",
       "  <tbody>\n",
       "    <tr>\n",
       "      <th>0</th>\n",
       "      <td>Kirui, Geoffrey</td>\n",
       "      <td>24</td>\n",
       "      <td>M</td>\n",
       "      <td>Keringet</td>\n",
       "      <td>NaN</td>\n",
       "      <td>KEN</td>\n",
       "      <td>2:09:37</td>\n",
       "      <td>1</td>\n",
       "      <td>1</td>\n",
       "      <td>NaN</td>\n",
       "    </tr>\n",
       "    <tr>\n",
       "      <th>1</th>\n",
       "      <td>Rupp, Galen</td>\n",
       "      <td>30</td>\n",
       "      <td>M</td>\n",
       "      <td>Portland</td>\n",
       "      <td>OR</td>\n",
       "      <td>USA</td>\n",
       "      <td>2:09:58</td>\n",
       "      <td>2</td>\n",
       "      <td>2</td>\n",
       "      <td>NaN</td>\n",
       "    </tr>\n",
       "    <tr>\n",
       "      <th>2</th>\n",
       "      <td>Osako, Suguru</td>\n",
       "      <td>25</td>\n",
       "      <td>M</td>\n",
       "      <td>Machida-City</td>\n",
       "      <td>NaN</td>\n",
       "      <td>JPN</td>\n",
       "      <td>2:10:28</td>\n",
       "      <td>3</td>\n",
       "      <td>3</td>\n",
       "      <td>NaN</td>\n",
       "    </tr>\n",
       "    <tr>\n",
       "      <th>3</th>\n",
       "      <td>Biwott, Shadrack</td>\n",
       "      <td>32</td>\n",
       "      <td>M</td>\n",
       "      <td>Mammoth Lakes</td>\n",
       "      <td>CA</td>\n",
       "      <td>USA</td>\n",
       "      <td>2:12:08</td>\n",
       "      <td>4</td>\n",
       "      <td>4</td>\n",
       "      <td>NaN</td>\n",
       "    </tr>\n",
       "    <tr>\n",
       "      <th>4</th>\n",
       "      <td>Chebet, Wilson</td>\n",
       "      <td>31</td>\n",
       "      <td>M</td>\n",
       "      <td>Marakwet</td>\n",
       "      <td>NaN</td>\n",
       "      <td>KEN</td>\n",
       "      <td>2:12:35</td>\n",
       "      <td>5</td>\n",
       "      <td>5</td>\n",
       "      <td>2015</td>\n",
       "    </tr>\n",
       "  </tbody>\n",
       "</table>\n",
       "</div>"
      ],
      "text/plain": [
       "                Name  Age M/F           City State Country Official Time  \\\n",
       "0   Kirui, Geoffrey    24   M       Keringet   NaN     KEN       2:09:37   \n",
       "1     Rupp, Galen      30   M       Portland    OR     USA       2:09:58   \n",
       "2    Osako, Suguru     25   M   Machida-City   NaN     JPN       2:10:28   \n",
       "3   Biwott, Shadrack   32   M  Mammoth Lakes    CA     USA       2:12:08   \n",
       "4     Chebet, Wilson   31   M       Marakwet   NaN     KEN       2:12:35   \n",
       "\n",
       "   Overall  Gender Years Ran  \n",
       "0        1       1       NaN  \n",
       "1        2       2       NaN  \n",
       "2        3       3       NaN  \n",
       "3        4       4       NaN  \n",
       "4        5       5      2015  "
      ]
     },
     "execution_count": 4,
     "metadata": {},
     "output_type": "execute_result"
    }
   ],
   "source": [
    "bm.head()"
   ]
  },
  {
   "cell_type": "markdown",
   "id": "ea4ec58c",
   "metadata": {},
   "source": [
    "### String Methods in Python"
   ]
  },
  {
   "cell_type": "code",
   "execution_count": 5,
   "id": "17778157",
   "metadata": {},
   "outputs": [],
   "source": [
    "msg = ' welcome '"
   ]
  },
  {
   "cell_type": "code",
   "execution_count": 6,
   "id": "f1eec9e7",
   "metadata": {},
   "outputs": [
    {
     "data": {
      "text/plain": [
       "9"
      ]
     },
     "execution_count": 6,
     "metadata": {},
     "output_type": "execute_result"
    }
   ],
   "source": [
    "len(msg)"
   ]
  },
  {
   "cell_type": "code",
   "execution_count": 7,
   "id": "e0f78a38",
   "metadata": {},
   "outputs": [
    {
     "data": {
      "text/plain": [
       "'** welcome **'"
      ]
     },
     "execution_count": 7,
     "metadata": {},
     "output_type": "execute_result"
    }
   ],
   "source": [
    "msg.center(13,'*')"
   ]
  },
  {
   "cell_type": "code",
   "execution_count": 8,
   "id": "1ac6f05c",
   "metadata": {},
   "outputs": [
    {
     "data": {
      "text/plain": [
       "True"
      ]
     },
     "execution_count": 8,
     "metadata": {},
     "output_type": "execute_result"
    }
   ],
   "source": [
    "msg.endswith('e ')"
   ]
  },
  {
   "cell_type": "code",
   "execution_count": 9,
   "id": "b9edfa40",
   "metadata": {},
   "outputs": [
    {
     "data": {
      "text/plain": [
       "True"
      ]
     },
     "execution_count": 9,
     "metadata": {},
     "output_type": "execute_result"
    }
   ],
   "source": [
    "msg.endswith(' ')"
   ]
  },
  {
   "cell_type": "code",
   "execution_count": 10,
   "id": "bde36f52",
   "metadata": {},
   "outputs": [
    {
     "data": {
      "text/plain": [
       "True"
      ]
     },
     "execution_count": 10,
     "metadata": {},
     "output_type": "execute_result"
    }
   ],
   "source": [
    "msg.endswith('me ')"
   ]
  },
  {
   "cell_type": "code",
   "execution_count": 11,
   "id": "7b833a03",
   "metadata": {},
   "outputs": [
    {
     "data": {
      "text/plain": [
       "False"
      ]
     },
     "execution_count": 11,
     "metadata": {},
     "output_type": "execute_result"
    }
   ],
   "source": [
    "msg.startswith(' We')"
   ]
  },
  {
   "cell_type": "code",
   "execution_count": 12,
   "id": "45758465",
   "metadata": {},
   "outputs": [
    {
     "data": {
      "text/plain": [
       "True"
      ]
     },
     "execution_count": 12,
     "metadata": {},
     "output_type": "execute_result"
    }
   ],
   "source": [
    "msg.startswith(' we')"
   ]
  },
  {
   "cell_type": "code",
   "execution_count": 13,
   "id": "fcc49fa1",
   "metadata": {},
   "outputs": [
    {
     "data": {
      "text/plain": [
       "True"
      ]
     },
     "execution_count": 13,
     "metadata": {},
     "output_type": "execute_result"
    }
   ],
   "source": [
    "'el' in msg"
   ]
  },
  {
   "cell_type": "code",
   "execution_count": 14,
   "id": "9cb754ce",
   "metadata": {},
   "outputs": [
    {
     "data": {
      "text/plain": [
       "True"
      ]
     },
     "execution_count": 14,
     "metadata": {},
     "output_type": "execute_result"
    }
   ],
   "source": [
    "'elc' in msg"
   ]
  },
  {
   "cell_type": "code",
   "execution_count": 15,
   "id": "c58f0dbb",
   "metadata": {},
   "outputs": [],
   "source": [
    "# text transforms within list ocmprehension"
   ]
  },
  {
   "cell_type": "code",
   "execution_count": 16,
   "id": "1d20f3a3",
   "metadata": {},
   "outputs": [],
   "source": [
    "names = ['aa','sally','rma']"
   ]
  },
  {
   "cell_type": "code",
   "execution_count": 17,
   "id": "0f08186a",
   "metadata": {},
   "outputs": [
    {
     "data": {
      "text/plain": [
       "['aahello', 'sallyhello', 'rmahello']"
      ]
     },
     "execution_count": 17,
     "metadata": {},
     "output_type": "execute_result"
    }
   ],
   "source": [
    "[n+'hello' for n in names]"
   ]
  },
  {
   "cell_type": "code",
   "execution_count": 18,
   "id": "2480cac9",
   "metadata": {},
   "outputs": [
    {
     "data": {
      "text/plain": [
       "[False, True, False]"
      ]
     },
     "execution_count": 18,
     "metadata": {},
     "output_type": "execute_result"
    }
   ],
   "source": [
    "[n.startswith('s') for n in names]"
   ]
  },
  {
   "cell_type": "code",
   "execution_count": 19,
   "id": "14dd8caa",
   "metadata": {},
   "outputs": [],
   "source": [
    "names = ['aa','sally',np.NaN,'rma']"
   ]
  },
  {
   "cell_type": "code",
   "execution_count": 20,
   "id": "7ccb410a",
   "metadata": {},
   "outputs": [],
   "source": [
    "# [n for n in names]\n",
    "\n",
    "# # fragile "
   ]
  },
  {
   "cell_type": "code",
   "execution_count": 21,
   "id": "6644f0f7",
   "metadata": {},
   "outputs": [
    {
     "data": {
      "text/plain": [
       "0           Keringet\n",
       "1           Portland\n",
       "2       Machida-City\n",
       "3      Mammoth Lakes\n",
       "4           Marakwet\n",
       "           ...      \n",
       "995    North Andover\n",
       "996          Raleigh\n",
       "997        Arlington\n",
       "998          Danbury\n",
       "999         Santa Fe\n",
       "Name: City, Length: 1000, dtype: object"
      ]
     },
     "execution_count": 21,
     "metadata": {},
     "output_type": "execute_result"
    }
   ],
   "source": [
    "bm.City"
   ]
  },
  {
   "cell_type": "code",
   "execution_count": 22,
   "id": "81a3982a",
   "metadata": {},
   "outputs": [
    {
     "data": {
      "text/plain": [
       "0           Keringet\n",
       "1           Portland\n",
       "2       Machida-City\n",
       "3      Mammoth Lakes\n",
       "4           Marakwet\n",
       "           ...      \n",
       "995    North Andover\n",
       "996          Raleigh\n",
       "997        Arlington\n",
       "998          Danbury\n",
       "999         Santa Fe\n",
       "Name: City, Length: 1000, dtype: object"
      ]
     },
     "execution_count": 22,
     "metadata": {},
     "output_type": "execute_result"
    }
   ],
   "source": [
    "bm.City.str.title()"
   ]
  },
  {
   "cell_type": "code",
   "execution_count": 23,
   "id": "b189d311",
   "metadata": {},
   "outputs": [
    {
     "data": {
      "text/plain": [
       "0           KERINGET\n",
       "1           PORTLAND\n",
       "2       MACHIDA-CITY\n",
       "3      MAMMOTH LAKES\n",
       "4           MARAKWET\n",
       "           ...      \n",
       "995    NORTH ANDOVER\n",
       "996          RALEIGH\n",
       "997        ARLINGTON\n",
       "998          DANBURY\n",
       "999         SANTA FE\n",
       "Name: City, Length: 1000, dtype: object"
      ]
     },
     "execution_count": 23,
     "metadata": {},
     "output_type": "execute_result"
    }
   ],
   "source": [
    "bm.City.str.upper()"
   ]
  },
  {
   "cell_type": "code",
   "execution_count": 24,
   "id": "c7fa4492",
   "metadata": {},
   "outputs": [
    {
     "data": {
      "text/plain": [
       "0           keringet\n",
       "1           portland\n",
       "2       machida-city\n",
       "3      mammoth lakes\n",
       "4           marakwet\n",
       "           ...      \n",
       "995    north andover\n",
       "996          raleigh\n",
       "997        arlington\n",
       "998          danbury\n",
       "999         santa fe\n",
       "Name: City, Length: 1000, dtype: object"
      ]
     },
     "execution_count": 24,
     "metadata": {},
     "output_type": "execute_result"
    }
   ],
   "source": [
    "bm.City.str.lower()"
   ]
  },
  {
   "cell_type": "code",
   "execution_count": 25,
   "id": "cf9fc3bb",
   "metadata": {},
   "outputs": [
    {
     "data": {
      "text/plain": [
       "0           kERINGET\n",
       "1           pORTLAND\n",
       "2       mACHIDA-cITY\n",
       "3      mAMMOTH lAKES\n",
       "4           mARAKWET\n",
       "           ...      \n",
       "995    nORTH aNDOVER\n",
       "996          rALEIGH\n",
       "997        aRLINGTON\n",
       "998          dANBURY\n",
       "999         sANTA fE\n",
       "Name: City, Length: 1000, dtype: object"
      ]
     },
     "execution_count": 25,
     "metadata": {},
     "output_type": "execute_result"
    }
   ],
   "source": [
    "bm.City.str.swapcase()"
   ]
  },
  {
   "cell_type": "code",
   "execution_count": 26,
   "id": "46f43ecb",
   "metadata": {},
   "outputs": [
    {
     "data": {
      "text/plain": [
       "0           Keringet\n",
       "1           Portland\n",
       "2       Machida-city\n",
       "3      Mammoth lakes\n",
       "4           Marakwet\n",
       "           ...      \n",
       "995    North andover\n",
       "996          Raleigh\n",
       "997        Arlington\n",
       "998          Danbury\n",
       "999         Santa fe\n",
       "Name: City, Length: 1000, dtype: object"
      ]
     },
     "execution_count": 26,
     "metadata": {},
     "output_type": "execute_result"
    }
   ],
   "source": [
    "bm.City.str.capitalize()\n",
    "\n",
    "# cap first lower cases others"
   ]
  },
  {
   "cell_type": "markdown",
   "id": "87e6cc48",
   "metadata": {},
   "source": [
    "### Finding Characters and Words"
   ]
  },
  {
   "cell_type": "code",
   "execution_count": 27,
   "id": "effdc611",
   "metadata": {},
   "outputs": [
    {
     "data": {
      "text/plain": [
       "' welcome '"
      ]
     },
     "execution_count": 27,
     "metadata": {},
     "output_type": "execute_result"
    }
   ],
   "source": [
    "msg"
   ]
  },
  {
   "cell_type": "code",
   "execution_count": 28,
   "id": "04d89b69",
   "metadata": {},
   "outputs": [
    {
     "data": {
      "text/plain": [
       "4"
      ]
     },
     "execution_count": 28,
     "metadata": {},
     "output_type": "execute_result"
    }
   ],
   "source": [
    "msg.find('c')"
   ]
  },
  {
   "cell_type": "code",
   "execution_count": 29,
   "id": "2db83896",
   "metadata": {},
   "outputs": [
    {
     "data": {
      "text/plain": [
       "'c'"
      ]
     },
     "execution_count": 29,
     "metadata": {},
     "output_type": "execute_result"
    }
   ],
   "source": [
    "msg[4]"
   ]
  },
  {
   "cell_type": "code",
   "execution_count": 30,
   "id": "01498fad",
   "metadata": {},
   "outputs": [
    {
     "data": {
      "text/plain": [
       "5"
      ]
     },
     "execution_count": 30,
     "metadata": {},
     "output_type": "execute_result"
    }
   ],
   "source": [
    "msg.find('om')"
   ]
  },
  {
   "cell_type": "code",
   "execution_count": 31,
   "id": "5e47b670",
   "metadata": {},
   "outputs": [
    {
     "data": {
      "text/plain": [
       "-1"
      ]
     },
     "execution_count": 31,
     "metadata": {},
     "output_type": "execute_result"
    }
   ],
   "source": [
    "msg.find('oma')\n",
    "\n",
    "# -1 - not found"
   ]
  },
  {
   "cell_type": "code",
   "execution_count": 32,
   "id": "be11bb99",
   "metadata": {},
   "outputs": [
    {
     "data": {
      "text/html": [
       "<div>\n",
       "<style scoped>\n",
       "    .dataframe tbody tr th:only-of-type {\n",
       "        vertical-align: middle;\n",
       "    }\n",
       "\n",
       "    .dataframe tbody tr th {\n",
       "        vertical-align: top;\n",
       "    }\n",
       "\n",
       "    .dataframe thead th {\n",
       "        text-align: right;\n",
       "    }\n",
       "</style>\n",
       "<table border=\"1\" class=\"dataframe\">\n",
       "  <thead>\n",
       "    <tr style=\"text-align: right;\">\n",
       "      <th></th>\n",
       "      <th>Name</th>\n",
       "      <th>Age</th>\n",
       "      <th>M/F</th>\n",
       "      <th>City</th>\n",
       "      <th>State</th>\n",
       "      <th>Country</th>\n",
       "      <th>Official Time</th>\n",
       "      <th>Overall</th>\n",
       "      <th>Gender</th>\n",
       "      <th>Years Ran</th>\n",
       "    </tr>\n",
       "  </thead>\n",
       "  <tbody>\n",
       "    <tr>\n",
       "      <th>0</th>\n",
       "      <td>Kirui, Geoffrey</td>\n",
       "      <td>24</td>\n",
       "      <td>M</td>\n",
       "      <td>Keringet</td>\n",
       "      <td>NaN</td>\n",
       "      <td>KEN</td>\n",
       "      <td>2:09:37</td>\n",
       "      <td>1</td>\n",
       "      <td>1</td>\n",
       "      <td>NaN</td>\n",
       "    </tr>\n",
       "    <tr>\n",
       "      <th>1</th>\n",
       "      <td>Rupp, Galen</td>\n",
       "      <td>30</td>\n",
       "      <td>M</td>\n",
       "      <td>Portland</td>\n",
       "      <td>OR</td>\n",
       "      <td>USA</td>\n",
       "      <td>2:09:58</td>\n",
       "      <td>2</td>\n",
       "      <td>2</td>\n",
       "      <td>NaN</td>\n",
       "    </tr>\n",
       "    <tr>\n",
       "      <th>2</th>\n",
       "      <td>Osako, Suguru</td>\n",
       "      <td>25</td>\n",
       "      <td>M</td>\n",
       "      <td>Machida-City</td>\n",
       "      <td>NaN</td>\n",
       "      <td>JPN</td>\n",
       "      <td>2:10:28</td>\n",
       "      <td>3</td>\n",
       "      <td>3</td>\n",
       "      <td>NaN</td>\n",
       "    </tr>\n",
       "    <tr>\n",
       "      <th>3</th>\n",
       "      <td>Biwott, Shadrack</td>\n",
       "      <td>32</td>\n",
       "      <td>M</td>\n",
       "      <td>Mammoth Lakes</td>\n",
       "      <td>CA</td>\n",
       "      <td>USA</td>\n",
       "      <td>2:12:08</td>\n",
       "      <td>4</td>\n",
       "      <td>4</td>\n",
       "      <td>NaN</td>\n",
       "    </tr>\n",
       "    <tr>\n",
       "      <th>4</th>\n",
       "      <td>Chebet, Wilson</td>\n",
       "      <td>31</td>\n",
       "      <td>M</td>\n",
       "      <td>Marakwet</td>\n",
       "      <td>NaN</td>\n",
       "      <td>KEN</td>\n",
       "      <td>2:12:35</td>\n",
       "      <td>5</td>\n",
       "      <td>5</td>\n",
       "      <td>2015</td>\n",
       "    </tr>\n",
       "  </tbody>\n",
       "</table>\n",
       "</div>"
      ],
      "text/plain": [
       "                Name  Age M/F           City State Country Official Time  \\\n",
       "0   Kirui, Geoffrey    24   M       Keringet   NaN     KEN       2:09:37   \n",
       "1     Rupp, Galen      30   M       Portland    OR     USA       2:09:58   \n",
       "2    Osako, Suguru     25   M   Machida-City   NaN     JPN       2:10:28   \n",
       "3   Biwott, Shadrack   32   M  Mammoth Lakes    CA     USA       2:12:08   \n",
       "4     Chebet, Wilson   31   M       Marakwet   NaN     KEN       2:12:35   \n",
       "\n",
       "   Overall  Gender Years Ran  \n",
       "0        1       1       NaN  \n",
       "1        2       2       NaN  \n",
       "2        3       3       NaN  \n",
       "3        4       4       NaN  \n",
       "4        5       5      2015  "
      ]
     },
     "execution_count": 32,
     "metadata": {},
     "output_type": "execute_result"
    }
   ],
   "source": [
    "bm.head()"
   ]
  },
  {
   "cell_type": "code",
   "execution_count": 33,
   "id": "c98747cb",
   "metadata": {},
   "outputs": [
    {
     "data": {
      "text/plain": [
       "-1     998\n",
       " 8       1\n",
       " 12      1\n",
       "Name: Name, dtype: int64"
      ]
     },
     "execution_count": 33,
     "metadata": {},
     "output_type": "execute_result"
    }
   ],
   "source": [
    "bm.Name.str.find('Andy').value_counts()"
   ]
  },
  {
   "cell_type": "code",
   "execution_count": 34,
   "id": "555ae1d3",
   "metadata": {},
   "outputs": [
    {
     "data": {
      "text/plain": [
       "Name             Puskedra, Luke\n",
       "Age                          27\n",
       "M/F                           M\n",
       "City                     Eugene\n",
       "State                        OR\n",
       "Country                     USA\n",
       "Official Time           2:14:45\n",
       "Overall                       9\n",
       "Gender                        9\n",
       "Years Ran                   NaN\n",
       "Name: 8, dtype: object"
      ]
     },
     "execution_count": 34,
     "metadata": {},
     "output_type": "execute_result"
    }
   ],
   "source": [
    "bm.iloc[8]"
   ]
  },
  {
   "cell_type": "code",
   "execution_count": 35,
   "id": "bc21dce1",
   "metadata": {},
   "outputs": [
    {
     "data": {
      "text/plain": [
       "Name             Keflezighi, Meb\n",
       "Age                           41\n",
       "M/F                            M\n",
       "City                   San Diego\n",
       "State                         CA\n",
       "Country                      USA\n",
       "Official Time            2:17:00\n",
       "Overall                       13\n",
       "Gender                        13\n",
       "Years Ran                   2015\n",
       "Name: 12, dtype: object"
      ]
     },
     "execution_count": 35,
     "metadata": {},
     "output_type": "execute_result"
    }
   ],
   "source": [
    "bm.iloc[12]"
   ]
  },
  {
   "cell_type": "code",
   "execution_count": 36,
   "id": "f2e3ab09",
   "metadata": {},
   "outputs": [
    {
     "data": {
      "text/plain": [
       "-1     988\n",
       " 8       3\n",
       " 10      3\n",
       " 7       2\n",
       " 9       2\n",
       " 6       1\n",
       " 12      1\n",
       "Name: Name, dtype: int64"
      ]
     },
     "execution_count": 36,
     "metadata": {},
     "output_type": "execute_result"
    }
   ],
   "source": [
    "bm.Name.str.find('James').value_counts()\n",
    "\n",
    "# 6 occurences of James"
   ]
  },
  {
   "cell_type": "code",
   "execution_count": 37,
   "id": "1cfcadf8",
   "metadata": {},
   "outputs": [],
   "source": [
    "p ='pandas numpy numpy pandas'"
   ]
  },
  {
   "cell_type": "code",
   "execution_count": 38,
   "id": "4041b99e",
   "metadata": {},
   "outputs": [
    {
     "data": {
      "text/plain": [
       "0"
      ]
     },
     "execution_count": 38,
     "metadata": {},
     "output_type": "execute_result"
    }
   ],
   "source": [
    "p.find('pandas')"
   ]
  },
  {
   "cell_type": "code",
   "execution_count": 39,
   "id": "ad800da6",
   "metadata": {},
   "outputs": [
    {
     "data": {
      "text/plain": [
       "19"
      ]
     },
     "execution_count": 39,
     "metadata": {},
     "output_type": "execute_result"
    }
   ],
   "source": [
    "p.rfind('pandas')"
   ]
  },
  {
   "cell_type": "markdown",
   "id": "2313a00b",
   "metadata": {},
   "source": [
    "### Strips and Whitespace"
   ]
  },
  {
   "cell_type": "code",
   "execution_count": 40,
   "id": "b83c8990",
   "metadata": {},
   "outputs": [
    {
     "name": "stdout",
     "output_type": "stream",
     "text": [
      "pandas \tnumpy\n"
     ]
    }
   ],
   "source": [
    "print('pandas','\\tnumpy')"
   ]
  },
  {
   "cell_type": "code",
   "execution_count": 41,
   "id": "6d21c468",
   "metadata": {},
   "outputs": [
    {
     "data": {
      "text/plain": [
       "True"
      ]
     },
     "execution_count": 41,
     "metadata": {},
     "output_type": "execute_result"
    }
   ],
   "source": [
    "'\\n'.isspace()"
   ]
  },
  {
   "cell_type": "code",
   "execution_count": 42,
   "id": "b2d4f955",
   "metadata": {},
   "outputs": [
    {
     "data": {
      "text/plain": [
       "False"
      ]
     },
     "execution_count": 42,
     "metadata": {},
     "output_type": "execute_result"
    }
   ],
   "source": [
    "''.isspace()"
   ]
  },
  {
   "cell_type": "code",
   "execution_count": 43,
   "id": "eed46f9b",
   "metadata": {},
   "outputs": [
    {
     "data": {
      "text/plain": [
       "True"
      ]
     },
     "execution_count": 43,
     "metadata": {},
     "output_type": "execute_result"
    }
   ],
   "source": [
    "'\\t'.isspace()"
   ]
  },
  {
   "cell_type": "code",
   "execution_count": 44,
   "id": "50c356f5",
   "metadata": {},
   "outputs": [],
   "source": [
    "left_spaced = '   hello'\n",
    "right_spaced = 'hello   '\n",
    "spaced = '   hello   '"
   ]
  },
  {
   "cell_type": "code",
   "execution_count": 45,
   "id": "8a9ad9f1",
   "metadata": {},
   "outputs": [
    {
     "data": {
      "text/plain": [
       "False"
      ]
     },
     "execution_count": 45,
     "metadata": {},
     "output_type": "execute_result"
    }
   ],
   "source": [
    "left_spaced.isspace()"
   ]
  },
  {
   "cell_type": "code",
   "execution_count": 46,
   "id": "e98a31ff",
   "metadata": {},
   "outputs": [
    {
     "name": "stdout",
     "output_type": "stream",
     "text": [
      "   hello\n"
     ]
    }
   ],
   "source": [
    "print(left_spaced)"
   ]
  },
  {
   "cell_type": "code",
   "execution_count": 47,
   "id": "373e291b",
   "metadata": {},
   "outputs": [
    {
     "data": {
      "text/plain": [
       "'hello'"
      ]
     },
     "execution_count": 47,
     "metadata": {},
     "output_type": "execute_result"
    }
   ],
   "source": [
    "left_spaced.lstrip()"
   ]
  },
  {
   "cell_type": "code",
   "execution_count": 48,
   "id": "1b9e9bc6",
   "metadata": {},
   "outputs": [
    {
     "data": {
      "text/plain": [
       "'hello'"
      ]
     },
     "execution_count": 48,
     "metadata": {},
     "output_type": "execute_result"
    }
   ],
   "source": [
    "right_spaced.rstrip()"
   ]
  },
  {
   "cell_type": "code",
   "execution_count": 49,
   "id": "553bd19b",
   "metadata": {},
   "outputs": [
    {
     "data": {
      "text/plain": [
       "'hello'"
      ]
     },
     "execution_count": 49,
     "metadata": {},
     "output_type": "execute_result"
    }
   ],
   "source": [
    "spaced.strip()"
   ]
  },
  {
   "cell_type": "code",
   "execution_count": 50,
   "id": "4446c798",
   "metadata": {},
   "outputs": [
    {
     "data": {
      "text/html": [
       "<div>\n",
       "<style scoped>\n",
       "    .dataframe tbody tr th:only-of-type {\n",
       "        vertical-align: middle;\n",
       "    }\n",
       "\n",
       "    .dataframe tbody tr th {\n",
       "        vertical-align: top;\n",
       "    }\n",
       "\n",
       "    .dataframe thead th {\n",
       "        text-align: right;\n",
       "    }\n",
       "</style>\n",
       "<table border=\"1\" class=\"dataframe\">\n",
       "  <thead>\n",
       "    <tr style=\"text-align: right;\">\n",
       "      <th></th>\n",
       "      <th>Name</th>\n",
       "      <th>Age</th>\n",
       "      <th>M/F</th>\n",
       "      <th>City</th>\n",
       "      <th>State</th>\n",
       "      <th>Country</th>\n",
       "      <th>Official Time</th>\n",
       "      <th>Overall</th>\n",
       "      <th>Gender</th>\n",
       "      <th>Years Ran</th>\n",
       "    </tr>\n",
       "  </thead>\n",
       "  <tbody>\n",
       "    <tr>\n",
       "      <th>0</th>\n",
       "      <td>Kirui, Geoffrey</td>\n",
       "      <td>24</td>\n",
       "      <td>M</td>\n",
       "      <td>Keringet</td>\n",
       "      <td>NaN</td>\n",
       "      <td>KEN</td>\n",
       "      <td>2:09:37</td>\n",
       "      <td>1</td>\n",
       "      <td>1</td>\n",
       "      <td>NaN</td>\n",
       "    </tr>\n",
       "    <tr>\n",
       "      <th>1</th>\n",
       "      <td>Rupp, Galen</td>\n",
       "      <td>30</td>\n",
       "      <td>M</td>\n",
       "      <td>Portland</td>\n",
       "      <td>OR</td>\n",
       "      <td>USA</td>\n",
       "      <td>2:09:58</td>\n",
       "      <td>2</td>\n",
       "      <td>2</td>\n",
       "      <td>NaN</td>\n",
       "    </tr>\n",
       "    <tr>\n",
       "      <th>2</th>\n",
       "      <td>Osako, Suguru</td>\n",
       "      <td>25</td>\n",
       "      <td>M</td>\n",
       "      <td>Machida-City</td>\n",
       "      <td>NaN</td>\n",
       "      <td>JPN</td>\n",
       "      <td>2:10:28</td>\n",
       "      <td>3</td>\n",
       "      <td>3</td>\n",
       "      <td>NaN</td>\n",
       "    </tr>\n",
       "    <tr>\n",
       "      <th>3</th>\n",
       "      <td>Biwott, Shadrack</td>\n",
       "      <td>32</td>\n",
       "      <td>M</td>\n",
       "      <td>Mammoth Lakes</td>\n",
       "      <td>CA</td>\n",
       "      <td>USA</td>\n",
       "      <td>2:12:08</td>\n",
       "      <td>4</td>\n",
       "      <td>4</td>\n",
       "      <td>NaN</td>\n",
       "    </tr>\n",
       "    <tr>\n",
       "      <th>4</th>\n",
       "      <td>Chebet, Wilson</td>\n",
       "      <td>31</td>\n",
       "      <td>M</td>\n",
       "      <td>Marakwet</td>\n",
       "      <td>NaN</td>\n",
       "      <td>KEN</td>\n",
       "      <td>2:12:35</td>\n",
       "      <td>5</td>\n",
       "      <td>5</td>\n",
       "      <td>2015</td>\n",
       "    </tr>\n",
       "  </tbody>\n",
       "</table>\n",
       "</div>"
      ],
      "text/plain": [
       "                Name  Age M/F           City State Country Official Time  \\\n",
       "0   Kirui, Geoffrey    24   M       Keringet   NaN     KEN       2:09:37   \n",
       "1     Rupp, Galen      30   M       Portland    OR     USA       2:09:58   \n",
       "2    Osako, Suguru     25   M   Machida-City   NaN     JPN       2:10:28   \n",
       "3   Biwott, Shadrack   32   M  Mammoth Lakes    CA     USA       2:12:08   \n",
       "4     Chebet, Wilson   31   M       Marakwet   NaN     KEN       2:12:35   \n",
       "\n",
       "   Overall  Gender Years Ran  \n",
       "0        1       1       NaN  \n",
       "1        2       2       NaN  \n",
       "2        3       3       NaN  \n",
       "3        4       4       NaN  \n",
       "4        5       5      2015  "
      ]
     },
     "execution_count": 50,
     "metadata": {},
     "output_type": "execute_result"
    }
   ],
   "source": [
    "bm.head()"
   ]
  },
  {
   "cell_type": "code",
   "execution_count": 51,
   "id": "26fcab5f",
   "metadata": {},
   "outputs": [
    {
     "data": {
      "text/plain": [
       "0         Kirui, Geoffrey \n",
       "1           Rupp, Galen   \n",
       "2          Osako, Suguru  \n",
       "3         Biwott, Shadrack\n",
       "4           Chebet, Wilson\n",
       "              ...         \n",
       "995           Larosa, Mark\n",
       "996    Williamson, Jerry A\n",
       "997        Mccue, Daniel T\n",
       "998           Larosa, John\n",
       "999         Sanchez, Sam R\n",
       "Name: Name, Length: 1000, dtype: object"
      ]
     },
     "execution_count": 51,
     "metadata": {},
     "output_type": "execute_result"
    }
   ],
   "source": [
    "bm.Name.str.lstrip()"
   ]
  },
  {
   "cell_type": "code",
   "execution_count": 52,
   "id": "02dcc8b8",
   "metadata": {},
   "outputs": [
    {
     "data": {
      "text/plain": [
       "' Kirui, Geoffrey '"
      ]
     },
     "execution_count": 52,
     "metadata": {},
     "output_type": "execute_result"
    }
   ],
   "source": [
    "bm.Name.iloc[0]"
   ]
  },
  {
   "cell_type": "code",
   "execution_count": 53,
   "id": "7eff5deb",
   "metadata": {},
   "outputs": [
    {
     "data": {
      "text/plain": [
       "0    Kirui, Geoffrey\n",
       "1        Rupp, Galen\n",
       "Name: Name, dtype: object"
      ]
     },
     "execution_count": 53,
     "metadata": {},
     "output_type": "execute_result"
    }
   ],
   "source": [
    "bm.Name.iloc[0:2].str.strip()"
   ]
  },
  {
   "cell_type": "code",
   "execution_count": 54,
   "id": "26621e9e",
   "metadata": {},
   "outputs": [
    {
     "data": {
      "text/plain": [
       "0     Kirui, Geoffrey \n",
       "1       Rupp, Galen   \n",
       "Name: Name, dtype: object"
      ]
     },
     "execution_count": 54,
     "metadata": {},
     "output_type": "execute_result"
    }
   ],
   "source": [
    "bm.Name.iloc[0:2]"
   ]
  },
  {
   "cell_type": "code",
   "execution_count": 55,
   "id": "d38f09ee",
   "metadata": {},
   "outputs": [],
   "source": [
    "bm.Name = bm.Name.str.strip()"
   ]
  },
  {
   "cell_type": "code",
   "execution_count": 56,
   "id": "651887df",
   "metadata": {},
   "outputs": [
    {
     "data": {
      "text/plain": [
       "'Kirui, Geoffrey'"
      ]
     },
     "execution_count": 56,
     "metadata": {},
     "output_type": "execute_result"
    }
   ],
   "source": [
    "bm.Name.iloc[0]"
   ]
  },
  {
   "cell_type": "markdown",
   "id": "66c98b14",
   "metadata": {},
   "source": [
    "### String Splitting and Concatenation"
   ]
  },
  {
   "cell_type": "code",
   "execution_count": 57,
   "id": "dd283b96",
   "metadata": {},
   "outputs": [
    {
     "data": {
      "text/plain": [
       "['welcome']"
      ]
     },
     "execution_count": 57,
     "metadata": {},
     "output_type": "execute_result"
    }
   ],
   "source": [
    "msg.split()"
   ]
  },
  {
   "cell_type": "code",
   "execution_count": 58,
   "id": "6672745e",
   "metadata": {},
   "outputs": [],
   "source": [
    "msg = 'hello from the other side'"
   ]
  },
  {
   "cell_type": "code",
   "execution_count": 59,
   "id": "736d416d",
   "metadata": {},
   "outputs": [
    {
     "data": {
      "text/plain": [
       "['hello', 'from', 'the', 'other', 'side']"
      ]
     },
     "execution_count": 59,
     "metadata": {},
     "output_type": "execute_result"
    }
   ],
   "source": [
    "msg.split()"
   ]
  },
  {
   "cell_type": "code",
   "execution_count": 60,
   "id": "0c7b2680",
   "metadata": {},
   "outputs": [
    {
     "data": {
      "text/plain": [
       "['hello', 'from', 'the', 'other', 'side']"
      ]
     },
     "execution_count": 60,
     "metadata": {},
     "output_type": "execute_result"
    }
   ],
   "source": [
    "msg.split(' ')"
   ]
  },
  {
   "cell_type": "code",
   "execution_count": 61,
   "id": "48df39e8",
   "metadata": {},
   "outputs": [],
   "source": [
    "spaced = 'hello \\t me \\n'"
   ]
  },
  {
   "cell_type": "code",
   "execution_count": 62,
   "id": "efb713ae",
   "metadata": {},
   "outputs": [
    {
     "data": {
      "text/plain": [
       "['hello', 'me']"
      ]
     },
     "execution_count": 62,
     "metadata": {},
     "output_type": "execute_result"
    }
   ],
   "source": [
    "spaced.split()"
   ]
  },
  {
   "cell_type": "code",
   "execution_count": 63,
   "id": "b089a7a3",
   "metadata": {},
   "outputs": [
    {
     "data": {
      "text/plain": [
       "['hello', '\\t', 'me', '\\n']"
      ]
     },
     "execution_count": 63,
     "metadata": {},
     "output_type": "execute_result"
    }
   ],
   "source": [
    "spaced.split(' ')"
   ]
  },
  {
   "cell_type": "code",
   "execution_count": 64,
   "id": "06aa236f",
   "metadata": {},
   "outputs": [],
   "source": [
    "msg  = 'hello, from thr, other side, hello  is'"
   ]
  },
  {
   "cell_type": "code",
   "execution_count": 65,
   "id": "b7d6e90f",
   "metadata": {},
   "outputs": [
    {
     "data": {
      "text/plain": [
       "['hello', ' from thr', ' other side', ' hello  is']"
      ]
     },
     "execution_count": 65,
     "metadata": {},
     "output_type": "execute_result"
    }
   ],
   "source": [
    "msg.split(',')"
   ]
  },
  {
   "cell_type": "code",
   "execution_count": 66,
   "id": "2fc4766b",
   "metadata": {},
   "outputs": [],
   "source": [
    "# the sting by which we are splitting is not included"
   ]
  },
  {
   "cell_type": "code",
   "execution_count": 67,
   "id": "b30d0dc8",
   "metadata": {},
   "outputs": [
    {
     "data": {
      "text/html": [
       "<div>\n",
       "<style scoped>\n",
       "    .dataframe tbody tr th:only-of-type {\n",
       "        vertical-align: middle;\n",
       "    }\n",
       "\n",
       "    .dataframe tbody tr th {\n",
       "        vertical-align: top;\n",
       "    }\n",
       "\n",
       "    .dataframe thead th {\n",
       "        text-align: right;\n",
       "    }\n",
       "</style>\n",
       "<table border=\"1\" class=\"dataframe\">\n",
       "  <thead>\n",
       "    <tr style=\"text-align: right;\">\n",
       "      <th></th>\n",
       "      <th>Name</th>\n",
       "      <th>Age</th>\n",
       "      <th>M/F</th>\n",
       "      <th>City</th>\n",
       "      <th>State</th>\n",
       "      <th>Country</th>\n",
       "      <th>Official Time</th>\n",
       "      <th>Overall</th>\n",
       "      <th>Gender</th>\n",
       "      <th>Years Ran</th>\n",
       "    </tr>\n",
       "  </thead>\n",
       "  <tbody>\n",
       "    <tr>\n",
       "      <th>0</th>\n",
       "      <td>Kirui, Geoffrey</td>\n",
       "      <td>24</td>\n",
       "      <td>M</td>\n",
       "      <td>Keringet</td>\n",
       "      <td>NaN</td>\n",
       "      <td>KEN</td>\n",
       "      <td>2:09:37</td>\n",
       "      <td>1</td>\n",
       "      <td>1</td>\n",
       "      <td>NaN</td>\n",
       "    </tr>\n",
       "    <tr>\n",
       "      <th>1</th>\n",
       "      <td>Rupp, Galen</td>\n",
       "      <td>30</td>\n",
       "      <td>M</td>\n",
       "      <td>Portland</td>\n",
       "      <td>OR</td>\n",
       "      <td>USA</td>\n",
       "      <td>2:09:58</td>\n",
       "      <td>2</td>\n",
       "      <td>2</td>\n",
       "      <td>NaN</td>\n",
       "    </tr>\n",
       "    <tr>\n",
       "      <th>2</th>\n",
       "      <td>Osako, Suguru</td>\n",
       "      <td>25</td>\n",
       "      <td>M</td>\n",
       "      <td>Machida-City</td>\n",
       "      <td>NaN</td>\n",
       "      <td>JPN</td>\n",
       "      <td>2:10:28</td>\n",
       "      <td>3</td>\n",
       "      <td>3</td>\n",
       "      <td>NaN</td>\n",
       "    </tr>\n",
       "    <tr>\n",
       "      <th>3</th>\n",
       "      <td>Biwott, Shadrack</td>\n",
       "      <td>32</td>\n",
       "      <td>M</td>\n",
       "      <td>Mammoth Lakes</td>\n",
       "      <td>CA</td>\n",
       "      <td>USA</td>\n",
       "      <td>2:12:08</td>\n",
       "      <td>4</td>\n",
       "      <td>4</td>\n",
       "      <td>NaN</td>\n",
       "    </tr>\n",
       "    <tr>\n",
       "      <th>4</th>\n",
       "      <td>Chebet, Wilson</td>\n",
       "      <td>31</td>\n",
       "      <td>M</td>\n",
       "      <td>Marakwet</td>\n",
       "      <td>NaN</td>\n",
       "      <td>KEN</td>\n",
       "      <td>2:12:35</td>\n",
       "      <td>5</td>\n",
       "      <td>5</td>\n",
       "      <td>2015</td>\n",
       "    </tr>\n",
       "  </tbody>\n",
       "</table>\n",
       "</div>"
      ],
      "text/plain": [
       "               Name  Age M/F           City State Country Official Time  \\\n",
       "0   Kirui, Geoffrey   24   M       Keringet   NaN     KEN       2:09:37   \n",
       "1       Rupp, Galen   30   M       Portland    OR     USA       2:09:58   \n",
       "2     Osako, Suguru   25   M   Machida-City   NaN     JPN       2:10:28   \n",
       "3  Biwott, Shadrack   32   M  Mammoth Lakes    CA     USA       2:12:08   \n",
       "4    Chebet, Wilson   31   M       Marakwet   NaN     KEN       2:12:35   \n",
       "\n",
       "   Overall  Gender Years Ran  \n",
       "0        1       1       NaN  \n",
       "1        2       2       NaN  \n",
       "2        3       3       NaN  \n",
       "3        4       4       NaN  \n",
       "4        5       5      2015  "
      ]
     },
     "execution_count": 67,
     "metadata": {},
     "output_type": "execute_result"
    }
   ],
   "source": [
    "bm.head()"
   ]
  },
  {
   "cell_type": "code",
   "execution_count": 68,
   "id": "aba392fd",
   "metadata": {},
   "outputs": [
    {
     "data": {
      "text/plain": [
       "0          [Kirui, Geoffrey]\n",
       "1              [Rupp, Galen]\n",
       "2            [Osako, Suguru]\n",
       "3         [Biwott, Shadrack]\n",
       "4           [Chebet, Wilson]\n",
       "               ...          \n",
       "995           [Larosa, Mark]\n",
       "996    [Williamson, Jerry A]\n",
       "997        [Mccue, Daniel T]\n",
       "998           [Larosa, John]\n",
       "999         [Sanchez, Sam R]\n",
       "Name: Name, Length: 1000, dtype: object"
      ]
     },
     "execution_count": 68,
     "metadata": {},
     "output_type": "execute_result"
    }
   ],
   "source": [
    "bm.Name.str.split(', ')"
   ]
  },
  {
   "cell_type": "code",
   "execution_count": 69,
   "id": "2916b8f2",
   "metadata": {},
   "outputs": [],
   "source": [
    "bm['First Name'] = bm.Name.str.split(', ').str.get(0)"
   ]
  },
  {
   "cell_type": "code",
   "execution_count": 70,
   "id": "8d7752ef",
   "metadata": {},
   "outputs": [],
   "source": [
    "bm['Last Name'] = bm.Name.str.split(', ').str.get(1)"
   ]
  },
  {
   "cell_type": "code",
   "execution_count": 71,
   "id": "52ef9934",
   "metadata": {},
   "outputs": [
    {
     "data": {
      "text/html": [
       "<div>\n",
       "<style scoped>\n",
       "    .dataframe tbody tr th:only-of-type {\n",
       "        vertical-align: middle;\n",
       "    }\n",
       "\n",
       "    .dataframe tbody tr th {\n",
       "        vertical-align: top;\n",
       "    }\n",
       "\n",
       "    .dataframe thead th {\n",
       "        text-align: right;\n",
       "    }\n",
       "</style>\n",
       "<table border=\"1\" class=\"dataframe\">\n",
       "  <thead>\n",
       "    <tr style=\"text-align: right;\">\n",
       "      <th></th>\n",
       "      <th>Name</th>\n",
       "      <th>Age</th>\n",
       "      <th>M/F</th>\n",
       "      <th>City</th>\n",
       "      <th>State</th>\n",
       "      <th>Country</th>\n",
       "      <th>Official Time</th>\n",
       "      <th>Overall</th>\n",
       "      <th>Gender</th>\n",
       "      <th>Years Ran</th>\n",
       "      <th>First Name</th>\n",
       "      <th>Last Name</th>\n",
       "    </tr>\n",
       "  </thead>\n",
       "  <tbody>\n",
       "    <tr>\n",
       "      <th>0</th>\n",
       "      <td>Kirui, Geoffrey</td>\n",
       "      <td>24</td>\n",
       "      <td>M</td>\n",
       "      <td>Keringet</td>\n",
       "      <td>NaN</td>\n",
       "      <td>KEN</td>\n",
       "      <td>2:09:37</td>\n",
       "      <td>1</td>\n",
       "      <td>1</td>\n",
       "      <td>NaN</td>\n",
       "      <td>Kirui</td>\n",
       "      <td>Geoffrey</td>\n",
       "    </tr>\n",
       "    <tr>\n",
       "      <th>1</th>\n",
       "      <td>Rupp, Galen</td>\n",
       "      <td>30</td>\n",
       "      <td>M</td>\n",
       "      <td>Portland</td>\n",
       "      <td>OR</td>\n",
       "      <td>USA</td>\n",
       "      <td>2:09:58</td>\n",
       "      <td>2</td>\n",
       "      <td>2</td>\n",
       "      <td>NaN</td>\n",
       "      <td>Rupp</td>\n",
       "      <td>Galen</td>\n",
       "    </tr>\n",
       "    <tr>\n",
       "      <th>2</th>\n",
       "      <td>Osako, Suguru</td>\n",
       "      <td>25</td>\n",
       "      <td>M</td>\n",
       "      <td>Machida-City</td>\n",
       "      <td>NaN</td>\n",
       "      <td>JPN</td>\n",
       "      <td>2:10:28</td>\n",
       "      <td>3</td>\n",
       "      <td>3</td>\n",
       "      <td>NaN</td>\n",
       "      <td>Osako</td>\n",
       "      <td>Suguru</td>\n",
       "    </tr>\n",
       "    <tr>\n",
       "      <th>3</th>\n",
       "      <td>Biwott, Shadrack</td>\n",
       "      <td>32</td>\n",
       "      <td>M</td>\n",
       "      <td>Mammoth Lakes</td>\n",
       "      <td>CA</td>\n",
       "      <td>USA</td>\n",
       "      <td>2:12:08</td>\n",
       "      <td>4</td>\n",
       "      <td>4</td>\n",
       "      <td>NaN</td>\n",
       "      <td>Biwott</td>\n",
       "      <td>Shadrack</td>\n",
       "    </tr>\n",
       "    <tr>\n",
       "      <th>4</th>\n",
       "      <td>Chebet, Wilson</td>\n",
       "      <td>31</td>\n",
       "      <td>M</td>\n",
       "      <td>Marakwet</td>\n",
       "      <td>NaN</td>\n",
       "      <td>KEN</td>\n",
       "      <td>2:12:35</td>\n",
       "      <td>5</td>\n",
       "      <td>5</td>\n",
       "      <td>2015</td>\n",
       "      <td>Chebet</td>\n",
       "      <td>Wilson</td>\n",
       "    </tr>\n",
       "  </tbody>\n",
       "</table>\n",
       "</div>"
      ],
      "text/plain": [
       "               Name  Age M/F           City State Country Official Time  \\\n",
       "0   Kirui, Geoffrey   24   M       Keringet   NaN     KEN       2:09:37   \n",
       "1       Rupp, Galen   30   M       Portland    OR     USA       2:09:58   \n",
       "2     Osako, Suguru   25   M   Machida-City   NaN     JPN       2:10:28   \n",
       "3  Biwott, Shadrack   32   M  Mammoth Lakes    CA     USA       2:12:08   \n",
       "4    Chebet, Wilson   31   M       Marakwet   NaN     KEN       2:12:35   \n",
       "\n",
       "   Overall  Gender Years Ran First Name Last Name  \n",
       "0        1       1       NaN      Kirui  Geoffrey  \n",
       "1        2       2       NaN       Rupp     Galen  \n",
       "2        3       3       NaN      Osako    Suguru  \n",
       "3        4       4       NaN     Biwott  Shadrack  \n",
       "4        5       5      2015     Chebet    Wilson  "
      ]
     },
     "execution_count": 71,
     "metadata": {},
     "output_type": "execute_result"
    }
   ],
   "source": [
    "bm.head()"
   ]
  },
  {
   "cell_type": "code",
   "execution_count": 72,
   "id": "192c738f",
   "metadata": {},
   "outputs": [
    {
     "data": {
      "text/plain": [
       "0          Kirui Geoffrey\n",
       "1              Rupp Galen\n",
       "2            Osako Suguru\n",
       "3         Biwott Shadrack\n",
       "4           Chebet Wilson\n",
       "              ...        \n",
       "995           Larosa Mark\n",
       "996    Williamson Jerry A\n",
       "997        Mccue Daniel T\n",
       "998           Larosa John\n",
       "999         Sanchez Sam R\n",
       "Length: 1000, dtype: object"
      ]
     },
     "execution_count": 72,
     "metadata": {},
     "output_type": "execute_result"
    }
   ],
   "source": [
    "bm['First Name']+ ' '+bm['Last Name']"
   ]
  },
  {
   "cell_type": "code",
   "execution_count": 73,
   "id": "7faa4186",
   "metadata": {},
   "outputs": [
    {
     "data": {
      "text/plain": [
       "0      M_24\n",
       "1      M_30\n",
       "2      M_25\n",
       "3      M_32\n",
       "4      M_31\n",
       "       ... \n",
       "995    M_38\n",
       "996    M_43\n",
       "997    M_40\n",
       "998    M_35\n",
       "999    M_35\n",
       "Name: M/F, Length: 1000, dtype: object"
      ]
     },
     "execution_count": 73,
     "metadata": {},
     "output_type": "execute_result"
    }
   ],
   "source": [
    "bm['M/F'].str.cat(bm.Age.astype(str), sep='_')"
   ]
  },
  {
   "cell_type": "markdown",
   "id": "bcb821f4",
   "metadata": {},
   "source": [
    "### More Split Parameters"
   ]
  },
  {
   "cell_type": "code",
   "execution_count": 74,
   "id": "d143a097",
   "metadata": {},
   "outputs": [],
   "source": [
    "bm.drop(['First Name','Last Name'], axis=1, inplace=True)"
   ]
  },
  {
   "cell_type": "code",
   "execution_count": 75,
   "id": "6d9295f9",
   "metadata": {},
   "outputs": [
    {
     "data": {
      "text/html": [
       "<div>\n",
       "<style scoped>\n",
       "    .dataframe tbody tr th:only-of-type {\n",
       "        vertical-align: middle;\n",
       "    }\n",
       "\n",
       "    .dataframe tbody tr th {\n",
       "        vertical-align: top;\n",
       "    }\n",
       "\n",
       "    .dataframe thead th {\n",
       "        text-align: right;\n",
       "    }\n",
       "</style>\n",
       "<table border=\"1\" class=\"dataframe\">\n",
       "  <thead>\n",
       "    <tr style=\"text-align: right;\">\n",
       "      <th></th>\n",
       "      <th>Name</th>\n",
       "      <th>Age</th>\n",
       "      <th>M/F</th>\n",
       "      <th>City</th>\n",
       "      <th>State</th>\n",
       "      <th>Country</th>\n",
       "      <th>Official Time</th>\n",
       "      <th>Overall</th>\n",
       "      <th>Gender</th>\n",
       "      <th>Years Ran</th>\n",
       "    </tr>\n",
       "  </thead>\n",
       "  <tbody>\n",
       "    <tr>\n",
       "      <th>0</th>\n",
       "      <td>Kirui, Geoffrey</td>\n",
       "      <td>24</td>\n",
       "      <td>M</td>\n",
       "      <td>Keringet</td>\n",
       "      <td>NaN</td>\n",
       "      <td>KEN</td>\n",
       "      <td>2:09:37</td>\n",
       "      <td>1</td>\n",
       "      <td>1</td>\n",
       "      <td>NaN</td>\n",
       "    </tr>\n",
       "    <tr>\n",
       "      <th>1</th>\n",
       "      <td>Rupp, Galen</td>\n",
       "      <td>30</td>\n",
       "      <td>M</td>\n",
       "      <td>Portland</td>\n",
       "      <td>OR</td>\n",
       "      <td>USA</td>\n",
       "      <td>2:09:58</td>\n",
       "      <td>2</td>\n",
       "      <td>2</td>\n",
       "      <td>NaN</td>\n",
       "    </tr>\n",
       "    <tr>\n",
       "      <th>2</th>\n",
       "      <td>Osako, Suguru</td>\n",
       "      <td>25</td>\n",
       "      <td>M</td>\n",
       "      <td>Machida-City</td>\n",
       "      <td>NaN</td>\n",
       "      <td>JPN</td>\n",
       "      <td>2:10:28</td>\n",
       "      <td>3</td>\n",
       "      <td>3</td>\n",
       "      <td>NaN</td>\n",
       "    </tr>\n",
       "    <tr>\n",
       "      <th>3</th>\n",
       "      <td>Biwott, Shadrack</td>\n",
       "      <td>32</td>\n",
       "      <td>M</td>\n",
       "      <td>Mammoth Lakes</td>\n",
       "      <td>CA</td>\n",
       "      <td>USA</td>\n",
       "      <td>2:12:08</td>\n",
       "      <td>4</td>\n",
       "      <td>4</td>\n",
       "      <td>NaN</td>\n",
       "    </tr>\n",
       "    <tr>\n",
       "      <th>4</th>\n",
       "      <td>Chebet, Wilson</td>\n",
       "      <td>31</td>\n",
       "      <td>M</td>\n",
       "      <td>Marakwet</td>\n",
       "      <td>NaN</td>\n",
       "      <td>KEN</td>\n",
       "      <td>2:12:35</td>\n",
       "      <td>5</td>\n",
       "      <td>5</td>\n",
       "      <td>2015</td>\n",
       "    </tr>\n",
       "  </tbody>\n",
       "</table>\n",
       "</div>"
      ],
      "text/plain": [
       "               Name  Age M/F           City State Country Official Time  \\\n",
       "0   Kirui, Geoffrey   24   M       Keringet   NaN     KEN       2:09:37   \n",
       "1       Rupp, Galen   30   M       Portland    OR     USA       2:09:58   \n",
       "2     Osako, Suguru   25   M   Machida-City   NaN     JPN       2:10:28   \n",
       "3  Biwott, Shadrack   32   M  Mammoth Lakes    CA     USA       2:12:08   \n",
       "4    Chebet, Wilson   31   M       Marakwet   NaN     KEN       2:12:35   \n",
       "\n",
       "   Overall  Gender Years Ran  \n",
       "0        1       1       NaN  \n",
       "1        2       2       NaN  \n",
       "2        3       3       NaN  \n",
       "3        4       4       NaN  \n",
       "4        5       5      2015  "
      ]
     },
     "execution_count": 75,
     "metadata": {},
     "output_type": "execute_result"
    }
   ],
   "source": [
    "bm.head()"
   ]
  },
  {
   "cell_type": "code",
   "execution_count": 76,
   "id": "c890211c",
   "metadata": {},
   "outputs": [],
   "source": [
    "# the expand Method"
   ]
  },
  {
   "cell_type": "code",
   "execution_count": 77,
   "id": "bfd6239f",
   "metadata": {},
   "outputs": [
    {
     "data": {
      "text/html": [
       "<div>\n",
       "<style scoped>\n",
       "    .dataframe tbody tr th:only-of-type {\n",
       "        vertical-align: middle;\n",
       "    }\n",
       "\n",
       "    .dataframe tbody tr th {\n",
       "        vertical-align: top;\n",
       "    }\n",
       "\n",
       "    .dataframe thead th {\n",
       "        text-align: right;\n",
       "    }\n",
       "</style>\n",
       "<table border=\"1\" class=\"dataframe\">\n",
       "  <thead>\n",
       "    <tr style=\"text-align: right;\">\n",
       "      <th></th>\n",
       "      <th>0</th>\n",
       "      <th>1</th>\n",
       "    </tr>\n",
       "  </thead>\n",
       "  <tbody>\n",
       "    <tr>\n",
       "      <th>0</th>\n",
       "      <td>Kirui</td>\n",
       "      <td>Geoffrey</td>\n",
       "    </tr>\n",
       "    <tr>\n",
       "      <th>1</th>\n",
       "      <td>Rupp</td>\n",
       "      <td>Galen</td>\n",
       "    </tr>\n",
       "    <tr>\n",
       "      <th>2</th>\n",
       "      <td>Osako</td>\n",
       "      <td>Suguru</td>\n",
       "    </tr>\n",
       "    <tr>\n",
       "      <th>3</th>\n",
       "      <td>Biwott</td>\n",
       "      <td>Shadrack</td>\n",
       "    </tr>\n",
       "    <tr>\n",
       "      <th>4</th>\n",
       "      <td>Chebet</td>\n",
       "      <td>Wilson</td>\n",
       "    </tr>\n",
       "    <tr>\n",
       "      <th>...</th>\n",
       "      <td>...</td>\n",
       "      <td>...</td>\n",
       "    </tr>\n",
       "    <tr>\n",
       "      <th>995</th>\n",
       "      <td>Larosa</td>\n",
       "      <td>Mark</td>\n",
       "    </tr>\n",
       "    <tr>\n",
       "      <th>996</th>\n",
       "      <td>Williamson</td>\n",
       "      <td>Jerry A</td>\n",
       "    </tr>\n",
       "    <tr>\n",
       "      <th>997</th>\n",
       "      <td>Mccue</td>\n",
       "      <td>Daniel T</td>\n",
       "    </tr>\n",
       "    <tr>\n",
       "      <th>998</th>\n",
       "      <td>Larosa</td>\n",
       "      <td>John</td>\n",
       "    </tr>\n",
       "    <tr>\n",
       "      <th>999</th>\n",
       "      <td>Sanchez</td>\n",
       "      <td>Sam R</td>\n",
       "    </tr>\n",
       "  </tbody>\n",
       "</table>\n",
       "<p>1000 rows × 2 columns</p>\n",
       "</div>"
      ],
      "text/plain": [
       "              0         1\n",
       "0         Kirui  Geoffrey\n",
       "1          Rupp     Galen\n",
       "2         Osako    Suguru\n",
       "3        Biwott  Shadrack\n",
       "4        Chebet    Wilson\n",
       "..          ...       ...\n",
       "995      Larosa      Mark\n",
       "996  Williamson   Jerry A\n",
       "997       Mccue  Daniel T\n",
       "998      Larosa      John\n",
       "999     Sanchez     Sam R\n",
       "\n",
       "[1000 rows x 2 columns]"
      ]
     },
     "execution_count": 77,
     "metadata": {},
     "output_type": "execute_result"
    }
   ],
   "source": [
    "bm.Name.str.split(', ', expand=True)"
   ]
  },
  {
   "cell_type": "code",
   "execution_count": 78,
   "id": "cc72b8a6",
   "metadata": {},
   "outputs": [
    {
     "data": {
      "text/html": [
       "<div>\n",
       "<style scoped>\n",
       "    .dataframe tbody tr th:only-of-type {\n",
       "        vertical-align: middle;\n",
       "    }\n",
       "\n",
       "    .dataframe tbody tr th {\n",
       "        vertical-align: top;\n",
       "    }\n",
       "\n",
       "    .dataframe thead th {\n",
       "        text-align: right;\n",
       "    }\n",
       "</style>\n",
       "<table border=\"1\" class=\"dataframe\">\n",
       "  <thead>\n",
       "    <tr style=\"text-align: right;\">\n",
       "      <th></th>\n",
       "      <th>0</th>\n",
       "      <th>1</th>\n",
       "      <th>2</th>\n",
       "      <th>3</th>\n",
       "      <th>4</th>\n",
       "    </tr>\n",
       "  </thead>\n",
       "  <tbody>\n",
       "    <tr>\n",
       "      <th>0</th>\n",
       "      <td>Kirui,</td>\n",
       "      <td>Geoffrey</td>\n",
       "      <td>None</td>\n",
       "      <td>None</td>\n",
       "      <td>None</td>\n",
       "    </tr>\n",
       "    <tr>\n",
       "      <th>1</th>\n",
       "      <td>Rupp,</td>\n",
       "      <td>Galen</td>\n",
       "      <td>None</td>\n",
       "      <td>None</td>\n",
       "      <td>None</td>\n",
       "    </tr>\n",
       "    <tr>\n",
       "      <th>2</th>\n",
       "      <td>Osako,</td>\n",
       "      <td>Suguru</td>\n",
       "      <td>None</td>\n",
       "      <td>None</td>\n",
       "      <td>None</td>\n",
       "    </tr>\n",
       "    <tr>\n",
       "      <th>3</th>\n",
       "      <td>Biwott,</td>\n",
       "      <td>Shadrack</td>\n",
       "      <td>None</td>\n",
       "      <td>None</td>\n",
       "      <td>None</td>\n",
       "    </tr>\n",
       "    <tr>\n",
       "      <th>4</th>\n",
       "      <td>Chebet,</td>\n",
       "      <td>Wilson</td>\n",
       "      <td>None</td>\n",
       "      <td>None</td>\n",
       "      <td>None</td>\n",
       "    </tr>\n",
       "    <tr>\n",
       "      <th>...</th>\n",
       "      <td>...</td>\n",
       "      <td>...</td>\n",
       "      <td>...</td>\n",
       "      <td>...</td>\n",
       "      <td>...</td>\n",
       "    </tr>\n",
       "    <tr>\n",
       "      <th>995</th>\n",
       "      <td>Larosa,</td>\n",
       "      <td>Mark</td>\n",
       "      <td>None</td>\n",
       "      <td>None</td>\n",
       "      <td>None</td>\n",
       "    </tr>\n",
       "    <tr>\n",
       "      <th>996</th>\n",
       "      <td>Williamson,</td>\n",
       "      <td>Jerry</td>\n",
       "      <td>A</td>\n",
       "      <td>None</td>\n",
       "      <td>None</td>\n",
       "    </tr>\n",
       "    <tr>\n",
       "      <th>997</th>\n",
       "      <td>Mccue,</td>\n",
       "      <td>Daniel</td>\n",
       "      <td>T</td>\n",
       "      <td>None</td>\n",
       "      <td>None</td>\n",
       "    </tr>\n",
       "    <tr>\n",
       "      <th>998</th>\n",
       "      <td>Larosa,</td>\n",
       "      <td>John</td>\n",
       "      <td>None</td>\n",
       "      <td>None</td>\n",
       "      <td>None</td>\n",
       "    </tr>\n",
       "    <tr>\n",
       "      <th>999</th>\n",
       "      <td>Sanchez,</td>\n",
       "      <td>Sam</td>\n",
       "      <td>R</td>\n",
       "      <td>None</td>\n",
       "      <td>None</td>\n",
       "    </tr>\n",
       "  </tbody>\n",
       "</table>\n",
       "<p>1000 rows × 5 columns</p>\n",
       "</div>"
      ],
      "text/plain": [
       "               0         1     2     3     4\n",
       "0         Kirui,  Geoffrey  None  None  None\n",
       "1          Rupp,     Galen  None  None  None\n",
       "2         Osako,    Suguru  None  None  None\n",
       "3        Biwott,  Shadrack  None  None  None\n",
       "4        Chebet,    Wilson  None  None  None\n",
       "..           ...       ...   ...   ...   ...\n",
       "995      Larosa,      Mark  None  None  None\n",
       "996  Williamson,     Jerry     A  None  None\n",
       "997       Mccue,    Daniel     T  None  None\n",
       "998      Larosa,      John  None  None  None\n",
       "999     Sanchez,       Sam     R  None  None\n",
       "\n",
       "[1000 rows x 5 columns]"
      ]
     },
     "execution_count": 78,
     "metadata": {},
     "output_type": "execute_result"
    }
   ],
   "source": [
    "bm.Name.str.split( expand=True)"
   ]
  },
  {
   "cell_type": "code",
   "execution_count": 79,
   "id": "70be0508",
   "metadata": {},
   "outputs": [
    {
     "data": {
      "text/plain": [
       "0      2\n",
       "1      2\n",
       "2      2\n",
       "3      2\n",
       "4      2\n",
       "      ..\n",
       "995    2\n",
       "996    3\n",
       "997    3\n",
       "998    2\n",
       "999    3\n",
       "Length: 1000, dtype: int64"
      ]
     },
     "execution_count": 79,
     "metadata": {},
     "output_type": "execute_result"
    }
   ],
   "source": [
    "bm.Name.str.split(expand=True).count(axis=1)"
   ]
  },
  {
   "cell_type": "code",
   "execution_count": 80,
   "id": "3e059d14",
   "metadata": {},
   "outputs": [
    {
     "data": {
      "text/plain": [
       "203"
      ]
     },
     "execution_count": 80,
     "metadata": {},
     "output_type": "execute_result"
    }
   ],
   "source": [
    "bm.Name.str.split(expand=True).count(axis=1).idxmax()"
   ]
  },
  {
   "cell_type": "code",
   "execution_count": 81,
   "id": "1ea16699",
   "metadata": {},
   "outputs": [
    {
     "data": {
      "text/plain": [
       "Name             Cifuentes Fetiva, Miguel Angel Sr.\n",
       "Age                                              38\n",
       "M/F                                               M\n",
       "City                                         Bogota\n",
       "State                                           NaN\n",
       "Country                                         COL\n",
       "Official Time                               2:40:46\n",
       "Overall                                         204\n",
       "Gender                                          182\n",
       "Years Ran                                      2015\n",
       "Name: 203, dtype: object"
      ]
     },
     "execution_count": 81,
     "metadata": {},
     "output_type": "execute_result"
    }
   ],
   "source": [
    "bm.iloc[203]"
   ]
  },
  {
   "cell_type": "code",
   "execution_count": 82,
   "id": "bd652e25",
   "metadata": {},
   "outputs": [
    {
     "data": {
      "text/plain": [
       "0      False\n",
       "1      False\n",
       "2      False\n",
       "3      False\n",
       "4      False\n",
       "       ...  \n",
       "995    False\n",
       "996    False\n",
       "997    False\n",
       "998    False\n",
       "999    False\n",
       "Length: 1000, dtype: bool"
      ]
     },
     "execution_count": 82,
     "metadata": {},
     "output_type": "execute_result"
    }
   ],
   "source": [
    "bm.Name.str.split(expand=True).count(axis=1)==5"
   ]
  },
  {
   "cell_type": "code",
   "execution_count": 83,
   "id": "c9c1fb6c",
   "metadata": {},
   "outputs": [
    {
     "data": {
      "text/html": [
       "<div>\n",
       "<style scoped>\n",
       "    .dataframe tbody tr th:only-of-type {\n",
       "        vertical-align: middle;\n",
       "    }\n",
       "\n",
       "    .dataframe tbody tr th {\n",
       "        vertical-align: top;\n",
       "    }\n",
       "\n",
       "    .dataframe thead th {\n",
       "        text-align: right;\n",
       "    }\n",
       "</style>\n",
       "<table border=\"1\" class=\"dataframe\">\n",
       "  <thead>\n",
       "    <tr style=\"text-align: right;\">\n",
       "      <th></th>\n",
       "      <th>Name</th>\n",
       "      <th>Age</th>\n",
       "      <th>M/F</th>\n",
       "      <th>City</th>\n",
       "      <th>State</th>\n",
       "      <th>Country</th>\n",
       "      <th>Official Time</th>\n",
       "      <th>Overall</th>\n",
       "      <th>Gender</th>\n",
       "      <th>Years Ran</th>\n",
       "    </tr>\n",
       "  </thead>\n",
       "  <tbody>\n",
       "    <tr>\n",
       "      <th>203</th>\n",
       "      <td>Cifuentes Fetiva, Miguel Angel Sr.</td>\n",
       "      <td>38</td>\n",
       "      <td>M</td>\n",
       "      <td>Bogota</td>\n",
       "      <td>NaN</td>\n",
       "      <td>COL</td>\n",
       "      <td>2:40:46</td>\n",
       "      <td>204</td>\n",
       "      <td>182</td>\n",
       "      <td>2015</td>\n",
       "    </tr>\n",
       "    <tr>\n",
       "      <th>467</th>\n",
       "      <td>Martinez Solano, Juan Manuel Jr.</td>\n",
       "      <td>28</td>\n",
       "      <td>M</td>\n",
       "      <td>Bogota</td>\n",
       "      <td>NaN</td>\n",
       "      <td>COL</td>\n",
       "      <td>2:47:51</td>\n",
       "      <td>468</td>\n",
       "      <td>435</td>\n",
       "      <td>NaN</td>\n",
       "    </tr>\n",
       "    <tr>\n",
       "      <th>678</th>\n",
       "      <td>Melendez, Carlos Manuel M. Sr.</td>\n",
       "      <td>38</td>\n",
       "      <td>M</td>\n",
       "      <td>Quesada, San Carlos</td>\n",
       "      <td>NaN</td>\n",
       "      <td>CRC</td>\n",
       "      <td>2:51:45</td>\n",
       "      <td>679</td>\n",
       "      <td>639</td>\n",
       "      <td>NaN</td>\n",
       "    </tr>\n",
       "    <tr>\n",
       "      <th>733</th>\n",
       "      <td>Castano Gonzalez, Angel U. Sr.</td>\n",
       "      <td>41</td>\n",
       "      <td>M</td>\n",
       "      <td>Medellin</td>\n",
       "      <td>NaN</td>\n",
       "      <td>COL</td>\n",
       "      <td>2:52:35</td>\n",
       "      <td>734</td>\n",
       "      <td>691</td>\n",
       "      <td>NaN</td>\n",
       "    </tr>\n",
       "  </tbody>\n",
       "</table>\n",
       "</div>"
      ],
      "text/plain": [
       "                                   Name  Age M/F                 City State  \\\n",
       "203  Cifuentes Fetiva, Miguel Angel Sr.   38   M               Bogota   NaN   \n",
       "467    Martinez Solano, Juan Manuel Jr.   28   M               Bogota   NaN   \n",
       "678      Melendez, Carlos Manuel M. Sr.   38   M  Quesada, San Carlos   NaN   \n",
       "733      Castano Gonzalez, Angel U. Sr.   41   M             Medellin   NaN   \n",
       "\n",
       "    Country Official Time  Overall  Gender Years Ran  \n",
       "203     COL       2:40:46      204     182      2015  \n",
       "467     COL       2:47:51      468     435       NaN  \n",
       "678     CRC       2:51:45      679     639       NaN  \n",
       "733     COL       2:52:35      734     691       NaN  "
      ]
     },
     "execution_count": 83,
     "metadata": {},
     "output_type": "execute_result"
    }
   ],
   "source": [
    "bm[bm.Name.str.split(expand=True).count(axis=1)==5]"
   ]
  },
  {
   "cell_type": "code",
   "execution_count": 84,
   "id": "55b1cc4e",
   "metadata": {},
   "outputs": [
    {
     "data": {
      "text/html": [
       "<div>\n",
       "<style scoped>\n",
       "    .dataframe tbody tr th:only-of-type {\n",
       "        vertical-align: middle;\n",
       "    }\n",
       "\n",
       "    .dataframe tbody tr th {\n",
       "        vertical-align: top;\n",
       "    }\n",
       "\n",
       "    .dataframe thead th {\n",
       "        text-align: right;\n",
       "    }\n",
       "</style>\n",
       "<table border=\"1\" class=\"dataframe\">\n",
       "  <thead>\n",
       "    <tr style=\"text-align: right;\">\n",
       "      <th></th>\n",
       "      <th>0</th>\n",
       "      <th>1</th>\n",
       "    </tr>\n",
       "  </thead>\n",
       "  <tbody>\n",
       "    <tr>\n",
       "      <th>0</th>\n",
       "      <td>Kirui,</td>\n",
       "      <td>Geoffrey</td>\n",
       "    </tr>\n",
       "    <tr>\n",
       "      <th>1</th>\n",
       "      <td>Rupp,</td>\n",
       "      <td>Galen</td>\n",
       "    </tr>\n",
       "    <tr>\n",
       "      <th>2</th>\n",
       "      <td>Osako,</td>\n",
       "      <td>Suguru</td>\n",
       "    </tr>\n",
       "    <tr>\n",
       "      <th>3</th>\n",
       "      <td>Biwott,</td>\n",
       "      <td>Shadrack</td>\n",
       "    </tr>\n",
       "    <tr>\n",
       "      <th>4</th>\n",
       "      <td>Chebet,</td>\n",
       "      <td>Wilson</td>\n",
       "    </tr>\n",
       "    <tr>\n",
       "      <th>...</th>\n",
       "      <td>...</td>\n",
       "      <td>...</td>\n",
       "    </tr>\n",
       "    <tr>\n",
       "      <th>995</th>\n",
       "      <td>Larosa,</td>\n",
       "      <td>Mark</td>\n",
       "    </tr>\n",
       "    <tr>\n",
       "      <th>996</th>\n",
       "      <td>Williamson,</td>\n",
       "      <td>Jerry A</td>\n",
       "    </tr>\n",
       "    <tr>\n",
       "      <th>997</th>\n",
       "      <td>Mccue,</td>\n",
       "      <td>Daniel T</td>\n",
       "    </tr>\n",
       "    <tr>\n",
       "      <th>998</th>\n",
       "      <td>Larosa,</td>\n",
       "      <td>John</td>\n",
       "    </tr>\n",
       "    <tr>\n",
       "      <th>999</th>\n",
       "      <td>Sanchez,</td>\n",
       "      <td>Sam R</td>\n",
       "    </tr>\n",
       "  </tbody>\n",
       "</table>\n",
       "<p>1000 rows × 2 columns</p>\n",
       "</div>"
      ],
      "text/plain": [
       "               0         1\n",
       "0         Kirui,  Geoffrey\n",
       "1          Rupp,     Galen\n",
       "2         Osako,    Suguru\n",
       "3        Biwott,  Shadrack\n",
       "4        Chebet,    Wilson\n",
       "..           ...       ...\n",
       "995      Larosa,      Mark\n",
       "996  Williamson,   Jerry A\n",
       "997       Mccue,  Daniel T\n",
       "998      Larosa,      John\n",
       "999     Sanchez,     Sam R\n",
       "\n",
       "[1000 rows x 2 columns]"
      ]
     },
     "execution_count": 84,
     "metadata": {},
     "output_type": "execute_result"
    }
   ],
   "source": [
    "bm.Name.str.split(expand=True, n=1)"
   ]
  },
  {
   "cell_type": "code",
   "execution_count": 85,
   "id": "85412764",
   "metadata": {},
   "outputs": [
    {
     "data": {
      "text/html": [
       "<div>\n",
       "<style scoped>\n",
       "    .dataframe tbody tr th:only-of-type {\n",
       "        vertical-align: middle;\n",
       "    }\n",
       "\n",
       "    .dataframe tbody tr th {\n",
       "        vertical-align: top;\n",
       "    }\n",
       "\n",
       "    .dataframe thead th {\n",
       "        text-align: right;\n",
       "    }\n",
       "</style>\n",
       "<table border=\"1\" class=\"dataframe\">\n",
       "  <thead>\n",
       "    <tr style=\"text-align: right;\">\n",
       "      <th></th>\n",
       "      <th>0</th>\n",
       "      <th>1</th>\n",
       "    </tr>\n",
       "  </thead>\n",
       "  <tbody>\n",
       "    <tr>\n",
       "      <th>0</th>\n",
       "      <td>Kirui</td>\n",
       "      <td>Geoffrey</td>\n",
       "    </tr>\n",
       "    <tr>\n",
       "      <th>1</th>\n",
       "      <td>Rupp</td>\n",
       "      <td>Galen</td>\n",
       "    </tr>\n",
       "    <tr>\n",
       "      <th>2</th>\n",
       "      <td>Osako</td>\n",
       "      <td>Suguru</td>\n",
       "    </tr>\n",
       "    <tr>\n",
       "      <th>3</th>\n",
       "      <td>Biwott</td>\n",
       "      <td>Shadrack</td>\n",
       "    </tr>\n",
       "    <tr>\n",
       "      <th>4</th>\n",
       "      <td>Chebet</td>\n",
       "      <td>Wilson</td>\n",
       "    </tr>\n",
       "    <tr>\n",
       "      <th>...</th>\n",
       "      <td>...</td>\n",
       "      <td>...</td>\n",
       "    </tr>\n",
       "    <tr>\n",
       "      <th>995</th>\n",
       "      <td>Larosa</td>\n",
       "      <td>Mark</td>\n",
       "    </tr>\n",
       "    <tr>\n",
       "      <th>996</th>\n",
       "      <td>Williamson</td>\n",
       "      <td>Jerry A</td>\n",
       "    </tr>\n",
       "    <tr>\n",
       "      <th>997</th>\n",
       "      <td>Mccue</td>\n",
       "      <td>Daniel T</td>\n",
       "    </tr>\n",
       "    <tr>\n",
       "      <th>998</th>\n",
       "      <td>Larosa</td>\n",
       "      <td>John</td>\n",
       "    </tr>\n",
       "    <tr>\n",
       "      <th>999</th>\n",
       "      <td>Sanchez</td>\n",
       "      <td>Sam R</td>\n",
       "    </tr>\n",
       "  </tbody>\n",
       "</table>\n",
       "<p>1000 rows × 2 columns</p>\n",
       "</div>"
      ],
      "text/plain": [
       "              0         1\n",
       "0         Kirui  Geoffrey\n",
       "1          Rupp     Galen\n",
       "2         Osako    Suguru\n",
       "3        Biwott  Shadrack\n",
       "4        Chebet    Wilson\n",
       "..          ...       ...\n",
       "995      Larosa      Mark\n",
       "996  Williamson   Jerry A\n",
       "997       Mccue  Daniel T\n",
       "998      Larosa      John\n",
       "999     Sanchez     Sam R\n",
       "\n",
       "[1000 rows x 2 columns]"
      ]
     },
     "execution_count": 85,
     "metadata": {},
     "output_type": "execute_result"
    }
   ],
   "source": [
    "bm.Name.str.split(', ',expand=True, n=1)"
   ]
  },
  {
   "cell_type": "code",
   "execution_count": 86,
   "id": "4468dbb8",
   "metadata": {},
   "outputs": [
    {
     "data": {
      "text/plain": [
       "0          [Kirui, Geoffrey]\n",
       "1              [Rupp, Galen]\n",
       "2            [Osako, Suguru]\n",
       "3         [Biwott, Shadrack]\n",
       "4           [Chebet, Wilson]\n",
       "               ...          \n",
       "995           [Larosa, Mark]\n",
       "996    [Williamson, Jerry A]\n",
       "997        [Mccue, Daniel T]\n",
       "998           [Larosa, John]\n",
       "999         [Sanchez, Sam R]\n",
       "Name: Name, Length: 1000, dtype: object"
      ]
     },
     "execution_count": 86,
     "metadata": {},
     "output_type": "execute_result"
    }
   ],
   "source": [
    "bm.Name.str.split(', ', n=1)"
   ]
  },
  {
   "cell_type": "code",
   "execution_count": 87,
   "id": "1f282f50",
   "metadata": {},
   "outputs": [],
   "source": [
    "bm[['First Name','Last Name']] = bm.Name.str.split(', ',expand=True, n=1)"
   ]
  },
  {
   "cell_type": "code",
   "execution_count": 88,
   "id": "d6572376",
   "metadata": {},
   "outputs": [
    {
     "data": {
      "text/html": [
       "<div>\n",
       "<style scoped>\n",
       "    .dataframe tbody tr th:only-of-type {\n",
       "        vertical-align: middle;\n",
       "    }\n",
       "\n",
       "    .dataframe tbody tr th {\n",
       "        vertical-align: top;\n",
       "    }\n",
       "\n",
       "    .dataframe thead th {\n",
       "        text-align: right;\n",
       "    }\n",
       "</style>\n",
       "<table border=\"1\" class=\"dataframe\">\n",
       "  <thead>\n",
       "    <tr style=\"text-align: right;\">\n",
       "      <th></th>\n",
       "      <th>Name</th>\n",
       "      <th>Age</th>\n",
       "      <th>M/F</th>\n",
       "      <th>City</th>\n",
       "      <th>State</th>\n",
       "      <th>Country</th>\n",
       "      <th>Official Time</th>\n",
       "      <th>Overall</th>\n",
       "      <th>Gender</th>\n",
       "      <th>Years Ran</th>\n",
       "      <th>First Name</th>\n",
       "      <th>Last Name</th>\n",
       "    </tr>\n",
       "  </thead>\n",
       "  <tbody>\n",
       "    <tr>\n",
       "      <th>0</th>\n",
       "      <td>Kirui, Geoffrey</td>\n",
       "      <td>24</td>\n",
       "      <td>M</td>\n",
       "      <td>Keringet</td>\n",
       "      <td>NaN</td>\n",
       "      <td>KEN</td>\n",
       "      <td>2:09:37</td>\n",
       "      <td>1</td>\n",
       "      <td>1</td>\n",
       "      <td>NaN</td>\n",
       "      <td>Kirui</td>\n",
       "      <td>Geoffrey</td>\n",
       "    </tr>\n",
       "    <tr>\n",
       "      <th>1</th>\n",
       "      <td>Rupp, Galen</td>\n",
       "      <td>30</td>\n",
       "      <td>M</td>\n",
       "      <td>Portland</td>\n",
       "      <td>OR</td>\n",
       "      <td>USA</td>\n",
       "      <td>2:09:58</td>\n",
       "      <td>2</td>\n",
       "      <td>2</td>\n",
       "      <td>NaN</td>\n",
       "      <td>Rupp</td>\n",
       "      <td>Galen</td>\n",
       "    </tr>\n",
       "    <tr>\n",
       "      <th>2</th>\n",
       "      <td>Osako, Suguru</td>\n",
       "      <td>25</td>\n",
       "      <td>M</td>\n",
       "      <td>Machida-City</td>\n",
       "      <td>NaN</td>\n",
       "      <td>JPN</td>\n",
       "      <td>2:10:28</td>\n",
       "      <td>3</td>\n",
       "      <td>3</td>\n",
       "      <td>NaN</td>\n",
       "      <td>Osako</td>\n",
       "      <td>Suguru</td>\n",
       "    </tr>\n",
       "    <tr>\n",
       "      <th>3</th>\n",
       "      <td>Biwott, Shadrack</td>\n",
       "      <td>32</td>\n",
       "      <td>M</td>\n",
       "      <td>Mammoth Lakes</td>\n",
       "      <td>CA</td>\n",
       "      <td>USA</td>\n",
       "      <td>2:12:08</td>\n",
       "      <td>4</td>\n",
       "      <td>4</td>\n",
       "      <td>NaN</td>\n",
       "      <td>Biwott</td>\n",
       "      <td>Shadrack</td>\n",
       "    </tr>\n",
       "    <tr>\n",
       "      <th>4</th>\n",
       "      <td>Chebet, Wilson</td>\n",
       "      <td>31</td>\n",
       "      <td>M</td>\n",
       "      <td>Marakwet</td>\n",
       "      <td>NaN</td>\n",
       "      <td>KEN</td>\n",
       "      <td>2:12:35</td>\n",
       "      <td>5</td>\n",
       "      <td>5</td>\n",
       "      <td>2015</td>\n",
       "      <td>Chebet</td>\n",
       "      <td>Wilson</td>\n",
       "    </tr>\n",
       "  </tbody>\n",
       "</table>\n",
       "</div>"
      ],
      "text/plain": [
       "               Name  Age M/F           City State Country Official Time  \\\n",
       "0   Kirui, Geoffrey   24   M       Keringet   NaN     KEN       2:09:37   \n",
       "1       Rupp, Galen   30   M       Portland    OR     USA       2:09:58   \n",
       "2     Osako, Suguru   25   M   Machida-City   NaN     JPN       2:10:28   \n",
       "3  Biwott, Shadrack   32   M  Mammoth Lakes    CA     USA       2:12:08   \n",
       "4    Chebet, Wilson   31   M       Marakwet   NaN     KEN       2:12:35   \n",
       "\n",
       "   Overall  Gender Years Ran First Name Last Name  \n",
       "0        1       1       NaN      Kirui  Geoffrey  \n",
       "1        2       2       NaN       Rupp     Galen  \n",
       "2        3       3       NaN      Osako    Suguru  \n",
       "3        4       4       NaN     Biwott  Shadrack  \n",
       "4        5       5      2015     Chebet    Wilson  "
      ]
     },
     "execution_count": 88,
     "metadata": {},
     "output_type": "execute_result"
    }
   ],
   "source": [
    "bm.head()"
   ]
  },
  {
   "cell_type": "markdown",
   "id": "55b07c9c",
   "metadata": {},
   "source": [
    "## Slicing Substrings"
   ]
  },
  {
   "cell_type": "code",
   "execution_count": 89,
   "id": "5f599218",
   "metadata": {},
   "outputs": [],
   "source": [
    "s = \"welcome. hello there\""
   ]
  },
  {
   "cell_type": "code",
   "execution_count": 90,
   "id": "236fd96d",
   "metadata": {},
   "outputs": [
    {
     "data": {
      "text/plain": [
       "slice(0, 7, 1)"
      ]
     },
     "execution_count": 90,
     "metadata": {},
     "output_type": "execute_result"
    }
   ],
   "source": [
    "slice(0,7,1)\n",
    "\n",
    "# 7 is exclusive\n",
    "# 0 and step 1 is default"
   ]
  },
  {
   "cell_type": "code",
   "execution_count": 91,
   "id": "835b351b",
   "metadata": {},
   "outputs": [
    {
     "data": {
      "text/plain": [
       "'welcome'"
      ]
     },
     "execution_count": 91,
     "metadata": {},
     "output_type": "execute_result"
    }
   ],
   "source": [
    "s[slice(0,7,1)]"
   ]
  },
  {
   "cell_type": "code",
   "execution_count": 92,
   "id": "f337e507",
   "metadata": {},
   "outputs": [
    {
     "data": {
      "text/plain": [
       "'welcome'"
      ]
     },
     "execution_count": 92,
     "metadata": {},
     "output_type": "execute_result"
    }
   ],
   "source": [
    "s[slice(7)]"
   ]
  },
  {
   "cell_type": "code",
   "execution_count": 93,
   "id": "2d7513f2",
   "metadata": {},
   "outputs": [
    {
     "data": {
      "text/plain": [
       "'welcome'"
      ]
     },
     "execution_count": 93,
     "metadata": {},
     "output_type": "execute_result"
    }
   ],
   "source": [
    "s[:7]"
   ]
  },
  {
   "cell_type": "code",
   "execution_count": 94,
   "id": "d52531d1",
   "metadata": {},
   "outputs": [
    {
     "data": {
      "text/plain": [
       "'welcome'"
      ]
     },
     "execution_count": 94,
     "metadata": {},
     "output_type": "execute_result"
    }
   ],
   "source": [
    "s[0:7:1]"
   ]
  },
  {
   "cell_type": "code",
   "execution_count": 95,
   "id": "e1ec13b6",
   "metadata": {},
   "outputs": [
    {
     "data": {
      "text/plain": [
       "'welcome'"
      ]
     },
     "execution_count": 95,
     "metadata": {},
     "output_type": "execute_result"
    }
   ],
   "source": [
    "s[:7:]"
   ]
  },
  {
   "cell_type": "code",
   "execution_count": 96,
   "id": "47c548bb",
   "metadata": {},
   "outputs": [
    {
     "data": {
      "text/html": [
       "<div>\n",
       "<style scoped>\n",
       "    .dataframe tbody tr th:only-of-type {\n",
       "        vertical-align: middle;\n",
       "    }\n",
       "\n",
       "    .dataframe tbody tr th {\n",
       "        vertical-align: top;\n",
       "    }\n",
       "\n",
       "    .dataframe thead th {\n",
       "        text-align: right;\n",
       "    }\n",
       "</style>\n",
       "<table border=\"1\" class=\"dataframe\">\n",
       "  <thead>\n",
       "    <tr style=\"text-align: right;\">\n",
       "      <th></th>\n",
       "      <th>Name</th>\n",
       "      <th>Age</th>\n",
       "      <th>M/F</th>\n",
       "      <th>City</th>\n",
       "      <th>State</th>\n",
       "      <th>Country</th>\n",
       "      <th>Official Time</th>\n",
       "      <th>Overall</th>\n",
       "      <th>Gender</th>\n",
       "      <th>Years Ran</th>\n",
       "      <th>First Name</th>\n",
       "      <th>Last Name</th>\n",
       "    </tr>\n",
       "  </thead>\n",
       "  <tbody>\n",
       "    <tr>\n",
       "      <th>0</th>\n",
       "      <td>Kirui, Geoffrey</td>\n",
       "      <td>24</td>\n",
       "      <td>M</td>\n",
       "      <td>Keringet</td>\n",
       "      <td>NaN</td>\n",
       "      <td>KEN</td>\n",
       "      <td>2:09:37</td>\n",
       "      <td>1</td>\n",
       "      <td>1</td>\n",
       "      <td>NaN</td>\n",
       "      <td>Kirui</td>\n",
       "      <td>Geoffrey</td>\n",
       "    </tr>\n",
       "    <tr>\n",
       "      <th>1</th>\n",
       "      <td>Rupp, Galen</td>\n",
       "      <td>30</td>\n",
       "      <td>M</td>\n",
       "      <td>Portland</td>\n",
       "      <td>OR</td>\n",
       "      <td>USA</td>\n",
       "      <td>2:09:58</td>\n",
       "      <td>2</td>\n",
       "      <td>2</td>\n",
       "      <td>NaN</td>\n",
       "      <td>Rupp</td>\n",
       "      <td>Galen</td>\n",
       "    </tr>\n",
       "    <tr>\n",
       "      <th>2</th>\n",
       "      <td>Osako, Suguru</td>\n",
       "      <td>25</td>\n",
       "      <td>M</td>\n",
       "      <td>Machida-City</td>\n",
       "      <td>NaN</td>\n",
       "      <td>JPN</td>\n",
       "      <td>2:10:28</td>\n",
       "      <td>3</td>\n",
       "      <td>3</td>\n",
       "      <td>NaN</td>\n",
       "      <td>Osako</td>\n",
       "      <td>Suguru</td>\n",
       "    </tr>\n",
       "    <tr>\n",
       "      <th>3</th>\n",
       "      <td>Biwott, Shadrack</td>\n",
       "      <td>32</td>\n",
       "      <td>M</td>\n",
       "      <td>Mammoth Lakes</td>\n",
       "      <td>CA</td>\n",
       "      <td>USA</td>\n",
       "      <td>2:12:08</td>\n",
       "      <td>4</td>\n",
       "      <td>4</td>\n",
       "      <td>NaN</td>\n",
       "      <td>Biwott</td>\n",
       "      <td>Shadrack</td>\n",
       "    </tr>\n",
       "    <tr>\n",
       "      <th>4</th>\n",
       "      <td>Chebet, Wilson</td>\n",
       "      <td>31</td>\n",
       "      <td>M</td>\n",
       "      <td>Marakwet</td>\n",
       "      <td>NaN</td>\n",
       "      <td>KEN</td>\n",
       "      <td>2:12:35</td>\n",
       "      <td>5</td>\n",
       "      <td>5</td>\n",
       "      <td>2015</td>\n",
       "      <td>Chebet</td>\n",
       "      <td>Wilson</td>\n",
       "    </tr>\n",
       "  </tbody>\n",
       "</table>\n",
       "</div>"
      ],
      "text/plain": [
       "               Name  Age M/F           City State Country Official Time  \\\n",
       "0   Kirui, Geoffrey   24   M       Keringet   NaN     KEN       2:09:37   \n",
       "1       Rupp, Galen   30   M       Portland    OR     USA       2:09:58   \n",
       "2     Osako, Suguru   25   M   Machida-City   NaN     JPN       2:10:28   \n",
       "3  Biwott, Shadrack   32   M  Mammoth Lakes    CA     USA       2:12:08   \n",
       "4    Chebet, Wilson   31   M       Marakwet   NaN     KEN       2:12:35   \n",
       "\n",
       "   Overall  Gender Years Ran First Name Last Name  \n",
       "0        1       1       NaN      Kirui  Geoffrey  \n",
       "1        2       2       NaN       Rupp     Galen  \n",
       "2        3       3       NaN      Osako    Suguru  \n",
       "3        4       4       NaN     Biwott  Shadrack  \n",
       "4        5       5      2015     Chebet    Wilson  "
      ]
     },
     "execution_count": 96,
     "metadata": {},
     "output_type": "execute_result"
    }
   ],
   "source": [
    "bm.head()"
   ]
  },
  {
   "cell_type": "code",
   "execution_count": 97,
   "id": "df6746bc",
   "metadata": {},
   "outputs": [
    {
     "data": {
      "text/plain": [
       "0      KE\n",
       "1      US\n",
       "2      JP\n",
       "3      US\n",
       "4      KE\n",
       "       ..\n",
       "995    US\n",
       "996    US\n",
       "997    US\n",
       "998    US\n",
       "999    US\n",
       "Name: Country, Length: 1000, dtype: object"
      ]
     },
     "execution_count": 97,
     "metadata": {},
     "output_type": "execute_result"
    }
   ],
   "source": [
    "bm.Country.str.slice(0,2,1)"
   ]
  },
  {
   "cell_type": "code",
   "execution_count": 98,
   "id": "7bfe0e93",
   "metadata": {},
   "outputs": [
    {
     "data": {
      "text/plain": [
       "0      EN\n",
       "1      SA\n",
       "2      PN\n",
       "3      SA\n",
       "4      EN\n",
       "       ..\n",
       "995    SA\n",
       "996    SA\n",
       "997    SA\n",
       "998    SA\n",
       "999    SA\n",
       "Name: Country, Length: 1000, dtype: object"
      ]
     },
     "execution_count": 98,
     "metadata": {},
     "output_type": "execute_result"
    }
   ],
   "source": [
    "bm.Country.str.slice(start=-2,step=1,stop=None)"
   ]
  },
  {
   "cell_type": "markdown",
   "id": "ad0cbff9",
   "metadata": {},
   "source": [
    "### Masking with String Methods"
   ]
  },
  {
   "cell_type": "code",
   "execution_count": 99,
   "id": "0d6accc8",
   "metadata": {},
   "outputs": [
    {
     "data": {
      "text/html": [
       "<div>\n",
       "<style scoped>\n",
       "    .dataframe tbody tr th:only-of-type {\n",
       "        vertical-align: middle;\n",
       "    }\n",
       "\n",
       "    .dataframe tbody tr th {\n",
       "        vertical-align: top;\n",
       "    }\n",
       "\n",
       "    .dataframe thead th {\n",
       "        text-align: right;\n",
       "    }\n",
       "</style>\n",
       "<table border=\"1\" class=\"dataframe\">\n",
       "  <thead>\n",
       "    <tr style=\"text-align: right;\">\n",
       "      <th></th>\n",
       "      <th>Name</th>\n",
       "      <th>Age</th>\n",
       "      <th>M/F</th>\n",
       "      <th>City</th>\n",
       "      <th>State</th>\n",
       "      <th>Country</th>\n",
       "      <th>Official Time</th>\n",
       "      <th>Overall</th>\n",
       "      <th>Gender</th>\n",
       "      <th>Years Ran</th>\n",
       "      <th>First Name</th>\n",
       "      <th>Last Name</th>\n",
       "    </tr>\n",
       "  </thead>\n",
       "  <tbody>\n",
       "    <tr>\n",
       "      <th>0</th>\n",
       "      <td>Kirui, Geoffrey</td>\n",
       "      <td>24</td>\n",
       "      <td>M</td>\n",
       "      <td>Keringet</td>\n",
       "      <td>NaN</td>\n",
       "      <td>KEN</td>\n",
       "      <td>2:09:37</td>\n",
       "      <td>1</td>\n",
       "      <td>1</td>\n",
       "      <td>NaN</td>\n",
       "      <td>Kirui</td>\n",
       "      <td>Geoffrey</td>\n",
       "    </tr>\n",
       "    <tr>\n",
       "      <th>1</th>\n",
       "      <td>Rupp, Galen</td>\n",
       "      <td>30</td>\n",
       "      <td>M</td>\n",
       "      <td>Portland</td>\n",
       "      <td>OR</td>\n",
       "      <td>USA</td>\n",
       "      <td>2:09:58</td>\n",
       "      <td>2</td>\n",
       "      <td>2</td>\n",
       "      <td>NaN</td>\n",
       "      <td>Rupp</td>\n",
       "      <td>Galen</td>\n",
       "    </tr>\n",
       "    <tr>\n",
       "      <th>2</th>\n",
       "      <td>Osako, Suguru</td>\n",
       "      <td>25</td>\n",
       "      <td>M</td>\n",
       "      <td>Machida-City</td>\n",
       "      <td>NaN</td>\n",
       "      <td>JPN</td>\n",
       "      <td>2:10:28</td>\n",
       "      <td>3</td>\n",
       "      <td>3</td>\n",
       "      <td>NaN</td>\n",
       "      <td>Osako</td>\n",
       "      <td>Suguru</td>\n",
       "    </tr>\n",
       "    <tr>\n",
       "      <th>3</th>\n",
       "      <td>Biwott, Shadrack</td>\n",
       "      <td>32</td>\n",
       "      <td>M</td>\n",
       "      <td>Mammoth Lakes</td>\n",
       "      <td>CA</td>\n",
       "      <td>USA</td>\n",
       "      <td>2:12:08</td>\n",
       "      <td>4</td>\n",
       "      <td>4</td>\n",
       "      <td>NaN</td>\n",
       "      <td>Biwott</td>\n",
       "      <td>Shadrack</td>\n",
       "    </tr>\n",
       "    <tr>\n",
       "      <th>4</th>\n",
       "      <td>Chebet, Wilson</td>\n",
       "      <td>31</td>\n",
       "      <td>M</td>\n",
       "      <td>Marakwet</td>\n",
       "      <td>NaN</td>\n",
       "      <td>KEN</td>\n",
       "      <td>2:12:35</td>\n",
       "      <td>5</td>\n",
       "      <td>5</td>\n",
       "      <td>2015</td>\n",
       "      <td>Chebet</td>\n",
       "      <td>Wilson</td>\n",
       "    </tr>\n",
       "  </tbody>\n",
       "</table>\n",
       "</div>"
      ],
      "text/plain": [
       "               Name  Age M/F           City State Country Official Time  \\\n",
       "0   Kirui, Geoffrey   24   M       Keringet   NaN     KEN       2:09:37   \n",
       "1       Rupp, Galen   30   M       Portland    OR     USA       2:09:58   \n",
       "2     Osako, Suguru   25   M   Machida-City   NaN     JPN       2:10:28   \n",
       "3  Biwott, Shadrack   32   M  Mammoth Lakes    CA     USA       2:12:08   \n",
       "4    Chebet, Wilson   31   M       Marakwet   NaN     KEN       2:12:35   \n",
       "\n",
       "   Overall  Gender Years Ran First Name Last Name  \n",
       "0        1       1       NaN      Kirui  Geoffrey  \n",
       "1        2       2       NaN       Rupp     Galen  \n",
       "2        3       3       NaN      Osako    Suguru  \n",
       "3        4       4       NaN     Biwott  Shadrack  \n",
       "4        5       5      2015     Chebet    Wilson  "
      ]
     },
     "execution_count": 99,
     "metadata": {},
     "output_type": "execute_result"
    }
   ],
   "source": [
    "bm.head()"
   ]
  },
  {
   "cell_type": "code",
   "execution_count": 100,
   "id": "9c30acd8",
   "metadata": {},
   "outputs": [
    {
     "data": {
      "text/plain": [
       "0      False\n",
       "1      False\n",
       "2      False\n",
       "3      False\n",
       "4      False\n",
       "       ...  \n",
       "995    False\n",
       "996    False\n",
       "997    False\n",
       "998    False\n",
       "999    False\n",
       "Name: Country, Length: 1000, dtype: bool"
      ]
     },
     "execution_count": 100,
     "metadata": {},
     "output_type": "execute_result"
    }
   ],
   "source": [
    "bm.Country == 'ITA'"
   ]
  },
  {
   "cell_type": "code",
   "execution_count": 101,
   "id": "539f9684",
   "metadata": {},
   "outputs": [
    {
     "data": {
      "text/plain": [
       "0      False\n",
       "1      False\n",
       "2      False\n",
       "3      False\n",
       "4      False\n",
       "       ...  \n",
       "995    False\n",
       "996    False\n",
       "997    False\n",
       "998    False\n",
       "999    False\n",
       "Name: Country, Length: 1000, dtype: bool"
      ]
     },
     "execution_count": 101,
     "metadata": {},
     "output_type": "execute_result"
    }
   ],
   "source": [
    "bm.Country.str.match('ITA')"
   ]
  },
  {
   "cell_type": "code",
   "execution_count": 102,
   "id": "69e970a0",
   "metadata": {},
   "outputs": [
    {
     "data": {
      "text/html": [
       "<div>\n",
       "<style scoped>\n",
       "    .dataframe tbody tr th:only-of-type {\n",
       "        vertical-align: middle;\n",
       "    }\n",
       "\n",
       "    .dataframe tbody tr th {\n",
       "        vertical-align: top;\n",
       "    }\n",
       "\n",
       "    .dataframe thead th {\n",
       "        text-align: right;\n",
       "    }\n",
       "</style>\n",
       "<table border=\"1\" class=\"dataframe\">\n",
       "  <thead>\n",
       "    <tr style=\"text-align: right;\">\n",
       "      <th></th>\n",
       "      <th>Name</th>\n",
       "      <th>Age</th>\n",
       "      <th>M/F</th>\n",
       "      <th>City</th>\n",
       "      <th>State</th>\n",
       "      <th>Country</th>\n",
       "      <th>Official Time</th>\n",
       "      <th>Overall</th>\n",
       "      <th>Gender</th>\n",
       "      <th>Years Ran</th>\n",
       "      <th>First Name</th>\n",
       "      <th>Last Name</th>\n",
       "    </tr>\n",
       "  </thead>\n",
       "  <tbody>\n",
       "    <tr>\n",
       "      <th>56</th>\n",
       "      <td>Boudalia, Said Sr.</td>\n",
       "      <td>48</td>\n",
       "      <td>M</td>\n",
       "      <td>Belluno</td>\n",
       "      <td>NaN</td>\n",
       "      <td>ITA</td>\n",
       "      <td>2:30:11</td>\n",
       "      <td>57</td>\n",
       "      <td>51</td>\n",
       "      <td>2015:2016</td>\n",
       "      <td>Boudalia</td>\n",
       "      <td>Said Sr.</td>\n",
       "    </tr>\n",
       "    <tr>\n",
       "      <th>156</th>\n",
       "      <td>Achmuller, Hermann</td>\n",
       "      <td>46</td>\n",
       "      <td>M</td>\n",
       "      <td>Brixen</td>\n",
       "      <td>NaN</td>\n",
       "      <td>ITA</td>\n",
       "      <td>2:38:40</td>\n",
       "      <td>157</td>\n",
       "      <td>139</td>\n",
       "      <td>NaN</td>\n",
       "      <td>Achmuller</td>\n",
       "      <td>Hermann</td>\n",
       "    </tr>\n",
       "    <tr>\n",
       "      <th>792</th>\n",
       "      <td>Consolandi, Paolo Giorgio</td>\n",
       "      <td>39</td>\n",
       "      <td>M</td>\n",
       "      <td>Pessano Con Bornago (mi)</td>\n",
       "      <td>NaN</td>\n",
       "      <td>ITA</td>\n",
       "      <td>2:53:29</td>\n",
       "      <td>793</td>\n",
       "      <td>747</td>\n",
       "      <td>NaN</td>\n",
       "      <td>Consolandi</td>\n",
       "      <td>Paolo Giorgio</td>\n",
       "    </tr>\n",
       "    <tr>\n",
       "      <th>922</th>\n",
       "      <td>Zompanti, Alessandro</td>\n",
       "      <td>48</td>\n",
       "      <td>M</td>\n",
       "      <td>Fiuggi Fr</td>\n",
       "      <td>NaN</td>\n",
       "      <td>ITA</td>\n",
       "      <td>2:55:12</td>\n",
       "      <td>923</td>\n",
       "      <td>872</td>\n",
       "      <td>NaN</td>\n",
       "      <td>Zompanti</td>\n",
       "      <td>Alessandro</td>\n",
       "    </tr>\n",
       "  </tbody>\n",
       "</table>\n",
       "</div>"
      ],
      "text/plain": [
       "                          Name  Age M/F                      City State  \\\n",
       "56          Boudalia, Said Sr.   48   M                   Belluno   NaN   \n",
       "156         Achmuller, Hermann   46   M                    Brixen   NaN   \n",
       "792  Consolandi, Paolo Giorgio   39   M  Pessano Con Bornago (mi)   NaN   \n",
       "922       Zompanti, Alessandro   48   M                 Fiuggi Fr   NaN   \n",
       "\n",
       "    Country Official Time  Overall  Gender  Years Ran  First Name  \\\n",
       "56      ITA       2:30:11       57      51  2015:2016    Boudalia   \n",
       "156     ITA       2:38:40      157     139        NaN   Achmuller   \n",
       "792     ITA       2:53:29      793     747        NaN  Consolandi   \n",
       "922     ITA       2:55:12      923     872        NaN    Zompanti   \n",
       "\n",
       "         Last Name  \n",
       "56        Said Sr.  \n",
       "156        Hermann  \n",
       "792  Paolo Giorgio  \n",
       "922     Alessandro  "
      ]
     },
     "execution_count": 102,
     "metadata": {},
     "output_type": "execute_result"
    }
   ],
   "source": [
    "bm.loc[bm.Country.str.match('ITA')]"
   ]
  },
  {
   "cell_type": "code",
   "execution_count": 103,
   "id": "6de549aa",
   "metadata": {},
   "outputs": [
    {
     "data": {
      "text/html": [
       "<div>\n",
       "<style scoped>\n",
       "    .dataframe tbody tr th:only-of-type {\n",
       "        vertical-align: middle;\n",
       "    }\n",
       "\n",
       "    .dataframe tbody tr th {\n",
       "        vertical-align: top;\n",
       "    }\n",
       "\n",
       "    .dataframe thead th {\n",
       "        text-align: right;\n",
       "    }\n",
       "</style>\n",
       "<table border=\"1\" class=\"dataframe\">\n",
       "  <thead>\n",
       "    <tr style=\"text-align: right;\">\n",
       "      <th></th>\n",
       "      <th>Name</th>\n",
       "      <th>Age</th>\n",
       "      <th>M/F</th>\n",
       "      <th>City</th>\n",
       "      <th>State</th>\n",
       "      <th>Country</th>\n",
       "      <th>Official Time</th>\n",
       "      <th>Overall</th>\n",
       "      <th>Gender</th>\n",
       "      <th>Years Ran</th>\n",
       "      <th>First Name</th>\n",
       "      <th>Last Name</th>\n",
       "    </tr>\n",
       "  </thead>\n",
       "  <tbody>\n",
       "    <tr>\n",
       "      <th>56</th>\n",
       "      <td>Boudalia, Said Sr.</td>\n",
       "      <td>48</td>\n",
       "      <td>M</td>\n",
       "      <td>Belluno</td>\n",
       "      <td>NaN</td>\n",
       "      <td>ITA</td>\n",
       "      <td>2:30:11</td>\n",
       "      <td>57</td>\n",
       "      <td>51</td>\n",
       "      <td>2015:2016</td>\n",
       "      <td>Boudalia</td>\n",
       "      <td>Said Sr.</td>\n",
       "    </tr>\n",
       "    <tr>\n",
       "      <th>156</th>\n",
       "      <td>Achmuller, Hermann</td>\n",
       "      <td>46</td>\n",
       "      <td>M</td>\n",
       "      <td>Brixen</td>\n",
       "      <td>NaN</td>\n",
       "      <td>ITA</td>\n",
       "      <td>2:38:40</td>\n",
       "      <td>157</td>\n",
       "      <td>139</td>\n",
       "      <td>NaN</td>\n",
       "      <td>Achmuller</td>\n",
       "      <td>Hermann</td>\n",
       "    </tr>\n",
       "    <tr>\n",
       "      <th>792</th>\n",
       "      <td>Consolandi, Paolo Giorgio</td>\n",
       "      <td>39</td>\n",
       "      <td>M</td>\n",
       "      <td>Pessano Con Bornago (mi)</td>\n",
       "      <td>NaN</td>\n",
       "      <td>ITA</td>\n",
       "      <td>2:53:29</td>\n",
       "      <td>793</td>\n",
       "      <td>747</td>\n",
       "      <td>NaN</td>\n",
       "      <td>Consolandi</td>\n",
       "      <td>Paolo Giorgio</td>\n",
       "    </tr>\n",
       "    <tr>\n",
       "      <th>922</th>\n",
       "      <td>Zompanti, Alessandro</td>\n",
       "      <td>48</td>\n",
       "      <td>M</td>\n",
       "      <td>Fiuggi Fr</td>\n",
       "      <td>NaN</td>\n",
       "      <td>ITA</td>\n",
       "      <td>2:55:12</td>\n",
       "      <td>923</td>\n",
       "      <td>872</td>\n",
       "      <td>NaN</td>\n",
       "      <td>Zompanti</td>\n",
       "      <td>Alessandro</td>\n",
       "    </tr>\n",
       "  </tbody>\n",
       "</table>\n",
       "</div>"
      ],
      "text/plain": [
       "                          Name  Age M/F                      City State  \\\n",
       "56          Boudalia, Said Sr.   48   M                   Belluno   NaN   \n",
       "156         Achmuller, Hermann   46   M                    Brixen   NaN   \n",
       "792  Consolandi, Paolo Giorgio   39   M  Pessano Con Bornago (mi)   NaN   \n",
       "922       Zompanti, Alessandro   48   M                 Fiuggi Fr   NaN   \n",
       "\n",
       "    Country Official Time  Overall  Gender  Years Ran  First Name  \\\n",
       "56      ITA       2:30:11       57      51  2015:2016    Boudalia   \n",
       "156     ITA       2:38:40      157     139        NaN   Achmuller   \n",
       "792     ITA       2:53:29      793     747        NaN  Consolandi   \n",
       "922     ITA       2:55:12      923     872        NaN    Zompanti   \n",
       "\n",
       "         Last Name  \n",
       "56        Said Sr.  \n",
       "156        Hermann  \n",
       "792  Paolo Giorgio  \n",
       "922     Alessandro  "
      ]
     },
     "execution_count": 103,
     "metadata": {},
     "output_type": "execute_result"
    }
   ],
   "source": [
    "bm[bm.Country.str.match('ITA')]"
   ]
  },
  {
   "cell_type": "code",
   "execution_count": 104,
   "id": "f0397d1d",
   "metadata": {},
   "outputs": [
    {
     "data": {
      "text/plain": [
       "0      False\n",
       "1      False\n",
       "2      False\n",
       "3      False\n",
       "4      False\n",
       "       ...  \n",
       "995    False\n",
       "996    False\n",
       "997    False\n",
       "998    False\n",
       "999    False\n",
       "Name: Name, Length: 1000, dtype: bool"
      ]
     },
     "execution_count": 104,
     "metadata": {},
     "output_type": "execute_result"
    }
   ],
   "source": [
    "bm.Name.str.contains('WIll')"
   ]
  },
  {
   "cell_type": "code",
   "execution_count": 105,
   "id": "bc6ae936",
   "metadata": {},
   "outputs": [
    {
     "data": {
      "text/html": [
       "<div>\n",
       "<style scoped>\n",
       "    .dataframe tbody tr th:only-of-type {\n",
       "        vertical-align: middle;\n",
       "    }\n",
       "\n",
       "    .dataframe tbody tr th {\n",
       "        vertical-align: top;\n",
       "    }\n",
       "\n",
       "    .dataframe thead th {\n",
       "        text-align: right;\n",
       "    }\n",
       "</style>\n",
       "<table border=\"1\" class=\"dataframe\">\n",
       "  <thead>\n",
       "    <tr style=\"text-align: right;\">\n",
       "      <th></th>\n",
       "      <th>Name</th>\n",
       "      <th>Age</th>\n",
       "      <th>M/F</th>\n",
       "      <th>City</th>\n",
       "      <th>State</th>\n",
       "      <th>Country</th>\n",
       "      <th>Official Time</th>\n",
       "      <th>Overall</th>\n",
       "      <th>Gender</th>\n",
       "      <th>Years Ran</th>\n",
       "      <th>First Name</th>\n",
       "      <th>Last Name</th>\n",
       "    </tr>\n",
       "  </thead>\n",
       "  <tbody>\n",
       "    <tr>\n",
       "      <th>93</th>\n",
       "      <td>Vanos, William</td>\n",
       "      <td>45</td>\n",
       "      <td>M</td>\n",
       "      <td>Orlando</td>\n",
       "      <td>FL</td>\n",
       "      <td>USA</td>\n",
       "      <td>2:34:40</td>\n",
       "      <td>94</td>\n",
       "      <td>84</td>\n",
       "      <td>NaN</td>\n",
       "      <td>Vanos</td>\n",
       "      <td>William</td>\n",
       "    </tr>\n",
       "    <tr>\n",
       "      <th>199</th>\n",
       "      <td>Guzick, William F</td>\n",
       "      <td>28</td>\n",
       "      <td>M</td>\n",
       "      <td>Boston</td>\n",
       "      <td>MA</td>\n",
       "      <td>USA</td>\n",
       "      <td>2:40:43</td>\n",
       "      <td>200</td>\n",
       "      <td>178</td>\n",
       "      <td>NaN</td>\n",
       "      <td>Guzick</td>\n",
       "      <td>William F</td>\n",
       "    </tr>\n",
       "    <tr>\n",
       "      <th>415</th>\n",
       "      <td>Hartje, William</td>\n",
       "      <td>24</td>\n",
       "      <td>M</td>\n",
       "      <td>Neptune Beach</td>\n",
       "      <td>FL</td>\n",
       "      <td>USA</td>\n",
       "      <td>2:46:56</td>\n",
       "      <td>416</td>\n",
       "      <td>386</td>\n",
       "      <td>NaN</td>\n",
       "      <td>Hartje</td>\n",
       "      <td>William</td>\n",
       "    </tr>\n",
       "    <tr>\n",
       "      <th>429</th>\n",
       "      <td>Adams, William C</td>\n",
       "      <td>33</td>\n",
       "      <td>M</td>\n",
       "      <td>Arlington</td>\n",
       "      <td>VA</td>\n",
       "      <td>USA</td>\n",
       "      <td>2:47:15</td>\n",
       "      <td>430</td>\n",
       "      <td>399</td>\n",
       "      <td>NaN</td>\n",
       "      <td>Adams</td>\n",
       "      <td>William C</td>\n",
       "    </tr>\n",
       "    <tr>\n",
       "      <th>456</th>\n",
       "      <td>Cunha, Will</td>\n",
       "      <td>28</td>\n",
       "      <td>M</td>\n",
       "      <td>Pittsburgh</td>\n",
       "      <td>PA</td>\n",
       "      <td>USA</td>\n",
       "      <td>2:47:39</td>\n",
       "      <td>457</td>\n",
       "      <td>424</td>\n",
       "      <td>NaN</td>\n",
       "      <td>Cunha</td>\n",
       "      <td>Will</td>\n",
       "    </tr>\n",
       "    <tr>\n",
       "      <th>526</th>\n",
       "      <td>Swenson, Will</td>\n",
       "      <td>45</td>\n",
       "      <td>M</td>\n",
       "      <td>Andover</td>\n",
       "      <td>MA</td>\n",
       "      <td>USA</td>\n",
       "      <td>2:49:10</td>\n",
       "      <td>527</td>\n",
       "      <td>490</td>\n",
       "      <td>2015:2016</td>\n",
       "      <td>Swenson</td>\n",
       "      <td>Will</td>\n",
       "    </tr>\n",
       "    <tr>\n",
       "      <th>571</th>\n",
       "      <td>Gates, William E. Jr.</td>\n",
       "      <td>27</td>\n",
       "      <td>M</td>\n",
       "      <td>Maryville</td>\n",
       "      <td>TN</td>\n",
       "      <td>USA</td>\n",
       "      <td>2:49:44</td>\n",
       "      <td>572</td>\n",
       "      <td>534</td>\n",
       "      <td>NaN</td>\n",
       "      <td>Gates</td>\n",
       "      <td>William E. Jr.</td>\n",
       "    </tr>\n",
       "    <tr>\n",
       "      <th>711</th>\n",
       "      <td>Swanson, William G</td>\n",
       "      <td>32</td>\n",
       "      <td>M</td>\n",
       "      <td>Riverside</td>\n",
       "      <td>CA</td>\n",
       "      <td>USA</td>\n",
       "      <td>2:52:16</td>\n",
       "      <td>712</td>\n",
       "      <td>670</td>\n",
       "      <td>NaN</td>\n",
       "      <td>Swanson</td>\n",
       "      <td>William G</td>\n",
       "    </tr>\n",
       "    <tr>\n",
       "      <th>814</th>\n",
       "      <td>Williamson, David</td>\n",
       "      <td>49</td>\n",
       "      <td>M</td>\n",
       "      <td>Sutton</td>\n",
       "      <td>NaN</td>\n",
       "      <td>GBR</td>\n",
       "      <td>2:53:46</td>\n",
       "      <td>815</td>\n",
       "      <td>768</td>\n",
       "      <td>NaN</td>\n",
       "      <td>Williamson</td>\n",
       "      <td>David</td>\n",
       "    </tr>\n",
       "    <tr>\n",
       "      <th>835</th>\n",
       "      <td>Vargas, Will</td>\n",
       "      <td>42</td>\n",
       "      <td>M</td>\n",
       "      <td>Bogota</td>\n",
       "      <td>NaN</td>\n",
       "      <td>COL</td>\n",
       "      <td>2:54:07</td>\n",
       "      <td>836</td>\n",
       "      <td>789</td>\n",
       "      <td>2016</td>\n",
       "      <td>Vargas</td>\n",
       "      <td>Will</td>\n",
       "    </tr>\n",
       "    <tr>\n",
       "      <th>892</th>\n",
       "      <td>Rivera, Will</td>\n",
       "      <td>46</td>\n",
       "      <td>M</td>\n",
       "      <td>Elizabethtown</td>\n",
       "      <td>KY</td>\n",
       "      <td>USA</td>\n",
       "      <td>2:54:53</td>\n",
       "      <td>893</td>\n",
       "      <td>843</td>\n",
       "      <td>NaN</td>\n",
       "      <td>Rivera</td>\n",
       "      <td>Will</td>\n",
       "    </tr>\n",
       "    <tr>\n",
       "      <th>897</th>\n",
       "      <td>Feldman, William P.</td>\n",
       "      <td>31</td>\n",
       "      <td>M</td>\n",
       "      <td>Greensboro</td>\n",
       "      <td>NC</td>\n",
       "      <td>USA</td>\n",
       "      <td>2:54:56</td>\n",
       "      <td>898</td>\n",
       "      <td>848</td>\n",
       "      <td>NaN</td>\n",
       "      <td>Feldman</td>\n",
       "      <td>William P.</td>\n",
       "    </tr>\n",
       "    <tr>\n",
       "      <th>936</th>\n",
       "      <td>Decamps, William M.</td>\n",
       "      <td>30</td>\n",
       "      <td>M</td>\n",
       "      <td>Atlanta</td>\n",
       "      <td>GA</td>\n",
       "      <td>USA</td>\n",
       "      <td>2:55:22</td>\n",
       "      <td>937</td>\n",
       "      <td>886</td>\n",
       "      <td>NaN</td>\n",
       "      <td>Decamps</td>\n",
       "      <td>William M.</td>\n",
       "    </tr>\n",
       "    <tr>\n",
       "      <th>939</th>\n",
       "      <td>Versen, William R</td>\n",
       "      <td>25</td>\n",
       "      <td>M</td>\n",
       "      <td>Minneapolis</td>\n",
       "      <td>MN</td>\n",
       "      <td>USA</td>\n",
       "      <td>2:55:24</td>\n",
       "      <td>940</td>\n",
       "      <td>889</td>\n",
       "      <td>NaN</td>\n",
       "      <td>Versen</td>\n",
       "      <td>William R</td>\n",
       "    </tr>\n",
       "    <tr>\n",
       "      <th>996</th>\n",
       "      <td>Williamson, Jerry A</td>\n",
       "      <td>43</td>\n",
       "      <td>M</td>\n",
       "      <td>Raleigh</td>\n",
       "      <td>NC</td>\n",
       "      <td>USA</td>\n",
       "      <td>2:56:06</td>\n",
       "      <td>997</td>\n",
       "      <td>941</td>\n",
       "      <td>2015</td>\n",
       "      <td>Williamson</td>\n",
       "      <td>Jerry A</td>\n",
       "    </tr>\n",
       "  </tbody>\n",
       "</table>\n",
       "</div>"
      ],
      "text/plain": [
       "                      Name  Age M/F           City State Country  \\\n",
       "93          Vanos, William   45   M        Orlando    FL     USA   \n",
       "199      Guzick, William F   28   M         Boston    MA     USA   \n",
       "415        Hartje, William   24   M  Neptune Beach    FL     USA   \n",
       "429       Adams, William C   33   M      Arlington    VA     USA   \n",
       "456            Cunha, Will   28   M     Pittsburgh    PA     USA   \n",
       "526          Swenson, Will   45   M        Andover    MA     USA   \n",
       "571  Gates, William E. Jr.   27   M      Maryville    TN     USA   \n",
       "711     Swanson, William G   32   M      Riverside    CA     USA   \n",
       "814      Williamson, David   49   M         Sutton   NaN     GBR   \n",
       "835           Vargas, Will   42   M         Bogota   NaN     COL   \n",
       "892           Rivera, Will   46   M  Elizabethtown    KY     USA   \n",
       "897    Feldman, William P.   31   M     Greensboro    NC     USA   \n",
       "936    Decamps, William M.   30   M        Atlanta    GA     USA   \n",
       "939      Versen, William R   25   M    Minneapolis    MN     USA   \n",
       "996    Williamson, Jerry A   43   M        Raleigh    NC     USA   \n",
       "\n",
       "    Official Time  Overall  Gender  Years Ran  First Name       Last Name  \n",
       "93        2:34:40       94      84        NaN       Vanos         William  \n",
       "199       2:40:43      200     178        NaN      Guzick       William F  \n",
       "415       2:46:56      416     386        NaN      Hartje         William  \n",
       "429       2:47:15      430     399        NaN       Adams       William C  \n",
       "456       2:47:39      457     424        NaN       Cunha            Will  \n",
       "526       2:49:10      527     490  2015:2016     Swenson            Will  \n",
       "571       2:49:44      572     534        NaN       Gates  William E. Jr.  \n",
       "711       2:52:16      712     670        NaN     Swanson       William G  \n",
       "814       2:53:46      815     768        NaN  Williamson           David  \n",
       "835       2:54:07      836     789       2016      Vargas            Will  \n",
       "892       2:54:53      893     843        NaN      Rivera            Will  \n",
       "897       2:54:56      898     848        NaN     Feldman      William P.  \n",
       "936       2:55:22      937     886        NaN     Decamps      William M.  \n",
       "939       2:55:24      940     889        NaN      Versen       William R  \n",
       "996       2:56:06      997     941       2015  Williamson         Jerry A  "
      ]
     },
     "execution_count": 105,
     "metadata": {},
     "output_type": "execute_result"
    }
   ],
   "source": [
    "bm[bm.Name.str.contains('Will')]"
   ]
  },
  {
   "cell_type": "code",
   "execution_count": 106,
   "id": "8f4a0716",
   "metadata": {},
   "outputs": [],
   "source": [
    "age = bm.Age>=45\n",
    "will = bm.Name.str.contains('Will')"
   ]
  },
  {
   "cell_type": "code",
   "execution_count": 107,
   "id": "3385d11d",
   "metadata": {},
   "outputs": [
    {
     "data": {
      "text/html": [
       "<div>\n",
       "<style scoped>\n",
       "    .dataframe tbody tr th:only-of-type {\n",
       "        vertical-align: middle;\n",
       "    }\n",
       "\n",
       "    .dataframe tbody tr th {\n",
       "        vertical-align: top;\n",
       "    }\n",
       "\n",
       "    .dataframe thead th {\n",
       "        text-align: right;\n",
       "    }\n",
       "</style>\n",
       "<table border=\"1\" class=\"dataframe\">\n",
       "  <thead>\n",
       "    <tr style=\"text-align: right;\">\n",
       "      <th></th>\n",
       "      <th>Name</th>\n",
       "      <th>Age</th>\n",
       "      <th>M/F</th>\n",
       "      <th>City</th>\n",
       "      <th>State</th>\n",
       "      <th>Country</th>\n",
       "      <th>Official Time</th>\n",
       "      <th>Overall</th>\n",
       "      <th>Gender</th>\n",
       "      <th>Years Ran</th>\n",
       "      <th>First Name</th>\n",
       "      <th>Last Name</th>\n",
       "    </tr>\n",
       "  </thead>\n",
       "  <tbody>\n",
       "    <tr>\n",
       "      <th>93</th>\n",
       "      <td>Vanos, William</td>\n",
       "      <td>45</td>\n",
       "      <td>M</td>\n",
       "      <td>Orlando</td>\n",
       "      <td>FL</td>\n",
       "      <td>USA</td>\n",
       "      <td>2:34:40</td>\n",
       "      <td>94</td>\n",
       "      <td>84</td>\n",
       "      <td>NaN</td>\n",
       "      <td>Vanos</td>\n",
       "      <td>William</td>\n",
       "    </tr>\n",
       "    <tr>\n",
       "      <th>526</th>\n",
       "      <td>Swenson, Will</td>\n",
       "      <td>45</td>\n",
       "      <td>M</td>\n",
       "      <td>Andover</td>\n",
       "      <td>MA</td>\n",
       "      <td>USA</td>\n",
       "      <td>2:49:10</td>\n",
       "      <td>527</td>\n",
       "      <td>490</td>\n",
       "      <td>2015:2016</td>\n",
       "      <td>Swenson</td>\n",
       "      <td>Will</td>\n",
       "    </tr>\n",
       "    <tr>\n",
       "      <th>814</th>\n",
       "      <td>Williamson, David</td>\n",
       "      <td>49</td>\n",
       "      <td>M</td>\n",
       "      <td>Sutton</td>\n",
       "      <td>NaN</td>\n",
       "      <td>GBR</td>\n",
       "      <td>2:53:46</td>\n",
       "      <td>815</td>\n",
       "      <td>768</td>\n",
       "      <td>NaN</td>\n",
       "      <td>Williamson</td>\n",
       "      <td>David</td>\n",
       "    </tr>\n",
       "    <tr>\n",
       "      <th>892</th>\n",
       "      <td>Rivera, Will</td>\n",
       "      <td>46</td>\n",
       "      <td>M</td>\n",
       "      <td>Elizabethtown</td>\n",
       "      <td>KY</td>\n",
       "      <td>USA</td>\n",
       "      <td>2:54:53</td>\n",
       "      <td>893</td>\n",
       "      <td>843</td>\n",
       "      <td>NaN</td>\n",
       "      <td>Rivera</td>\n",
       "      <td>Will</td>\n",
       "    </tr>\n",
       "  </tbody>\n",
       "</table>\n",
       "</div>"
      ],
      "text/plain": [
       "                  Name  Age M/F           City State Country Official Time  \\\n",
       "93      Vanos, William   45   M        Orlando    FL     USA       2:34:40   \n",
       "526      Swenson, Will   45   M        Andover    MA     USA       2:49:10   \n",
       "814  Williamson, David   49   M         Sutton   NaN     GBR       2:53:46   \n",
       "892       Rivera, Will   46   M  Elizabethtown    KY     USA       2:54:53   \n",
       "\n",
       "     Overall  Gender  Years Ran  First Name Last Name  \n",
       "93        94      84        NaN       Vanos   William  \n",
       "526      527     490  2015:2016     Swenson      Will  \n",
       "814      815     768        NaN  Williamson     David  \n",
       "892      893     843        NaN      Rivera      Will  "
      ]
     },
     "execution_count": 107,
     "metadata": {},
     "output_type": "execute_result"
    }
   ],
   "source": [
    "bm[age & will]"
   ]
  },
  {
   "cell_type": "code",
   "execution_count": 108,
   "id": "e969129d",
   "metadata": {},
   "outputs": [
    {
     "data": {
      "text/plain": [
       "704    59\n",
       "648    57\n",
       "326    56\n",
       "370    56\n",
       "563    55\n",
       "       ..\n",
       "367    44\n",
       "391    44\n",
       "475    44\n",
       "540    44\n",
       "614    44\n",
       "Name: Age, Length: 100, dtype: int64"
      ]
     },
     "execution_count": 108,
     "metadata": {},
     "output_type": "execute_result"
    }
   ],
   "source": [
    "bm.Age.nlargest(100)"
   ]
  },
  {
   "cell_type": "code",
   "execution_count": 109,
   "id": "01c4d656",
   "metadata": {},
   "outputs": [
    {
     "data": {
      "text/plain": [
       "<AxesSubplot:>"
      ]
     },
     "execution_count": 109,
     "metadata": {},
     "output_type": "execute_result"
    },
    {
     "data": {
      "image/png": "[encoded data removed]",
      "text/plain": [
       "<Figure size 432x288 with 1 Axes>"
      ]
     },
     "metadata": {
      "needs_background": "light"
     },
     "output_type": "display_data"
    }
   ],
   "source": [
    "bm.Age.hist()"
   ]
  },
  {
   "cell_type": "markdown",
   "id": "e166ecd9",
   "metadata": {},
   "source": [
    "### Parsing Indicators with get_dummies()"
   ]
  },
  {
   "cell_type": "code",
   "execution_count": 110,
   "id": "a9dc4e19",
   "metadata": {},
   "outputs": [
    {
     "data": {
      "text/html": [
       "<div>\n",
       "<style scoped>\n",
       "    .dataframe tbody tr th:only-of-type {\n",
       "        vertical-align: middle;\n",
       "    }\n",
       "\n",
       "    .dataframe tbody tr th {\n",
       "        vertical-align: top;\n",
       "    }\n",
       "\n",
       "    .dataframe thead th {\n",
       "        text-align: right;\n",
       "    }\n",
       "</style>\n",
       "<table border=\"1\" class=\"dataframe\">\n",
       "  <thead>\n",
       "    <tr style=\"text-align: right;\">\n",
       "      <th></th>\n",
       "      <th>Name</th>\n",
       "      <th>Age</th>\n",
       "      <th>M/F</th>\n",
       "      <th>City</th>\n",
       "      <th>State</th>\n",
       "      <th>Country</th>\n",
       "      <th>Official Time</th>\n",
       "      <th>Overall</th>\n",
       "      <th>Gender</th>\n",
       "      <th>Years Ran</th>\n",
       "      <th>First Name</th>\n",
       "      <th>Last Name</th>\n",
       "    </tr>\n",
       "  </thead>\n",
       "  <tbody>\n",
       "    <tr>\n",
       "      <th>4</th>\n",
       "      <td>Chebet, Wilson</td>\n",
       "      <td>31</td>\n",
       "      <td>M</td>\n",
       "      <td>Marakwet</td>\n",
       "      <td>NaN</td>\n",
       "      <td>KEN</td>\n",
       "      <td>2:12:35</td>\n",
       "      <td>5</td>\n",
       "      <td>5</td>\n",
       "      <td>2015</td>\n",
       "      <td>Chebet</td>\n",
       "      <td>Wilson</td>\n",
       "    </tr>\n",
       "    <tr>\n",
       "      <th>12</th>\n",
       "      <td>Keflezighi, Meb</td>\n",
       "      <td>41</td>\n",
       "      <td>M</td>\n",
       "      <td>San Diego</td>\n",
       "      <td>CA</td>\n",
       "      <td>USA</td>\n",
       "      <td>2:17:00</td>\n",
       "      <td>13</td>\n",
       "      <td>13</td>\n",
       "      <td>2015</td>\n",
       "      <td>Keflezighi</td>\n",
       "      <td>Meb</td>\n",
       "    </tr>\n",
       "    <tr>\n",
       "      <th>13</th>\n",
       "      <td>Nyasango, Cutbert</td>\n",
       "      <td>34</td>\n",
       "      <td>M</td>\n",
       "      <td>Harara</td>\n",
       "      <td>NaN</td>\n",
       "      <td>ZIM</td>\n",
       "      <td>2:17:40</td>\n",
       "      <td>14</td>\n",
       "      <td>14</td>\n",
       "      <td>2016</td>\n",
       "      <td>Nyasango</td>\n",
       "      <td>Cutbert</td>\n",
       "    </tr>\n",
       "    <tr>\n",
       "      <th>14</th>\n",
       "      <td>Korir, Wesley</td>\n",
       "      <td>34</td>\n",
       "      <td>M</td>\n",
       "      <td>Kitale</td>\n",
       "      <td>NaN</td>\n",
       "      <td>KEN</td>\n",
       "      <td>2:18:14</td>\n",
       "      <td>15</td>\n",
       "      <td>15</td>\n",
       "      <td>2015:2016</td>\n",
       "      <td>Korir</td>\n",
       "      <td>Wesley</td>\n",
       "    </tr>\n",
       "    <tr>\n",
       "      <th>29</th>\n",
       "      <td>Maravilla, Jorge</td>\n",
       "      <td>39</td>\n",
       "      <td>M</td>\n",
       "      <td>Mill Valley</td>\n",
       "      <td>CA</td>\n",
       "      <td>USA</td>\n",
       "      <td>2:24:27</td>\n",
       "      <td>30</td>\n",
       "      <td>27</td>\n",
       "      <td>2016</td>\n",
       "      <td>Maravilla</td>\n",
       "      <td>Jorge</td>\n",
       "    </tr>\n",
       "    <tr>\n",
       "      <th>...</th>\n",
       "      <td>...</td>\n",
       "      <td>...</td>\n",
       "      <td>...</td>\n",
       "      <td>...</td>\n",
       "      <td>...</td>\n",
       "      <td>...</td>\n",
       "      <td>...</td>\n",
       "      <td>...</td>\n",
       "      <td>...</td>\n",
       "      <td>...</td>\n",
       "      <td>...</td>\n",
       "      <td>...</td>\n",
       "    </tr>\n",
       "    <tr>\n",
       "      <th>986</th>\n",
       "      <td>Bretz, Virgil</td>\n",
       "      <td>44</td>\n",
       "      <td>M</td>\n",
       "      <td>Mt. Kisco</td>\n",
       "      <td>NY</td>\n",
       "      <td>USA</td>\n",
       "      <td>2:56:02</td>\n",
       "      <td>987</td>\n",
       "      <td>931</td>\n",
       "      <td>2015:2016</td>\n",
       "      <td>Bretz</td>\n",
       "      <td>Virgil</td>\n",
       "    </tr>\n",
       "    <tr>\n",
       "      <th>987</th>\n",
       "      <td>Cucuzzella, Mark</td>\n",
       "      <td>50</td>\n",
       "      <td>M</td>\n",
       "      <td>Shepherdstown</td>\n",
       "      <td>WV</td>\n",
       "      <td>USA</td>\n",
       "      <td>2:56:03</td>\n",
       "      <td>988</td>\n",
       "      <td>932</td>\n",
       "      <td>2016</td>\n",
       "      <td>Cucuzzella</td>\n",
       "      <td>Mark</td>\n",
       "    </tr>\n",
       "    <tr>\n",
       "      <th>988</th>\n",
       "      <td>Carron, John B</td>\n",
       "      <td>46</td>\n",
       "      <td>M</td>\n",
       "      <td>Irvington</td>\n",
       "      <td>NY</td>\n",
       "      <td>USA</td>\n",
       "      <td>2:56:03</td>\n",
       "      <td>989</td>\n",
       "      <td>933</td>\n",
       "      <td>2016</td>\n",
       "      <td>Carron</td>\n",
       "      <td>John B</td>\n",
       "    </tr>\n",
       "    <tr>\n",
       "      <th>995</th>\n",
       "      <td>Larosa, Mark</td>\n",
       "      <td>38</td>\n",
       "      <td>M</td>\n",
       "      <td>North Andover</td>\n",
       "      <td>MA</td>\n",
       "      <td>USA</td>\n",
       "      <td>2:56:06</td>\n",
       "      <td>996</td>\n",
       "      <td>940</td>\n",
       "      <td>2015:2016</td>\n",
       "      <td>Larosa</td>\n",
       "      <td>Mark</td>\n",
       "    </tr>\n",
       "    <tr>\n",
       "      <th>996</th>\n",
       "      <td>Williamson, Jerry A</td>\n",
       "      <td>43</td>\n",
       "      <td>M</td>\n",
       "      <td>Raleigh</td>\n",
       "      <td>NC</td>\n",
       "      <td>USA</td>\n",
       "      <td>2:56:06</td>\n",
       "      <td>997</td>\n",
       "      <td>941</td>\n",
       "      <td>2015</td>\n",
       "      <td>Williamson</td>\n",
       "      <td>Jerry A</td>\n",
       "    </tr>\n",
       "  </tbody>\n",
       "</table>\n",
       "<p>315 rows × 12 columns</p>\n",
       "</div>"
      ],
      "text/plain": [
       "                    Name  Age M/F           City State Country Official Time  \\\n",
       "4         Chebet, Wilson   31   M       Marakwet   NaN     KEN       2:12:35   \n",
       "12       Keflezighi, Meb   41   M      San Diego    CA     USA       2:17:00   \n",
       "13     Nyasango, Cutbert   34   M         Harara   NaN     ZIM       2:17:40   \n",
       "14         Korir, Wesley   34   M         Kitale   NaN     KEN       2:18:14   \n",
       "29      Maravilla, Jorge   39   M    Mill Valley    CA     USA       2:24:27   \n",
       "..                   ...  ...  ..            ...   ...     ...           ...   \n",
       "986        Bretz, Virgil   44   M      Mt. Kisco    NY     USA       2:56:02   \n",
       "987     Cucuzzella, Mark   50   M  Shepherdstown    WV     USA       2:56:03   \n",
       "988       Carron, John B   46   M      Irvington    NY     USA       2:56:03   \n",
       "995         Larosa, Mark   38   M  North Andover    MA     USA       2:56:06   \n",
       "996  Williamson, Jerry A   43   M        Raleigh    NC     USA       2:56:06   \n",
       "\n",
       "     Overall  Gender  Years Ran  First Name Last Name  \n",
       "4          5       5       2015      Chebet    Wilson  \n",
       "12        13      13       2015  Keflezighi       Meb  \n",
       "13        14      14       2016    Nyasango   Cutbert  \n",
       "14        15      15  2015:2016       Korir    Wesley  \n",
       "29        30      27       2016   Maravilla     Jorge  \n",
       "..       ...     ...        ...         ...       ...  \n",
       "986      987     931  2015:2016       Bretz    Virgil  \n",
       "987      988     932       2016  Cucuzzella      Mark  \n",
       "988      989     933       2016      Carron    John B  \n",
       "995      996     940  2015:2016      Larosa      Mark  \n",
       "996      997     941       2015  Williamson   Jerry A  \n",
       "\n",
       "[315 rows x 12 columns]"
      ]
     },
     "execution_count": 110,
     "metadata": {},
     "output_type": "execute_result"
    }
   ],
   "source": [
    "bm[bm['Years Ran'].notnull()]"
   ]
  },
  {
   "cell_type": "code",
   "execution_count": 111,
   "id": "3953d7aa",
   "metadata": {},
   "outputs": [
    {
     "data": {
      "text/plain": [
       "array([nan, '2015', '2016', '2015:2016'], dtype=object)"
      ]
     },
     "execution_count": 111,
     "metadata": {},
     "output_type": "execute_result"
    }
   ],
   "source": [
    "bm['Years Ran'].unique()"
   ]
  },
  {
   "cell_type": "code",
   "execution_count": 112,
   "id": "260ead43",
   "metadata": {},
   "outputs": [],
   "source": [
    "dummies = bm['Years Ran'].str.get_dummies(sep=':')"
   ]
  },
  {
   "cell_type": "code",
   "execution_count": 113,
   "id": "89eb1490",
   "metadata": {},
   "outputs": [],
   "source": [
    "# bm['Years Ran'].str.get_dummies()"
   ]
  },
  {
   "cell_type": "code",
   "execution_count": 114,
   "id": "4fa3b944",
   "metadata": {},
   "outputs": [],
   "source": [
    "# bm.insert(bm.columns.get_loc('Years Ran'),['Ran 2015','Ran 2016'], dummies['2015','2016'])"
   ]
  },
  {
   "cell_type": "code",
   "execution_count": 115,
   "id": "195f4b1f",
   "metadata": {},
   "outputs": [],
   "source": [
    "bm.insert(bm.columns.get_loc('Years Ran'),'Ran 2015', dummies['2015'])\n",
    "bm.insert(bm.columns.get_loc('Years Ran'),'Ran 2016', dummies['2016'])"
   ]
  },
  {
   "cell_type": "code",
   "execution_count": 116,
   "id": "c2e9d4cf",
   "metadata": {},
   "outputs": [
    {
     "data": {
      "text/html": [
       "<div>\n",
       "<style scoped>\n",
       "    .dataframe tbody tr th:only-of-type {\n",
       "        vertical-align: middle;\n",
       "    }\n",
       "\n",
       "    .dataframe tbody tr th {\n",
       "        vertical-align: top;\n",
       "    }\n",
       "\n",
       "    .dataframe thead th {\n",
       "        text-align: right;\n",
       "    }\n",
       "</style>\n",
       "<table border=\"1\" class=\"dataframe\">\n",
       "  <thead>\n",
       "    <tr style=\"text-align: right;\">\n",
       "      <th></th>\n",
       "      <th>Name</th>\n",
       "      <th>Age</th>\n",
       "      <th>M/F</th>\n",
       "      <th>City</th>\n",
       "      <th>State</th>\n",
       "      <th>Country</th>\n",
       "      <th>Official Time</th>\n",
       "      <th>Overall</th>\n",
       "      <th>Gender</th>\n",
       "      <th>Ran 2015</th>\n",
       "      <th>Ran 2016</th>\n",
       "      <th>Years Ran</th>\n",
       "      <th>First Name</th>\n",
       "      <th>Last Name</th>\n",
       "    </tr>\n",
       "  </thead>\n",
       "  <tbody>\n",
       "    <tr>\n",
       "      <th>0</th>\n",
       "      <td>Kirui, Geoffrey</td>\n",
       "      <td>24</td>\n",
       "      <td>M</td>\n",
       "      <td>Keringet</td>\n",
       "      <td>NaN</td>\n",
       "      <td>KEN</td>\n",
       "      <td>2:09:37</td>\n",
       "      <td>1</td>\n",
       "      <td>1</td>\n",
       "      <td>0</td>\n",
       "      <td>0</td>\n",
       "      <td>NaN</td>\n",
       "      <td>Kirui</td>\n",
       "      <td>Geoffrey</td>\n",
       "    </tr>\n",
       "    <tr>\n",
       "      <th>1</th>\n",
       "      <td>Rupp, Galen</td>\n",
       "      <td>30</td>\n",
       "      <td>M</td>\n",
       "      <td>Portland</td>\n",
       "      <td>OR</td>\n",
       "      <td>USA</td>\n",
       "      <td>2:09:58</td>\n",
       "      <td>2</td>\n",
       "      <td>2</td>\n",
       "      <td>0</td>\n",
       "      <td>0</td>\n",
       "      <td>NaN</td>\n",
       "      <td>Rupp</td>\n",
       "      <td>Galen</td>\n",
       "    </tr>\n",
       "    <tr>\n",
       "      <th>2</th>\n",
       "      <td>Osako, Suguru</td>\n",
       "      <td>25</td>\n",
       "      <td>M</td>\n",
       "      <td>Machida-City</td>\n",
       "      <td>NaN</td>\n",
       "      <td>JPN</td>\n",
       "      <td>2:10:28</td>\n",
       "      <td>3</td>\n",
       "      <td>3</td>\n",
       "      <td>0</td>\n",
       "      <td>0</td>\n",
       "      <td>NaN</td>\n",
       "      <td>Osako</td>\n",
       "      <td>Suguru</td>\n",
       "    </tr>\n",
       "    <tr>\n",
       "      <th>3</th>\n",
       "      <td>Biwott, Shadrack</td>\n",
       "      <td>32</td>\n",
       "      <td>M</td>\n",
       "      <td>Mammoth Lakes</td>\n",
       "      <td>CA</td>\n",
       "      <td>USA</td>\n",
       "      <td>2:12:08</td>\n",
       "      <td>4</td>\n",
       "      <td>4</td>\n",
       "      <td>0</td>\n",
       "      <td>0</td>\n",
       "      <td>NaN</td>\n",
       "      <td>Biwott</td>\n",
       "      <td>Shadrack</td>\n",
       "    </tr>\n",
       "    <tr>\n",
       "      <th>4</th>\n",
       "      <td>Chebet, Wilson</td>\n",
       "      <td>31</td>\n",
       "      <td>M</td>\n",
       "      <td>Marakwet</td>\n",
       "      <td>NaN</td>\n",
       "      <td>KEN</td>\n",
       "      <td>2:12:35</td>\n",
       "      <td>5</td>\n",
       "      <td>5</td>\n",
       "      <td>1</td>\n",
       "      <td>0</td>\n",
       "      <td>2015</td>\n",
       "      <td>Chebet</td>\n",
       "      <td>Wilson</td>\n",
       "    </tr>\n",
       "  </tbody>\n",
       "</table>\n",
       "</div>"
      ],
      "text/plain": [
       "               Name  Age M/F           City State Country Official Time  \\\n",
       "0   Kirui, Geoffrey   24   M       Keringet   NaN     KEN       2:09:37   \n",
       "1       Rupp, Galen   30   M       Portland    OR     USA       2:09:58   \n",
       "2     Osako, Suguru   25   M   Machida-City   NaN     JPN       2:10:28   \n",
       "3  Biwott, Shadrack   32   M  Mammoth Lakes    CA     USA       2:12:08   \n",
       "4    Chebet, Wilson   31   M       Marakwet   NaN     KEN       2:12:35   \n",
       "\n",
       "   Overall  Gender  Ran 2015  Ran 2016 Years Ran First Name Last Name  \n",
       "0        1       1         0         0       NaN      Kirui  Geoffrey  \n",
       "1        2       2         0         0       NaN       Rupp     Galen  \n",
       "2        3       3         0         0       NaN      Osako    Suguru  \n",
       "3        4       4         0         0       NaN     Biwott  Shadrack  \n",
       "4        5       5         1         0      2015     Chebet    Wilson  "
      ]
     },
     "execution_count": 116,
     "metadata": {},
     "output_type": "execute_result"
    }
   ],
   "source": [
    "bm.head()"
   ]
  },
  {
   "cell_type": "code",
   "execution_count": 117,
   "id": "a250dd0b",
   "metadata": {},
   "outputs": [],
   "source": [
    "r2015 = bm['Ran 2015']==1\n",
    "r2016 = bm['Ran 2016']==1"
   ]
  },
  {
   "cell_type": "code",
   "execution_count": 118,
   "id": "ee47a618",
   "metadata": {},
   "outputs": [
    {
     "data": {
      "text/html": [
       "<div>\n",
       "<style scoped>\n",
       "    .dataframe tbody tr th:only-of-type {\n",
       "        vertical-align: middle;\n",
       "    }\n",
       "\n",
       "    .dataframe tbody tr th {\n",
       "        vertical-align: top;\n",
       "    }\n",
       "\n",
       "    .dataframe thead th {\n",
       "        text-align: right;\n",
       "    }\n",
       "</style>\n",
       "<table border=\"1\" class=\"dataframe\">\n",
       "  <thead>\n",
       "    <tr style=\"text-align: right;\">\n",
       "      <th></th>\n",
       "      <th>Name</th>\n",
       "      <th>Age</th>\n",
       "      <th>M/F</th>\n",
       "      <th>City</th>\n",
       "      <th>State</th>\n",
       "      <th>Country</th>\n",
       "      <th>Official Time</th>\n",
       "      <th>Overall</th>\n",
       "      <th>Gender</th>\n",
       "      <th>Ran 2015</th>\n",
       "      <th>Ran 2016</th>\n",
       "      <th>Years Ran</th>\n",
       "      <th>First Name</th>\n",
       "      <th>Last Name</th>\n",
       "    </tr>\n",
       "  </thead>\n",
       "  <tbody>\n",
       "    <tr>\n",
       "      <th>14</th>\n",
       "      <td>Korir, Wesley</td>\n",
       "      <td>34</td>\n",
       "      <td>M</td>\n",
       "      <td>Kitale</td>\n",
       "      <td>NaN</td>\n",
       "      <td>KEN</td>\n",
       "      <td>2:18:14</td>\n",
       "      <td>15</td>\n",
       "      <td>15</td>\n",
       "      <td>1</td>\n",
       "      <td>1</td>\n",
       "      <td>2015:2016</td>\n",
       "      <td>Korir</td>\n",
       "      <td>Wesley</td>\n",
       "    </tr>\n",
       "    <tr>\n",
       "      <th>30</th>\n",
       "      <td>Ornelas, Zachary</td>\n",
       "      <td>25</td>\n",
       "      <td>M</td>\n",
       "      <td>Ann Arbor</td>\n",
       "      <td>MI</td>\n",
       "      <td>USA</td>\n",
       "      <td>2:24:40</td>\n",
       "      <td>31</td>\n",
       "      <td>28</td>\n",
       "      <td>1</td>\n",
       "      <td>1</td>\n",
       "      <td>2015:2016</td>\n",
       "      <td>Ornelas</td>\n",
       "      <td>Zachary</td>\n",
       "    </tr>\n",
       "    <tr>\n",
       "      <th>31</th>\n",
       "      <td>Ayr, Jason M.</td>\n",
       "      <td>29</td>\n",
       "      <td>M</td>\n",
       "      <td>Allston</td>\n",
       "      <td>MA</td>\n",
       "      <td>USA</td>\n",
       "      <td>2:24:49</td>\n",
       "      <td>32</td>\n",
       "      <td>29</td>\n",
       "      <td>1</td>\n",
       "      <td>1</td>\n",
       "      <td>2015:2016</td>\n",
       "      <td>Ayr</td>\n",
       "      <td>Jason M.</td>\n",
       "    </tr>\n",
       "    <tr>\n",
       "      <th>36</th>\n",
       "      <td>Vangampleare, Stephen</td>\n",
       "      <td>26</td>\n",
       "      <td>M</td>\n",
       "      <td>Colorado Springs</td>\n",
       "      <td>CO</td>\n",
       "      <td>USA</td>\n",
       "      <td>2:25:35</td>\n",
       "      <td>37</td>\n",
       "      <td>33</td>\n",
       "      <td>1</td>\n",
       "      <td>1</td>\n",
       "      <td>2015:2016</td>\n",
       "      <td>Vangampleare</td>\n",
       "      <td>Stephen</td>\n",
       "    </tr>\n",
       "    <tr>\n",
       "      <th>56</th>\n",
       "      <td>Boudalia, Said Sr.</td>\n",
       "      <td>48</td>\n",
       "      <td>M</td>\n",
       "      <td>Belluno</td>\n",
       "      <td>NaN</td>\n",
       "      <td>ITA</td>\n",
       "      <td>2:30:11</td>\n",
       "      <td>57</td>\n",
       "      <td>51</td>\n",
       "      <td>1</td>\n",
       "      <td>1</td>\n",
       "      <td>2015:2016</td>\n",
       "      <td>Boudalia</td>\n",
       "      <td>Said Sr.</td>\n",
       "    </tr>\n",
       "    <tr>\n",
       "      <th>...</th>\n",
       "      <td>...</td>\n",
       "      <td>...</td>\n",
       "      <td>...</td>\n",
       "      <td>...</td>\n",
       "      <td>...</td>\n",
       "      <td>...</td>\n",
       "      <td>...</td>\n",
       "      <td>...</td>\n",
       "      <td>...</td>\n",
       "      <td>...</td>\n",
       "      <td>...</td>\n",
       "      <td>...</td>\n",
       "      <td>...</td>\n",
       "      <td>...</td>\n",
       "    </tr>\n",
       "    <tr>\n",
       "      <th>959</th>\n",
       "      <td>Yu, Michael</td>\n",
       "      <td>45</td>\n",
       "      <td>M</td>\n",
       "      <td>Zhubei City, Hsinchu County</td>\n",
       "      <td>NaN</td>\n",
       "      <td>TWN</td>\n",
       "      <td>2:55:40</td>\n",
       "      <td>960</td>\n",
       "      <td>907</td>\n",
       "      <td>1</td>\n",
       "      <td>1</td>\n",
       "      <td>2015:2016</td>\n",
       "      <td>Yu</td>\n",
       "      <td>Michael</td>\n",
       "    </tr>\n",
       "    <tr>\n",
       "      <th>962</th>\n",
       "      <td>Husak, Tyler</td>\n",
       "      <td>30</td>\n",
       "      <td>M</td>\n",
       "      <td>Marion</td>\n",
       "      <td>IA</td>\n",
       "      <td>USA</td>\n",
       "      <td>2:55:42</td>\n",
       "      <td>963</td>\n",
       "      <td>910</td>\n",
       "      <td>1</td>\n",
       "      <td>1</td>\n",
       "      <td>2015:2016</td>\n",
       "      <td>Husak</td>\n",
       "      <td>Tyler</td>\n",
       "    </tr>\n",
       "    <tr>\n",
       "      <th>977</th>\n",
       "      <td>Guthals, Nathaniel</td>\n",
       "      <td>26</td>\n",
       "      <td>M</td>\n",
       "      <td>Overland Park</td>\n",
       "      <td>KS</td>\n",
       "      <td>USA</td>\n",
       "      <td>2:55:57</td>\n",
       "      <td>978</td>\n",
       "      <td>923</td>\n",
       "      <td>1</td>\n",
       "      <td>1</td>\n",
       "      <td>2015:2016</td>\n",
       "      <td>Guthals</td>\n",
       "      <td>Nathaniel</td>\n",
       "    </tr>\n",
       "    <tr>\n",
       "      <th>986</th>\n",
       "      <td>Bretz, Virgil</td>\n",
       "      <td>44</td>\n",
       "      <td>M</td>\n",
       "      <td>Mt. Kisco</td>\n",
       "      <td>NY</td>\n",
       "      <td>USA</td>\n",
       "      <td>2:56:02</td>\n",
       "      <td>987</td>\n",
       "      <td>931</td>\n",
       "      <td>1</td>\n",
       "      <td>1</td>\n",
       "      <td>2015:2016</td>\n",
       "      <td>Bretz</td>\n",
       "      <td>Virgil</td>\n",
       "    </tr>\n",
       "    <tr>\n",
       "      <th>995</th>\n",
       "      <td>Larosa, Mark</td>\n",
       "      <td>38</td>\n",
       "      <td>M</td>\n",
       "      <td>North Andover</td>\n",
       "      <td>MA</td>\n",
       "      <td>USA</td>\n",
       "      <td>2:56:06</td>\n",
       "      <td>996</td>\n",
       "      <td>940</td>\n",
       "      <td>1</td>\n",
       "      <td>1</td>\n",
       "      <td>2015:2016</td>\n",
       "      <td>Larosa</td>\n",
       "      <td>Mark</td>\n",
       "    </tr>\n",
       "  </tbody>\n",
       "</table>\n",
       "<p>124 rows × 14 columns</p>\n",
       "</div>"
      ],
      "text/plain": [
       "                      Name  Age M/F                         City State  \\\n",
       "14           Korir, Wesley   34   M                       Kitale   NaN   \n",
       "30        Ornelas, Zachary   25   M                    Ann Arbor    MI   \n",
       "31           Ayr, Jason M.   29   M                      Allston    MA   \n",
       "36   Vangampleare, Stephen   26   M             Colorado Springs    CO   \n",
       "56      Boudalia, Said Sr.   48   M                      Belluno   NaN   \n",
       "..                     ...  ...  ..                          ...   ...   \n",
       "959            Yu, Michael   45   M  Zhubei City, Hsinchu County   NaN   \n",
       "962           Husak, Tyler   30   M                       Marion    IA   \n",
       "977     Guthals, Nathaniel   26   M                Overland Park    KS   \n",
       "986          Bretz, Virgil   44   M                    Mt. Kisco    NY   \n",
       "995           Larosa, Mark   38   M                North Andover    MA   \n",
       "\n",
       "    Country Official Time  Overall  Gender  Ran 2015  Ran 2016  Years Ran  \\\n",
       "14      KEN       2:18:14       15      15         1         1  2015:2016   \n",
       "30      USA       2:24:40       31      28         1         1  2015:2016   \n",
       "31      USA       2:24:49       32      29         1         1  2015:2016   \n",
       "36      USA       2:25:35       37      33         1         1  2015:2016   \n",
       "56      ITA       2:30:11       57      51         1         1  2015:2016   \n",
       "..      ...           ...      ...     ...       ...       ...        ...   \n",
       "959     TWN       2:55:40      960     907         1         1  2015:2016   \n",
       "962     USA       2:55:42      963     910         1         1  2015:2016   \n",
       "977     USA       2:55:57      978     923         1         1  2015:2016   \n",
       "986     USA       2:56:02      987     931         1         1  2015:2016   \n",
       "995     USA       2:56:06      996     940         1         1  2015:2016   \n",
       "\n",
       "       First Name  Last Name  \n",
       "14          Korir     Wesley  \n",
       "30        Ornelas    Zachary  \n",
       "31            Ayr   Jason M.  \n",
       "36   Vangampleare    Stephen  \n",
       "56       Boudalia   Said Sr.  \n",
       "..            ...        ...  \n",
       "959            Yu    Michael  \n",
       "962         Husak      Tyler  \n",
       "977       Guthals  Nathaniel  \n",
       "986         Bretz     Virgil  \n",
       "995        Larosa       Mark  \n",
       "\n",
       "[124 rows x 14 columns]"
      ]
     },
     "execution_count": 118,
     "metadata": {},
     "output_type": "execute_result"
    }
   ],
   "source": [
    "bm[r2015 & r2016]"
   ]
  },
  {
   "cell_type": "code",
   "execution_count": 119,
   "id": "23530c82",
   "metadata": {},
   "outputs": [
    {
     "data": {
      "text/plain": [
       "190"
      ]
     },
     "execution_count": 119,
     "metadata": {},
     "output_type": "execute_result"
    }
   ],
   "source": [
    "bm['Ran 2015'].sum()"
   ]
  },
  {
   "cell_type": "markdown",
   "id": "68ef9850",
   "metadata": {},
   "source": [
    "### Text Replacement"
   ]
  },
  {
   "cell_type": "code",
   "execution_count": 120,
   "id": "2d680790",
   "metadata": {},
   "outputs": [],
   "source": [
    "s = \"this section is about text. \"\n",
    "\n",
    "s+=\"hello from the other side text\""
   ]
  },
  {
   "cell_type": "code",
   "execution_count": 121,
   "id": "141046f6",
   "metadata": {},
   "outputs": [
    {
     "data": {
      "text/plain": [
       "'this section is about text. hello from the other side text'"
      ]
     },
     "execution_count": 121,
     "metadata": {},
     "output_type": "execute_result"
    }
   ],
   "source": [
    "s"
   ]
  },
  {
   "cell_type": "code",
   "execution_count": 122,
   "id": "fea1b1ca",
   "metadata": {},
   "outputs": [
    {
     "data": {
      "text/plain": [
       "'this section is about string. hello from the other side string'"
      ]
     },
     "execution_count": 122,
     "metadata": {},
     "output_type": "execute_result"
    }
   ],
   "source": [
    "s.replace('text','string')"
   ]
  },
  {
   "cell_type": "code",
   "execution_count": 123,
   "id": "2cdfd0a2",
   "metadata": {},
   "outputs": [
    {
     "data": {
      "text/plain": [
       "'this section is about string. hello from the other side text'"
      ]
     },
     "execution_count": 123,
     "metadata": {},
     "output_type": "execute_result"
    }
   ],
   "source": [
    "s.replace('text','string',1)"
   ]
  },
  {
   "cell_type": "code",
   "execution_count": 124,
   "id": "9aad963d",
   "metadata": {},
   "outputs": [
    {
     "data": {
      "text/html": [
       "<div>\n",
       "<style scoped>\n",
       "    .dataframe tbody tr th:only-of-type {\n",
       "        vertical-align: middle;\n",
       "    }\n",
       "\n",
       "    .dataframe tbody tr th {\n",
       "        vertical-align: top;\n",
       "    }\n",
       "\n",
       "    .dataframe thead th {\n",
       "        text-align: right;\n",
       "    }\n",
       "</style>\n",
       "<table border=\"1\" class=\"dataframe\">\n",
       "  <thead>\n",
       "    <tr style=\"text-align: right;\">\n",
       "      <th></th>\n",
       "      <th>Name</th>\n",
       "      <th>Age</th>\n",
       "      <th>M/F</th>\n",
       "      <th>City</th>\n",
       "      <th>State</th>\n",
       "      <th>Country</th>\n",
       "      <th>Official Time</th>\n",
       "      <th>Overall</th>\n",
       "      <th>Gender</th>\n",
       "      <th>Ran 2015</th>\n",
       "      <th>Ran 2016</th>\n",
       "      <th>Years Ran</th>\n",
       "      <th>First Name</th>\n",
       "      <th>Last Name</th>\n",
       "    </tr>\n",
       "  </thead>\n",
       "  <tbody>\n",
       "    <tr>\n",
       "      <th>129</th>\n",
       "      <td>Guldan, Ryan W</td>\n",
       "      <td>33</td>\n",
       "      <td>M</td>\n",
       "      <td>Denver</td>\n",
       "      <td>CO</td>\n",
       "      <td>USA</td>\n",
       "      <td>2:37:11</td>\n",
       "      <td>130</td>\n",
       "      <td>114</td>\n",
       "      <td>0</td>\n",
       "      <td>1</td>\n",
       "      <td>2016</td>\n",
       "      <td>Guldan</td>\n",
       "      <td>Ryan W</td>\n",
       "    </tr>\n",
       "    <tr>\n",
       "      <th>381</th>\n",
       "      <td>Phillips, Caitlin</td>\n",
       "      <td>34</td>\n",
       "      <td>F</td>\n",
       "      <td>Brooklyn</td>\n",
       "      <td>NY</td>\n",
       "      <td>USA</td>\n",
       "      <td>2:46:14</td>\n",
       "      <td>382</td>\n",
       "      <td>30</td>\n",
       "      <td>0</td>\n",
       "      <td>0</td>\n",
       "      <td>NaN</td>\n",
       "      <td>Phillips</td>\n",
       "      <td>Caitlin</td>\n",
       "    </tr>\n",
       "    <tr>\n",
       "      <th>768</th>\n",
       "      <td>Nolan, Alison L</td>\n",
       "      <td>27</td>\n",
       "      <td>F</td>\n",
       "      <td>Indialantic</td>\n",
       "      <td>FL</td>\n",
       "      <td>USA</td>\n",
       "      <td>2:53:04</td>\n",
       "      <td>769</td>\n",
       "      <td>45</td>\n",
       "      <td>0</td>\n",
       "      <td>0</td>\n",
       "      <td>NaN</td>\n",
       "      <td>Nolan</td>\n",
       "      <td>Alison L</td>\n",
       "    </tr>\n",
       "    <tr>\n",
       "      <th>14</th>\n",
       "      <td>Korir, Wesley</td>\n",
       "      <td>34</td>\n",
       "      <td>M</td>\n",
       "      <td>Kitale</td>\n",
       "      <td>NaN</td>\n",
       "      <td>KEN</td>\n",
       "      <td>2:18:14</td>\n",
       "      <td>15</td>\n",
       "      <td>15</td>\n",
       "      <td>1</td>\n",
       "      <td>1</td>\n",
       "      <td>2015:2016</td>\n",
       "      <td>Korir</td>\n",
       "      <td>Wesley</td>\n",
       "    </tr>\n",
       "    <tr>\n",
       "      <th>459</th>\n",
       "      <td>McSween, Matt K.</td>\n",
       "      <td>26</td>\n",
       "      <td>M</td>\n",
       "      <td>Grand Rapids</td>\n",
       "      <td>MI</td>\n",
       "      <td>USA</td>\n",
       "      <td>2:47:41</td>\n",
       "      <td>460</td>\n",
       "      <td>427</td>\n",
       "      <td>0</td>\n",
       "      <td>0</td>\n",
       "      <td>NaN</td>\n",
       "      <td>McSween</td>\n",
       "      <td>Matt K.</td>\n",
       "    </tr>\n",
       "    <tr>\n",
       "      <th>320</th>\n",
       "      <td>Nishimura, Akira</td>\n",
       "      <td>41</td>\n",
       "      <td>M</td>\n",
       "      <td>Ann Arbor</td>\n",
       "      <td>MI</td>\n",
       "      <td>USA</td>\n",
       "      <td>2:44:34</td>\n",
       "      <td>321</td>\n",
       "      <td>294</td>\n",
       "      <td>1</td>\n",
       "      <td>1</td>\n",
       "      <td>2015:2016</td>\n",
       "      <td>Nishimura</td>\n",
       "      <td>Akira</td>\n",
       "    </tr>\n",
       "    <tr>\n",
       "      <th>634</th>\n",
       "      <td>Zentz, Jesse</td>\n",
       "      <td>41</td>\n",
       "      <td>M</td>\n",
       "      <td>Helena</td>\n",
       "      <td>MT</td>\n",
       "      <td>USA</td>\n",
       "      <td>2:50:56</td>\n",
       "      <td>635</td>\n",
       "      <td>595</td>\n",
       "      <td>0</td>\n",
       "      <td>0</td>\n",
       "      <td>NaN</td>\n",
       "      <td>Zentz</td>\n",
       "      <td>Jesse</td>\n",
       "    </tr>\n",
       "    <tr>\n",
       "      <th>74</th>\n",
       "      <td>Nukuri, Diane</td>\n",
       "      <td>32</td>\n",
       "      <td>F</td>\n",
       "      <td>Kigozi</td>\n",
       "      <td>NaN</td>\n",
       "      <td>BDI</td>\n",
       "      <td>2:32:24</td>\n",
       "      <td>75</td>\n",
       "      <td>9</td>\n",
       "      <td>0</td>\n",
       "      <td>0</td>\n",
       "      <td>NaN</td>\n",
       "      <td>Nukuri</td>\n",
       "      <td>Diane</td>\n",
       "    </tr>\n",
       "    <tr>\n",
       "      <th>479</th>\n",
       "      <td>Ryan, Elizabeth</td>\n",
       "      <td>26</td>\n",
       "      <td>F</td>\n",
       "      <td>Cambridge</td>\n",
       "      <td>MA</td>\n",
       "      <td>USA</td>\n",
       "      <td>2:48:06</td>\n",
       "      <td>480</td>\n",
       "      <td>35</td>\n",
       "      <td>1</td>\n",
       "      <td>0</td>\n",
       "      <td>2015</td>\n",
       "      <td>Ryan</td>\n",
       "      <td>Elizabeth</td>\n",
       "    </tr>\n",
       "    <tr>\n",
       "      <th>540</th>\n",
       "      <td>Richter, Peter W Sr.</td>\n",
       "      <td>44</td>\n",
       "      <td>M</td>\n",
       "      <td>Winston Salem</td>\n",
       "      <td>NC</td>\n",
       "      <td>USA</td>\n",
       "      <td>2:49:24</td>\n",
       "      <td>541</td>\n",
       "      <td>504</td>\n",
       "      <td>0</td>\n",
       "      <td>0</td>\n",
       "      <td>NaN</td>\n",
       "      <td>Richter</td>\n",
       "      <td>Peter W Sr.</td>\n",
       "    </tr>\n",
       "  </tbody>\n",
       "</table>\n",
       "</div>"
      ],
      "text/plain": [
       "                     Name  Age M/F           City State Country Official Time  \\\n",
       "129        Guldan, Ryan W   33   M         Denver    CO     USA       2:37:11   \n",
       "381     Phillips, Caitlin   34   F       Brooklyn    NY     USA       2:46:14   \n",
       "768       Nolan, Alison L   27   F    Indialantic    FL     USA       2:53:04   \n",
       "14          Korir, Wesley   34   M         Kitale   NaN     KEN       2:18:14   \n",
       "459      McSween, Matt K.   26   M   Grand Rapids    MI     USA       2:47:41   \n",
       "320      Nishimura, Akira   41   M      Ann Arbor    MI     USA       2:44:34   \n",
       "634          Zentz, Jesse   41   M         Helena    MT     USA       2:50:56   \n",
       "74          Nukuri, Diane   32   F         Kigozi   NaN     BDI       2:32:24   \n",
       "479       Ryan, Elizabeth   26   F      Cambridge    MA     USA       2:48:06   \n",
       "540  Richter, Peter W Sr.   44   M  Winston Salem    NC     USA       2:49:24   \n",
       "\n",
       "     Overall  Gender  Ran 2015  Ran 2016  Years Ran First Name    Last Name  \n",
       "129      130     114         0         1       2016     Guldan       Ryan W  \n",
       "381      382      30         0         0        NaN   Phillips      Caitlin  \n",
       "768      769      45         0         0        NaN      Nolan     Alison L  \n",
       "14        15      15         1         1  2015:2016      Korir       Wesley  \n",
       "459      460     427         0         0        NaN    McSween      Matt K.  \n",
       "320      321     294         1         1  2015:2016  Nishimura        Akira  \n",
       "634      635     595         0         0        NaN      Zentz        Jesse  \n",
       "74        75       9         0         0        NaN     Nukuri        Diane  \n",
       "479      480      35         1         0       2015       Ryan    Elizabeth  \n",
       "540      541     504         0         0        NaN    Richter  Peter W Sr.  "
      ]
     },
     "execution_count": 124,
     "metadata": {},
     "output_type": "execute_result"
    }
   ],
   "source": [
    "bm.sample(10)"
   ]
  },
  {
   "cell_type": "code",
   "execution_count": 131,
   "id": "67fb48fb",
   "metadata": {},
   "outputs": [],
   "source": [
    "bm['M/F'] = bm['M/F']\\\n",
    ".str.replace('M','Male')\\\n",
    ".str.replace('F','Female')"
   ]
  },
  {
   "cell_type": "code",
   "execution_count": 126,
   "id": "2e7f99ed",
   "metadata": {},
   "outputs": [],
   "source": [
    "# bm['M/F'] = bm['M/F'].str.replace('M','Male').str.replace('F','Female').value_counts()"
   ]
  },
  {
   "cell_type": "code",
   "execution_count": 133,
   "id": "0cf89747",
   "metadata": {},
   "outputs": [
    {
     "data": {
      "text/plain": [
       "0                KEN\n",
       "1      United States\n",
       "2                JPN\n",
       "3      United States\n",
       "4                KEN\n",
       "           ...      \n",
       "995    United States\n",
       "996    United States\n",
       "997    United States\n",
       "998    United States\n",
       "999    United States\n",
       "Name: Country, Length: 1000, dtype: object"
      ]
     },
     "execution_count": 133,
     "metadata": {},
     "output_type": "execute_result"
    }
   ],
   "source": [
    "bm.Country.str.replace('USA','United States')"
   ]
  },
  {
   "cell_type": "code",
   "execution_count": 135,
   "id": "146094bd",
   "metadata": {},
   "outputs": [
    {
     "data": {
      "text/plain": [
       "0      KEN\n",
       "1      USA\n",
       "2      JPN\n",
       "3      USA\n",
       "4      KEN\n",
       "      ... \n",
       "995    USA\n",
       "996    USA\n",
       "997    USA\n",
       "998    USA\n",
       "999    USA\n",
       "Name: Country, Length: 1000, dtype: object"
      ]
     },
     "execution_count": 135,
     "metadata": {},
     "output_type": "execute_result"
    }
   ],
   "source": [
    "bm.Country.str.replace('UsA','United States')"
   ]
  },
  {
   "cell_type": "code",
   "execution_count": 137,
   "id": "fc24e1b4",
   "metadata": {},
   "outputs": [
    {
     "data": {
      "text/plain": [
       "0                KEN\n",
       "1      United States\n",
       "2                JPN\n",
       "3      United States\n",
       "4                KEN\n",
       "           ...      \n",
       "995    United States\n",
       "996    United States\n",
       "997    United States\n",
       "998    United States\n",
       "999    United States\n",
       "Name: Country, Length: 1000, dtype: object"
      ]
     },
     "execution_count": 137,
     "metadata": {},
     "output_type": "execute_result"
    }
   ],
   "source": [
    "bm.Country.str.replace('UsA','United States',\n",
    "                       case=False)"
   ]
  },
  {
   "cell_type": "markdown",
   "id": "9c66bcbc",
   "metadata": {},
   "source": [
    "### Introduction to Regular Expressions"
   ]
  },
  {
   "cell_type": "code",
   "execution_count": 139,
   "id": "efc932b6",
   "metadata": {},
   "outputs": [],
   "source": [
    "# character sets --> []\n",
    "# capturing groups ---> ()"
   ]
  },
  {
   "cell_type": "code",
   "execution_count": 140,
   "id": "8de0f3cc",
   "metadata": {},
   "outputs": [],
   "source": [
    "import re"
   ]
  },
  {
   "cell_type": "code",
   "execution_count": 141,
   "id": "cadcf1a6",
   "metadata": {},
   "outputs": [],
   "source": [
    "pattern = r'\\w\\S*@.*\\w'"
   ]
  },
  {
   "cell_type": "code",
   "execution_count": 142,
   "id": "eb868a10",
   "metadata": {},
   "outputs": [
    {
     "data": {
      "text/plain": [
       "['aayus@gmail.com']"
      ]
     },
     "execution_count": 142,
     "metadata": {},
     "output_type": "execute_result"
    }
   ],
   "source": [
    "re.findall(pattern,\"aayus@gmail.com\")"
   ]
  },
  {
   "cell_type": "code",
   "execution_count": 143,
   "id": "e213f635",
   "metadata": {},
   "outputs": [
    {
     "data": {
      "text/plain": [
       "[]"
      ]
     },
     "execution_count": 143,
     "metadata": {},
     "output_type": "execute_result"
    }
   ],
   "source": [
    "re.findall(pattern,\"aayusgmail.com\")"
   ]
  },
  {
   "cell_type": "code",
   "execution_count": 166,
   "id": "be74c18e",
   "metadata": {},
   "outputs": [],
   "source": [
    "pattern=r\"\\w\\S*(@.*\\w)\""
   ]
  },
  {
   "cell_type": "code",
   "execution_count": 164,
   "id": "8910c896",
   "metadata": {},
   "outputs": [],
   "source": [
    "email = \"aayus@gmail.com\""
   ]
  },
  {
   "cell_type": "code",
   "execution_count": 165,
   "id": "ff7c1ed7",
   "metadata": {},
   "outputs": [
    {
     "data": {
      "text/plain": [
       "['@gmail.com']"
      ]
     },
     "execution_count": 165,
     "metadata": {},
     "output_type": "execute_result"
    }
   ],
   "source": [
    "re.findall(pattern,email)"
   ]
  },
  {
   "cell_type": "code",
   "execution_count": 177,
   "id": "554d787d",
   "metadata": {},
   "outputs": [
    {
     "data": {
      "text/plain": [
       "'******@gmail.com'"
      ]
     },
     "execution_count": 177,
     "metadata": {},
     "output_type": "execute_result"
    }
   ],
   "source": [
    "re.sub(pattern,r\"******\\1\", email)\n",
    "\n",
    "# \\1 means -- group captured inside ()\n",
    "# and replace everything in first part of email with bunch of **"
   ]
  },
  {
   "cell_type": "code",
   "execution_count": 176,
   "id": "0e15af87",
   "metadata": {},
   "outputs": [],
   "source": [
    "# re.sub(pattern,r\"****\\0\", email)\n"
   ]
  },
  {
   "cell_type": "code",
   "execution_count": 188,
   "id": "703f2728",
   "metadata": {},
   "outputs": [],
   "source": [
    "compiled_pattern = re.compile(r\"^[A-Za-z0-9\\.\\+_-]+@[A-Za-z0-9\\._-]+\\.[a-zA-Z]*$\")"
   ]
  },
  {
   "cell_type": "code",
   "execution_count": 179,
   "id": "95e71caf",
   "metadata": {},
   "outputs": [],
   "source": [
    "email2 = 'aa@rr@asc.com'"
   ]
  },
  {
   "cell_type": "code",
   "execution_count": 182,
   "id": "f151030e",
   "metadata": {},
   "outputs": [
    {
     "data": {
      "text/plain": [
       "['@asc.com']"
      ]
     },
     "execution_count": 182,
     "metadata": {},
     "output_type": "execute_result"
    }
   ],
   "source": [
    "re.findall(pattern,email2)"
   ]
  },
  {
   "cell_type": "code",
   "execution_count": 189,
   "id": "a23abbd8",
   "metadata": {},
   "outputs": [
    {
     "data": {
      "text/plain": [
       "[]"
      ]
     },
     "execution_count": 189,
     "metadata": {},
     "output_type": "execute_result"
    }
   ],
   "source": [
    "re.findall(compiled_pattern,email2)"
   ]
  },
  {
   "cell_type": "code",
   "execution_count": 187,
   "id": "72e28787",
   "metadata": {},
   "outputs": [],
   "source": [
    "email_list = ['abc@xyz.com','ac.com','axd@da@df.com']"
   ]
  },
  {
   "cell_type": "code",
   "execution_count": 192,
   "id": "035bd7e8",
   "metadata": {},
   "outputs": [],
   "source": [
    "raw_pattern = r\"^[A-Za-z0-9\\.\\+_-]+@[A-Za-z0-9\\._-]+\\.[a-zA-Z]*$\""
   ]
  },
  {
   "cell_type": "code",
   "execution_count": 193,
   "id": "d7c49fee",
   "metadata": {},
   "outputs": [
    {
     "data": {
      "text/plain": [
       "[<re.Match object; span=(0, 11), match='abc@xyz.com'>, None, None]"
      ]
     },
     "execution_count": 193,
     "metadata": {},
     "output_type": "execute_result"
    }
   ],
   "source": [
    "[re.match(compiled_pattern,email) for email in email_list]"
   ]
  },
  {
   "cell_type": "code",
   "execution_count": 195,
   "id": "7077274d",
   "metadata": {},
   "outputs": [
    {
     "data": {
      "text/plain": [
       "[<re.Match object; span=(0, 11), match='abc@xyz.com'>, None, None]"
      ]
     },
     "execution_count": 195,
     "metadata": {},
     "output_type": "execute_result"
    }
   ],
   "source": [
    "[re.match(raw_pattern,email) for email in email_list]"
   ]
  },
  {
   "cell_type": "markdown",
   "id": "e052fda0",
   "metadata": {},
   "source": [
    "### contains(), split(), replace()"
   ]
  },
  {
   "cell_type": "code",
   "execution_count": 196,
   "id": "699ca8b5",
   "metadata": {},
   "outputs": [
    {
     "data": {
      "text/html": [
       "<div>\n",
       "<style scoped>\n",
       "    .dataframe tbody tr th:only-of-type {\n",
       "        vertical-align: middle;\n",
       "    }\n",
       "\n",
       "    .dataframe tbody tr th {\n",
       "        vertical-align: top;\n",
       "    }\n",
       "\n",
       "    .dataframe thead th {\n",
       "        text-align: right;\n",
       "    }\n",
       "</style>\n",
       "<table border=\"1\" class=\"dataframe\">\n",
       "  <thead>\n",
       "    <tr style=\"text-align: right;\">\n",
       "      <th></th>\n",
       "      <th>Name</th>\n",
       "      <th>Age</th>\n",
       "      <th>M/F</th>\n",
       "      <th>City</th>\n",
       "      <th>State</th>\n",
       "      <th>Country</th>\n",
       "      <th>Official Time</th>\n",
       "      <th>Overall</th>\n",
       "      <th>Gender</th>\n",
       "      <th>Ran 2015</th>\n",
       "      <th>Ran 2016</th>\n",
       "      <th>Years Ran</th>\n",
       "      <th>First Name</th>\n",
       "      <th>Last Name</th>\n",
       "    </tr>\n",
       "  </thead>\n",
       "  <tbody>\n",
       "    <tr>\n",
       "      <th>0</th>\n",
       "      <td>Kirui, Geoffrey</td>\n",
       "      <td>24</td>\n",
       "      <td>Male</td>\n",
       "      <td>Keringet</td>\n",
       "      <td>NaN</td>\n",
       "      <td>KEN</td>\n",
       "      <td>2:09:37</td>\n",
       "      <td>1</td>\n",
       "      <td>1</td>\n",
       "      <td>0</td>\n",
       "      <td>0</td>\n",
       "      <td>NaN</td>\n",
       "      <td>Kirui</td>\n",
       "      <td>Geoffrey</td>\n",
       "    </tr>\n",
       "    <tr>\n",
       "      <th>1</th>\n",
       "      <td>Rupp, Galen</td>\n",
       "      <td>30</td>\n",
       "      <td>Male</td>\n",
       "      <td>Portland</td>\n",
       "      <td>OR</td>\n",
       "      <td>USA</td>\n",
       "      <td>2:09:58</td>\n",
       "      <td>2</td>\n",
       "      <td>2</td>\n",
       "      <td>0</td>\n",
       "      <td>0</td>\n",
       "      <td>NaN</td>\n",
       "      <td>Rupp</td>\n",
       "      <td>Galen</td>\n",
       "    </tr>\n",
       "    <tr>\n",
       "      <th>2</th>\n",
       "      <td>Osako, Suguru</td>\n",
       "      <td>25</td>\n",
       "      <td>Male</td>\n",
       "      <td>Machida-City</td>\n",
       "      <td>NaN</td>\n",
       "      <td>JPN</td>\n",
       "      <td>2:10:28</td>\n",
       "      <td>3</td>\n",
       "      <td>3</td>\n",
       "      <td>0</td>\n",
       "      <td>0</td>\n",
       "      <td>NaN</td>\n",
       "      <td>Osako</td>\n",
       "      <td>Suguru</td>\n",
       "    </tr>\n",
       "    <tr>\n",
       "      <th>3</th>\n",
       "      <td>Biwott, Shadrack</td>\n",
       "      <td>32</td>\n",
       "      <td>Male</td>\n",
       "      <td>Mammoth Lakes</td>\n",
       "      <td>CA</td>\n",
       "      <td>USA</td>\n",
       "      <td>2:12:08</td>\n",
       "      <td>4</td>\n",
       "      <td>4</td>\n",
       "      <td>0</td>\n",
       "      <td>0</td>\n",
       "      <td>NaN</td>\n",
       "      <td>Biwott</td>\n",
       "      <td>Shadrack</td>\n",
       "    </tr>\n",
       "    <tr>\n",
       "      <th>4</th>\n",
       "      <td>Chebet, Wilson</td>\n",
       "      <td>31</td>\n",
       "      <td>Male</td>\n",
       "      <td>Marakwet</td>\n",
       "      <td>NaN</td>\n",
       "      <td>KEN</td>\n",
       "      <td>2:12:35</td>\n",
       "      <td>5</td>\n",
       "      <td>5</td>\n",
       "      <td>1</td>\n",
       "      <td>0</td>\n",
       "      <td>2015</td>\n",
       "      <td>Chebet</td>\n",
       "      <td>Wilson</td>\n",
       "    </tr>\n",
       "  </tbody>\n",
       "</table>\n",
       "</div>"
      ],
      "text/plain": [
       "               Name  Age   M/F           City State Country Official Time  \\\n",
       "0   Kirui, Geoffrey   24  Male       Keringet   NaN     KEN       2:09:37   \n",
       "1       Rupp, Galen   30  Male       Portland    OR     USA       2:09:58   \n",
       "2     Osako, Suguru   25  Male   Machida-City   NaN     JPN       2:10:28   \n",
       "3  Biwott, Shadrack   32  Male  Mammoth Lakes    CA     USA       2:12:08   \n",
       "4    Chebet, Wilson   31  Male       Marakwet   NaN     KEN       2:12:35   \n",
       "\n",
       "   Overall  Gender  Ran 2015  Ran 2016 Years Ran First Name Last Name  \n",
       "0        1       1         0         0       NaN      Kirui  Geoffrey  \n",
       "1        2       2         0         0       NaN       Rupp     Galen  \n",
       "2        3       3         0         0       NaN      Osako    Suguru  \n",
       "3        4       4         0         0       NaN     Biwott  Shadrack  \n",
       "4        5       5         1         0      2015     Chebet    Wilson  "
      ]
     },
     "execution_count": 196,
     "metadata": {},
     "output_type": "execute_result"
    }
   ],
   "source": [
    "bm.head()"
   ]
  },
  {
   "cell_type": "code",
   "execution_count": 197,
   "id": "1af3d426",
   "metadata": {},
   "outputs": [
    {
     "data": {
      "text/plain": [
       "93            Vanos, William\n",
       "199        Guzick, William F\n",
       "415          Hartje, William\n",
       "429         Adams, William C\n",
       "456              Cunha, Will\n",
       "526            Swenson, Will\n",
       "571    Gates, William E. Jr.\n",
       "711       Swanson, William G\n",
       "814        Williamson, David\n",
       "835             Vargas, Will\n",
       "892             Rivera, Will\n",
       "897      Feldman, William P.\n",
       "936      Decamps, William M.\n",
       "939        Versen, William R\n",
       "996      Williamson, Jerry A\n",
       "Name: Name, dtype: object"
      ]
     },
     "execution_count": 197,
     "metadata": {},
     "output_type": "execute_result"
    }
   ],
   "source": [
    "bm.Name[bm.Name.str.contains('Will')]"
   ]
  },
  {
   "cell_type": "code",
   "execution_count": 198,
   "id": "01b6f1e7",
   "metadata": {},
   "outputs": [
    {
     "data": {
      "text/plain": [
       "93            Vanos, William\n",
       "199        Guzick, William F\n",
       "415          Hartje, William\n",
       "429         Adams, William C\n",
       "456              Cunha, Will\n",
       "526            Swenson, Will\n",
       "571    Gates, William E. Jr.\n",
       "711       Swanson, William G\n",
       "814        Williamson, David\n",
       "835             Vargas, Will\n",
       "892             Rivera, Will\n",
       "897      Feldman, William P.\n",
       "936      Decamps, William M.\n",
       "939        Versen, William R\n",
       "996      Williamson, Jerry A\n",
       "Name: Name, dtype: object"
      ]
     },
     "execution_count": 198,
     "metadata": {},
     "output_type": "execute_result"
    }
   ],
   "source": [
    "bm.Name[bm.Name.str.contains(r'Will', regex=True)]"
   ]
  },
  {
   "cell_type": "code",
   "execution_count": 199,
   "id": "e9b2e213",
   "metadata": {},
   "outputs": [
    {
     "data": {
      "text/plain": [
       "93            Vanos, William\n",
       "199        Guzick, William F\n",
       "415          Hartje, William\n",
       "429         Adams, William C\n",
       "456              Cunha, Will\n",
       "526            Swenson, Will\n",
       "571    Gates, William E. Jr.\n",
       "711       Swanson, William G\n",
       "814        Williamson, David\n",
       "835             Vargas, Will\n",
       "892             Rivera, Will\n",
       "897      Feldman, William P.\n",
       "936      Decamps, William M.\n",
       "939        Versen, William R\n",
       "996      Williamson, Jerry A\n",
       "Name: Name, dtype: object"
      ]
     },
     "execution_count": 199,
     "metadata": {},
     "output_type": "execute_result"
    }
   ],
   "source": [
    "bm.Name[bm.Name.str.contains(r'[wW]ill', regex=True)]"
   ]
  },
  {
   "cell_type": "code",
   "execution_count": 200,
   "id": "4898e058",
   "metadata": {},
   "outputs": [],
   "source": [
    "# who have will in the last name"
   ]
  },
  {
   "cell_type": "code",
   "execution_count": 204,
   "id": "7f6038af",
   "metadata": {},
   "outputs": [
    {
     "data": {
      "text/plain": [
       "93            Vanos, William\n",
       "199        Guzick, William F\n",
       "415          Hartje, William\n",
       "429         Adams, William C\n",
       "456              Cunha, Will\n",
       "526            Swenson, Will\n",
       "571    Gates, William E. Jr.\n",
       "711       Swanson, William G\n",
       "835             Vargas, Will\n",
       "892             Rivera, Will\n",
       "897      Feldman, William P.\n",
       "936      Decamps, William M.\n",
       "939        Versen, William R\n",
       "Name: Name, dtype: object"
      ]
     },
     "execution_count": 204,
     "metadata": {},
     "output_type": "execute_result"
    }
   ],
   "source": [
    "bm.Name[bm.Name.str.contains(r', [wW]ill', regex=True)]"
   ]
  },
  {
   "cell_type": "code",
   "execution_count": 203,
   "id": "5a73650a",
   "metadata": {},
   "outputs": [
    {
     "data": {
      "text/plain": [
       "456      Cunha, Will\n",
       "526    Swenson, Will\n",
       "835     Vargas, Will\n",
       "892     Rivera, Will\n",
       "Name: Name, dtype: object"
      ]
     },
     "execution_count": 203,
     "metadata": {},
     "output_type": "execute_result"
    }
   ],
   "source": [
    "bm.Name[bm.Name.str.contains(r', [wW]ill$', regex=True)]"
   ]
  },
  {
   "cell_type": "code",
   "execution_count": 212,
   "id": "5376332c",
   "metadata": {},
   "outputs": [
    {
     "data": {
      "text/plain": [
       "Series([], Name: Name, dtype: object)"
      ]
     },
     "execution_count": 212,
     "metadata": {},
     "output_type": "execute_result"
    }
   ],
   "source": [
    "bm.Name[bm.Name.str.contains(r',\\s[wW]ill\\s\\w*$', regex=True)]"
   ]
  },
  {
   "cell_type": "code",
   "execution_count": 211,
   "id": "569f3db1",
   "metadata": {},
   "outputs": [
    {
     "data": {
      "text/plain": [
       "456      Cunha, Will\n",
       "526    Swenson, Will\n",
       "835     Vargas, Will\n",
       "892     Rivera, Will\n",
       "Name: Name, dtype: object"
      ]
     },
     "execution_count": 211,
     "metadata": {},
     "output_type": "execute_result"
    }
   ],
   "source": [
    "bm.Name[bm.Name.str.contains(r', [wW]ill\\b', regex=True)]"
   ]
  },
  {
   "cell_type": "code",
   "execution_count": 215,
   "id": "41e12c7f",
   "metadata": {},
   "outputs": [
    {
     "data": {
      "text/plain": [
       "'Vargas, Will'"
      ]
     },
     "execution_count": 215,
     "metadata": {},
     "output_type": "execute_result"
    }
   ],
   "source": [
    "bm.iat[835,0]"
   ]
  },
  {
   "cell_type": "code",
   "execution_count": 218,
   "id": "3256f60e",
   "metadata": {},
   "outputs": [],
   "source": [
    "bm.iat[835,0]+= ' J.'"
   ]
  },
  {
   "cell_type": "code",
   "execution_count": 219,
   "id": "ff986942",
   "metadata": {},
   "outputs": [
    {
     "data": {
      "text/plain": [
       "'Vargas, WillJ. J.'"
      ]
     },
     "execution_count": 219,
     "metadata": {},
     "output_type": "execute_result"
    }
   ],
   "source": [
    "bm.iat[835,0]"
   ]
  },
  {
   "cell_type": "code",
   "execution_count": 221,
   "id": "18a74a2b",
   "metadata": {},
   "outputs": [
    {
     "data": {
      "text/html": [
       "<div>\n",
       "<style scoped>\n",
       "    .dataframe tbody tr th:only-of-type {\n",
       "        vertical-align: middle;\n",
       "    }\n",
       "\n",
       "    .dataframe tbody tr th {\n",
       "        vertical-align: top;\n",
       "    }\n",
       "\n",
       "    .dataframe thead th {\n",
       "        text-align: right;\n",
       "    }\n",
       "</style>\n",
       "<table border=\"1\" class=\"dataframe\">\n",
       "  <thead>\n",
       "    <tr style=\"text-align: right;\">\n",
       "      <th></th>\n",
       "      <th>0</th>\n",
       "      <th>1</th>\n",
       "      <th>2</th>\n",
       "      <th>3</th>\n",
       "      <th>4</th>\n",
       "    </tr>\n",
       "  </thead>\n",
       "  <tbody>\n",
       "    <tr>\n",
       "      <th>0</th>\n",
       "      <td>Kirui,</td>\n",
       "      <td>Geoffrey</td>\n",
       "      <td>None</td>\n",
       "      <td>None</td>\n",
       "      <td>None</td>\n",
       "    </tr>\n",
       "    <tr>\n",
       "      <th>1</th>\n",
       "      <td>Rupp,</td>\n",
       "      <td>Galen</td>\n",
       "      <td>None</td>\n",
       "      <td>None</td>\n",
       "      <td>None</td>\n",
       "    </tr>\n",
       "    <tr>\n",
       "      <th>2</th>\n",
       "      <td>Osako,</td>\n",
       "      <td>Suguru</td>\n",
       "      <td>None</td>\n",
       "      <td>None</td>\n",
       "      <td>None</td>\n",
       "    </tr>\n",
       "    <tr>\n",
       "      <th>3</th>\n",
       "      <td>Biwott,</td>\n",
       "      <td>Shadrack</td>\n",
       "      <td>None</td>\n",
       "      <td>None</td>\n",
       "      <td>None</td>\n",
       "    </tr>\n",
       "    <tr>\n",
       "      <th>4</th>\n",
       "      <td>Chebet,</td>\n",
       "      <td>Wilson</td>\n",
       "      <td>None</td>\n",
       "      <td>None</td>\n",
       "      <td>None</td>\n",
       "    </tr>\n",
       "    <tr>\n",
       "      <th>...</th>\n",
       "      <td>...</td>\n",
       "      <td>...</td>\n",
       "      <td>...</td>\n",
       "      <td>...</td>\n",
       "      <td>...</td>\n",
       "    </tr>\n",
       "    <tr>\n",
       "      <th>995</th>\n",
       "      <td>Larosa,</td>\n",
       "      <td>Mark</td>\n",
       "      <td>None</td>\n",
       "      <td>None</td>\n",
       "      <td>None</td>\n",
       "    </tr>\n",
       "    <tr>\n",
       "      <th>996</th>\n",
       "      <td>Williamson,</td>\n",
       "      <td>Jerry</td>\n",
       "      <td>A</td>\n",
       "      <td>None</td>\n",
       "      <td>None</td>\n",
       "    </tr>\n",
       "    <tr>\n",
       "      <th>997</th>\n",
       "      <td>Mccue,</td>\n",
       "      <td>Daniel</td>\n",
       "      <td>T</td>\n",
       "      <td>None</td>\n",
       "      <td>None</td>\n",
       "    </tr>\n",
       "    <tr>\n",
       "      <th>998</th>\n",
       "      <td>Larosa,</td>\n",
       "      <td>John</td>\n",
       "      <td>None</td>\n",
       "      <td>None</td>\n",
       "      <td>None</td>\n",
       "    </tr>\n",
       "    <tr>\n",
       "      <th>999</th>\n",
       "      <td>Sanchez,</td>\n",
       "      <td>Sam</td>\n",
       "      <td>R</td>\n",
       "      <td>None</td>\n",
       "      <td>None</td>\n",
       "    </tr>\n",
       "  </tbody>\n",
       "</table>\n",
       "<p>1000 rows × 5 columns</p>\n",
       "</div>"
      ],
      "text/plain": [
       "               0         1     2     3     4\n",
       "0         Kirui,  Geoffrey  None  None  None\n",
       "1          Rupp,     Galen  None  None  None\n",
       "2         Osako,    Suguru  None  None  None\n",
       "3        Biwott,  Shadrack  None  None  None\n",
       "4        Chebet,    Wilson  None  None  None\n",
       "..           ...       ...   ...   ...   ...\n",
       "995      Larosa,      Mark  None  None  None\n",
       "996  Williamson,     Jerry     A  None  None\n",
       "997       Mccue,    Daniel     T  None  None\n",
       "998      Larosa,      John  None  None  None\n",
       "999     Sanchez,       Sam     R  None  None\n",
       "\n",
       "[1000 rows x 5 columns]"
      ]
     },
     "execution_count": 221,
     "metadata": {},
     "output_type": "execute_result"
    }
   ],
   "source": [
    "bm.Name.str.split(expand=True)\n",
    "\n",
    "# splitting on whitespace"
   ]
  },
  {
   "cell_type": "code",
   "execution_count": 224,
   "id": "cc6547bc",
   "metadata": {},
   "outputs": [
    {
     "data": {
      "text/html": [
       "<div>\n",
       "<style scoped>\n",
       "    .dataframe tbody tr th:only-of-type {\n",
       "        vertical-align: middle;\n",
       "    }\n",
       "\n",
       "    .dataframe tbody tr th {\n",
       "        vertical-align: top;\n",
       "    }\n",
       "\n",
       "    .dataframe thead th {\n",
       "        text-align: right;\n",
       "    }\n",
       "</style>\n",
       "<table border=\"1\" class=\"dataframe\">\n",
       "  <thead>\n",
       "    <tr style=\"text-align: right;\">\n",
       "      <th></th>\n",
       "      <th>0</th>\n",
       "      <th>1</th>\n",
       "      <th>2</th>\n",
       "      <th>3</th>\n",
       "      <th>4</th>\n",
       "    </tr>\n",
       "  </thead>\n",
       "  <tbody>\n",
       "    <tr>\n",
       "      <th>0</th>\n",
       "      <td>Kirui,</td>\n",
       "      <td>Geoffrey</td>\n",
       "      <td>None</td>\n",
       "      <td>None</td>\n",
       "      <td>None</td>\n",
       "    </tr>\n",
       "    <tr>\n",
       "      <th>1</th>\n",
       "      <td>Rupp,</td>\n",
       "      <td>Galen</td>\n",
       "      <td>None</td>\n",
       "      <td>None</td>\n",
       "      <td>None</td>\n",
       "    </tr>\n",
       "    <tr>\n",
       "      <th>2</th>\n",
       "      <td>Osako,</td>\n",
       "      <td>Suguru</td>\n",
       "      <td>None</td>\n",
       "      <td>None</td>\n",
       "      <td>None</td>\n",
       "    </tr>\n",
       "    <tr>\n",
       "      <th>3</th>\n",
       "      <td>Biwott,</td>\n",
       "      <td>Shadrack</td>\n",
       "      <td>None</td>\n",
       "      <td>None</td>\n",
       "      <td>None</td>\n",
       "    </tr>\n",
       "    <tr>\n",
       "      <th>4</th>\n",
       "      <td>Chebet,</td>\n",
       "      <td>Wilson</td>\n",
       "      <td>None</td>\n",
       "      <td>None</td>\n",
       "      <td>None</td>\n",
       "    </tr>\n",
       "    <tr>\n",
       "      <th>...</th>\n",
       "      <td>...</td>\n",
       "      <td>...</td>\n",
       "      <td>...</td>\n",
       "      <td>...</td>\n",
       "      <td>...</td>\n",
       "    </tr>\n",
       "    <tr>\n",
       "      <th>995</th>\n",
       "      <td>Larosa,</td>\n",
       "      <td>Mark</td>\n",
       "      <td>None</td>\n",
       "      <td>None</td>\n",
       "      <td>None</td>\n",
       "    </tr>\n",
       "    <tr>\n",
       "      <th>996</th>\n",
       "      <td>Williamson,</td>\n",
       "      <td>Jerry</td>\n",
       "      <td>A</td>\n",
       "      <td>None</td>\n",
       "      <td>None</td>\n",
       "    </tr>\n",
       "    <tr>\n",
       "      <th>997</th>\n",
       "      <td>Mccue,</td>\n",
       "      <td>Daniel</td>\n",
       "      <td>T</td>\n",
       "      <td>None</td>\n",
       "      <td>None</td>\n",
       "    </tr>\n",
       "    <tr>\n",
       "      <th>998</th>\n",
       "      <td>Larosa,</td>\n",
       "      <td>John</td>\n",
       "      <td>None</td>\n",
       "      <td>None</td>\n",
       "      <td>None</td>\n",
       "    </tr>\n",
       "    <tr>\n",
       "      <th>999</th>\n",
       "      <td>Sanchez,</td>\n",
       "      <td>Sam</td>\n",
       "      <td>R</td>\n",
       "      <td>None</td>\n",
       "      <td>None</td>\n",
       "    </tr>\n",
       "  </tbody>\n",
       "</table>\n",
       "<p>1000 rows × 5 columns</p>\n",
       "</div>"
      ],
      "text/plain": [
       "               0         1     2     3     4\n",
       "0         Kirui,  Geoffrey  None  None  None\n",
       "1          Rupp,     Galen  None  None  None\n",
       "2         Osako,    Suguru  None  None  None\n",
       "3        Biwott,  Shadrack  None  None  None\n",
       "4        Chebet,    Wilson  None  None  None\n",
       "..           ...       ...   ...   ...   ...\n",
       "995      Larosa,      Mark  None  None  None\n",
       "996  Williamson,     Jerry     A  None  None\n",
       "997       Mccue,    Daniel     T  None  None\n",
       "998      Larosa,      John  None  None  None\n",
       "999     Sanchez,       Sam     R  None  None\n",
       "\n",
       "[1000 rows x 5 columns]"
      ]
     },
     "execution_count": 224,
     "metadata": {},
     "output_type": "execute_result"
    }
   ],
   "source": [
    "# interpreted as regex automatically\n",
    "bm.Name.str.split(r'\\s',expand=True)\n"
   ]
  },
  {
   "cell_type": "code",
   "execution_count": 223,
   "id": "9767a664",
   "metadata": {},
   "outputs": [
    {
     "data": {
      "text/html": [
       "<div>\n",
       "<style scoped>\n",
       "    .dataframe tbody tr th:only-of-type {\n",
       "        vertical-align: middle;\n",
       "    }\n",
       "\n",
       "    .dataframe tbody tr th {\n",
       "        vertical-align: top;\n",
       "    }\n",
       "\n",
       "    .dataframe thead th {\n",
       "        text-align: right;\n",
       "    }\n",
       "</style>\n",
       "<table border=\"1\" class=\"dataframe\">\n",
       "  <thead>\n",
       "    <tr style=\"text-align: right;\">\n",
       "      <th></th>\n",
       "      <th>0</th>\n",
       "      <th>1</th>\n",
       "    </tr>\n",
       "  </thead>\n",
       "  <tbody>\n",
       "    <tr>\n",
       "      <th>0</th>\n",
       "      <td>Kirui</td>\n",
       "      <td>Geoffrey</td>\n",
       "    </tr>\n",
       "    <tr>\n",
       "      <th>1</th>\n",
       "      <td>Rupp</td>\n",
       "      <td>Galen</td>\n",
       "    </tr>\n",
       "    <tr>\n",
       "      <th>2</th>\n",
       "      <td>Osako</td>\n",
       "      <td>Suguru</td>\n",
       "    </tr>\n",
       "    <tr>\n",
       "      <th>3</th>\n",
       "      <td>Biwott</td>\n",
       "      <td>Shadrack</td>\n",
       "    </tr>\n",
       "    <tr>\n",
       "      <th>4</th>\n",
       "      <td>Chebet</td>\n",
       "      <td>Wilson</td>\n",
       "    </tr>\n",
       "    <tr>\n",
       "      <th>...</th>\n",
       "      <td>...</td>\n",
       "      <td>...</td>\n",
       "    </tr>\n",
       "    <tr>\n",
       "      <th>995</th>\n",
       "      <td>Larosa</td>\n",
       "      <td>Mark</td>\n",
       "    </tr>\n",
       "    <tr>\n",
       "      <th>996</th>\n",
       "      <td>Williamson</td>\n",
       "      <td>Jerry A</td>\n",
       "    </tr>\n",
       "    <tr>\n",
       "      <th>997</th>\n",
       "      <td>Mccue</td>\n",
       "      <td>Daniel T</td>\n",
       "    </tr>\n",
       "    <tr>\n",
       "      <th>998</th>\n",
       "      <td>Larosa</td>\n",
       "      <td>John</td>\n",
       "    </tr>\n",
       "    <tr>\n",
       "      <th>999</th>\n",
       "      <td>Sanchez</td>\n",
       "      <td>Sam R</td>\n",
       "    </tr>\n",
       "  </tbody>\n",
       "</table>\n",
       "<p>1000 rows × 2 columns</p>\n",
       "</div>"
      ],
      "text/plain": [
       "              0          1\n",
       "0         Kirui   Geoffrey\n",
       "1          Rupp      Galen\n",
       "2         Osako     Suguru\n",
       "3        Biwott   Shadrack\n",
       "4        Chebet     Wilson\n",
       "..          ...        ...\n",
       "995      Larosa       Mark\n",
       "996  Williamson    Jerry A\n",
       "997       Mccue   Daniel T\n",
       "998      Larosa       John\n",
       "999     Sanchez      Sam R\n",
       "\n",
       "[1000 rows x 2 columns]"
      ]
     },
     "execution_count": 223,
     "metadata": {},
     "output_type": "execute_result"
    }
   ],
   "source": [
    "bm.Name.str.split(r',',expand=True)\n"
   ]
  },
  {
   "cell_type": "code",
   "execution_count": 225,
   "id": "d01431ea",
   "metadata": {},
   "outputs": [],
   "source": [
    "# replace"
   ]
  },
  {
   "cell_type": "code",
   "execution_count": 226,
   "id": "839f2a8a",
   "metadata": {},
   "outputs": [
    {
     "data": {
      "text/html": [
       "<div>\n",
       "<style scoped>\n",
       "    .dataframe tbody tr th:only-of-type {\n",
       "        vertical-align: middle;\n",
       "    }\n",
       "\n",
       "    .dataframe tbody tr th {\n",
       "        vertical-align: top;\n",
       "    }\n",
       "\n",
       "    .dataframe thead th {\n",
       "        text-align: right;\n",
       "    }\n",
       "</style>\n",
       "<table border=\"1\" class=\"dataframe\">\n",
       "  <thead>\n",
       "    <tr style=\"text-align: right;\">\n",
       "      <th></th>\n",
       "      <th>Name</th>\n",
       "      <th>Age</th>\n",
       "      <th>M/F</th>\n",
       "      <th>City</th>\n",
       "      <th>State</th>\n",
       "      <th>Country</th>\n",
       "      <th>Official Time</th>\n",
       "      <th>Overall</th>\n",
       "      <th>Gender</th>\n",
       "      <th>Ran 2015</th>\n",
       "      <th>Ran 2016</th>\n",
       "      <th>Years Ran</th>\n",
       "      <th>First Name</th>\n",
       "      <th>Last Name</th>\n",
       "    </tr>\n",
       "  </thead>\n",
       "  <tbody>\n",
       "    <tr>\n",
       "      <th>0</th>\n",
       "      <td>Kirui, Geoffrey</td>\n",
       "      <td>24</td>\n",
       "      <td>Male</td>\n",
       "      <td>Keringet</td>\n",
       "      <td>NaN</td>\n",
       "      <td>KEN</td>\n",
       "      <td>2:09:37</td>\n",
       "      <td>1</td>\n",
       "      <td>1</td>\n",
       "      <td>0</td>\n",
       "      <td>0</td>\n",
       "      <td>NaN</td>\n",
       "      <td>Kirui</td>\n",
       "      <td>Geoffrey</td>\n",
       "    </tr>\n",
       "    <tr>\n",
       "      <th>1</th>\n",
       "      <td>Rupp, Galen</td>\n",
       "      <td>30</td>\n",
       "      <td>Male</td>\n",
       "      <td>Portland</td>\n",
       "      <td>OR</td>\n",
       "      <td>USA</td>\n",
       "      <td>2:09:58</td>\n",
       "      <td>2</td>\n",
       "      <td>2</td>\n",
       "      <td>0</td>\n",
       "      <td>0</td>\n",
       "      <td>NaN</td>\n",
       "      <td>Rupp</td>\n",
       "      <td>Galen</td>\n",
       "    </tr>\n",
       "    <tr>\n",
       "      <th>2</th>\n",
       "      <td>Osako, Suguru</td>\n",
       "      <td>25</td>\n",
       "      <td>Male</td>\n",
       "      <td>Machida-City</td>\n",
       "      <td>NaN</td>\n",
       "      <td>JPN</td>\n",
       "      <td>2:10:28</td>\n",
       "      <td>3</td>\n",
       "      <td>3</td>\n",
       "      <td>0</td>\n",
       "      <td>0</td>\n",
       "      <td>NaN</td>\n",
       "      <td>Osako</td>\n",
       "      <td>Suguru</td>\n",
       "    </tr>\n",
       "    <tr>\n",
       "      <th>3</th>\n",
       "      <td>Biwott, Shadrack</td>\n",
       "      <td>32</td>\n",
       "      <td>Male</td>\n",
       "      <td>Mammoth Lakes</td>\n",
       "      <td>CA</td>\n",
       "      <td>USA</td>\n",
       "      <td>2:12:08</td>\n",
       "      <td>4</td>\n",
       "      <td>4</td>\n",
       "      <td>0</td>\n",
       "      <td>0</td>\n",
       "      <td>NaN</td>\n",
       "      <td>Biwott</td>\n",
       "      <td>Shadrack</td>\n",
       "    </tr>\n",
       "    <tr>\n",
       "      <th>4</th>\n",
       "      <td>Chebet, Wilson</td>\n",
       "      <td>31</td>\n",
       "      <td>Male</td>\n",
       "      <td>Marakwet</td>\n",
       "      <td>NaN</td>\n",
       "      <td>KEN</td>\n",
       "      <td>2:12:35</td>\n",
       "      <td>5</td>\n",
       "      <td>5</td>\n",
       "      <td>1</td>\n",
       "      <td>0</td>\n",
       "      <td>2015</td>\n",
       "      <td>Chebet</td>\n",
       "      <td>Wilson</td>\n",
       "    </tr>\n",
       "  </tbody>\n",
       "</table>\n",
       "</div>"
      ],
      "text/plain": [
       "               Name  Age   M/F           City State Country Official Time  \\\n",
       "0   Kirui, Geoffrey   24  Male       Keringet   NaN     KEN       2:09:37   \n",
       "1       Rupp, Galen   30  Male       Portland    OR     USA       2:09:58   \n",
       "2     Osako, Suguru   25  Male   Machida-City   NaN     JPN       2:10:28   \n",
       "3  Biwott, Shadrack   32  Male  Mammoth Lakes    CA     USA       2:12:08   \n",
       "4    Chebet, Wilson   31  Male       Marakwet   NaN     KEN       2:12:35   \n",
       "\n",
       "   Overall  Gender  Ran 2015  Ran 2016 Years Ran First Name Last Name  \n",
       "0        1       1         0         0       NaN      Kirui  Geoffrey  \n",
       "1        2       2         0         0       NaN       Rupp     Galen  \n",
       "2        3       3         0         0       NaN      Osako    Suguru  \n",
       "3        4       4         0         0       NaN     Biwott  Shadrack  \n",
       "4        5       5         1         0      2015     Chebet    Wilson  "
      ]
     },
     "execution_count": 226,
     "metadata": {},
     "output_type": "execute_result"
    }
   ],
   "source": [
    "bm.head()"
   ]
  },
  {
   "cell_type": "code",
   "execution_count": 229,
   "id": "d0ab4861",
   "metadata": {},
   "outputs": [],
   "source": [
    "# 2.03.45 -> 2hours, 3 minutes, 45 seconds"
   ]
  },
  {
   "cell_type": "code",
   "execution_count": 233,
   "id": "113010bb",
   "metadata": {},
   "outputs": [
    {
     "name": "stderr",
     "output_type": "stream",
     "text": [
      "/home/aayush/anaconda3/lib/python3.7/site-packages/ipykernel_launcher.py:1: FutureWarning: The default value of regex will change from True to False in a future version.\n",
      "  \"\"\"Entry point for launching an IPython kernel.\n"
     ]
    },
    {
     "data": {
      "text/plain": [
       "0      2 hours, 09 minutes and 37 seconds\n",
       "1      2 hours, 09 minutes and 58 seconds\n",
       "2      2 hours, 10 minutes and 28 seconds\n",
       "3      2 hours, 12 minutes and 08 seconds\n",
       "4      2 hours, 12 minutes and 35 seconds\n",
       "                      ...                \n",
       "995    2 hours, 56 minutes and 06 seconds\n",
       "996    2 hours, 56 minutes and 06 seconds\n",
       "997    2 hours, 56 minutes and 06 seconds\n",
       "998    2 hours, 56 minutes and 07 seconds\n",
       "999    2 hours, 56 minutes and 08 seconds\n",
       "Name: Official Time, Length: 1000, dtype: object"
      ]
     },
     "execution_count": 233,
     "metadata": {},
     "output_type": "execute_result"
    }
   ],
   "source": [
    "bm['Official Time'].str.replace(r'(\\d+):(\\d{2}):(\\d{2})',r'\\1 hours, \\2 minutes and \\3 seconds')"
   ]
  },
  {
   "cell_type": "code",
   "execution_count": 235,
   "id": "883f42e5",
   "metadata": {},
   "outputs": [
    {
     "name": "stderr",
     "output_type": "stream",
     "text": [
      "/home/aayush/anaconda3/lib/python3.7/site-packages/ipykernel_launcher.py:1: FutureWarning: The default value of regex will change from True to False in a future version.\n",
      "  \"\"\"Entry point for launching an IPython kernel.\n"
     ]
    }
   ],
   "source": [
    "bm['Official Time'] = bm['Official Time'].str.replace(r'(\\d+):(\\d{2}):(\\d{2})',r'\\1 hours, \\2 minutes and \\3 seconds')"
   ]
  },
  {
   "cell_type": "code",
   "execution_count": 236,
   "id": "d6d106fb",
   "metadata": {},
   "outputs": [
    {
     "data": {
      "text/plain": [
       "0      2 hours, 09 minutes and 37 seconds\n",
       "1      2 hours, 09 minutes and 58 seconds\n",
       "2      2 hours, 10 minutes and 28 seconds\n",
       "3      2 hours, 12 minutes and 08 seconds\n",
       "4      2 hours, 12 minutes and 35 seconds\n",
       "                      ...                \n",
       "995    2 hours, 56 minutes and 06 seconds\n",
       "996    2 hours, 56 minutes and 06 seconds\n",
       "997    2 hours, 56 minutes and 06 seconds\n",
       "998    2 hours, 56 minutes and 07 seconds\n",
       "999    2 hours, 56 minutes and 08 seconds\n",
       "Name: Official Time, Length: 1000, dtype: object"
      ]
     },
     "execution_count": 236,
     "metadata": {},
     "output_type": "execute_result"
    }
   ],
   "source": [
    "bm['Official Time']"
   ]
  },
  {
   "cell_type": "code",
   "execution_count": 238,
   "id": "1c6baffd",
   "metadata": {},
   "outputs": [],
   "source": [
    "bm = pd.read_csv('datasets/2017BostonMarathonTop1000.csv')"
   ]
  },
  {
   "cell_type": "code",
   "execution_count": 246,
   "id": "4aa604d5",
   "metadata": {},
   "outputs": [
    {
     "data": {
      "text/html": [
       "<div>\n",
       "<style scoped>\n",
       "    .dataframe tbody tr th:only-of-type {\n",
       "        vertical-align: middle;\n",
       "    }\n",
       "\n",
       "    .dataframe tbody tr th {\n",
       "        vertical-align: top;\n",
       "    }\n",
       "\n",
       "    .dataframe thead th {\n",
       "        text-align: right;\n",
       "    }\n",
       "</style>\n",
       "<table border=\"1\" class=\"dataframe\">\n",
       "  <thead>\n",
       "    <tr style=\"text-align: right;\">\n",
       "      <th></th>\n",
       "      <th>0</th>\n",
       "      <th>1</th>\n",
       "      <th>2</th>\n",
       "    </tr>\n",
       "  </thead>\n",
       "  <tbody>\n",
       "    <tr>\n",
       "      <th>0</th>\n",
       "      <td>2</td>\n",
       "      <td>09</td>\n",
       "      <td>37</td>\n",
       "    </tr>\n",
       "    <tr>\n",
       "      <th>1</th>\n",
       "      <td>2</td>\n",
       "      <td>09</td>\n",
       "      <td>58</td>\n",
       "    </tr>\n",
       "    <tr>\n",
       "      <th>2</th>\n",
       "      <td>2</td>\n",
       "      <td>10</td>\n",
       "      <td>28</td>\n",
       "    </tr>\n",
       "    <tr>\n",
       "      <th>3</th>\n",
       "      <td>2</td>\n",
       "      <td>12</td>\n",
       "      <td>08</td>\n",
       "    </tr>\n",
       "    <tr>\n",
       "      <th>4</th>\n",
       "      <td>2</td>\n",
       "      <td>12</td>\n",
       "      <td>35</td>\n",
       "    </tr>\n",
       "    <tr>\n",
       "      <th>...</th>\n",
       "      <td>...</td>\n",
       "      <td>...</td>\n",
       "      <td>...</td>\n",
       "    </tr>\n",
       "    <tr>\n",
       "      <th>995</th>\n",
       "      <td>2</td>\n",
       "      <td>56</td>\n",
       "      <td>06</td>\n",
       "    </tr>\n",
       "    <tr>\n",
       "      <th>996</th>\n",
       "      <td>2</td>\n",
       "      <td>56</td>\n",
       "      <td>06</td>\n",
       "    </tr>\n",
       "    <tr>\n",
       "      <th>997</th>\n",
       "      <td>2</td>\n",
       "      <td>56</td>\n",
       "      <td>06</td>\n",
       "    </tr>\n",
       "    <tr>\n",
       "      <th>998</th>\n",
       "      <td>2</td>\n",
       "      <td>56</td>\n",
       "      <td>07</td>\n",
       "    </tr>\n",
       "    <tr>\n",
       "      <th>999</th>\n",
       "      <td>2</td>\n",
       "      <td>56</td>\n",
       "      <td>08</td>\n",
       "    </tr>\n",
       "  </tbody>\n",
       "</table>\n",
       "<p>1000 rows × 3 columns</p>\n",
       "</div>"
      ],
      "text/plain": [
       "     0   1   2\n",
       "0    2  09  37\n",
       "1    2  09  58\n",
       "2    2  10  28\n",
       "3    2  12  08\n",
       "4    2  12  35\n",
       "..  ..  ..  ..\n",
       "995  2  56  06\n",
       "996  2  56  06\n",
       "997  2  56  06\n",
       "998  2  56  07\n",
       "999  2  56  08\n",
       "\n",
       "[1000 rows x 3 columns]"
      ]
     },
     "execution_count": 246,
     "metadata": {},
     "output_type": "execute_result"
    }
   ],
   "source": [
    "bm['Official Time'].str.split(':', expand=True)\\\n",
    ".rename({'0':'hours','1':'minutes','3':'seconds'},axis=1)"
   ]
  },
  {
   "cell_type": "code",
   "execution_count": 249,
   "id": "bacde328",
   "metadata": {},
   "outputs": [],
   "source": [
    "final_times = bm['Official Time'].str.split(':', expand=True)"
   ]
  },
  {
   "cell_type": "code",
   "execution_count": 251,
   "id": "6a5c7b0e",
   "metadata": {},
   "outputs": [
    {
     "data": {
      "text/html": [
       "<div>\n",
       "<style scoped>\n",
       "    .dataframe tbody tr th:only-of-type {\n",
       "        vertical-align: middle;\n",
       "    }\n",
       "\n",
       "    .dataframe tbody tr th {\n",
       "        vertical-align: top;\n",
       "    }\n",
       "\n",
       "    .dataframe thead th {\n",
       "        text-align: right;\n",
       "    }\n",
       "</style>\n",
       "<table border=\"1\" class=\"dataframe\">\n",
       "  <thead>\n",
       "    <tr style=\"text-align: right;\">\n",
       "      <th></th>\n",
       "      <th>0</th>\n",
       "      <th>1</th>\n",
       "      <th>2</th>\n",
       "    </tr>\n",
       "  </thead>\n",
       "  <tbody>\n",
       "    <tr>\n",
       "      <th>0</th>\n",
       "      <td>2</td>\n",
       "      <td>09</td>\n",
       "      <td>37</td>\n",
       "    </tr>\n",
       "    <tr>\n",
       "      <th>1</th>\n",
       "      <td>2</td>\n",
       "      <td>09</td>\n",
       "      <td>58</td>\n",
       "    </tr>\n",
       "    <tr>\n",
       "      <th>2</th>\n",
       "      <td>2</td>\n",
       "      <td>10</td>\n",
       "      <td>28</td>\n",
       "    </tr>\n",
       "    <tr>\n",
       "      <th>3</th>\n",
       "      <td>2</td>\n",
       "      <td>12</td>\n",
       "      <td>08</td>\n",
       "    </tr>\n",
       "    <tr>\n",
       "      <th>4</th>\n",
       "      <td>2</td>\n",
       "      <td>12</td>\n",
       "      <td>35</td>\n",
       "    </tr>\n",
       "  </tbody>\n",
       "</table>\n",
       "</div>"
      ],
      "text/plain": [
       "   0   1   2\n",
       "0  2  09  37\n",
       "1  2  09  58\n",
       "2  2  10  28\n",
       "3  2  12  08\n",
       "4  2  12  35"
      ]
     },
     "execution_count": 251,
     "metadata": {},
     "output_type": "execute_result"
    }
   ],
   "source": [
    "final_times.head()"
   ]
  },
  {
   "cell_type": "code",
   "execution_count": null,
   "id": "381ea18f",
   "metadata": {},
   "outputs": [],
   "source": []
  },
  {
   "cell_type": "code",
   "execution_count": 247,
   "id": "99f453d7",
   "metadata": {},
   "outputs": [],
   "source": [
    "bm[['hours','minutes','seconds']] = bm['Official Time'].str.split(':', expand=True)\\\n"
   ]
  },
  {
   "cell_type": "code",
   "execution_count": 248,
   "id": "5c24f2f8",
   "metadata": {},
   "outputs": [
    {
     "data": {
      "text/html": [
       "<div>\n",
       "<style scoped>\n",
       "    .dataframe tbody tr th:only-of-type {\n",
       "        vertical-align: middle;\n",
       "    }\n",
       "\n",
       "    .dataframe tbody tr th {\n",
       "        vertical-align: top;\n",
       "    }\n",
       "\n",
       "    .dataframe thead th {\n",
       "        text-align: right;\n",
       "    }\n",
       "</style>\n",
       "<table border=\"1\" class=\"dataframe\">\n",
       "  <thead>\n",
       "    <tr style=\"text-align: right;\">\n",
       "      <th></th>\n",
       "      <th>Name</th>\n",
       "      <th>Age</th>\n",
       "      <th>M/F</th>\n",
       "      <th>City</th>\n",
       "      <th>State</th>\n",
       "      <th>Country</th>\n",
       "      <th>Official Time</th>\n",
       "      <th>Overall</th>\n",
       "      <th>Gender</th>\n",
       "      <th>Years Ran</th>\n",
       "      <th>hours</th>\n",
       "      <th>minutes</th>\n",
       "      <th>seconds</th>\n",
       "    </tr>\n",
       "  </thead>\n",
       "  <tbody>\n",
       "    <tr>\n",
       "      <th>0</th>\n",
       "      <td>Kirui, Geoffrey</td>\n",
       "      <td>24</td>\n",
       "      <td>M</td>\n",
       "      <td>Keringet</td>\n",
       "      <td>NaN</td>\n",
       "      <td>KEN</td>\n",
       "      <td>2:09:37</td>\n",
       "      <td>1</td>\n",
       "      <td>1</td>\n",
       "      <td>NaN</td>\n",
       "      <td>2</td>\n",
       "      <td>09</td>\n",
       "      <td>37</td>\n",
       "    </tr>\n",
       "    <tr>\n",
       "      <th>1</th>\n",
       "      <td>Rupp, Galen</td>\n",
       "      <td>30</td>\n",
       "      <td>M</td>\n",
       "      <td>Portland</td>\n",
       "      <td>OR</td>\n",
       "      <td>USA</td>\n",
       "      <td>2:09:58</td>\n",
       "      <td>2</td>\n",
       "      <td>2</td>\n",
       "      <td>NaN</td>\n",
       "      <td>2</td>\n",
       "      <td>09</td>\n",
       "      <td>58</td>\n",
       "    </tr>\n",
       "    <tr>\n",
       "      <th>2</th>\n",
       "      <td>Osako, Suguru</td>\n",
       "      <td>25</td>\n",
       "      <td>M</td>\n",
       "      <td>Machida-City</td>\n",
       "      <td>NaN</td>\n",
       "      <td>JPN</td>\n",
       "      <td>2:10:28</td>\n",
       "      <td>3</td>\n",
       "      <td>3</td>\n",
       "      <td>NaN</td>\n",
       "      <td>2</td>\n",
       "      <td>10</td>\n",
       "      <td>28</td>\n",
       "    </tr>\n",
       "    <tr>\n",
       "      <th>3</th>\n",
       "      <td>Biwott, Shadrack</td>\n",
       "      <td>32</td>\n",
       "      <td>M</td>\n",
       "      <td>Mammoth Lakes</td>\n",
       "      <td>CA</td>\n",
       "      <td>USA</td>\n",
       "      <td>2:12:08</td>\n",
       "      <td>4</td>\n",
       "      <td>4</td>\n",
       "      <td>NaN</td>\n",
       "      <td>2</td>\n",
       "      <td>12</td>\n",
       "      <td>08</td>\n",
       "    </tr>\n",
       "    <tr>\n",
       "      <th>4</th>\n",
       "      <td>Chebet, Wilson</td>\n",
       "      <td>31</td>\n",
       "      <td>M</td>\n",
       "      <td>Marakwet</td>\n",
       "      <td>NaN</td>\n",
       "      <td>KEN</td>\n",
       "      <td>2:12:35</td>\n",
       "      <td>5</td>\n",
       "      <td>5</td>\n",
       "      <td>2015</td>\n",
       "      <td>2</td>\n",
       "      <td>12</td>\n",
       "      <td>35</td>\n",
       "    </tr>\n",
       "  </tbody>\n",
       "</table>\n",
       "</div>"
      ],
      "text/plain": [
       "                Name  Age M/F           City State Country Official Time  \\\n",
       "0   Kirui, Geoffrey    24   M       Keringet   NaN     KEN       2:09:37   \n",
       "1     Rupp, Galen      30   M       Portland    OR     USA       2:09:58   \n",
       "2    Osako, Suguru     25   M   Machida-City   NaN     JPN       2:10:28   \n",
       "3   Biwott, Shadrack   32   M  Mammoth Lakes    CA     USA       2:12:08   \n",
       "4     Chebet, Wilson   31   M       Marakwet   NaN     KEN       2:12:35   \n",
       "\n",
       "   Overall  Gender Years Ran hours minutes seconds  \n",
       "0        1       1       NaN     2      09      37  \n",
       "1        2       2       NaN     2      09      58  \n",
       "2        3       3       NaN     2      10      28  \n",
       "3        4       4       NaN     2      12      08  \n",
       "4        5       5      2015     2      12      35  "
      ]
     },
     "execution_count": 248,
     "metadata": {},
     "output_type": "execute_result"
    }
   ],
   "source": [
    "bm.head()"
   ]
  },
  {
   "cell_type": "code",
   "execution_count": 258,
   "id": "8906aa70",
   "metadata": {},
   "outputs": [],
   "source": [
    "# bm['total']=bm.hours.astype(int)*60*60+bm.hours*60+bm.minutes"
   ]
  },
  {
   "cell_type": "code",
   "execution_count": 259,
   "id": "af364736",
   "metadata": {},
   "outputs": [],
   "source": [
    "# bm.head()"
   ]
  },
  {
   "cell_type": "code",
   "execution_count": 263,
   "id": "890e6550",
   "metadata": {},
   "outputs": [
    {
     "data": {
      "text/plain": [
       "0       7777\n",
       "1       7798\n",
       "2       7828\n",
       "3       7928\n",
       "4       7955\n",
       "       ...  \n",
       "995    10566\n",
       "996    10566\n",
       "997    10566\n",
       "998    10567\n",
       "999    10568\n",
       "Length: 1000, dtype: int64"
      ]
     },
     "execution_count": 263,
     "metadata": {},
     "output_type": "execute_result"
    }
   ],
   "source": [
    "bm.hours.astype(int)*60*60+bm.minutes.astype(int)*60+bm.seconds.astype(int)"
   ]
  },
  {
   "cell_type": "code",
   "execution_count": 264,
   "id": "be372d51",
   "metadata": {},
   "outputs": [],
   "source": [
    "bm['total']=bm.hours.astype(int)*60*60+bm.minutes.astype(int)*60+bm.seconds.astype(int)"
   ]
  },
  {
   "cell_type": "code",
   "execution_count": 265,
   "id": "8b64534e",
   "metadata": {},
   "outputs": [
    {
     "data": {
      "text/html": [
       "<div>\n",
       "<style scoped>\n",
       "    .dataframe tbody tr th:only-of-type {\n",
       "        vertical-align: middle;\n",
       "    }\n",
       "\n",
       "    .dataframe tbody tr th {\n",
       "        vertical-align: top;\n",
       "    }\n",
       "\n",
       "    .dataframe thead th {\n",
       "        text-align: right;\n",
       "    }\n",
       "</style>\n",
       "<table border=\"1\" class=\"dataframe\">\n",
       "  <thead>\n",
       "    <tr style=\"text-align: right;\">\n",
       "      <th></th>\n",
       "      <th>Name</th>\n",
       "      <th>Age</th>\n",
       "      <th>M/F</th>\n",
       "      <th>City</th>\n",
       "      <th>State</th>\n",
       "      <th>Country</th>\n",
       "      <th>Official Time</th>\n",
       "      <th>Overall</th>\n",
       "      <th>Gender</th>\n",
       "      <th>Years Ran</th>\n",
       "      <th>hours</th>\n",
       "      <th>minutes</th>\n",
       "      <th>seconds</th>\n",
       "      <th>total</th>\n",
       "    </tr>\n",
       "  </thead>\n",
       "  <tbody>\n",
       "    <tr>\n",
       "      <th>0</th>\n",
       "      <td>Kirui, Geoffrey</td>\n",
       "      <td>24</td>\n",
       "      <td>M</td>\n",
       "      <td>Keringet</td>\n",
       "      <td>NaN</td>\n",
       "      <td>KEN</td>\n",
       "      <td>2:09:37</td>\n",
       "      <td>1</td>\n",
       "      <td>1</td>\n",
       "      <td>NaN</td>\n",
       "      <td>2</td>\n",
       "      <td>09</td>\n",
       "      <td>37</td>\n",
       "      <td>7777</td>\n",
       "    </tr>\n",
       "    <tr>\n",
       "      <th>1</th>\n",
       "      <td>Rupp, Galen</td>\n",
       "      <td>30</td>\n",
       "      <td>M</td>\n",
       "      <td>Portland</td>\n",
       "      <td>OR</td>\n",
       "      <td>USA</td>\n",
       "      <td>2:09:58</td>\n",
       "      <td>2</td>\n",
       "      <td>2</td>\n",
       "      <td>NaN</td>\n",
       "      <td>2</td>\n",
       "      <td>09</td>\n",
       "      <td>58</td>\n",
       "      <td>7798</td>\n",
       "    </tr>\n",
       "    <tr>\n",
       "      <th>2</th>\n",
       "      <td>Osako, Suguru</td>\n",
       "      <td>25</td>\n",
       "      <td>M</td>\n",
       "      <td>Machida-City</td>\n",
       "      <td>NaN</td>\n",
       "      <td>JPN</td>\n",
       "      <td>2:10:28</td>\n",
       "      <td>3</td>\n",
       "      <td>3</td>\n",
       "      <td>NaN</td>\n",
       "      <td>2</td>\n",
       "      <td>10</td>\n",
       "      <td>28</td>\n",
       "      <td>7828</td>\n",
       "    </tr>\n",
       "    <tr>\n",
       "      <th>3</th>\n",
       "      <td>Biwott, Shadrack</td>\n",
       "      <td>32</td>\n",
       "      <td>M</td>\n",
       "      <td>Mammoth Lakes</td>\n",
       "      <td>CA</td>\n",
       "      <td>USA</td>\n",
       "      <td>2:12:08</td>\n",
       "      <td>4</td>\n",
       "      <td>4</td>\n",
       "      <td>NaN</td>\n",
       "      <td>2</td>\n",
       "      <td>12</td>\n",
       "      <td>08</td>\n",
       "      <td>7928</td>\n",
       "    </tr>\n",
       "    <tr>\n",
       "      <th>4</th>\n",
       "      <td>Chebet, Wilson</td>\n",
       "      <td>31</td>\n",
       "      <td>M</td>\n",
       "      <td>Marakwet</td>\n",
       "      <td>NaN</td>\n",
       "      <td>KEN</td>\n",
       "      <td>2:12:35</td>\n",
       "      <td>5</td>\n",
       "      <td>5</td>\n",
       "      <td>2015</td>\n",
       "      <td>2</td>\n",
       "      <td>12</td>\n",
       "      <td>35</td>\n",
       "      <td>7955</td>\n",
       "    </tr>\n",
       "  </tbody>\n",
       "</table>\n",
       "</div>"
      ],
      "text/plain": [
       "                Name  Age M/F           City State Country Official Time  \\\n",
       "0   Kirui, Geoffrey    24   M       Keringet   NaN     KEN       2:09:37   \n",
       "1     Rupp, Galen      30   M       Portland    OR     USA       2:09:58   \n",
       "2    Osako, Suguru     25   M   Machida-City   NaN     JPN       2:10:28   \n",
       "3   Biwott, Shadrack   32   M  Mammoth Lakes    CA     USA       2:12:08   \n",
       "4     Chebet, Wilson   31   M       Marakwet   NaN     KEN       2:12:35   \n",
       "\n",
       "   Overall  Gender Years Ran hours minutes seconds  total  \n",
       "0        1       1       NaN     2      09      37   7777  \n",
       "1        2       2       NaN     2      09      58   7798  \n",
       "2        3       3       NaN     2      10      28   7828  \n",
       "3        4       4       NaN     2      12      08   7928  \n",
       "4        5       5      2015     2      12      35   7955  "
      ]
     },
     "execution_count": 265,
     "metadata": {},
     "output_type": "execute_result"
    }
   ],
   "source": [
    "bm.head()"
   ]
  },
  {
   "cell_type": "code",
   "execution_count": 266,
   "id": "3ff9ac77",
   "metadata": {},
   "outputs": [
    {
     "data": {
      "text/plain": [
       "2016         125\n",
       "2015:2016    124\n",
       "2015          66\n",
       "Name: Years Ran, dtype: int64"
      ]
     },
     "execution_count": 266,
     "metadata": {},
     "output_type": "execute_result"
    }
   ],
   "source": [
    "bm['Years Ran'].value_counts()"
   ]
  },
  {
   "cell_type": "code",
   "execution_count": 272,
   "id": "8421fe02",
   "metadata": {},
   "outputs": [
    {
     "data": {
      "text/html": [
       "<div>\n",
       "<style scoped>\n",
       "    .dataframe tbody tr th:only-of-type {\n",
       "        vertical-align: middle;\n",
       "    }\n",
       "\n",
       "    .dataframe tbody tr th {\n",
       "        vertical-align: top;\n",
       "    }\n",
       "\n",
       "    .dataframe thead th {\n",
       "        text-align: right;\n",
       "    }\n",
       "</style>\n",
       "<table border=\"1\" class=\"dataframe\">\n",
       "  <thead>\n",
       "    <tr style=\"text-align: right;\">\n",
       "      <th></th>\n",
       "      <th>2015</th>\n",
       "      <th>2016</th>\n",
       "    </tr>\n",
       "  </thead>\n",
       "  <tbody>\n",
       "    <tr>\n",
       "      <th>0</th>\n",
       "      <td>0</td>\n",
       "      <td>0</td>\n",
       "    </tr>\n",
       "    <tr>\n",
       "      <th>1</th>\n",
       "      <td>0</td>\n",
       "      <td>0</td>\n",
       "    </tr>\n",
       "    <tr>\n",
       "      <th>2</th>\n",
       "      <td>0</td>\n",
       "      <td>0</td>\n",
       "    </tr>\n",
       "    <tr>\n",
       "      <th>3</th>\n",
       "      <td>0</td>\n",
       "      <td>0</td>\n",
       "    </tr>\n",
       "    <tr>\n",
       "      <th>4</th>\n",
       "      <td>1</td>\n",
       "      <td>0</td>\n",
       "    </tr>\n",
       "    <tr>\n",
       "      <th>...</th>\n",
       "      <td>...</td>\n",
       "      <td>...</td>\n",
       "    </tr>\n",
       "    <tr>\n",
       "      <th>995</th>\n",
       "      <td>1</td>\n",
       "      <td>1</td>\n",
       "    </tr>\n",
       "    <tr>\n",
       "      <th>996</th>\n",
       "      <td>1</td>\n",
       "      <td>0</td>\n",
       "    </tr>\n",
       "    <tr>\n",
       "      <th>997</th>\n",
       "      <td>0</td>\n",
       "      <td>0</td>\n",
       "    </tr>\n",
       "    <tr>\n",
       "      <th>998</th>\n",
       "      <td>0</td>\n",
       "      <td>0</td>\n",
       "    </tr>\n",
       "    <tr>\n",
       "      <th>999</th>\n",
       "      <td>0</td>\n",
       "      <td>0</td>\n",
       "    </tr>\n",
       "  </tbody>\n",
       "</table>\n",
       "<p>1000 rows × 2 columns</p>\n",
       "</div>"
      ],
      "text/plain": [
       "     2015  2016\n",
       "0       0     0\n",
       "1       0     0\n",
       "2       0     0\n",
       "3       0     0\n",
       "4       1     0\n",
       "..    ...   ...\n",
       "995     1     1\n",
       "996     1     0\n",
       "997     0     0\n",
       "998     0     0\n",
       "999     0     0\n",
       "\n",
       "[1000 rows x 2 columns]"
      ]
     },
     "execution_count": 272,
     "metadata": {},
     "output_type": "execute_result"
    }
   ],
   "source": [
    "bm['Years Ran'].str.get_dummies(sep=':')"
   ]
  },
  {
   "cell_type": "code",
   "execution_count": 273,
   "id": "4c908d2e",
   "metadata": {},
   "outputs": [],
   "source": [
    "dummies = bm['Years Ran'].str.get_dummies(sep=':')"
   ]
  },
  {
   "cell_type": "code",
   "execution_count": 113,
   "id": "137a19b7",
   "metadata": {},
   "outputs": [],
   "source": [
    "# bm['Years Ran'].str.get_dummies()"
   ]
  },
  {
   "cell_type": "code",
   "execution_count": 114,
   "id": "8f6cf1e9",
   "metadata": {},
   "outputs": [],
   "source": [
    "# bm.insert(bm.columns.get_loc('Years Ran'),['Ran 2015','Ran 2016'], dummies['2015','2016'])"
   ]
  },
  {
   "cell_type": "code",
   "execution_count": 274,
   "id": "9cf0ade4",
   "metadata": {},
   "outputs": [],
   "source": [
    "bm.insert(bm.columns.get_loc('Years Ran'),'Ran 2015', dummies['2015'])\n",
    "bm.insert(bm.columns.get_loc('Years Ran'),'Ran 2016', dummies['2016'])"
   ]
  },
  {
   "cell_type": "code",
   "execution_count": 290,
   "id": "a9d23622",
   "metadata": {},
   "outputs": [
    {
     "data": {
      "text/plain": [
       "10043.12048192771"
      ]
     },
     "execution_count": 290,
     "metadata": {},
     "output_type": "execute_result"
    }
   ],
   "source": [
    "# who ran in 2016\n",
    "\n",
    "bm[bm['Ran 2016']==1].total.mean()"
   ]
  },
  {
   "cell_type": "code",
   "execution_count": 289,
   "id": "3253057d",
   "metadata": {},
   "outputs": [
    {
     "ename": "KeyError",
     "evalue": "'Ran 2016'",
     "output_type": "error",
     "traceback": [
      "\u001b[0;31m---------------------------------------------------------------------------\u001b[0m",
      "\u001b[0;31mKeyError\u001b[0m                                  Traceback (most recent call last)",
      "\u001b[0;32m<ipython-input-289-ba1cff769944>\u001b[0m in \u001b[0;36m<module>\u001b[0;34m\u001b[0m\n\u001b[0;32m----> 1\u001b[0;31m \u001b[0mbm\u001b[0m\u001b[0;34m.\u001b[0m\u001b[0mloc\u001b[0m\u001b[0;34m[\u001b[0m\u001b[0;34m'Ran 2016'\u001b[0m\u001b[0;34m]\u001b[0m\u001b[0;34m.\u001b[0m\u001b[0mtotal\u001b[0m\u001b[0;34m.\u001b[0m\u001b[0mmean\u001b[0m\u001b[0;34m(\u001b[0m\u001b[0;34m)\u001b[0m\u001b[0;34m\u001b[0m\u001b[0;34m\u001b[0m\u001b[0m\n\u001b[0m",
      "\u001b[0;32m~/anaconda3/lib/python3.7/site-packages/pandas/core/indexing.py\u001b[0m in \u001b[0;36m__getitem__\u001b[0;34m(self, key)\u001b[0m\n\u001b[1;32m    893\u001b[0m \u001b[0;34m\u001b[0m\u001b[0m\n\u001b[1;32m    894\u001b[0m             \u001b[0mmaybe_callable\u001b[0m \u001b[0;34m=\u001b[0m \u001b[0mcom\u001b[0m\u001b[0;34m.\u001b[0m\u001b[0mapply_if_callable\u001b[0m\u001b[0;34m(\u001b[0m\u001b[0mkey\u001b[0m\u001b[0;34m,\u001b[0m \u001b[0mself\u001b[0m\u001b[0;34m.\u001b[0m\u001b[0mobj\u001b[0m\u001b[0;34m)\u001b[0m\u001b[0;34m\u001b[0m\u001b[0;34m\u001b[0m\u001b[0m\n\u001b[0;32m--> 895\u001b[0;31m             \u001b[0;32mreturn\u001b[0m \u001b[0mself\u001b[0m\u001b[0;34m.\u001b[0m\u001b[0m_getitem_axis\u001b[0m\u001b[0;34m(\u001b[0m\u001b[0mmaybe_callable\u001b[0m\u001b[0;34m,\u001b[0m \u001b[0maxis\u001b[0m\u001b[0;34m=\u001b[0m\u001b[0maxis\u001b[0m\u001b[0;34m)\u001b[0m\u001b[0;34m\u001b[0m\u001b[0;34m\u001b[0m\u001b[0m\n\u001b[0m\u001b[1;32m    896\u001b[0m \u001b[0;34m\u001b[0m\u001b[0m\n\u001b[1;32m    897\u001b[0m     \u001b[0;32mdef\u001b[0m \u001b[0m_is_scalar_access\u001b[0m\u001b[0;34m(\u001b[0m\u001b[0mself\u001b[0m\u001b[0;34m,\u001b[0m \u001b[0mkey\u001b[0m\u001b[0;34m:\u001b[0m \u001b[0mTuple\u001b[0m\u001b[0;34m)\u001b[0m\u001b[0;34m:\u001b[0m\u001b[0;34m\u001b[0m\u001b[0;34m\u001b[0m\u001b[0m\n",
      "\u001b[0;32m~/anaconda3/lib/python3.7/site-packages/pandas/core/indexing.py\u001b[0m in \u001b[0;36m_getitem_axis\u001b[0;34m(self, key, axis)\u001b[0m\n\u001b[1;32m   1122\u001b[0m         \u001b[0;31m# fall thru to straight lookup\u001b[0m\u001b[0;34m\u001b[0m\u001b[0;34m\u001b[0m\u001b[0;34m\u001b[0m\u001b[0m\n\u001b[1;32m   1123\u001b[0m         \u001b[0mself\u001b[0m\u001b[0;34m.\u001b[0m\u001b[0m_validate_key\u001b[0m\u001b[0;34m(\u001b[0m\u001b[0mkey\u001b[0m\u001b[0;34m,\u001b[0m \u001b[0maxis\u001b[0m\u001b[0;34m)\u001b[0m\u001b[0;34m\u001b[0m\u001b[0;34m\u001b[0m\u001b[0m\n\u001b[0;32m-> 1124\u001b[0;31m         \u001b[0;32mreturn\u001b[0m \u001b[0mself\u001b[0m\u001b[0;34m.\u001b[0m\u001b[0m_get_label\u001b[0m\u001b[0;34m(\u001b[0m\u001b[0mkey\u001b[0m\u001b[0;34m,\u001b[0m \u001b[0maxis\u001b[0m\u001b[0;34m=\u001b[0m\u001b[0maxis\u001b[0m\u001b[0;34m)\u001b[0m\u001b[0;34m\u001b[0m\u001b[0;34m\u001b[0m\u001b[0m\n\u001b[0m\u001b[1;32m   1125\u001b[0m \u001b[0;34m\u001b[0m\u001b[0m\n\u001b[1;32m   1126\u001b[0m     \u001b[0;32mdef\u001b[0m \u001b[0m_get_slice_axis\u001b[0m\u001b[0;34m(\u001b[0m\u001b[0mself\u001b[0m\u001b[0;34m,\u001b[0m \u001b[0mslice_obj\u001b[0m\u001b[0;34m:\u001b[0m \u001b[0mslice\u001b[0m\u001b[0;34m,\u001b[0m \u001b[0maxis\u001b[0m\u001b[0;34m:\u001b[0m \u001b[0mint\u001b[0m\u001b[0;34m)\u001b[0m\u001b[0;34m:\u001b[0m\u001b[0;34m\u001b[0m\u001b[0;34m\u001b[0m\u001b[0m\n",
      "\u001b[0;32m~/anaconda3/lib/python3.7/site-packages/pandas/core/indexing.py\u001b[0m in \u001b[0;36m_get_label\u001b[0;34m(self, label, axis)\u001b[0m\n\u001b[1;32m   1071\u001b[0m     \u001b[0;32mdef\u001b[0m \u001b[0m_get_label\u001b[0m\u001b[0;34m(\u001b[0m\u001b[0mself\u001b[0m\u001b[0;34m,\u001b[0m \u001b[0mlabel\u001b[0m\u001b[0;34m,\u001b[0m \u001b[0maxis\u001b[0m\u001b[0;34m:\u001b[0m \u001b[0mint\u001b[0m\u001b[0;34m)\u001b[0m\u001b[0;34m:\u001b[0m\u001b[0;34m\u001b[0m\u001b[0;34m\u001b[0m\u001b[0m\n\u001b[1;32m   1072\u001b[0m         \u001b[0;31m# GH#5667 this will fail if the label is not present in the axis.\u001b[0m\u001b[0;34m\u001b[0m\u001b[0;34m\u001b[0m\u001b[0;34m\u001b[0m\u001b[0m\n\u001b[0;32m-> 1073\u001b[0;31m         \u001b[0;32mreturn\u001b[0m \u001b[0mself\u001b[0m\u001b[0;34m.\u001b[0m\u001b[0mobj\u001b[0m\u001b[0;34m.\u001b[0m\u001b[0mxs\u001b[0m\u001b[0;34m(\u001b[0m\u001b[0mlabel\u001b[0m\u001b[0;34m,\u001b[0m \u001b[0maxis\u001b[0m\u001b[0;34m=\u001b[0m\u001b[0maxis\u001b[0m\u001b[0;34m)\u001b[0m\u001b[0;34m\u001b[0m\u001b[0;34m\u001b[0m\u001b[0m\n\u001b[0m\u001b[1;32m   1074\u001b[0m \u001b[0;34m\u001b[0m\u001b[0m\n\u001b[1;32m   1075\u001b[0m     \u001b[0;32mdef\u001b[0m \u001b[0m_handle_lowerdim_multi_index_axis0\u001b[0m\u001b[0;34m(\u001b[0m\u001b[0mself\u001b[0m\u001b[0;34m,\u001b[0m \u001b[0mtup\u001b[0m\u001b[0;34m:\u001b[0m \u001b[0mTuple\u001b[0m\u001b[0;34m)\u001b[0m\u001b[0;34m:\u001b[0m\u001b[0;34m\u001b[0m\u001b[0;34m\u001b[0m\u001b[0m\n",
      "\u001b[0;32m~/anaconda3/lib/python3.7/site-packages/pandas/core/generic.py\u001b[0m in \u001b[0;36mxs\u001b[0;34m(self, key, axis, level, drop_level)\u001b[0m\n\u001b[1;32m   3737\u001b[0m                 \u001b[0;32mraise\u001b[0m \u001b[0mTypeError\u001b[0m\u001b[0;34m(\u001b[0m\u001b[0;34mf\"Expected label or tuple of labels, got {key}\"\u001b[0m\u001b[0;34m)\u001b[0m \u001b[0;32mfrom\u001b[0m \u001b[0me\u001b[0m\u001b[0;34m\u001b[0m\u001b[0;34m\u001b[0m\u001b[0m\n\u001b[1;32m   3738\u001b[0m         \u001b[0;32melse\u001b[0m\u001b[0;34m:\u001b[0m\u001b[0;34m\u001b[0m\u001b[0;34m\u001b[0m\u001b[0m\n\u001b[0;32m-> 3739\u001b[0;31m             \u001b[0mloc\u001b[0m \u001b[0;34m=\u001b[0m \u001b[0mindex\u001b[0m\u001b[0;34m.\u001b[0m\u001b[0mget_loc\u001b[0m\u001b[0;34m(\u001b[0m\u001b[0mkey\u001b[0m\u001b[0;34m)\u001b[0m\u001b[0;34m\u001b[0m\u001b[0;34m\u001b[0m\u001b[0m\n\u001b[0m\u001b[1;32m   3740\u001b[0m \u001b[0;34m\u001b[0m\u001b[0m\n\u001b[1;32m   3741\u001b[0m             \u001b[0;32mif\u001b[0m \u001b[0misinstance\u001b[0m\u001b[0;34m(\u001b[0m\u001b[0mloc\u001b[0m\u001b[0;34m,\u001b[0m \u001b[0mnp\u001b[0m\u001b[0;34m.\u001b[0m\u001b[0mndarray\u001b[0m\u001b[0;34m)\u001b[0m\u001b[0;34m:\u001b[0m\u001b[0;34m\u001b[0m\u001b[0;34m\u001b[0m\u001b[0m\n",
      "\u001b[0;32m~/anaconda3/lib/python3.7/site-packages/pandas/core/indexes/range.py\u001b[0m in \u001b[0;36mget_loc\u001b[0;34m(self, key, method, tolerance)\u001b[0m\n\u001b[1;32m    352\u001b[0m                 \u001b[0;32mexcept\u001b[0m \u001b[0mValueError\u001b[0m \u001b[0;32mas\u001b[0m \u001b[0merr\u001b[0m\u001b[0;34m:\u001b[0m\u001b[0;34m\u001b[0m\u001b[0;34m\u001b[0m\u001b[0m\n\u001b[1;32m    353\u001b[0m                     \u001b[0;32mraise\u001b[0m \u001b[0mKeyError\u001b[0m\u001b[0;34m(\u001b[0m\u001b[0mkey\u001b[0m\u001b[0;34m)\u001b[0m \u001b[0;32mfrom\u001b[0m \u001b[0merr\u001b[0m\u001b[0;34m\u001b[0m\u001b[0;34m\u001b[0m\u001b[0m\n\u001b[0;32m--> 354\u001b[0;31m             \u001b[0;32mraise\u001b[0m \u001b[0mKeyError\u001b[0m\u001b[0;34m(\u001b[0m\u001b[0mkey\u001b[0m\u001b[0;34m)\u001b[0m\u001b[0;34m\u001b[0m\u001b[0;34m\u001b[0m\u001b[0m\n\u001b[0m\u001b[1;32m    355\u001b[0m         \u001b[0;32mreturn\u001b[0m \u001b[0msuper\u001b[0m\u001b[0;34m(\u001b[0m\u001b[0;34m)\u001b[0m\u001b[0;34m.\u001b[0m\u001b[0mget_loc\u001b[0m\u001b[0;34m(\u001b[0m\u001b[0mkey\u001b[0m\u001b[0;34m,\u001b[0m \u001b[0mmethod\u001b[0m\u001b[0;34m=\u001b[0m\u001b[0mmethod\u001b[0m\u001b[0;34m,\u001b[0m \u001b[0mtolerance\u001b[0m\u001b[0;34m=\u001b[0m\u001b[0mtolerance\u001b[0m\u001b[0;34m)\u001b[0m\u001b[0;34m\u001b[0m\u001b[0;34m\u001b[0m\u001b[0m\n\u001b[1;32m    356\u001b[0m \u001b[0;34m\u001b[0m\u001b[0m\n",
      "\u001b[0;31mKeyError\u001b[0m: 'Ran 2016'"
     ]
    }
   ],
   "source": []
  },
  {
   "cell_type": "code",
   "execution_count": 287,
   "id": "742d862c",
   "metadata": {},
   "outputs": [
    {
     "data": {
      "text/plain": [
       "9985.35"
      ]
     },
     "execution_count": 287,
     "metadata": {},
     "output_type": "execute_result"
    }
   ],
   "source": [
    "# total runners\n",
    "bm.total.mean()"
   ]
  },
  {
   "cell_type": "code",
   "execution_count": 282,
   "id": "3b72bb18",
   "metadata": {},
   "outputs": [],
   "source": [
    "final_times = final_times.astype(int)"
   ]
  },
  {
   "cell_type": "code",
   "execution_count": 284,
   "id": "7e5cb560",
   "metadata": {},
   "outputs": [],
   "source": [
    "final_times['total']=final_times.apply(lambda t: t.iat[0]*3600+t.iat[1]*60+t.iat[2], axis=1)"
   ]
  },
  {
   "cell_type": "code",
   "execution_count": 285,
   "id": "7a8694bc",
   "metadata": {},
   "outputs": [],
   "source": [
    "# inserting after official time\n",
    "bm.insert(bm.columns.get_loc('Official Time')+1, 'Total Time', final_times.total)"
   ]
  },
  {
   "cell_type": "code",
   "execution_count": 291,
   "id": "708f608f",
   "metadata": {},
   "outputs": [
    {
     "data": {
      "text/html": [
       "<div>\n",
       "<style scoped>\n",
       "    .dataframe tbody tr th:only-of-type {\n",
       "        vertical-align: middle;\n",
       "    }\n",
       "\n",
       "    .dataframe tbody tr th {\n",
       "        vertical-align: top;\n",
       "    }\n",
       "\n",
       "    .dataframe thead th {\n",
       "        text-align: right;\n",
       "    }\n",
       "</style>\n",
       "<table border=\"1\" class=\"dataframe\">\n",
       "  <thead>\n",
       "    <tr style=\"text-align: right;\">\n",
       "      <th></th>\n",
       "      <th>Name</th>\n",
       "      <th>Age</th>\n",
       "      <th>M/F</th>\n",
       "      <th>City</th>\n",
       "      <th>State</th>\n",
       "      <th>Country</th>\n",
       "      <th>Official Time</th>\n",
       "      <th>Total Time</th>\n",
       "      <th>Overall</th>\n",
       "      <th>Gender</th>\n",
       "      <th>Ran 2015</th>\n",
       "      <th>Ran 2016</th>\n",
       "      <th>Years Ran</th>\n",
       "      <th>hours</th>\n",
       "      <th>minutes</th>\n",
       "      <th>seconds</th>\n",
       "      <th>total</th>\n",
       "    </tr>\n",
       "  </thead>\n",
       "  <tbody>\n",
       "    <tr>\n",
       "      <th>0</th>\n",
       "      <td>Kirui, Geoffrey</td>\n",
       "      <td>24</td>\n",
       "      <td>M</td>\n",
       "      <td>Keringet</td>\n",
       "      <td>NaN</td>\n",
       "      <td>KEN</td>\n",
       "      <td>2:09:37</td>\n",
       "      <td>7777</td>\n",
       "      <td>1</td>\n",
       "      <td>1</td>\n",
       "      <td>0</td>\n",
       "      <td>0</td>\n",
       "      <td>NaN</td>\n",
       "      <td>2</td>\n",
       "      <td>09</td>\n",
       "      <td>37</td>\n",
       "      <td>7777</td>\n",
       "    </tr>\n",
       "    <tr>\n",
       "      <th>1</th>\n",
       "      <td>Rupp, Galen</td>\n",
       "      <td>30</td>\n",
       "      <td>M</td>\n",
       "      <td>Portland</td>\n",
       "      <td>OR</td>\n",
       "      <td>USA</td>\n",
       "      <td>2:09:58</td>\n",
       "      <td>7798</td>\n",
       "      <td>2</td>\n",
       "      <td>2</td>\n",
       "      <td>0</td>\n",
       "      <td>0</td>\n",
       "      <td>NaN</td>\n",
       "      <td>2</td>\n",
       "      <td>09</td>\n",
       "      <td>58</td>\n",
       "      <td>7798</td>\n",
       "    </tr>\n",
       "    <tr>\n",
       "      <th>2</th>\n",
       "      <td>Osako, Suguru</td>\n",
       "      <td>25</td>\n",
       "      <td>M</td>\n",
       "      <td>Machida-City</td>\n",
       "      <td>NaN</td>\n",
       "      <td>JPN</td>\n",
       "      <td>2:10:28</td>\n",
       "      <td>7828</td>\n",
       "      <td>3</td>\n",
       "      <td>3</td>\n",
       "      <td>0</td>\n",
       "      <td>0</td>\n",
       "      <td>NaN</td>\n",
       "      <td>2</td>\n",
       "      <td>10</td>\n",
       "      <td>28</td>\n",
       "      <td>7828</td>\n",
       "    </tr>\n",
       "    <tr>\n",
       "      <th>3</th>\n",
       "      <td>Biwott, Shadrack</td>\n",
       "      <td>32</td>\n",
       "      <td>M</td>\n",
       "      <td>Mammoth Lakes</td>\n",
       "      <td>CA</td>\n",
       "      <td>USA</td>\n",
       "      <td>2:12:08</td>\n",
       "      <td>7928</td>\n",
       "      <td>4</td>\n",
       "      <td>4</td>\n",
       "      <td>0</td>\n",
       "      <td>0</td>\n",
       "      <td>NaN</td>\n",
       "      <td>2</td>\n",
       "      <td>12</td>\n",
       "      <td>08</td>\n",
       "      <td>7928</td>\n",
       "    </tr>\n",
       "    <tr>\n",
       "      <th>4</th>\n",
       "      <td>Chebet, Wilson</td>\n",
       "      <td>31</td>\n",
       "      <td>M</td>\n",
       "      <td>Marakwet</td>\n",
       "      <td>NaN</td>\n",
       "      <td>KEN</td>\n",
       "      <td>2:12:35</td>\n",
       "      <td>7955</td>\n",
       "      <td>5</td>\n",
       "      <td>5</td>\n",
       "      <td>1</td>\n",
       "      <td>0</td>\n",
       "      <td>2015</td>\n",
       "      <td>2</td>\n",
       "      <td>12</td>\n",
       "      <td>35</td>\n",
       "      <td>7955</td>\n",
       "    </tr>\n",
       "  </tbody>\n",
       "</table>\n",
       "</div>"
      ],
      "text/plain": [
       "                Name  Age M/F           City State Country Official Time  \\\n",
       "0   Kirui, Geoffrey    24   M       Keringet   NaN     KEN       2:09:37   \n",
       "1     Rupp, Galen      30   M       Portland    OR     USA       2:09:58   \n",
       "2    Osako, Suguru     25   M   Machida-City   NaN     JPN       2:10:28   \n",
       "3   Biwott, Shadrack   32   M  Mammoth Lakes    CA     USA       2:12:08   \n",
       "4     Chebet, Wilson   31   M       Marakwet   NaN     KEN       2:12:35   \n",
       "\n",
       "   Total Time  Overall  Gender  Ran 2015  Ran 2016 Years Ran hours minutes  \\\n",
       "0        7777        1       1         0         0       NaN     2      09   \n",
       "1        7798        2       2         0         0       NaN     2      09   \n",
       "2        7828        3       3         0         0       NaN     2      10   \n",
       "3        7928        4       4         0         0       NaN     2      12   \n",
       "4        7955        5       5         1         0      2015     2      12   \n",
       "\n",
       "  seconds  total  \n",
       "0      37   7777  \n",
       "1      58   7798  \n",
       "2      28   7828  \n",
       "3      08   7928  \n",
       "4      35   7955  "
      ]
     },
     "execution_count": 291,
     "metadata": {},
     "output_type": "execute_result"
    }
   ],
   "source": [
    "bm.head()"
   ]
  },
  {
   "cell_type": "code",
   "execution_count": 296,
   "id": "eadd7946",
   "metadata": {},
   "outputs": [
    {
     "data": {
      "text/plain": [
       "9966.195739014647"
      ]
     },
     "execution_count": 296,
     "metadata": {},
     "output_type": "execute_result"
    }
   ],
   "source": [
    "bm[bm['Ran 2016']==0].total.mean()"
   ]
  },
  {
   "cell_type": "code",
   "execution_count": 300,
   "id": "5b53a15f",
   "metadata": {},
   "outputs": [],
   "source": [
    "ran_2016 = bm['Ran 2016']==1"
   ]
  },
  {
   "cell_type": "code",
   "execution_count": 305,
   "id": "d80ce02e",
   "metadata": {},
   "outputs": [
    {
     "data": {
      "text/plain": [
       "10043.12048192771"
      ]
     },
     "execution_count": 305,
     "metadata": {},
     "output_type": "execute_result"
    }
   ],
   "source": [
    "bm.loc[ran_2016,'total'].mean()"
   ]
  },
  {
   "cell_type": "code",
   "execution_count": 306,
   "id": "2937d5b3",
   "metadata": {},
   "outputs": [
    {
     "data": {
      "text/plain": [
       "9966.195739014647"
      ]
     },
     "execution_count": 306,
     "metadata": {},
     "output_type": "execute_result"
    }
   ],
   "source": [
    "bm.loc[~ran_2016,'total'].mean()"
   ]
  },
  {
   "cell_type": "code",
   "execution_count": null,
   "id": "fa2f644b",
   "metadata": {},
   "outputs": [],
   "source": []
  }
 ],
 "metadata": {
  "kernelspec": {
   "display_name": "Python 3",
   "language": "python",
   "name": "python3"
  },
  "language_info": {
   "codemirror_mode": {
    "name": "ipython",
    "version": 3
   },
   "file_extension": ".py",
   "mimetype": "text/x-python",
   "name": "python",
   "nbconvert_exporter": "python",
   "pygments_lexer": "ipython3",
   "version": "3.7.10"
  }
 },
 "nbformat": 4,
 "nbformat_minor": 5
}
