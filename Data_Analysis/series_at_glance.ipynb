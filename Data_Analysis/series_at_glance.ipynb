{
 "cells": [
  {
   "cell_type": "code",
   "execution_count": 1,
   "id": "3e925a5c",
   "metadata": {},
   "outputs": [],
   "source": [
    "import pandas as pd"
   ]
  },
  {
   "cell_type": "code",
   "execution_count": 2,
   "id": "3578388c",
   "metadata": {},
   "outputs": [],
   "source": [
    "students = ['aayush','rama']"
   ]
  },
  {
   "cell_type": "code",
   "execution_count": 3,
   "id": "0dc592ca",
   "metadata": {},
   "outputs": [
    {
     "data": {
      "text/plain": [
       "list"
      ]
     },
     "execution_count": 3,
     "metadata": {},
     "output_type": "execute_result"
    }
   ],
   "source": [
    "type(students)"
   ]
  },
  {
   "cell_type": "code",
   "execution_count": 4,
   "id": "ff09440c",
   "metadata": {},
   "outputs": [
    {
     "data": {
      "text/plain": [
       "0    aayush\n",
       "1      rama\n",
       "dtype: object"
      ]
     },
     "execution_count": 4,
     "metadata": {},
     "output_type": "execute_result"
    }
   ],
   "source": [
    "pd.Series(students)"
   ]
  },
  {
   "cell_type": "code",
   "execution_count": 5,
   "id": "e8a62c88",
   "metadata": {},
   "outputs": [],
   "source": [
    "age = [12,13]"
   ]
  },
  {
   "cell_type": "code",
   "execution_count": 6,
   "id": "579d6335",
   "metadata": {},
   "outputs": [
    {
     "data": {
      "text/plain": [
       "0    12\n",
       "1    13\n",
       "dtype: int64"
      ]
     },
     "execution_count": 6,
     "metadata": {},
     "output_type": "execute_result"
    }
   ],
   "source": [
    "pd.Series(age)"
   ]
  },
  {
   "cell_type": "code",
   "execution_count": 7,
   "id": "e8d7cdf3",
   "metadata": {},
   "outputs": [],
   "source": [
    "heights = [123.3,190.5]"
   ]
  },
  {
   "cell_type": "code",
   "execution_count": 8,
   "id": "65b370aa",
   "metadata": {},
   "outputs": [
    {
     "data": {
      "text/plain": [
       "0    123.3\n",
       "1    190.5\n",
       "dtype: float64"
      ]
     },
     "execution_count": 8,
     "metadata": {},
     "output_type": "execute_result"
    }
   ],
   "source": [
    "pd.Series(heights)"
   ]
  },
  {
   "cell_type": "code",
   "execution_count": 9,
   "id": "8e8fc17e",
   "metadata": {},
   "outputs": [],
   "source": [
    "mixed = [True,'say',{'my_mood':100}]"
   ]
  },
  {
   "cell_type": "code",
   "execution_count": 10,
   "id": "6a8dcb48",
   "metadata": {},
   "outputs": [
    {
     "data": {
      "text/plain": [
       "0                True\n",
       "1                 say\n",
       "2    {'my_mood': 100}\n",
       "dtype: object"
      ]
     },
     "execution_count": 10,
     "metadata": {},
     "output_type": "execute_result"
    }
   ],
   "source": [
    "pd.Series(mixed)"
   ]
  },
  {
   "cell_type": "code",
   "execution_count": 11,
   "id": "e4f7839b",
   "metadata": {},
   "outputs": [
    {
     "data": {
      "text/plain": [
       "0    aayush\n",
       "1      rama\n",
       "dtype: object"
      ]
     },
     "execution_count": 11,
     "metadata": {},
     "output_type": "execute_result"
    }
   ],
   "source": [
    "pd.Series(data=students)"
   ]
  },
  {
   "cell_type": "code",
   "execution_count": 12,
   "id": "28e6d8de",
   "metadata": {},
   "outputs": [
    {
     "data": {
      "text/plain": [
       "0    12.0\n",
       "1    13.0\n",
       "dtype: float64"
      ]
     },
     "execution_count": 12,
     "metadata": {},
     "output_type": "execute_result"
    }
   ],
   "source": [
    "pd.Series(age,dtype='float') # although pandas can infer it automatically"
   ]
  },
  {
   "cell_type": "code",
   "execution_count": 13,
   "id": "f769c8f8",
   "metadata": {},
   "outputs": [],
   "source": [
    "# dtype containing string becomes object automaticlly"
   ]
  },
  {
   "cell_type": "code",
   "execution_count": 14,
   "id": "0ba3c175",
   "metadata": {},
   "outputs": [],
   "source": [
    "s = pd.Series(students)"
   ]
  },
  {
   "cell_type": "code",
   "execution_count": 15,
   "id": "4a202f09",
   "metadata": {},
   "outputs": [
    {
     "data": {
      "text/plain": [
       "dtype('O')"
      ]
     },
     "execution_count": 15,
     "metadata": {},
     "output_type": "execute_result"
    }
   ],
   "source": [
    "s.dtype"
   ]
  },
  {
   "cell_type": "markdown",
   "id": "f364d7d2",
   "metadata": {},
   "source": [
    "## Index and RangeIndex"
   ]
  },
  {
   "cell_type": "code",
   "execution_count": 16,
   "id": "992c2d2e",
   "metadata": {},
   "outputs": [
    {
     "data": {
      "text/plain": [
       "0    abc\n",
       "1    xyz\n",
       "dtype: object"
      ]
     },
     "execution_count": 16,
     "metadata": {},
     "output_type": "execute_result"
    }
   ],
   "source": [
    "book_list = ['abc','xyz']\n",
    "pd.Series(book_list)\n",
    "\n",
    "# assigns defualt sequence of index starting from 0\n",
    "# this is called rangeindex"
   ]
  },
  {
   "cell_type": "code",
   "execution_count": 17,
   "id": "559e08f7",
   "metadata": {},
   "outputs": [
    {
     "data": {
      "text/plain": [
       "first     abc\n",
       "second    xyz\n",
       "dtype: object"
      ]
     },
     "execution_count": 17,
     "metadata": {},
     "output_type": "execute_result"
    }
   ],
   "source": [
    "pd.Series(data=book_list, index=['first','second']) # keyword argument"
   ]
  },
  {
   "cell_type": "code",
   "execution_count": 18,
   "id": "b0ba47bf",
   "metadata": {},
   "outputs": [
    {
     "data": {
      "text/plain": [
       "first     abc\n",
       "second    xyz\n",
       "dtype: object"
      ]
     },
     "execution_count": 18,
     "metadata": {},
     "output_type": "execute_result"
    }
   ],
   "source": [
    "pd.Series(book_list,['first','second']) # positional"
   ]
  },
  {
   "cell_type": "code",
   "execution_count": 19,
   "id": "b3dad432",
   "metadata": {},
   "outputs": [
    {
     "data": {
      "text/plain": [
       "'1.2.5'"
      ]
     },
     "execution_count": 19,
     "metadata": {},
     "output_type": "execute_result"
    }
   ],
   "source": [
    "pd.__version__"
   ]
  },
  {
   "cell_type": "code",
   "execution_count": 20,
   "id": "c09b54ba",
   "metadata": {},
   "outputs": [
    {
     "data": {
      "text/plain": [
       "first     abc\n",
       "second    xyz\n",
       "dtype: string"
      ]
     },
     "execution_count": 20,
     "metadata": {},
     "output_type": "execute_result"
    }
   ],
   "source": [
    "pd.Series(data=book_list, index=['first','second'],dtype='string')"
   ]
  },
  {
   "cell_type": "code",
   "execution_count": 21,
   "id": "346f981a",
   "metadata": {},
   "outputs": [
    {
     "data": {
      "text/plain": [
       "first     abc\n",
       "second    xyz\n",
       "dtype: object"
      ]
     },
     "execution_count": 21,
     "metadata": {},
     "output_type": "execute_result"
    }
   ],
   "source": [
    "pd.Series(data=book_list, index=['first','second'],dtype='object')"
   ]
  },
  {
   "cell_type": "code",
   "execution_count": 22,
   "id": "573cb743",
   "metadata": {},
   "outputs": [],
   "source": [
    "# keyword argument can follor positional argument but the reverse \n",
    "# is not true"
   ]
  },
  {
   "cell_type": "code",
   "execution_count": 23,
   "id": "7f97bbb9",
   "metadata": {},
   "outputs": [
    {
     "data": {
      "text/plain": [
       "RangeIndex(start=0, stop=2, step=1)"
      ]
     },
     "execution_count": 23,
     "metadata": {},
     "output_type": "execute_result"
    }
   ],
   "source": [
    "s.index"
   ]
  },
  {
   "cell_type": "code",
   "execution_count": 24,
   "id": "2489f17c",
   "metadata": {},
   "outputs": [
    {
     "data": {
      "text/plain": [
       "pandas.core.indexes.range.RangeIndex"
      ]
     },
     "execution_count": 24,
     "metadata": {},
     "output_type": "execute_result"
    }
   ],
   "source": [
    "type(s.index)"
   ]
  },
  {
   "cell_type": "code",
   "execution_count": 25,
   "id": "d7c9fadf",
   "metadata": {},
   "outputs": [
    {
     "ename": "SyntaxError",
     "evalue": "invalid syntax (<ipython-input-25-0731f38ce6b5>, line 1)",
     "output_type": "error",
     "traceback": [
      "\u001b[0;36m  File \u001b[0;32m\"<ipython-input-25-0731f38ce6b5>\"\u001b[0;36m, line \u001b[0;32m1\u001b[0m\n\u001b[0;31m    pd.RangeIndex(stapd.RangeIndex(start=4, stop=6,step=1)rt=4, stop=6,step=1)\u001b[0m\n\u001b[0m                                                           ^\u001b[0m\n\u001b[0;31mSyntaxError\u001b[0m\u001b[0;31m:\u001b[0m invalid syntax\n"
     ]
    }
   ],
   "source": [
    "pd.RangeIndex(stapd.RangeIndex(start=4, stop=6,step=1)rt=4, stop=6,step=1)"
   ]
  },
  {
   "cell_type": "code",
   "execution_count": null,
   "id": "99f3a48c",
   "metadata": {},
   "outputs": [],
   "source": [
    "list(pd.RangeIndex(start=4, stop=6,step=1))"
   ]
  },
  {
   "cell_type": "code",
   "execution_count": null,
   "id": "8a4bf80d",
   "metadata": {},
   "outputs": [],
   "source": [
    "s_new_index = pd.Series(book_list, index =list(pd.RangeIndex(start=4, stop=6,step=1)))"
   ]
  },
  {
   "cell_type": "code",
   "execution_count": null,
   "id": "7f9720af",
   "metadata": {},
   "outputs": [],
   "source": [
    "s_new_index"
   ]
  },
  {
   "cell_type": "code",
   "execution_count": null,
   "id": "f7f5a2b3",
   "metadata": {},
   "outputs": [],
   "source": [
    "# range index is immutable object"
   ]
  },
  {
   "cell_type": "markdown",
   "id": "2c852db9",
   "metadata": {},
   "source": [
    "## Series And Index Names"
   ]
  },
  {
   "cell_type": "code",
   "execution_count": null,
   "id": "0d83ea78",
   "metadata": {},
   "outputs": [],
   "source": [
    "s"
   ]
  },
  {
   "cell_type": "code",
   "execution_count": null,
   "id": "841e6533",
   "metadata": {},
   "outputs": [],
   "source": [
    "new_name = s"
   ]
  },
  {
   "cell_type": "code",
   "execution_count": null,
   "id": "de2b1e87",
   "metadata": {},
   "outputs": [],
   "source": [
    "new_name"
   ]
  },
  {
   "cell_type": "code",
   "execution_count": null,
   "id": "471efd03",
   "metadata": {},
   "outputs": [],
   "source": [
    "new_name.size"
   ]
  },
  {
   "cell_type": "code",
   "execution_count": null,
   "id": "4a18c0aa",
   "metadata": {},
   "outputs": [],
   "source": [
    "new_name.equals(s)"
   ]
  },
  {
   "cell_type": "code",
   "execution_count": null,
   "id": "26d41060",
   "metadata": {},
   "outputs": [],
   "source": [
    "new_name.dtype"
   ]
  },
  {
   "cell_type": "code",
   "execution_count": null,
   "id": "142fd2ec",
   "metadata": {},
   "outputs": [],
   "source": [
    "new_name.name # nothing / pointing to None"
   ]
  },
  {
   "cell_type": "code",
   "execution_count": null,
   "id": "eff52301",
   "metadata": {},
   "outputs": [],
   "source": [
    "new_name.name==None"
   ]
  },
  {
   "cell_type": "code",
   "execution_count": null,
   "id": "2c30227a",
   "metadata": {},
   "outputs": [],
   "source": [
    "new_name.name = 'name_list'"
   ]
  },
  {
   "cell_type": "code",
   "execution_count": null,
   "id": "49b10e84",
   "metadata": {},
   "outputs": [],
   "source": [
    "new_name.name"
   ]
  },
  {
   "cell_type": "code",
   "execution_count": null,
   "id": "c0e171fa",
   "metadata": {},
   "outputs": [],
   "source": [
    "new_name"
   ]
  },
  {
   "cell_type": "code",
   "execution_count": null,
   "id": "3053799c",
   "metadata": {},
   "outputs": [],
   "source": [
    "# name of the series will be the column name in the dataframe"
   ]
  },
  {
   "cell_type": "code",
   "execution_count": null,
   "id": "ed0969cc",
   "metadata": {},
   "outputs": [],
   "source": [
    "new_name.index.name"
   ]
  },
  {
   "cell_type": "code",
   "execution_count": null,
   "id": "439a9350",
   "metadata": {},
   "outputs": [],
   "source": [
    "new_name.index.name == None"
   ]
  },
  {
   "cell_type": "code",
   "execution_count": null,
   "id": "b571bf6d",
   "metadata": {},
   "outputs": [],
   "source": [
    "new_name.index.name = 'book_index'"
   ]
  },
  {
   "cell_type": "code",
   "execution_count": null,
   "id": "ad9faced",
   "metadata": {},
   "outputs": [],
   "source": [
    "new_name.index.name"
   ]
  },
  {
   "cell_type": "code",
   "execution_count": null,
   "id": "35a91e1a",
   "metadata": {},
   "outputs": [],
   "source": [
    "new_name"
   ]
  },
  {
   "cell_type": "code",
   "execution_count": 29,
   "id": "d73cca04",
   "metadata": {},
   "outputs": [],
   "source": [
    "## assignment"
   ]
  },
  {
   "cell_type": "code",
   "execution_count": 26,
   "id": "5e8865af",
   "metadata": {},
   "outputs": [],
   "source": [
    "actor_name = ['leo','tom','chris']"
   ]
  },
  {
   "cell_type": "code",
   "execution_count": 27,
   "id": "afb478c3",
   "metadata": {},
   "outputs": [],
   "source": [
    "actor_age = [50,53,47]"
   ]
  },
  {
   "cell_type": "code",
   "execution_count": 28,
   "id": "f4bd22ae",
   "metadata": {},
   "outputs": [
    {
     "data": {
      "text/plain": [
       "leo      50\n",
       "tom      53\n",
       "chris    47\n",
       "dtype: int64"
      ]
     },
     "execution_count": 28,
     "metadata": {},
     "output_type": "execute_result"
    }
   ],
   "source": [
    "pd.Series(actor_age,index=actor_name)"
   ]
  },
  {
   "cell_type": "code",
   "execution_count": 37,
   "id": "a4690c9c",
   "metadata": {},
   "outputs": [],
   "source": [
    "actor_dict = {}\n",
    "val=0\n",
    "for key in actor_name:\n",
    "    actor_dict[key]=actor_age[val]\n",
    "    val=val+1"
   ]
  },
  {
   "cell_type": "code",
   "execution_count": 38,
   "id": "ed0d8d7f",
   "metadata": {},
   "outputs": [
    {
     "data": {
      "text/plain": [
       "{'leo': 50, 'tom': 53, 'chris': 47}"
      ]
     },
     "execution_count": 38,
     "metadata": {},
     "output_type": "execute_result"
    }
   ],
   "source": [
    "actor_dict"
   ]
  },
  {
   "cell_type": "code",
   "execution_count": 160,
   "id": "04852ffe",
   "metadata": {},
   "outputs": [],
   "source": [
    "act_dictionary=pd.Series(actor_dict,name='actor')"
   ]
  },
  {
   "cell_type": "code",
   "execution_count": 44,
   "id": "e928fec5",
   "metadata": {},
   "outputs": [],
   "source": [
    "act_list=list(zip(actor_name,actor_age))"
   ]
  },
  {
   "cell_type": "code",
   "execution_count": 45,
   "id": "0d25f501",
   "metadata": {},
   "outputs": [],
   "source": [
    "act_dic=dict(zip(actor_name,actor_age))"
   ]
  },
  {
   "cell_type": "code",
   "execution_count": 47,
   "id": "10d06b88",
   "metadata": {},
   "outputs": [
    {
     "data": {
      "text/plain": [
       "leo      50\n",
       "tom      53\n",
       "chris    47\n",
       "dtype: int64"
      ]
     },
     "execution_count": 47,
     "metadata": {},
     "output_type": "execute_result"
    }
   ],
   "source": [
    "pd.Series(act_dic)"
   ]
  },
  {
   "cell_type": "code",
   "execution_count": 50,
   "id": "3ba2790d",
   "metadata": {},
   "outputs": [],
   "source": [
    "# dictionary comprehension"
   ]
  },
  {
   "cell_type": "code",
   "execution_count": 51,
   "id": "8c6d24f6",
   "metadata": {},
   "outputs": [
    {
     "data": {
      "text/plain": [
       "{'leo': 50, 'tom': 53, 'chris': 47}"
      ]
     },
     "execution_count": 51,
     "metadata": {},
     "output_type": "execute_result"
    }
   ],
   "source": [
    "{name:age for name,age in zip(actor_name,actor_age)}"
   ]
  },
  {
   "cell_type": "code",
   "execution_count": 52,
   "id": "b3bf39df",
   "metadata": {},
   "outputs": [],
   "source": [
    "# head and tail methods"
   ]
  },
  {
   "cell_type": "code",
   "execution_count": 54,
   "id": "816499a7",
   "metadata": {},
   "outputs": [],
   "source": [
    "int_series = pd.Series([i for i in range(60)])"
   ]
  },
  {
   "cell_type": "code",
   "execution_count": 57,
   "id": "ae32ee76",
   "metadata": {},
   "outputs": [
    {
     "data": {
      "text/plain": [
       "range(0, 60)"
      ]
     },
     "execution_count": 57,
     "metadata": {},
     "output_type": "execute_result"
    }
   ],
   "source": [
    "range(60)"
   ]
  },
  {
   "cell_type": "code",
   "execution_count": 58,
   "id": "d76208d8",
   "metadata": {
    "collapsed": true
   },
   "outputs": [
    {
     "data": {
      "text/plain": [
       "0      0\n",
       "1      1\n",
       "2      2\n",
       "3      3\n",
       "4      4\n",
       "5      5\n",
       "6      6\n",
       "7      7\n",
       "8      8\n",
       "9      9\n",
       "10    10\n",
       "11    11\n",
       "12    12\n",
       "13    13\n",
       "14    14\n",
       "15    15\n",
       "16    16\n",
       "17    17\n",
       "18    18\n",
       "19    19\n",
       "20    20\n",
       "21    21\n",
       "22    22\n",
       "23    23\n",
       "24    24\n",
       "25    25\n",
       "26    26\n",
       "27    27\n",
       "28    28\n",
       "29    29\n",
       "30    30\n",
       "31    31\n",
       "32    32\n",
       "33    33\n",
       "34    34\n",
       "35    35\n",
       "36    36\n",
       "37    37\n",
       "38    38\n",
       "39    39\n",
       "40    40\n",
       "41    41\n",
       "42    42\n",
       "43    43\n",
       "44    44\n",
       "45    45\n",
       "46    46\n",
       "47    47\n",
       "48    48\n",
       "49    49\n",
       "50    50\n",
       "51    51\n",
       "52    52\n",
       "53    53\n",
       "54    54\n",
       "55    55\n",
       "56    56\n",
       "57    57\n",
       "58    58\n",
       "59    59\n",
       "dtype: int64"
      ]
     },
     "execution_count": 58,
     "metadata": {},
     "output_type": "execute_result"
    }
   ],
   "source": [
    "pd.Series(range(60))"
   ]
  },
  {
   "cell_type": "code",
   "execution_count": 60,
   "id": "30a1ecf3",
   "metadata": {},
   "outputs": [
    {
     "data": {
      "text/plain": [
       "60"
      ]
     },
     "execution_count": 60,
     "metadata": {},
     "output_type": "execute_result"
    }
   ],
   "source": [
    "int_series.size"
   ]
  },
  {
   "cell_type": "code",
   "execution_count": 61,
   "id": "c51b895d",
   "metadata": {},
   "outputs": [
    {
     "data": {
      "text/plain": [
       "60"
      ]
     },
     "execution_count": 61,
     "metadata": {},
     "output_type": "execute_result"
    }
   ],
   "source": [
    "len(int_series)"
   ]
  },
  {
   "cell_type": "code",
   "execution_count": 62,
   "id": "949dcabf",
   "metadata": {},
   "outputs": [
    {
     "data": {
      "text/plain": [
       "0    0\n",
       "1    1\n",
       "2    2\n",
       "3    3\n",
       "4    4\n",
       "dtype: int64"
      ]
     },
     "execution_count": 62,
     "metadata": {},
     "output_type": "execute_result"
    }
   ],
   "source": [
    "int_series.head()"
   ]
  },
  {
   "cell_type": "code",
   "execution_count": 63,
   "id": "cb14cdb3",
   "metadata": {},
   "outputs": [
    {
     "data": {
      "text/plain": [
       "55    55\n",
       "56    56\n",
       "57    57\n",
       "58    58\n",
       "59    59\n",
       "dtype: int64"
      ]
     },
     "execution_count": 63,
     "metadata": {},
     "output_type": "execute_result"
    }
   ],
   "source": [
    "int_series.tail()"
   ]
  },
  {
   "cell_type": "code",
   "execution_count": 65,
   "id": "8c2bd94b",
   "metadata": {},
   "outputs": [
    {
     "data": {
      "text/plain": [
       "0    0\n",
       "1    1\n",
       "2    2\n",
       "dtype: int64"
      ]
     },
     "execution_count": 65,
     "metadata": {},
     "output_type": "execute_result"
    }
   ],
   "source": [
    "int_series.head(n=3)"
   ]
  },
  {
   "cell_type": "markdown",
   "id": "2bb05b81",
   "metadata": {},
   "source": [
    "## Changing the Display options"
   ]
  },
  {
   "cell_type": "code",
   "execution_count": 73,
   "id": "6aef5b36",
   "metadata": {},
   "outputs": [
    {
     "data": {
      "text/plain": [
       "0        0\n",
       "1        1\n",
       "2        2\n",
       "3        3\n",
       "4        4\n",
       "5        5\n",
       "6        6\n",
       "7        7\n",
       "8        8\n",
       "9        9\n",
       "10      10\n",
       "11      11\n",
       "12      12\n",
       "13      13\n",
       "14      14\n",
       "      ... \n",
       "285    285\n",
       "286    286\n",
       "287    287\n",
       "288    288\n",
       "289    289\n",
       "290    290\n",
       "291    291\n",
       "292    292\n",
       "293    293\n",
       "294    294\n",
       "295    295\n",
       "296    296\n",
       "297    297\n",
       "298    298\n",
       "299    299\n",
       "Length: 300, dtype: int64"
      ]
     },
     "execution_count": 73,
     "metadata": {},
     "output_type": "execute_result"
    }
   ],
   "source": [
    "pd.options.display.min_rows=30\n",
    "pd.Series(range(300))"
   ]
  },
  {
   "cell_type": "code",
   "execution_count": 74,
   "id": "6781a591",
   "metadata": {},
   "outputs": [
    {
     "data": {
      "text/plain": [
       "0        0\n",
       "1        1\n",
       "2        2\n",
       "3        3\n",
       "4        4\n",
       "5        5\n",
       "6        6\n",
       "7        7\n",
       "8        8\n",
       "9        9\n",
       "10      10\n",
       "11      11\n",
       "12      12\n",
       "13      13\n",
       "14      14\n",
       "      ... \n",
       "285    285\n",
       "286    286\n",
       "287    287\n",
       "288    288\n",
       "289    289\n",
       "290    290\n",
       "291    291\n",
       "292    292\n",
       "293    293\n",
       "294    294\n",
       "295    295\n",
       "296    296\n",
       "297    297\n",
       "298    298\n",
       "299    299\n",
       "Length: 300, dtype: int64"
      ]
     },
     "execution_count": 74,
     "metadata": {},
     "output_type": "execute_result"
    }
   ],
   "source": [
    "pd.Series(range(300))"
   ]
  },
  {
   "cell_type": "code",
   "execution_count": 75,
   "id": "c876ff27",
   "metadata": {},
   "outputs": [],
   "source": [
    "pd.options.display.min_rows=1"
   ]
  },
  {
   "cell_type": "code",
   "execution_count": 72,
   "id": "2251b4e3",
   "metadata": {},
   "outputs": [
    {
     "data": {
      "text/plain": [
       "0    0\n",
       "    ..\n",
       "Length: 300, dtype: int64"
      ]
     },
     "execution_count": 72,
     "metadata": {},
     "output_type": "execute_result"
    }
   ],
   "source": [
    "pd.Series(range(300))"
   ]
  },
  {
   "cell_type": "markdown",
   "id": "2cccd9a9",
   "metadata": {},
   "source": [
    "## Extracting by Index Position"
   ]
  },
  {
   "cell_type": "code",
   "execution_count": 77,
   "id": "24d6db86",
   "metadata": {},
   "outputs": [],
   "source": [
    "from string import ascii_lowercase"
   ]
  },
  {
   "cell_type": "code",
   "execution_count": 78,
   "id": "2652edd8",
   "metadata": {},
   "outputs": [
    {
     "data": {
      "text/plain": [
       "'abcdefghijklmnopqrstuvwxyz'"
      ]
     },
     "execution_count": 78,
     "metadata": {},
     "output_type": "execute_result"
    }
   ],
   "source": [
    "ascii_lowercase"
   ]
  },
  {
   "cell_type": "code",
   "execution_count": 79,
   "id": "fb3265e1",
   "metadata": {},
   "outputs": [
    {
     "data": {
      "text/plain": [
       "0    abcdefghijklmnopqrstuvwxyz\n",
       "dtype: object"
      ]
     },
     "execution_count": 79,
     "metadata": {},
     "output_type": "execute_result"
    }
   ],
   "source": [
    "pd.Series(ascii_lowercase)"
   ]
  },
  {
   "cell_type": "code",
   "execution_count": 87,
   "id": "4aef9d8d",
   "metadata": {},
   "outputs": [],
   "source": [
    "alphabets = pd.Series(data=[i for i in list(ascii_lowercase)])"
   ]
  },
  {
   "cell_type": "code",
   "execution_count": 88,
   "id": "a08e931b",
   "metadata": {},
   "outputs": [
    {
     "data": {
      "text/plain": [
       "0    a\n",
       "1    b\n",
       "2    c\n",
       "dtype: object"
      ]
     },
     "execution_count": 88,
     "metadata": {},
     "output_type": "execute_result"
    }
   ],
   "source": [
    "alphabets.head(3)"
   ]
  },
  {
   "cell_type": "code",
   "execution_count": 89,
   "id": "e2f436df",
   "metadata": {},
   "outputs": [
    {
     "data": {
      "text/plain": [
       "'a'"
      ]
     },
     "execution_count": 89,
     "metadata": {},
     "output_type": "execute_result"
    }
   ],
   "source": [
    "alphabets[0]"
   ]
  },
  {
   "cell_type": "code",
   "execution_count": 90,
   "id": "e3e817d9",
   "metadata": {},
   "outputs": [
    {
     "data": {
      "text/plain": [
       "'z'"
      ]
     },
     "execution_count": 90,
     "metadata": {},
     "output_type": "execute_result"
    }
   ],
   "source": [
    "alphabets[25]"
   ]
  },
  {
   "cell_type": "code",
   "execution_count": 91,
   "id": "124132fb",
   "metadata": {},
   "outputs": [
    {
     "data": {
      "text/plain": [
       "0    a\n",
       "1    b\n",
       "2    c\n",
       "3    d\n",
       "dtype: object"
      ]
     },
     "execution_count": 91,
     "metadata": {},
     "output_type": "execute_result"
    }
   ],
   "source": [
    "alphabets[:4]"
   ]
  },
  {
   "cell_type": "code",
   "execution_count": 92,
   "id": "ebcadcac",
   "metadata": {},
   "outputs": [
    {
     "data": {
      "text/plain": [
       "9     j\n",
       "10    k\n",
       "11    l\n",
       "dtype: object"
      ]
     },
     "execution_count": 92,
     "metadata": {},
     "output_type": "execute_result"
    }
   ],
   "source": [
    "alphabets[9 :12]"
   ]
  },
  {
   "cell_type": "code",
   "execution_count": 95,
   "id": "f5a33b5e",
   "metadata": {},
   "outputs": [
    {
     "data": {
      "text/plain": [
       "20    u\n",
       "21    v\n",
       "22    w\n",
       "23    x\n",
       "24    y\n",
       "25    z\n",
       "dtype: object"
      ]
     },
     "execution_count": 95,
     "metadata": {},
     "output_type": "execute_result"
    }
   ],
   "source": [
    "alphabets[-6:]"
   ]
  },
  {
   "cell_type": "markdown",
   "id": "5958c155",
   "metadata": {},
   "source": [
    "## Extracting by Index Label"
   ]
  },
  {
   "cell_type": "code",
   "execution_count": 97,
   "id": "a52e5d06",
   "metadata": {},
   "outputs": [],
   "source": [
    "from string import ascii_uppercase"
   ]
  },
  {
   "cell_type": "code",
   "execution_count": 98,
   "id": "b0bc21e8",
   "metadata": {},
   "outputs": [
    {
     "data": {
      "text/plain": [
       "'ABCDEFGHIJKLMNOPQRSTUVWXYZ'"
      ]
     },
     "execution_count": 98,
     "metadata": {},
     "output_type": "execute_result"
    }
   ],
   "source": [
    "ascii_uppercase"
   ]
  },
  {
   "cell_type": "code",
   "execution_count": 100,
   "id": "cc800ea9",
   "metadata": {},
   "outputs": [],
   "source": [
    "labeled_alphabets=pd.Series({key:val for key,val in zip(list(ascii_uppercase),list(ascii_lowercase))})"
   ]
  },
  {
   "cell_type": "code",
   "execution_count": 101,
   "id": "4ae4b5e7",
   "metadata": {},
   "outputs": [
    {
     "data": {
      "text/plain": [
       "A    a\n",
       "B    b\n",
       "C    c\n",
       "D    d\n",
       "E    e\n",
       "F    f\n",
       "G    g\n",
       "H    h\n",
       "I    i\n",
       "J    j\n",
       "K    k\n",
       "L    l\n",
       "M    m\n",
       "N    n\n",
       "O    o\n",
       "P    p\n",
       "Q    q\n",
       "R    r\n",
       "S    s\n",
       "T    t\n",
       "U    u\n",
       "V    v\n",
       "W    w\n",
       "X    x\n",
       "Y    y\n",
       "Z    z\n",
       "dtype: object"
      ]
     },
     "execution_count": 101,
     "metadata": {},
     "output_type": "execute_result"
    }
   ],
   "source": [
    "labeled_alphabets"
   ]
  },
  {
   "cell_type": "code",
   "execution_count": 103,
   "id": "6c49814f",
   "metadata": {},
   "outputs": [
    {
     "data": {
      "text/plain": [
       "A    a\n",
       "B    b\n",
       "C    c\n",
       "dtype: object"
      ]
     },
     "execution_count": 103,
     "metadata": {},
     "output_type": "execute_result"
    }
   ],
   "source": [
    "pd.Series(list(ascii_lowercase),list(ascii_uppercase)).head(3)"
   ]
  },
  {
   "cell_type": "code",
   "execution_count": 104,
   "id": "93a2a713",
   "metadata": {},
   "outputs": [],
   "source": [
    "lab_alp = pd.Series(list(ascii_lowercase), index=map(lambda x: 'label_'+x, list(ascii_uppercase)))"
   ]
  },
  {
   "cell_type": "code",
   "execution_count": 105,
   "id": "3adf81c3",
   "metadata": {},
   "outputs": [
    {
     "data": {
      "text/plain": [
       "label_A    a\n",
       "label_B    b\n",
       "label_C    c\n",
       "dtype: object"
      ]
     },
     "execution_count": 105,
     "metadata": {},
     "output_type": "execute_result"
    }
   ],
   "source": [
    "lab_alp.head(3)"
   ]
  },
  {
   "cell_type": "code",
   "execution_count": 106,
   "id": "a33b51ea",
   "metadata": {},
   "outputs": [
    {
     "data": {
      "text/plain": [
       "'a'"
      ]
     },
     "execution_count": 106,
     "metadata": {},
     "output_type": "execute_result"
    }
   ],
   "source": [
    "lab_alp[0]"
   ]
  },
  {
   "cell_type": "code",
   "execution_count": 107,
   "id": "b37093d4",
   "metadata": {},
   "outputs": [
    {
     "data": {
      "text/plain": [
       "'a'"
      ]
     },
     "execution_count": 107,
     "metadata": {},
     "output_type": "execute_result"
    }
   ],
   "source": [
    "lab_alp['label_A']"
   ]
  },
  {
   "cell_type": "code",
   "execution_count": 108,
   "id": "369a6ec6",
   "metadata": {},
   "outputs": [
    {
     "data": {
      "text/plain": [
       "label_A    a\n",
       "label_B    b\n",
       "label_C    c\n",
       "label_D    d\n",
       "label_E    e\n",
       "dtype: object"
      ]
     },
     "execution_count": 108,
     "metadata": {},
     "output_type": "execute_result"
    }
   ],
   "source": [
    "lab_alp[:5]"
   ]
  },
  {
   "cell_type": "code",
   "execution_count": 116,
   "id": "871eae3b",
   "metadata": {},
   "outputs": [
    {
     "data": {
      "text/plain": [
       "label_A    a\n",
       "label_B    b\n",
       "label_C    c\n",
       "dtype: object"
      ]
     },
     "execution_count": 116,
     "metadata": {},
     "output_type": "execute_result"
    }
   ],
   "source": [
    "lab_alp[lab_alp.index[:3]] #  first 3 alphabets"
   ]
  },
  {
   "cell_type": "code",
   "execution_count": 118,
   "id": "f04b8022",
   "metadata": {},
   "outputs": [
    {
     "data": {
      "text/plain": [
       "label_A    a\n",
       "label_B    b\n",
       "label_C    c\n",
       "dtype: object"
      ]
     },
     "execution_count": 118,
     "metadata": {},
     "output_type": "execute_result"
    }
   ],
   "source": [
    "lab_alp[:'label_C'] # inclusive in this case"
   ]
  },
  {
   "cell_type": "code",
   "execution_count": 121,
   "id": "737c1bca",
   "metadata": {},
   "outputs": [
    {
     "data": {
      "text/plain": [
       "label_F    f\n",
       "label_G    g\n",
       "label_H    h\n",
       "label_I    i\n",
       "label_J    j\n",
       "dtype: object"
      ]
     },
     "execution_count": 121,
     "metadata": {},
     "output_type": "execute_result"
    }
   ],
   "source": [
    "lab_alp['label_F':'label_J'] # inclusive in both ends"
   ]
  },
  {
   "cell_type": "code",
   "execution_count": 122,
   "id": "6719a5bf",
   "metadata": {},
   "outputs": [
    {
     "data": {
      "text/plain": [
       "label_U    u\n",
       "label_V    v\n",
       "label_W    w\n",
       "label_X    x\n",
       "label_Y    y\n",
       "label_Z    z\n",
       "dtype: object"
      ]
     },
     "execution_count": 122,
     "metadata": {},
     "output_type": "execute_result"
    }
   ],
   "source": [
    "lab_alp['label_U':]"
   ]
  },
  {
   "cell_type": "markdown",
   "id": "0ef29471",
   "metadata": {},
   "source": [
    "## add_prefix() and add_suffix() methods"
   ]
  },
  {
   "cell_type": "code",
   "execution_count": 124,
   "id": "a5e738b3",
   "metadata": {},
   "outputs": [
    {
     "data": {
      "text/plain": [
       "label_0     a\n",
       "label_1     b\n",
       "label_2     c\n",
       "label_3     d\n",
       "label_4     e\n",
       "label_5     f\n",
       "label_6     g\n",
       "label_7     h\n",
       "label_8     i\n",
       "label_9     j\n",
       "label_10    k\n",
       "label_11    l\n",
       "label_12    m\n",
       "label_13    n\n",
       "label_14    o\n",
       "label_15    p\n",
       "label_16    q\n",
       "label_17    r\n",
       "label_18    s\n",
       "label_19    t\n",
       "label_20    u\n",
       "label_21    v\n",
       "label_22    w\n",
       "label_23    x\n",
       "label_24    y\n",
       "label_25    z\n",
       "dtype: object"
      ]
     },
     "execution_count": 124,
     "metadata": {},
     "output_type": "execute_result"
    }
   ],
   "source": [
    "alphabets.add_prefix('label_')"
   ]
  },
  {
   "cell_type": "code",
   "execution_count": 125,
   "id": "14248aea",
   "metadata": {},
   "outputs": [
    {
     "data": {
      "text/plain": [
       "0_label     a\n",
       "1_label     b\n",
       "2_label     c\n",
       "3_label     d\n",
       "4_label     e\n",
       "5_label     f\n",
       "6_label     g\n",
       "7_label     h\n",
       "8_label     i\n",
       "9_label     j\n",
       "10_label    k\n",
       "11_label    l\n",
       "12_label    m\n",
       "13_label    n\n",
       "14_label    o\n",
       "15_label    p\n",
       "16_label    q\n",
       "17_label    r\n",
       "18_label    s\n",
       "19_label    t\n",
       "20_label    u\n",
       "21_label    v\n",
       "22_label    w\n",
       "23_label    x\n",
       "24_label    y\n",
       "25_label    z\n",
       "dtype: object"
      ]
     },
     "execution_count": 125,
     "metadata": {},
     "output_type": "execute_result"
    }
   ],
   "source": [
    "alphabets.add_suffix('_label')"
   ]
  },
  {
   "cell_type": "code",
   "execution_count": 126,
   "id": "d57cc553",
   "metadata": {},
   "outputs": [],
   "source": [
    "# when used with series, they modify the row labwl and if used with dataframe they modify\n",
    "# columns labels"
   ]
  },
  {
   "cell_type": "code",
   "execution_count": 131,
   "id": "992ed16d",
   "metadata": {},
   "outputs": [
    {
     "data": {
      "text/plain": [
       "0    a\n",
       "1    b\n",
       "2    c\n",
       "3    d\n",
       "4    e\n",
       "dtype: object"
      ]
     },
     "execution_count": 131,
     "metadata": {},
     "output_type": "execute_result"
    }
   ],
   "source": [
    "alphabets.head()"
   ]
  },
  {
   "cell_type": "code",
   "execution_count": 128,
   "id": "d67acbf6",
   "metadata": {},
   "outputs": [],
   "source": [
    "# modification to persist\n",
    "\n",
    "alpha_new = alphabets.add_prefix('label_')\n"
   ]
  },
  {
   "cell_type": "code",
   "execution_count": 130,
   "id": "9b325bd2",
   "metadata": {},
   "outputs": [
    {
     "data": {
      "text/plain": [
       "label_0    a\n",
       "label_1    b\n",
       "label_2    c\n",
       "label_3    d\n",
       "label_4    e\n",
       "dtype: object"
      ]
     },
     "execution_count": 130,
     "metadata": {},
     "output_type": "execute_result"
    }
   ],
   "source": [
    "alpha_new.head()"
   ]
  },
  {
   "cell_type": "markdown",
   "id": "c6c3f9be",
   "metadata": {},
   "source": [
    "## Using the Dot Notation"
   ]
  },
  {
   "cell_type": "code",
   "execution_count": 138,
   "id": "4b70c118",
   "metadata": {},
   "outputs": [
    {
     "data": {
      "text/plain": [
       "'a'"
      ]
     },
     "execution_count": 138,
     "metadata": {},
     "output_type": "execute_result"
    }
   ],
   "source": [
    "alpha_new['label_0']"
   ]
  },
  {
   "cell_type": "code",
   "execution_count": 140,
   "id": "66f68b9a",
   "metadata": {},
   "outputs": [
    {
     "data": {
      "text/plain": [
       "'a'"
      ]
     },
     "execution_count": 140,
     "metadata": {},
     "output_type": "execute_result"
    }
   ],
   "source": [
    "alpha_new.label_0 # using dot notation"
   ]
  },
  {
   "cell_type": "code",
   "execution_count": 141,
   "id": "f491b8bf",
   "metadata": {},
   "outputs": [],
   "source": [
    "# slicing is easy using [] notation"
   ]
  },
  {
   "cell_type": "code",
   "execution_count": 142,
   "id": "779403b4",
   "metadata": {},
   "outputs": [
    {
     "data": {
      "text/plain": [
       "label_0    a\n",
       "label_1    b\n",
       "label_2    c\n",
       "label_3    d\n",
       "label_4    e\n",
       "label_5    f\n",
       "label_6    g\n",
       "label_7    h\n",
       "label_8    i\n",
       "label_9    j\n",
       "dtype: object"
      ]
     },
     "execution_count": 142,
     "metadata": {},
     "output_type": "execute_result"
    }
   ],
   "source": [
    "alpha_new['label_0':'label_9']"
   ]
  },
  {
   "cell_type": "code",
   "execution_count": 143,
   "id": "902746c5",
   "metadata": {},
   "outputs": [],
   "source": [
    "# special characters not supported by dot noation"
   ]
  },
  {
   "cell_type": "markdown",
   "id": "c3b6bec9",
   "metadata": {},
   "source": [
    "## Boolean Masks and .loc indexes"
   ]
  },
  {
   "cell_type": "code",
   "execution_count": 168,
   "id": "33dd753e",
   "metadata": {},
   "outputs": [],
   "source": [
    "import random"
   ]
  },
  {
   "cell_type": "code",
   "execution_count": 178,
   "id": "e2d691c1",
   "metadata": {},
   "outputs": [],
   "source": [
    "boolean_mask =[True if k%7==0 else False for k in range(len(alpha_new)) ]"
   ]
  },
  {
   "cell_type": "code",
   "execution_count": null,
   "id": "6a492f70",
   "metadata": {},
   "outputs": [],
   "source": []
  },
  {
   "cell_type": "code",
   "execution_count": 180,
   "id": "e4093160",
   "metadata": {},
   "outputs": [
    {
     "data": {
      "text/plain": [
       "label_0     a\n",
       "label_7     h\n",
       "label_14    o\n",
       "label_21    v\n",
       "dtype: object"
      ]
     },
     "execution_count": 180,
     "metadata": {},
     "output_type": "execute_result"
    }
   ],
   "source": [
    "alpha_new.loc[boolean_mask]"
   ]
  },
  {
   "cell_type": "code",
   "execution_count": 181,
   "id": "d20c84fd",
   "metadata": {},
   "outputs": [
    {
     "data": {
      "text/plain": [
       "label_0     a\n",
       "label_7     h\n",
       "label_14    o\n",
       "label_21    v\n",
       "dtype: object"
      ]
     },
     "execution_count": 181,
     "metadata": {},
     "output_type": "execute_result"
    }
   ],
   "source": [
    "alpha_new.loc[boolean_mask]"
   ]
  },
  {
   "cell_type": "code",
   "execution_count": 184,
   "id": "f085b9d1",
   "metadata": {},
   "outputs": [
    {
     "data": {
      "text/plain": [
       "label_0    a\n",
       "label_1    b\n",
       "label_2    c\n",
       "label_3    d\n",
       "label_4    e\n",
       "label_5    f\n",
       "label_6    g\n",
       "label_7    h\n",
       "label_8    i\n",
       "label_9    j\n",
       "dtype: object"
      ]
     },
     "execution_count": 184,
     "metadata": {},
     "output_type": "execute_result"
    }
   ],
   "source": [
    "alpha_new.loc['label_0':'label_9'] \n",
    "\n",
    "# product typical way to do label based extraction\n",
    "# [] slicing supports mix of sytaxes and functions,, slower than loc\n",
    "\n",
    "# both supports boolean masks\n",
    "# need to be same lenght as series\n",
    "# used to index select items at scale"
   ]
  },
  {
   "cell_type": "code",
   "execution_count": 164,
   "id": "bf953535",
   "metadata": {},
   "outputs": [
    {
     "data": {
      "text/plain": [
       "leo      50\n",
       "chris    47\n",
       "Name: actor, dtype: int64"
      ]
     },
     "execution_count": 164,
     "metadata": {},
     "output_type": "execute_result"
    }
   ],
   "source": [
    "act_dictionary.loc[[True,False,True]] # only retirves first and last row"
   ]
  },
  {
   "cell_type": "code",
   "execution_count": 163,
   "id": "f4aeacf8",
   "metadata": {},
   "outputs": [
    {
     "data": {
      "text/plain": [
       "leo      50\n",
       "tom      53\n",
       "chris    47\n",
       "Name: actor, dtype: int64"
      ]
     },
     "execution_count": 163,
     "metadata": {},
     "output_type": "execute_result"
    }
   ],
   "source": [
    "act_dictionary"
   ]
  },
  {
   "cell_type": "markdown",
   "id": "e31aac21",
   "metadata": {},
   "source": [
    "## iloc "
   ]
  },
  {
   "cell_type": "code",
   "execution_count": 187,
   "id": "55113927",
   "metadata": {},
   "outputs": [],
   "source": [
    "# supports extraction by position (interger loc)\n",
    "# loc---  indexing by label"
   ]
  },
  {
   "cell_type": "code",
   "execution_count": 189,
   "id": "c0938699",
   "metadata": {},
   "outputs": [
    {
     "data": {
      "text/plain": [
       "'a'"
      ]
     },
     "execution_count": 189,
     "metadata": {},
     "output_type": "execute_result"
    }
   ],
   "source": [
    "alpha_new.iloc[0] # 0 based"
   ]
  },
  {
   "cell_type": "code",
   "execution_count": 195,
   "id": "4b965227",
   "metadata": {},
   "outputs": [],
   "source": [
    "# faster than series slices"
   ]
  },
  {
   "cell_type": "code",
   "execution_count": 191,
   "id": "2ad84186",
   "metadata": {},
   "outputs": [
    {
     "data": {
      "text/plain": [
       "label_1    b\n",
       "label_2    c\n",
       "dtype: object"
      ]
     },
     "execution_count": 191,
     "metadata": {},
     "output_type": "execute_result"
    }
   ],
   "source": [
    "alpha_new.iloc[1:3]"
   ]
  },
  {
   "cell_type": "code",
   "execution_count": 192,
   "id": "5667a5dc",
   "metadata": {},
   "outputs": [
    {
     "data": {
      "text/plain": [
       "label_0    a\n",
       "label_1    b\n",
       "label_2    c\n",
       "dtype: object"
      ]
     },
     "execution_count": 192,
     "metadata": {},
     "output_type": "execute_result"
    }
   ],
   "source": [
    "alpha_new.iloc[:3]"
   ]
  },
  {
   "cell_type": "code",
   "execution_count": 194,
   "id": "f8cbf3d2",
   "metadata": {},
   "outputs": [
    {
     "data": {
      "text/plain": [
       "label_1    b\n",
       "label_4    e\n",
       "label_5    f\n",
       "dtype: object"
      ]
     },
     "execution_count": 194,
     "metadata": {},
     "output_type": "execute_result"
    }
   ],
   "source": [
    "alpha_new.iloc[[1,4,5]] # passing list of index position we want to extract"
   ]
  },
  {
   "cell_type": "markdown",
   "id": "83cbaaf7",
   "metadata": {},
   "source": [
    "## using callables with .loc and .iloc"
   ]
  },
  {
   "cell_type": "code",
   "execution_count": 199,
   "id": "a372bdea",
   "metadata": {},
   "outputs": [
    {
     "data": {
      "text/plain": [
       "'b'"
      ]
     },
     "execution_count": 199,
     "metadata": {},
     "output_type": "execute_result"
    }
   ],
   "source": [
    "alpha_new.loc[lambda x: 'label_1'] # think of x as series"
   ]
  },
  {
   "cell_type": "code",
   "execution_count": 200,
   "id": "fb407c76",
   "metadata": {},
   "outputs": [
    {
     "data": {
      "text/plain": [
       "label_1    b\n",
       "label_4    e\n",
       "dtype: object"
      ]
     },
     "execution_count": 200,
     "metadata": {},
     "output_type": "execute_result"
    }
   ],
   "source": [
    "alpha_new.loc[lambda x: ['label_1','label_4']] # think of x as series"
   ]
  },
  {
   "cell_type": "code",
   "execution_count": 204,
   "id": "7ce40573",
   "metadata": {},
   "outputs": [
    {
     "data": {
      "text/plain": [
       "label_0     a\n",
       "label_3     d\n",
       "label_6     g\n",
       "label_9     j\n",
       "label_12    m\n",
       "label_15    p\n",
       "label_18    s\n",
       "label_21    v\n",
       "label_24    y\n",
       "dtype: object"
      ]
     },
     "execution_count": 204,
     "metadata": {},
     "output_type": "execute_result"
    }
   ],
   "source": [
    "alpha_new.loc[lambda x: [True if x%3==0 else False for x in range(len(alpha_new))]] \n",
    "# think of x as series"
   ]
  },
  {
   "cell_type": "code",
   "execution_count": 208,
   "id": "31e06f2e",
   "metadata": {},
   "outputs": [],
   "source": [
    "def every_fifth(x):\n",
    "    return [True if i%5==0 else False for i in range(x.size)]"
   ]
  },
  {
   "cell_type": "code",
   "execution_count": 209,
   "id": "d714a9e1",
   "metadata": {},
   "outputs": [
    {
     "data": {
      "text/plain": [
       "label_0     a\n",
       "label_5     f\n",
       "label_10    k\n",
       "label_15    p\n",
       "label_20    u\n",
       "label_25    z\n",
       "dtype: object"
      ]
     },
     "execution_count": 209,
     "metadata": {},
     "output_type": "execute_result"
    }
   ],
   "source": [
    "alpha_new.iloc[every_fifth]"
   ]
  },
  {
   "cell_type": "code",
   "execution_count": 210,
   "id": "f7d9015e",
   "metadata": {},
   "outputs": [],
   "source": [
    "def every_fifth(x):\n",
    "    return [True if (i+1)%5==0 else False for i in range(x.size)]"
   ]
  },
  {
   "cell_type": "code",
   "execution_count": 211,
   "id": "c8fdd461",
   "metadata": {},
   "outputs": [
    {
     "data": {
      "text/plain": [
       "label_4     e\n",
       "label_9     j\n",
       "label_14    o\n",
       "label_19    t\n",
       "label_24    y\n",
       "dtype: object"
      ]
     },
     "execution_count": 211,
     "metadata": {},
     "output_type": "execute_result"
    }
   ],
   "source": [
    "alpha_new.iloc[every_fifth]"
   ]
  },
  {
   "cell_type": "markdown",
   "id": "f97cbed0",
   "metadata": {},
   "source": [
    "## get() method"
   ]
  },
  {
   "cell_type": "code",
   "execution_count": 212,
   "id": "fe060cfb",
   "metadata": {},
   "outputs": [
    {
     "data": {
      "text/plain": [
       "'a'"
      ]
     },
     "execution_count": 212,
     "metadata": {},
     "output_type": "execute_result"
    }
   ],
   "source": [
    "alpha_new.get('label_0')"
   ]
  },
  {
   "cell_type": "code",
   "execution_count": 213,
   "id": "39bf98f0",
   "metadata": {},
   "outputs": [
    {
     "data": {
      "text/plain": [
       "'a'"
      ]
     },
     "execution_count": 213,
     "metadata": {},
     "output_type": "execute_result"
    }
   ],
   "source": [
    "alpha_new.loc['label_0']"
   ]
  },
  {
   "cell_type": "code",
   "execution_count": 214,
   "id": "250b2d65",
   "metadata": {},
   "outputs": [
    {
     "data": {
      "text/plain": [
       "'a'"
      ]
     },
     "execution_count": 214,
     "metadata": {},
     "output_type": "execute_result"
    }
   ],
   "source": [
    "alpha_new['label_0']"
   ]
  },
  {
   "cell_type": "code",
   "execution_count": 224,
   "id": "3f03146c",
   "metadata": {},
   "outputs": [],
   "source": [
    "# if we try to acess the label that does not exist\n",
    "\n",
    "# alpha_new['label_1111']"
   ]
  },
  {
   "cell_type": "code",
   "execution_count": 221,
   "id": "36180fc0",
   "metadata": {},
   "outputs": [],
   "source": [
    "# better response than loc and []\n",
    "\n",
    "alpha_new.get('label_1111',default=None)"
   ]
  },
  {
   "cell_type": "code",
   "execution_count": 220,
   "id": "5cccd05f",
   "metadata": {},
   "outputs": [
    {
     "data": {
      "text/plain": [
       "'could not find anything by that label'"
      ]
     },
     "execution_count": 220,
     "metadata": {},
     "output_type": "execute_result"
    }
   ],
   "source": [
    "alpha_new.get('label_1111',default='could not find anything by that label')"
   ]
  },
  {
   "cell_type": "code",
   "execution_count": 223,
   "id": "dc1f7c74",
   "metadata": {},
   "outputs": [],
   "source": [
    "# alpha_new.loc['label_1123']"
   ]
  },
  {
   "cell_type": "code",
   "execution_count": 226,
   "id": "e5d70625",
   "metadata": {},
   "outputs": [
    {
     "data": {
      "text/plain": [
       "'a'"
      ]
     },
     "execution_count": 226,
     "metadata": {},
     "output_type": "execute_result"
    }
   ],
   "source": [
    "alpha_new.get(0) # accessing by index position"
   ]
  },
  {
   "cell_type": "code",
   "execution_count": null,
   "id": "b45a1195",
   "metadata": {},
   "outputs": [],
   "source": []
  }
 ],
 "metadata": {
  "kernelspec": {
   "display_name": "Python 3",
   "language": "python",
   "name": "python3"
  },
  "language_info": {
   "codemirror_mode": {
    "name": "ipython",
    "version": 3
   },
   "file_extension": ".py",
   "mimetype": "text/x-python",
   "name": "python",
   "nbconvert_exporter": "python",
   "pygments_lexer": "ipython3",
   "version": "3.7.10"
  }
 },
 "nbformat": 4,
 "nbformat_minor": 5
}
