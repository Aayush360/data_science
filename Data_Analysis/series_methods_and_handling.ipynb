{
 "cells": [
  {
   "cell_type": "code",
   "execution_count": 1,
   "id": "a21633e0",
   "metadata": {},
   "outputs": [],
   "source": [
    "import pandas as pd"
   ]
  },
  {
   "cell_type": "markdown",
   "id": "35a96332",
   "metadata": {},
   "source": [
    "## read_csv() methods"
   ]
  },
  {
   "cell_type": "code",
   "execution_count": 2,
   "id": "2208d526",
   "metadata": {},
   "outputs": [],
   "source": [
    "df = pd.read_csv('datasets/drinks.csv')\n",
    "\n",
    "# always return back dataframe"
   ]
  },
  {
   "cell_type": "code",
   "execution_count": 3,
   "id": "dfe96f97",
   "metadata": {},
   "outputs": [
    {
     "data": {
      "text/html": [
       "<div>\n",
       "<style scoped>\n",
       "    .dataframe tbody tr th:only-of-type {\n",
       "        vertical-align: middle;\n",
       "    }\n",
       "\n",
       "    .dataframe tbody tr th {\n",
       "        vertical-align: top;\n",
       "    }\n",
       "\n",
       "    .dataframe thead th {\n",
       "        text-align: right;\n",
       "    }\n",
       "</style>\n",
       "<table border=\"1\" class=\"dataframe\">\n",
       "  <thead>\n",
       "    <tr style=\"text-align: right;\">\n",
       "      <th></th>\n",
       "      <th>country</th>\n",
       "      <th>beer_servings</th>\n",
       "      <th>spirit_servings</th>\n",
       "      <th>wine_servings</th>\n",
       "      <th>total_litres_of_pure_alcohol</th>\n",
       "    </tr>\n",
       "  </thead>\n",
       "  <tbody>\n",
       "    <tr>\n",
       "      <th>0</th>\n",
       "      <td>Afghanistan</td>\n",
       "      <td>NaN</td>\n",
       "      <td>NaN</td>\n",
       "      <td>NaN</td>\n",
       "      <td>NaN</td>\n",
       "    </tr>\n",
       "    <tr>\n",
       "      <th>1</th>\n",
       "      <td>Albania</td>\n",
       "      <td>89.0</td>\n",
       "      <td>132.0</td>\n",
       "      <td>54.0</td>\n",
       "      <td>4.9</td>\n",
       "    </tr>\n",
       "    <tr>\n",
       "      <th>2</th>\n",
       "      <td>Algeria</td>\n",
       "      <td>25.0</td>\n",
       "      <td>NaN</td>\n",
       "      <td>14.0</td>\n",
       "      <td>0.7</td>\n",
       "    </tr>\n",
       "    <tr>\n",
       "      <th>3</th>\n",
       "      <td>Andorra</td>\n",
       "      <td>245.0</td>\n",
       "      <td>138.0</td>\n",
       "      <td>312.0</td>\n",
       "      <td>12.4</td>\n",
       "    </tr>\n",
       "    <tr>\n",
       "      <th>4</th>\n",
       "      <td>Angola</td>\n",
       "      <td>217.0</td>\n",
       "      <td>57.0</td>\n",
       "      <td>45.0</td>\n",
       "      <td>5.9</td>\n",
       "    </tr>\n",
       "  </tbody>\n",
       "</table>\n",
       "</div>"
      ],
      "text/plain": [
       "       country  beer_servings  spirit_servings  wine_servings  \\\n",
       "0  Afghanistan            NaN              NaN            NaN   \n",
       "1      Albania           89.0            132.0           54.0   \n",
       "2      Algeria           25.0              NaN           14.0   \n",
       "3      Andorra          245.0            138.0          312.0   \n",
       "4       Angola          217.0             57.0           45.0   \n",
       "\n",
       "   total_litres_of_pure_alcohol  \n",
       "0                           NaN  \n",
       "1                           4.9  \n",
       "2                           0.7  \n",
       "3                          12.4  \n",
       "4                           5.9  "
      ]
     },
     "execution_count": 3,
     "metadata": {},
     "output_type": "execute_result"
    }
   ],
   "source": [
    "df.head()"
   ]
  },
  {
   "cell_type": "code",
   "execution_count": 4,
   "id": "378467e1",
   "metadata": {},
   "outputs": [],
   "source": [
    "df_wine = pd.read_csv('datasets/drinks.csv',usecols=['country','wine_servings'],index_col='country')"
   ]
  },
  {
   "cell_type": "code",
   "execution_count": 5,
   "id": "39df4175",
   "metadata": {},
   "outputs": [
    {
     "data": {
      "text/plain": [
       "pandas.core.frame.DataFrame"
      ]
     },
     "execution_count": 5,
     "metadata": {},
     "output_type": "execute_result"
    }
   ],
   "source": [
    "type(df_wine)"
   ]
  },
  {
   "cell_type": "code",
   "execution_count": 6,
   "id": "fbe2c787",
   "metadata": {},
   "outputs": [
    {
     "data": {
      "text/html": [
       "<div>\n",
       "<style scoped>\n",
       "    .dataframe tbody tr th:only-of-type {\n",
       "        vertical-align: middle;\n",
       "    }\n",
       "\n",
       "    .dataframe tbody tr th {\n",
       "        vertical-align: top;\n",
       "    }\n",
       "\n",
       "    .dataframe thead th {\n",
       "        text-align: right;\n",
       "    }\n",
       "</style>\n",
       "<table border=\"1\" class=\"dataframe\">\n",
       "  <thead>\n",
       "    <tr style=\"text-align: right;\">\n",
       "      <th></th>\n",
       "      <th>wine_servings</th>\n",
       "    </tr>\n",
       "    <tr>\n",
       "      <th>country</th>\n",
       "      <th></th>\n",
       "    </tr>\n",
       "  </thead>\n",
       "  <tbody>\n",
       "    <tr>\n",
       "      <th>Afghanistan</th>\n",
       "      <td>NaN</td>\n",
       "    </tr>\n",
       "    <tr>\n",
       "      <th>Albania</th>\n",
       "      <td>54.0</td>\n",
       "    </tr>\n",
       "    <tr>\n",
       "      <th>Algeria</th>\n",
       "      <td>14.0</td>\n",
       "    </tr>\n",
       "    <tr>\n",
       "      <th>Andorra</th>\n",
       "      <td>312.0</td>\n",
       "    </tr>\n",
       "    <tr>\n",
       "      <th>Angola</th>\n",
       "      <td>45.0</td>\n",
       "    </tr>\n",
       "  </tbody>\n",
       "</table>\n",
       "</div>"
      ],
      "text/plain": [
       "             wine_servings\n",
       "country                   \n",
       "Afghanistan            NaN\n",
       "Albania               54.0\n",
       "Algeria               14.0\n",
       "Andorra              312.0\n",
       "Angola                45.0"
      ]
     },
     "execution_count": 6,
     "metadata": {},
     "output_type": "execute_result"
    }
   ],
   "source": [
    "df_wine.head()"
   ]
  },
  {
   "cell_type": "code",
   "execution_count": 7,
   "id": "21e8d020",
   "metadata": {},
   "outputs": [],
   "source": [
    "series_wine = pd.read_csv('datasets/drinks.csv',usecols=['country','wine_servings'],index_col='country', squeeze=True)\n",
    "# squeeze = if the parsed data only contains one column then return a Series"
   ]
  },
  {
   "cell_type": "code",
   "execution_count": 8,
   "id": "fef24a76",
   "metadata": {},
   "outputs": [
    {
     "data": {
      "text/plain": [
       "pandas.core.series.Series"
      ]
     },
     "execution_count": 8,
     "metadata": {},
     "output_type": "execute_result"
    }
   ],
   "source": [
    "type(series_wine)\n",
    "# we are now working with series"
   ]
  },
  {
   "cell_type": "markdown",
   "id": "e6f95763",
   "metadata": {},
   "source": [
    "## Series sizing with .size, .shape and len()"
   ]
  },
  {
   "cell_type": "code",
   "execution_count": 9,
   "id": "5ef1dc7e",
   "metadata": {},
   "outputs": [
    {
     "data": {
      "text/plain": [
       "193"
      ]
     },
     "execution_count": 9,
     "metadata": {},
     "output_type": "execute_result"
    }
   ],
   "source": [
    "series_wine.size"
   ]
  },
  {
   "cell_type": "code",
   "execution_count": 10,
   "id": "39b742b1",
   "metadata": {},
   "outputs": [
    {
     "data": {
      "text/plain": [
       "(193,)"
      ]
     },
     "execution_count": 10,
     "metadata": {},
     "output_type": "execute_result"
    }
   ],
   "source": [
    "series_wine.shape"
   ]
  },
  {
   "cell_type": "code",
   "execution_count": 11,
   "id": "eecfd2a8",
   "metadata": {},
   "outputs": [
    {
     "data": {
      "text/plain": [
       "(193, 1)"
      ]
     },
     "execution_count": 11,
     "metadata": {},
     "output_type": "execute_result"
    }
   ],
   "source": [
    "df_wine.shape # returns tuples"
   ]
  },
  {
   "cell_type": "code",
   "execution_count": 12,
   "id": "eb6439fc",
   "metadata": {},
   "outputs": [
    {
     "data": {
      "text/plain": [
       "country\n",
       "Afghanistan      NaN\n",
       "Albania         54.0\n",
       "Algeria         14.0\n",
       "Andorra        312.0\n",
       "Angola          45.0\n",
       "               ...  \n",
       "Venezuela        3.0\n",
       "Vietnam          1.0\n",
       "Yemen            NaN\n",
       "Zambia           4.0\n",
       "Zimbabwe         4.0\n",
       "Name: wine_servings, Length: 193, dtype: float64"
      ]
     },
     "execution_count": 12,
     "metadata": {},
     "output_type": "execute_result"
    }
   ],
   "source": [
    "series_wine"
   ]
  },
  {
   "cell_type": "code",
   "execution_count": 13,
   "id": "80428f36",
   "metadata": {},
   "outputs": [
    {
     "data": {
      "text/plain": [
       "array([ nan,  54.,  14., 312.,  45.,  45., 221.,  11., 212., 191.,   5.,\n",
       "        51.,   7.,  nan,  36.,  42., 212.,   8.,  13.,  nan,   8.,   8.,\n",
       "        35.,  16.,   1.,  94.,   7.,  nan,   7.,  16.,   1.,   4.,   1.,\n",
       "         1.,   1., 172.,   8.,   3.,   1.,   9.,  74.,  11., 254.,   5.,\n",
       "       113., 134.,  nan,   1., 278.,   3.,  26.,   9.,   3.,   1.,   2.,\n",
       "       233.,  nan,  59.,  nan,   1.,  97.,  37.,  59.,   1., 149., 175.,\n",
       "         1., 218.,  28.,   2.,   2.,  21.,   1.,   1.,   2., 185.,  78.,\n",
       "        nan,  nan,  nan,  nan, 165.,   9., 237.,   9.,  16.,   1.,  12.,\n",
       "         2.,   1.,  nan,   6., 123.,  62.,  31.,  nan,   2.,  nan,  56.,\n",
       "       271.,   4.,   1.,  nan,  nan,   1.,  12.,  nan,  nan,  18.,   5.,\n",
       "        18.,  nan,   8., 128.,   1.,   5.,  nan,   1.,   8.,  nan,  19.,\n",
       "       175.,   1.,   1.,   2.,   7., 129.,   1.,  nan,  23.,  18.,   1.,\n",
       "        74.,  21.,   1.,  56., 339.,   7.,   9.,  18., 167.,  73.,  nan,\n",
       "        32.,  71.,  11.,  24.,  nan,  14.,  nan,   7., 127.,  51.,   2.,\n",
       "        11., 116., 276.,   1.,  nan,  81., 112.,  nan,  nan,   7.,   2.,\n",
       "       186.,  28.,  16.,  nan,   1.,  86.,   4.,  19.,   5.,   7.,   2.,\n",
       "         7.,  32.,   9.,  nan,  45.,   5., 195.,   1.,  84.,  22.,   8.,\n",
       "        11.,   3.,   1.,  nan,   4.,   4.])"
      ]
     },
     "execution_count": 13,
     "metadata": {},
     "output_type": "execute_result"
    }
   ],
   "source": [
    "series_wine.values"
   ]
  },
  {
   "cell_type": "code",
   "execution_count": 14,
   "id": "57ab2537",
   "metadata": {},
   "outputs": [
    {
     "data": {
      "text/plain": [
       "Index(['Afghanistan', 'Albania', 'Algeria', 'Andorra', 'Angola',\n",
       "       'Antigua & Barbuda', 'Argentina', 'Armenia', 'Australia', 'Austria',\n",
       "       ...\n",
       "       'Tanzania', 'USA', 'Uruguay', 'Uzbekistan', 'Vanuatu', 'Venezuela',\n",
       "       'Vietnam', 'Yemen', 'Zambia', 'Zimbabwe'],\n",
       "      dtype='object', name='country', length=193)"
      ]
     },
     "execution_count": 14,
     "metadata": {},
     "output_type": "execute_result"
    }
   ],
   "source": [
    "series_wine.index"
   ]
  },
  {
   "cell_type": "code",
   "execution_count": 15,
   "id": "b273ef49",
   "metadata": {},
   "outputs": [
    {
     "data": {
      "text/plain": [
       "True"
      ]
     },
     "execution_count": 15,
     "metadata": {},
     "output_type": "execute_result"
    }
   ],
   "source": [
    "series_wine.values.size == series_wine.index.size"
   ]
  },
  {
   "cell_type": "markdown",
   "id": "43534b6f",
   "metadata": {},
   "source": [
    "### shape"
   ]
  },
  {
   "cell_type": "code",
   "execution_count": 16,
   "id": "633f5005",
   "metadata": {},
   "outputs": [
    {
     "data": {
      "text/plain": [
       "(193,)"
      ]
     },
     "execution_count": 16,
     "metadata": {},
     "output_type": "execute_result"
    }
   ],
   "source": [
    "# since sries are one dimensional\n",
    "\n",
    "series_wine.shape"
   ]
  },
  {
   "cell_type": "code",
   "execution_count": 17,
   "id": "f83665ee",
   "metadata": {},
   "outputs": [
    {
     "data": {
      "text/plain": [
       "True"
      ]
     },
     "execution_count": 17,
     "metadata": {},
     "output_type": "execute_result"
    }
   ],
   "source": [
    "series_wine.size == series_wine.shape[0]"
   ]
  },
  {
   "cell_type": "code",
   "execution_count": 18,
   "id": "78611ed3",
   "metadata": {},
   "outputs": [
    {
     "data": {
      "text/plain": [
       "193"
      ]
     },
     "execution_count": 18,
     "metadata": {},
     "output_type": "execute_result"
    }
   ],
   "source": [
    "len(series_wine)"
   ]
  },
  {
   "cell_type": "markdown",
   "id": "9a957eda",
   "metadata": {},
   "source": [
    "## Unique values and Seires Monotonicity"
   ]
  },
  {
   "cell_type": "code",
   "execution_count": 19,
   "id": "90d1cfe6",
   "metadata": {},
   "outputs": [
    {
     "data": {
      "text/plain": [
       "False"
      ]
     },
     "execution_count": 19,
     "metadata": {},
     "output_type": "execute_result"
    }
   ],
   "source": [
    "series_wine.is_unique"
   ]
  },
  {
   "cell_type": "code",
   "execution_count": 20,
   "id": "3784265a",
   "metadata": {},
   "outputs": [
    {
     "data": {
      "text/plain": [
       "country\n",
       "Afghanistan      NaN\n",
       "Albania         54.0\n",
       "Algeria         14.0\n",
       "Andorra        312.0\n",
       "Angola          45.0\n",
       "Name: wine_servings, dtype: float64"
      ]
     },
     "execution_count": 20,
     "metadata": {},
     "output_type": "execute_result"
    }
   ],
   "source": [
    "series_wine.head()"
   ]
  },
  {
   "cell_type": "code",
   "execution_count": 21,
   "id": "21e115ce",
   "metadata": {},
   "outputs": [
    {
     "data": {
      "text/plain": [
       "True"
      ]
     },
     "execution_count": 21,
     "metadata": {},
     "output_type": "execute_result"
    }
   ],
   "source": [
    "series_wine.head().is_unique"
   ]
  },
  {
   "cell_type": "code",
   "execution_count": 22,
   "id": "0ad4e833",
   "metadata": {},
   "outputs": [
    {
     "data": {
      "text/plain": [
       "71"
      ]
     },
     "execution_count": 22,
     "metadata": {},
     "output_type": "execute_result"
    }
   ],
   "source": [
    "series_wine.nunique() # excluding Na "
   ]
  },
  {
   "cell_type": "code",
   "execution_count": 23,
   "id": "b6c52ba1",
   "metadata": {},
   "outputs": [
    {
     "data": {
      "text/plain": [
       "72"
      ]
     },
     "execution_count": 23,
     "metadata": {},
     "output_type": "execute_result"
    }
   ],
   "source": [
    "series_wine.nunique(dropna=False) # including Na"
   ]
  },
  {
   "cell_type": "code",
   "execution_count": 24,
   "id": "b49e116d",
   "metadata": {},
   "outputs": [
    {
     "data": {
      "text/plain": [
       "True"
      ]
     },
     "execution_count": 24,
     "metadata": {},
     "output_type": "execute_result"
    }
   ],
   "source": [
    " pd.Series([1,2,3]).is_monotonic"
   ]
  },
  {
   "cell_type": "code",
   "execution_count": 25,
   "id": "44b04b46",
   "metadata": {},
   "outputs": [
    {
     "data": {
      "text/plain": [
       "True"
      ]
     },
     "execution_count": 25,
     "metadata": {},
     "output_type": "execute_result"
    }
   ],
   "source": [
    " pd.Series([1,2,3,3,3]).is_monotonic"
   ]
  },
  {
   "cell_type": "code",
   "execution_count": 26,
   "id": "a478602e",
   "metadata": {},
   "outputs": [
    {
     "data": {
      "text/plain": [
       "False"
      ]
     },
     "execution_count": 26,
     "metadata": {},
     "output_type": "execute_result"
    }
   ],
   "source": [
    " pd.Series([1,0,3]).is_monotonic"
   ]
  },
  {
   "cell_type": "code",
   "execution_count": 27,
   "id": "45e4146f",
   "metadata": {},
   "outputs": [
    {
     "data": {
      "text/plain": [
       "False"
      ]
     },
     "execution_count": 27,
     "metadata": {},
     "output_type": "execute_result"
    }
   ],
   "source": [
    "pd.Series([3,2,1]).is_monotonic\n",
    "# is_monotonic is alias for is_monotonic_increasing "
   ]
  },
  {
   "cell_type": "code",
   "execution_count": 28,
   "id": "777e3a58",
   "metadata": {},
   "outputs": [
    {
     "data": {
      "text/plain": [
       "True"
      ]
     },
     "execution_count": 28,
     "metadata": {},
     "output_type": "execute_result"
    }
   ],
   "source": [
    " pd.Series([1,2,3]).is_monotonic_increasing"
   ]
  },
  {
   "cell_type": "code",
   "execution_count": 29,
   "id": "c7a3c134",
   "metadata": {},
   "outputs": [
    {
     "data": {
      "text/plain": [
       "True"
      ]
     },
     "execution_count": 29,
     "metadata": {},
     "output_type": "execute_result"
    }
   ],
   "source": [
    " pd.Series([3,2,1]).is_monotonic_decreasing"
   ]
  },
  {
   "cell_type": "markdown",
   "id": "4363725f",
   "metadata": {},
   "source": [
    "## Count Method"
   ]
  },
  {
   "cell_type": "code",
   "execution_count": 30,
   "id": "002939bd",
   "metadata": {},
   "outputs": [
    {
     "data": {
      "text/plain": [
       "162"
      ]
     },
     "execution_count": 30,
     "metadata": {},
     "output_type": "execute_result"
    }
   ],
   "source": [
    "series_wine.count()\n",
    "\n",
    "# count does not consider null value i.e it returns number of non-null obeservations in the Series"
   ]
  },
  {
   "cell_type": "code",
   "execution_count": 31,
   "id": "02776478",
   "metadata": {},
   "outputs": [
    {
     "data": {
      "text/plain": [
       "True"
      ]
     },
     "execution_count": 31,
     "metadata": {},
     "output_type": "execute_result"
    }
   ],
   "source": [
    "series_wine.hasnans"
   ]
  },
  {
   "cell_type": "markdown",
   "id": "d8ab9565",
   "metadata": {},
   "source": [
    "## Accessing and Counting NA'a"
   ]
  },
  {
   "cell_type": "code",
   "execution_count": 32,
   "id": "2f0bb590",
   "metadata": {},
   "outputs": [
    {
     "data": {
      "text/plain": [
       "193"
      ]
     },
     "execution_count": 32,
     "metadata": {},
     "output_type": "execute_result"
    }
   ],
   "source": [
    "series_wine.size"
   ]
  },
  {
   "cell_type": "code",
   "execution_count": 33,
   "id": "a623aa5d",
   "metadata": {},
   "outputs": [
    {
     "data": {
      "text/plain": [
       "162"
      ]
     },
     "execution_count": 33,
     "metadata": {},
     "output_type": "execute_result"
    }
   ],
   "source": [
    "series_wine.count()"
   ]
  },
  {
   "cell_type": "code",
   "execution_count": 34,
   "id": "e2c5f6aa",
   "metadata": {},
   "outputs": [
    {
     "data": {
      "text/plain": [
       "31"
      ]
     },
     "execution_count": 34,
     "metadata": {},
     "output_type": "execute_result"
    }
   ],
   "source": [
    "series_wine.isnull().sum()"
   ]
  },
  {
   "cell_type": "code",
   "execution_count": 35,
   "id": "409820b4",
   "metadata": {},
   "outputs": [
    {
     "data": {
      "text/plain": [
       "country\n",
       "Afghanistan        NaN\n",
       "Bangladesh         NaN\n",
       "Bhutan             NaN\n",
       "Burundi            NaN\n",
       "North Korea        NaN\n",
       "Eritrea            NaN\n",
       "Ethiopia           NaN\n",
       "India              NaN\n",
       "Indonesia          NaN\n",
       "Iran               NaN\n",
       "Iraq               NaN\n",
       "Kuwait             NaN\n",
       "Lesotho            NaN\n",
       "Libya              NaN\n",
       "Malaysia           NaN\n",
       "Maldives           NaN\n",
       "Marshall Islands   NaN\n",
       "Mauritania         NaN\n",
       "Monaco             NaN\n",
       "Myanmar            NaN\n",
       "Nepal              NaN\n",
       "Pakistan           NaN\n",
       "Rwanda             NaN\n",
       "San Marino         NaN\n",
       "Saudi Arabia       NaN\n",
       "Somalia            NaN\n",
       "Sri Lanka          NaN\n",
       "Sudan              NaN\n",
       "Tajikistan         NaN\n",
       "Uganda             NaN\n",
       "Yemen              NaN\n",
       "Name: wine_servings, dtype: float64"
      ]
     },
     "execution_count": 35,
     "metadata": {},
     "output_type": "execute_result"
    }
   ],
   "source": [
    "series_wine[series_wine.isnull()]\n",
    "\n",
    "# countries having NaN in wine production"
   ]
  },
  {
   "cell_type": "code",
   "execution_count": 36,
   "id": "62c9c3c5",
   "metadata": {},
   "outputs": [
    {
     "data": {
      "text/plain": [
       "Index(['Afghanistan', 'Bangladesh', 'Bhutan', 'Burundi', 'North Korea',\n",
       "       'Eritrea', 'Ethiopia', 'India', 'Indonesia', 'Iran', 'Iraq', 'Kuwait',\n",
       "       'Lesotho', 'Libya', 'Malaysia', 'Maldives', 'Marshall Islands',\n",
       "       'Mauritania', 'Monaco', 'Myanmar', 'Nepal', 'Pakistan', 'Rwanda',\n",
       "       'San Marino', 'Saudi Arabia', 'Somalia', 'Sri Lanka', 'Sudan',\n",
       "       'Tajikistan', 'Uganda', 'Yemen'],\n",
       "      dtype='object', name='country')"
      ]
     },
     "execution_count": 36,
     "metadata": {},
     "output_type": "execute_result"
    }
   ],
   "source": [
    "series_wine[series_wine.isnull()].index\n"
   ]
  },
  {
   "cell_type": "code",
   "execution_count": 37,
   "id": "06f22571",
   "metadata": {},
   "outputs": [
    {
     "data": {
      "text/plain": [
       "pandas.core.indexes.base.Index"
      ]
     },
     "execution_count": 37,
     "metadata": {},
     "output_type": "execute_result"
    }
   ],
   "source": [
    "type(series_wine[series_wine.isnull()].index)"
   ]
  },
  {
   "cell_type": "code",
   "execution_count": 38,
   "id": "b93b43e2",
   "metadata": {},
   "outputs": [
    {
     "data": {
      "text/plain": [
       "['Afghanistan',\n",
       " 'Bangladesh',\n",
       " 'Bhutan',\n",
       " 'Burundi',\n",
       " 'North Korea',\n",
       " 'Eritrea',\n",
       " 'Ethiopia',\n",
       " 'India',\n",
       " 'Indonesia',\n",
       " 'Iran',\n",
       " 'Iraq',\n",
       " 'Kuwait',\n",
       " 'Lesotho',\n",
       " 'Libya',\n",
       " 'Malaysia',\n",
       " 'Maldives',\n",
       " 'Marshall Islands',\n",
       " 'Mauritania',\n",
       " 'Monaco',\n",
       " 'Myanmar',\n",
       " 'Nepal',\n",
       " 'Pakistan',\n",
       " 'Rwanda',\n",
       " 'San Marino',\n",
       " 'Saudi Arabia',\n",
       " 'Somalia',\n",
       " 'Sri Lanka',\n",
       " 'Sudan',\n",
       " 'Tajikistan',\n",
       " 'Uganda',\n",
       " 'Yemen']"
      ]
     },
     "execution_count": 38,
     "metadata": {},
     "output_type": "execute_result"
    }
   ],
   "source": [
    "list(series_wine[series_wine.isnull()].index)\n",
    "\n",
    "# python list of strings"
   ]
  },
  {
   "cell_type": "code",
   "execution_count": 39,
   "id": "8ef9b778",
   "metadata": {},
   "outputs": [
    {
     "name": "stdout",
     "output_type": "stream",
     "text": [
      "CPU times: user 440 µs, sys: 0 ns, total: 440 µs\n",
      "Wall time: 446 µs\n"
     ]
    },
    {
     "data": {
      "text/plain": [
       "31"
      ]
     },
     "execution_count": 39,
     "metadata": {},
     "output_type": "execute_result"
    }
   ],
   "source": [
    "%%time\n",
    "series_wine.isnull().sum()\n",
    "\n",
    "# pandorable soulution\n",
    "# adorable solution involving pandas"
   ]
  },
  {
   "cell_type": "code",
   "execution_count": 40,
   "id": "605fde3f",
   "metadata": {},
   "outputs": [
    {
     "name": "stdout",
     "output_type": "stream",
     "text": [
      "CPU times: user 404 µs, sys: 93 µs, total: 497 µs\n",
      "Wall time: 504 µs\n"
     ]
    },
    {
     "data": {
      "text/plain": [
       "31"
      ]
     },
     "execution_count": 40,
     "metadata": {},
     "output_type": "execute_result"
    }
   ],
   "source": [
    "%%time\n",
    "len(series_wine[series_wine.isnull()]) # not efficient/ cumbersome"
   ]
  },
  {
   "cell_type": "code",
   "execution_count": 41,
   "id": "6c6c18ff",
   "metadata": {},
   "outputs": [],
   "source": [
    "all_items = series_wine.size   # 193\n",
    "non_nulls = series_wine.count()  # 162\n",
    "nulls = series_wine.isna().sum() # isna is alias to isnull (31)"
   ]
  },
  {
   "cell_type": "code",
   "execution_count": 42,
   "id": "acf8695d",
   "metadata": {},
   "outputs": [
    {
     "data": {
      "text/plain": [
       "True"
      ]
     },
     "execution_count": 42,
     "metadata": {},
     "output_type": "execute_result"
    }
   ],
   "source": [
    "all_items == non_nulls+nulls"
   ]
  },
  {
   "cell_type": "code",
   "execution_count": 43,
   "id": "8b48ec96",
   "metadata": {},
   "outputs": [],
   "source": [
    "import numpy as np"
   ]
  },
  {
   "cell_type": "code",
   "execution_count": 44,
   "id": "04668e7a",
   "metadata": {},
   "outputs": [
    {
     "data": {
      "text/plain": [
       "<ufunc 'isnan'>"
      ]
     },
     "execution_count": 44,
     "metadata": {},
     "output_type": "execute_result"
    }
   ],
   "source": [
    "np.isnan  \n",
    "# universal functions in numpy (ufunc)\n",
    "# expects array like objects that are native type"
   ]
  },
  {
   "cell_type": "code",
   "execution_count": 45,
   "id": "3f675154",
   "metadata": {},
   "outputs": [],
   "source": [
    "ser = pd.Series([True,False,None,2],dtype=float)"
   ]
  },
  {
   "cell_type": "code",
   "execution_count": 46,
   "id": "1da0f886",
   "metadata": {},
   "outputs": [
    {
     "data": {
      "text/plain": [
       "0    False\n",
       "1    False\n",
       "2     True\n",
       "3    False\n",
       "dtype: bool"
      ]
     },
     "execution_count": 46,
     "metadata": {},
     "output_type": "execute_result"
    }
   ],
   "source": [
    "np.isnan(ser)"
   ]
  },
  {
   "cell_type": "code",
   "execution_count": 47,
   "id": "930251ad",
   "metadata": {},
   "outputs": [
    {
     "name": "stdout",
     "output_type": "stream",
     "text": [
      "CPU times: user 293 µs, sys: 67 µs, total: 360 µs\n",
      "Wall time: 364 µs\n"
     ]
    },
    {
     "data": {
      "text/plain": [
       "country\n",
       "Afghanistan        NaN\n",
       "Bangladesh         NaN\n",
       "Bhutan             NaN\n",
       "Burundi            NaN\n",
       "North Korea        NaN\n",
       "Eritrea            NaN\n",
       "Ethiopia           NaN\n",
       "India              NaN\n",
       "Indonesia          NaN\n",
       "Iran               NaN\n",
       "Iraq               NaN\n",
       "Kuwait             NaN\n",
       "Lesotho            NaN\n",
       "Libya              NaN\n",
       "Malaysia           NaN\n",
       "Maldives           NaN\n",
       "Marshall Islands   NaN\n",
       "Mauritania         NaN\n",
       "Monaco             NaN\n",
       "Myanmar            NaN\n",
       "Nepal              NaN\n",
       "Pakistan           NaN\n",
       "Rwanda             NaN\n",
       "San Marino         NaN\n",
       "Saudi Arabia       NaN\n",
       "Somalia            NaN\n",
       "Sri Lanka          NaN\n",
       "Sudan              NaN\n",
       "Tajikistan         NaN\n",
       "Uganda             NaN\n",
       "Yemen              NaN\n",
       "Name: wine_servings, dtype: float64"
      ]
     },
     "execution_count": 47,
     "metadata": {},
     "output_type": "execute_result"
    }
   ],
   "source": [
    "%%time\n",
    "series_wine[np.isnan]"
   ]
  },
  {
   "cell_type": "code",
   "execution_count": 48,
   "id": "1498f2fd",
   "metadata": {},
   "outputs": [
    {
     "data": {
      "text/plain": [
       "31"
      ]
     },
     "execution_count": 48,
     "metadata": {},
     "output_type": "execute_result"
    }
   ],
   "source": [
    "series_wine[np.isnan].size"
   ]
  },
  {
   "cell_type": "code",
   "execution_count": 49,
   "id": "56a4e893",
   "metadata": {},
   "outputs": [
    {
     "name": "stdout",
     "output_type": "stream",
     "text": [
      "CPU times: user 246 µs, sys: 58 µs, total: 304 µs\n",
      "Wall time: 307 µs\n"
     ]
    },
    {
     "data": {
      "text/plain": [
       "country\n",
       "Afghanistan        NaN\n",
       "Bangladesh         NaN\n",
       "Bhutan             NaN\n",
       "Burundi            NaN\n",
       "North Korea        NaN\n",
       "Eritrea            NaN\n",
       "Ethiopia           NaN\n",
       "India              NaN\n",
       "Indonesia          NaN\n",
       "Iran               NaN\n",
       "Iraq               NaN\n",
       "Kuwait             NaN\n",
       "Lesotho            NaN\n",
       "Libya              NaN\n",
       "Malaysia           NaN\n",
       "Maldives           NaN\n",
       "Marshall Islands   NaN\n",
       "Mauritania         NaN\n",
       "Monaco             NaN\n",
       "Myanmar            NaN\n",
       "Nepal              NaN\n",
       "Pakistan           NaN\n",
       "Rwanda             NaN\n",
       "San Marino         NaN\n",
       "Saudi Arabia       NaN\n",
       "Somalia            NaN\n",
       "Sri Lanka          NaN\n",
       "Sudan              NaN\n",
       "Tajikistan         NaN\n",
       "Uganda             NaN\n",
       "Yemen              NaN\n",
       "Name: wine_servings, dtype: float64"
      ]
     },
     "execution_count": 49,
     "metadata": {},
     "output_type": "execute_result"
    }
   ],
   "source": [
    "%%time\n",
    "series_wine[series_wine.isna()]"
   ]
  },
  {
   "cell_type": "markdown",
   "id": "7f732611",
   "metadata": {},
   "source": [
    "## notnull() and notna()"
   ]
  },
  {
   "cell_type": "code",
   "execution_count": 50,
   "id": "ebb284dd",
   "metadata": {},
   "outputs": [
    {
     "data": {
      "text/plain": [
       "country\n",
       "Afghanistan    False\n",
       "Albania         True\n",
       "Algeria         True\n",
       "Andorra         True\n",
       "Angola          True\n",
       "               ...  \n",
       "Venezuela       True\n",
       "Vietnam         True\n",
       "Yemen          False\n",
       "Zambia          True\n",
       "Zimbabwe        True\n",
       "Name: wine_servings, Length: 193, dtype: bool"
      ]
     },
     "execution_count": 50,
     "metadata": {},
     "output_type": "execute_result"
    }
   ],
   "source": [
    "series_wine.notnull()"
   ]
  },
  {
   "cell_type": "code",
   "execution_count": 51,
   "id": "194cc6de",
   "metadata": {},
   "outputs": [
    {
     "data": {
      "text/plain": [
       "country\n",
       "Albania               54.0\n",
       "Algeria               14.0\n",
       "Andorra              312.0\n",
       "Angola                45.0\n",
       "Antigua & Barbuda     45.0\n",
       "                     ...  \n",
       "Vanuatu               11.0\n",
       "Venezuela              3.0\n",
       "Vietnam                1.0\n",
       "Zambia                 4.0\n",
       "Zimbabwe               4.0\n",
       "Name: wine_servings, Length: 162, dtype: float64"
      ]
     },
     "execution_count": 51,
     "metadata": {},
     "output_type": "execute_result"
    }
   ],
   "source": [
    "series_wine[series_wine.notnull()]"
   ]
  },
  {
   "cell_type": "code",
   "execution_count": 52,
   "id": "72e6caf1",
   "metadata": {},
   "outputs": [
    {
     "data": {
      "text/plain": [
       "country\n",
       "Afghanistan    False\n",
       "Albania         True\n",
       "Algeria         True\n",
       "Andorra         True\n",
       "Angola          True\n",
       "               ...  \n",
       "Venezuela       True\n",
       "Vietnam         True\n",
       "Yemen          False\n",
       "Zambia          True\n",
       "Zimbabwe        True\n",
       "Name: wine_servings, Length: 193, dtype: bool"
      ]
     },
     "execution_count": 52,
     "metadata": {},
     "output_type": "execute_result"
    }
   ],
   "source": [
    "series_wine.notna()"
   ]
  },
  {
   "cell_type": "code",
   "execution_count": 53,
   "id": "fdb005ce",
   "metadata": {},
   "outputs": [
    {
     "data": {
      "text/plain": [
       "country\n",
       "Albania               54.0\n",
       "Algeria               14.0\n",
       "Andorra              312.0\n",
       "Angola                45.0\n",
       "Antigua & Barbuda     45.0\n",
       "                     ...  \n",
       "Vanuatu               11.0\n",
       "Venezuela              3.0\n",
       "Vietnam                1.0\n",
       "Zambia                 4.0\n",
       "Zimbabwe               4.0\n",
       "Name: wine_servings, Length: 162, dtype: float64"
      ]
     },
     "execution_count": 53,
     "metadata": {},
     "output_type": "execute_result"
    }
   ],
   "source": [
    "series_wine.loc[series_wine.notna()]"
   ]
  },
  {
   "cell_type": "code",
   "execution_count": 54,
   "id": "0f8fd997",
   "metadata": {},
   "outputs": [],
   "source": [
    "# series_wine.iloc[[series_wine.notna()]]"
   ]
  },
  {
   "cell_type": "code",
   "execution_count": 55,
   "id": "5cacc4ac",
   "metadata": {},
   "outputs": [
    {
     "data": {
      "text/plain": [
       "31"
      ]
     },
     "execution_count": 55,
     "metadata": {},
     "output_type": "execute_result"
    }
   ],
   "source": [
    "series_wine.isna().sum()"
   ]
  },
  {
   "cell_type": "code",
   "execution_count": 56,
   "id": "eb2e27a7",
   "metadata": {},
   "outputs": [
    {
     "data": {
      "text/plain": [
       "True"
      ]
     },
     "execution_count": 56,
     "metadata": {},
     "output_type": "execute_result"
    }
   ],
   "source": [
    "series_wine.size==series_wine.count()+series_wine.isna().sum()"
   ]
  },
  {
   "cell_type": "code",
   "execution_count": 57,
   "id": "e51fc3e4",
   "metadata": {},
   "outputs": [
    {
     "data": {
      "text/plain": [
       "True"
      ]
     },
     "execution_count": 57,
     "metadata": {},
     "output_type": "execute_result"
    }
   ],
   "source": [
    "series_wine.size==series_wine.notna().sum()+series_wine.isna().sum()"
   ]
  },
  {
   "cell_type": "markdown",
   "id": "2adbcf5d",
   "metadata": {},
   "source": [
    "## boolean are integers"
   ]
  },
  {
   "cell_type": "code",
   "execution_count": 58,
   "id": "18761f89",
   "metadata": {},
   "outputs": [
    {
     "data": {
      "text/plain": [
       "20"
      ]
     },
     "execution_count": 58,
     "metadata": {},
     "output_type": "execute_result"
    }
   ],
   "source": [
    "True+19"
   ]
  },
  {
   "cell_type": "code",
   "execution_count": 59,
   "id": "0f84161d",
   "metadata": {},
   "outputs": [
    {
     "data": {
      "text/plain": [
       "20"
      ]
     },
     "execution_count": 59,
     "metadata": {},
     "output_type": "execute_result"
    }
   ],
   "source": [
    "False+20"
   ]
  },
  {
   "cell_type": "code",
   "execution_count": 60,
   "id": "42615ea9",
   "metadata": {},
   "outputs": [
    {
     "data": {
      "text/plain": [
       "2"
      ]
     },
     "execution_count": 60,
     "metadata": {},
     "output_type": "execute_result"
    }
   ],
   "source": [
    "True+True"
   ]
  },
  {
   "cell_type": "code",
   "execution_count": 61,
   "id": "f93e75c3",
   "metadata": {},
   "outputs": [
    {
     "data": {
      "text/plain": [
       "bool"
      ]
     },
     "execution_count": 61,
     "metadata": {},
     "output_type": "execute_result"
    }
   ],
   "source": [
    "type(True)"
   ]
  },
  {
   "cell_type": "code",
   "execution_count": 62,
   "id": "58f52d0d",
   "metadata": {},
   "outputs": [
    {
     "data": {
      "text/plain": [
       "(bool, int, object)"
      ]
     },
     "execution_count": 62,
     "metadata": {},
     "output_type": "execute_result"
    }
   ],
   "source": [
    "bool.__mro__ # method resolution order"
   ]
  },
  {
   "cell_type": "code",
   "execution_count": 63,
   "id": "548189cf",
   "metadata": {},
   "outputs": [],
   "source": [
    "# challenge: isolate non-nulls from series_wine and assign them to the variable wine_servings"
   ]
  },
  {
   "cell_type": "code",
   "execution_count": 64,
   "id": "6d16d4d4",
   "metadata": {},
   "outputs": [],
   "source": [
    "wine_servings=series_wine.loc[series_wine.notna()]"
   ]
  },
  {
   "cell_type": "code",
   "execution_count": 65,
   "id": "6d395dc2",
   "metadata": {},
   "outputs": [
    {
     "data": {
      "text/plain": [
       "country\n",
       "Albania               54.0\n",
       "Algeria               14.0\n",
       "Andorra              312.0\n",
       "Angola                45.0\n",
       "Antigua & Barbuda     45.0\n",
       "                     ...  \n",
       "Vanuatu               11.0\n",
       "Venezuela              3.0\n",
       "Vietnam                1.0\n",
       "Zambia                 4.0\n",
       "Zimbabwe               4.0\n",
       "Name: wine_servings, Length: 162, dtype: float64"
      ]
     },
     "execution_count": 65,
     "metadata": {},
     "output_type": "execute_result"
    }
   ],
   "source": [
    "wine_servings"
   ]
  },
  {
   "cell_type": "code",
   "execution_count": 66,
   "id": "3acf16c2",
   "metadata": {},
   "outputs": [
    {
     "name": "stdout",
     "output_type": "stream",
     "text": [
      "total wine consumed by all the countries 8221.0\n"
     ]
    }
   ],
   "source": [
    "# total_wine_consumed by all the countries\n",
    "print('total wine consumed by all the countries',wine_servings.values.sum())"
   ]
  },
  {
   "cell_type": "code",
   "execution_count": 67,
   "id": "92f6375f",
   "metadata": {},
   "outputs": [
    {
     "data": {
      "text/plain": [
       "2416.0"
      ]
     },
     "execution_count": 67,
     "metadata": {},
     "output_type": "execute_result"
    }
   ],
   "source": [
    "# what is the total wine consumed by countries that consumed less than 100 servings\n",
    "wine_servings[wine_servings<100].values.sum()"
   ]
  },
  {
   "cell_type": "code",
   "execution_count": 68,
   "id": "a113ea2e",
   "metadata": {},
   "outputs": [],
   "source": [
    "# global to \n",
    "# to=0\n"
   ]
  },
  {
   "cell_type": "code",
   "execution_count": 69,
   "id": "e310852f",
   "metadata": {},
   "outputs": [],
   "source": [
    "# wine_servings.get[all_them(x) for x in wine_servings.values]"
   ]
  },
  {
   "cell_type": "code",
   "execution_count": 70,
   "id": "abba79e6",
   "metadata": {},
   "outputs": [],
   "source": [
    "# def all_them(x):\n",
    "#     to = to+x\n",
    "#     return to"
   ]
  },
  {
   "cell_type": "markdown",
   "id": "6a1f0e4c",
   "metadata": {},
   "source": [
    "## Dropping and Filling NA"
   ]
  },
  {
   "cell_type": "code",
   "execution_count": 71,
   "id": "b0257b85",
   "metadata": {},
   "outputs": [
    {
     "data": {
      "text/plain": [
       "country\n",
       "Albania               54.0\n",
       "Algeria               14.0\n",
       "Andorra              312.0\n",
       "Angola                45.0\n",
       "Antigua & Barbuda     45.0\n",
       "                     ...  \n",
       "Vanuatu               11.0\n",
       "Venezuela              3.0\n",
       "Vietnam                1.0\n",
       "Zambia                 4.0\n",
       "Zimbabwe               4.0\n",
       "Name: wine_servings, Length: 162, dtype: float64"
      ]
     },
     "execution_count": 71,
     "metadata": {},
     "output_type": "execute_result"
    }
   ],
   "source": [
    "series_wine.dropna() \n",
    "# excludes NAs from the series\n",
    "# returns a copy of the series unless inplace=True"
   ]
  },
  {
   "cell_type": "code",
   "execution_count": 72,
   "id": "7ce44793",
   "metadata": {},
   "outputs": [],
   "source": [
    "series_wine_new = series_wine.copy()"
   ]
  },
  {
   "cell_type": "code",
   "execution_count": 73,
   "id": "30e01b0e",
   "metadata": {},
   "outputs": [],
   "source": [
    "series_wine.dropna(inplace=True) # either inplace or ressignment"
   ]
  },
  {
   "cell_type": "code",
   "execution_count": 74,
   "id": "eeba7d35",
   "metadata": {},
   "outputs": [
    {
     "data": {
      "text/plain": [
       "country\n",
       "Albania               54.0\n",
       "Algeria               14.0\n",
       "Andorra              312.0\n",
       "Angola                45.0\n",
       "Antigua & Barbuda     45.0\n",
       "                     ...  \n",
       "Vanuatu               11.0\n",
       "Venezuela              3.0\n",
       "Vietnam                1.0\n",
       "Zambia                 4.0\n",
       "Zimbabwe               4.0\n",
       "Name: wine_servings, Length: 162, dtype: float64"
      ]
     },
     "execution_count": 74,
     "metadata": {},
     "output_type": "execute_result"
    }
   ],
   "source": [
    "series_wine"
   ]
  },
  {
   "cell_type": "code",
   "execution_count": 75,
   "id": "326a6b3a",
   "metadata": {},
   "outputs": [
    {
     "data": {
      "text/plain": [
       "country\n",
       "Afghanistan    100.0\n",
       "Albania         54.0\n",
       "Algeria         14.0\n",
       "Andorra        312.0\n",
       "Angola          45.0\n",
       "               ...  \n",
       "Venezuela        3.0\n",
       "Vietnam          1.0\n",
       "Yemen          100.0\n",
       "Zambia           4.0\n",
       "Zimbabwe         4.0\n",
       "Name: wine_servings, Length: 193, dtype: float64"
      ]
     },
     "execution_count": 75,
     "metadata": {},
     "output_type": "execute_result"
    }
   ],
   "source": [
    "series_wine_new.fillna(100,inplace=False)"
   ]
  },
  {
   "cell_type": "code",
   "execution_count": 76,
   "id": "b3c3eb04",
   "metadata": {},
   "outputs": [
    {
     "data": {
      "text/plain": [
       "country\n",
       "Afghanistan      NaN\n",
       "Albania         54.0\n",
       "Algeria         14.0\n",
       "Andorra        312.0\n",
       "Angola          45.0\n",
       "               ...  \n",
       "Venezuela        3.0\n",
       "Vietnam          1.0\n",
       "Yemen            NaN\n",
       "Zambia           4.0\n",
       "Zimbabwe         4.0\n",
       "Name: wine_servings, Length: 193, dtype: float64"
      ]
     },
     "execution_count": 76,
     "metadata": {},
     "output_type": "execute_result"
    }
   ],
   "source": [
    "series_wine_new"
   ]
  },
  {
   "cell_type": "markdown",
   "id": "e9d01912",
   "metadata": {},
   "source": [
    "## Descriptive Statistics"
   ]
  },
  {
   "cell_type": "code",
   "execution_count": 77,
   "id": "7bdc4a4d",
   "metadata": {},
   "outputs": [
    {
     "data": {
      "text/plain": [
       "8221.0"
      ]
     },
     "execution_count": 77,
     "metadata": {},
     "output_type": "execute_result"
    }
   ],
   "source": [
    "series_wine_new.sum()"
   ]
  },
  {
   "cell_type": "code",
   "execution_count": 78,
   "id": "20bee4b6",
   "metadata": {},
   "outputs": [
    {
     "data": {
      "text/plain": [
       "count    162.000000\n",
       "mean      50.746914\n",
       "std       76.134917\n",
       "min        1.000000\n",
       "25%        3.000000\n",
       "50%       11.500000\n",
       "75%       61.250000\n",
       "max      339.000000\n",
       "Name: wine_servings, dtype: float64"
      ]
     },
     "execution_count": 78,
     "metadata": {},
     "output_type": "execute_result"
    }
   ],
   "source": [
    "series_wine_new.describe()"
   ]
  },
  {
   "cell_type": "code",
   "execution_count": 79,
   "id": "fd6e7120",
   "metadata": {},
   "outputs": [
    {
     "data": {
      "text/plain": [
       "50.74691358024691"
      ]
     },
     "execution_count": 79,
     "metadata": {},
     "output_type": "execute_result"
    }
   ],
   "source": [
    "series_wine_new.sum()/series_wine_new.count()"
   ]
  },
  {
   "cell_type": "code",
   "execution_count": 80,
   "id": "14fa1b21",
   "metadata": {},
   "outputs": [
    {
     "data": {
      "text/plain": [
       "50.74691358024691"
      ]
     },
     "execution_count": 80,
     "metadata": {},
     "output_type": "execute_result"
    }
   ],
   "source": [
    "series_wine_new.mean()"
   ]
  },
  {
   "cell_type": "code",
   "execution_count": 81,
   "id": "ad174082",
   "metadata": {},
   "outputs": [
    {
     "data": {
      "text/plain": [
       "11.5"
      ]
     },
     "execution_count": 81,
     "metadata": {},
     "output_type": "execute_result"
    }
   ],
   "source": [
    "series_wine_new.median()"
   ]
  },
  {
   "cell_type": "code",
   "execution_count": 82,
   "id": "dc23ba97",
   "metadata": {},
   "outputs": [
    {
     "data": {
      "text/plain": [
       "11.5"
      ]
     },
     "execution_count": 82,
     "metadata": {},
     "output_type": "execute_result"
    }
   ],
   "source": [
    "series_wine_new.quantile(q=0.5) # 50th quantile\n",
    "# right ( positive) skewed (mean higher than median)\n",
    "# left skew (negative skewed) (median higher than mean)"
   ]
  },
  {
   "cell_type": "markdown",
   "id": "5e94e10c",
   "metadata": {},
   "source": [
    "The general relationship among the central tendency measures in a positively skewed distribution may be expressed using the following inequality:\n",
    "\n",
    "Mean  >  Median  >  Mode\n",
    "In contrast to a negatively skewed distribution, in which the mean is located on the left from the peak of distribution, in a positively skewed distribution, the mean can be found on the right from the distribution’s peak. "
   ]
  },
  {
   "cell_type": "code",
   "execution_count": 83,
   "id": "432f7303",
   "metadata": {},
   "outputs": [
    {
     "data": {
      "text/plain": [
       "<AxesSubplot:>"
      ]
     },
     "execution_count": 83,
     "metadata": {},
     "output_type": "execute_result"
    },
    {
     "data": {
      "image/png": "[encoded data removed]",
      "text/plain": [
       "<Figure size 432x288 with 1 Axes>"
      ]
     },
     "metadata": {
      "needs_background": "light"
     },
     "output_type": "display_data"
    }
   ],
   "source": [
    "series_wine_new.hist()"
   ]
  },
  {
   "cell_type": "code",
   "execution_count": 84,
   "id": "a860951f",
   "metadata": {},
   "outputs": [],
   "source": [
    "# inter quartile range (q3-q1)"
   ]
  },
  {
   "cell_type": "code",
   "execution_count": 85,
   "id": "0b9fe582",
   "metadata": {},
   "outputs": [
    {
     "data": {
      "text/plain": [
       "58.25"
      ]
     },
     "execution_count": 85,
     "metadata": {},
     "output_type": "execute_result"
    }
   ],
   "source": [
    "iqr = series_wine_new.quantile(0.75)-series_wine_new.quantile(0.25)\n",
    "iqr\n",
    "\n",
    "#  higher value,, tells data is not dis symetrically\n",
    "# 5* higher than median "
   ]
  },
  {
   "cell_type": "code",
   "execution_count": 86,
   "id": "7a5ad98b",
   "metadata": {},
   "outputs": [
    {
     "data": {
      "text/plain": [
       "1.0"
      ]
     },
     "execution_count": 86,
     "metadata": {},
     "output_type": "execute_result"
    }
   ],
   "source": [
    "series_wine_new.min()"
   ]
  },
  {
   "cell_type": "code",
   "execution_count": 87,
   "id": "a8922304",
   "metadata": {},
   "outputs": [
    {
     "data": {
      "text/plain": [
       "339.0"
      ]
     },
     "execution_count": 87,
     "metadata": {},
     "output_type": "execute_result"
    }
   ],
   "source": [
    "series_wine_new.max()"
   ]
  },
  {
   "cell_type": "code",
   "execution_count": 88,
   "id": "d79a9065",
   "metadata": {},
   "outputs": [
    {
     "data": {
      "text/plain": [
       "76.13491716376173"
      ]
     },
     "execution_count": 88,
     "metadata": {},
     "output_type": "execute_result"
    }
   ],
   "source": [
    "std_dev = series_wine_new.std()\n",
    "std_dev"
   ]
  },
  {
   "cell_type": "code",
   "execution_count": 89,
   "id": "14fdf1ae",
   "metadata": {},
   "outputs": [
    {
     "data": {
      "text/plain": [
       "True"
      ]
     },
     "execution_count": 89,
     "metadata": {},
     "output_type": "execute_result"
    }
   ],
   "source": [
    "variance = series_wine_new.var()\n",
    "\n",
    "std_dev**2 ==variance"
   ]
  },
  {
   "cell_type": "code",
   "execution_count": 90,
   "id": "55265a9e",
   "metadata": {},
   "outputs": [
    {
     "data": {
      "text/plain": [
       "count    162.000000\n",
       "mean      50.746914\n",
       "std       76.134917\n",
       "min        1.000000\n",
       "19%        2.000000\n",
       "50%       11.500000\n",
       "79%       81.570000\n",
       "max      339.000000\n",
       "Name: wine_servings, dtype: float64"
      ]
     },
     "execution_count": 90,
     "metadata": {},
     "output_type": "execute_result"
    }
   ],
   "source": [
    "series_wine_new.describe(percentiles=[.79,.19])"
   ]
  },
  {
   "cell_type": "code",
   "execution_count": 91,
   "id": "743b48a8",
   "metadata": {},
   "outputs": [
    {
     "data": {
      "text/plain": [
       "count    162.000000\n",
       "mean      50.746914\n",
       "std       76.134917\n",
       "min        1.000000\n",
       "19%        2.000000\n",
       "50%       11.500000\n",
       "79%       81.570000\n",
       "max      339.000000\n",
       "Name: wine_servings, dtype: float64"
      ]
     },
     "execution_count": 91,
     "metadata": {},
     "output_type": "execute_result"
    }
   ],
   "source": [
    "series_wine_new.describe(percentiles=[.79,.19], exclude=[float], include=int)"
   ]
  },
  {
   "cell_type": "code",
   "execution_count": 92,
   "id": "c6786f2a",
   "metadata": {},
   "outputs": [
    {
     "data": {
      "text/plain": [
       "dtype('float64')"
      ]
     },
     "execution_count": 92,
     "metadata": {},
     "output_type": "execute_result"
    }
   ],
   "source": [
    "series_wine_new.dtype\n"
   ]
  },
  {
   "cell_type": "code",
   "execution_count": 93,
   "id": "fd61c56a",
   "metadata": {},
   "outputs": [
    {
     "data": {
      "text/plain": [
       "count    162.000000\n",
       "mean      50.746914\n",
       "std       76.134917\n",
       "min        1.000000\n",
       "19%        2.000000\n",
       "50%       11.500000\n",
       "79%       81.570000\n",
       "max      339.000000\n",
       "Name: wine_servings, dtype: float64"
      ]
     },
     "execution_count": 93,
     "metadata": {},
     "output_type": "execute_result"
    }
   ],
   "source": [
    "series_wine_new.describe(percentiles=[.79,.19], exclude=['mean'])"
   ]
  },
  {
   "cell_type": "code",
   "execution_count": 94,
   "id": "c67b554d",
   "metadata": {},
   "outputs": [
    {
     "data": {
      "text/plain": [
       "0    1.0\n",
       "dtype: float64"
      ]
     },
     "execution_count": 94,
     "metadata": {},
     "output_type": "execute_result"
    }
   ],
   "source": [
    "series_wine_new.mode()"
   ]
  },
  {
   "cell_type": "code",
   "execution_count": 95,
   "id": "eb4145f7",
   "metadata": {},
   "outputs": [
    {
     "data": {
      "text/plain": [
       "1.0      28\n",
       "2.0      10\n",
       "7.0       9\n",
       "8.0       7\n",
       "5.0       6\n",
       "         ..\n",
       "195.0     1\n",
       "185.0     1\n",
       "237.0     1\n",
       "233.0     1\n",
       "35.0      1\n",
       "Name: wine_servings, Length: 71, dtype: int64"
      ]
     },
     "execution_count": 95,
     "metadata": {},
     "output_type": "execute_result"
    }
   ],
   "source": [
    "series_wine_new.value_counts()"
   ]
  },
  {
   "cell_type": "code",
   "execution_count": 96,
   "id": "f05e8306",
   "metadata": {},
   "outputs": [
    {
     "data": {
      "text/plain": [
       "country\n",
       "Afghanistan    False\n",
       "Albania        False\n",
       "Algeria        False\n",
       "Andorra        False\n",
       "Angola         False\n",
       "               ...  \n",
       "Venezuela      False\n",
       "Vietnam         True\n",
       "Yemen          False\n",
       "Zambia         False\n",
       "Zimbabwe       False\n",
       "Name: wine_servings, Length: 193, dtype: bool"
      ]
     },
     "execution_count": 96,
     "metadata": {},
     "output_type": "execute_result"
    }
   ],
   "source": [
    "series_wine_new==1"
   ]
  },
  {
   "cell_type": "code",
   "execution_count": 97,
   "id": "12112f20",
   "metadata": {},
   "outputs": [
    {
     "data": {
      "text/plain": [
       "array([ nan,  54.,  14., 312.,  45.,  45., 221.,  11., 212., 191.,   5.,\n",
       "        51.,   7.,  nan,  36.,  42., 212.,   8.,  13.,  nan,   8.,   8.,\n",
       "        35.,  16.,   1.,  94.,   7.,  nan,   7.,  16.,   1.,   4.,   1.,\n",
       "         1.,   1., 172.,   8.,   3.,   1.,   9.,  74.,  11., 254.,   5.,\n",
       "       113., 134.,  nan,   1., 278.,   3.,  26.,   9.,   3.,   1.,   2.,\n",
       "       233.,  nan,  59.,  nan,   1.,  97.,  37.,  59.,   1., 149., 175.,\n",
       "         1., 218.,  28.,   2.,   2.,  21.,   1.,   1.,   2., 185.,  78.,\n",
       "        nan,  nan,  nan,  nan, 165.,   9., 237.,   9.,  16.,   1.,  12.,\n",
       "         2.,   1.,  nan,   6., 123.,  62.,  31.,  nan,   2.,  nan,  56.,\n",
       "       271.,   4.,   1.,  nan,  nan,   1.,  12.,  nan,  nan,  18.,   5.,\n",
       "        18.,  nan,   8., 128.,   1.,   5.,  nan,   1.,   8.,  nan,  19.,\n",
       "       175.,   1.,   1.,   2.,   7., 129.,   1.,  nan,  23.,  18.,   1.,\n",
       "        74.,  21.,   1.,  56., 339.,   7.,   9.,  18., 167.,  73.,  nan,\n",
       "        32.,  71.,  11.,  24.,  nan,  14.,  nan,   7., 127.,  51.,   2.,\n",
       "        11., 116., 276.,   1.,  nan,  81., 112.,  nan,  nan,   7.,   2.,\n",
       "       186.,  28.,  16.,  nan,   1.,  86.,   4.,  19.,   5.,   7.,   2.,\n",
       "         7.,  32.,   9.,  nan,  45.,   5., 195.,   1.,  84.,  22.,   8.,\n",
       "        11.,   3.,   1.,  nan,   4.,   4.])"
      ]
     },
     "execution_count": 97,
     "metadata": {},
     "output_type": "execute_result"
    }
   ],
   "source": [
    "series_wine_new.values"
   ]
  },
  {
   "cell_type": "code",
   "execution_count": 98,
   "id": "e5009262",
   "metadata": {},
   "outputs": [
    {
     "data": {
      "text/plain": [
       "1.0"
      ]
     },
     "execution_count": 98,
     "metadata": {},
     "output_type": "execute_result"
    }
   ],
   "source": [
    "series_wine_new.Vietnam"
   ]
  },
  {
   "cell_type": "code",
   "execution_count": 99,
   "id": "dfa8659c",
   "metadata": {},
   "outputs": [
    {
     "data": {
      "text/plain": [
       "28"
      ]
     },
     "execution_count": 99,
     "metadata": {},
     "output_type": "execute_result"
    }
   ],
   "source": [
    "series_wine_new[series_wine_new==1].size"
   ]
  },
  {
   "cell_type": "code",
   "execution_count": 100,
   "id": "eb539423",
   "metadata": {},
   "outputs": [
    {
     "data": {
      "text/plain": [
       "28"
      ]
     },
     "execution_count": 100,
     "metadata": {},
     "output_type": "execute_result"
    }
   ],
   "source": [
    "series_wine_new.value_counts().iloc[0]"
   ]
  },
  {
   "cell_type": "code",
   "execution_count": 101,
   "id": "8cbb1b3f",
   "metadata": {},
   "outputs": [
    {
     "data": {
      "text/plain": [
       "1.0      0.172840\n",
       "2.0      0.061728\n",
       "7.0      0.055556\n",
       "8.0      0.043210\n",
       "5.0      0.037037\n",
       "           ...   \n",
       "195.0    0.006173\n",
       "185.0    0.006173\n",
       "237.0    0.006173\n",
       "233.0    0.006173\n",
       "35.0     0.006173\n",
       "Name: wine_servings, Length: 71, dtype: float64"
      ]
     },
     "execution_count": 101,
     "metadata": {},
     "output_type": "execute_result"
    }
   ],
   "source": [
    "series_wine_new.value_counts(normalize=True) # gives relative frequency"
   ]
  },
  {
   "cell_type": "code",
   "execution_count": 102,
   "id": "f31b51cb",
   "metadata": {},
   "outputs": [
    {
     "data": {
      "text/plain": [
       "0.1728395061728395"
      ]
     },
     "execution_count": 102,
     "metadata": {},
     "output_type": "execute_result"
    }
   ],
   "source": [
    "28/series_wine_new.count()"
   ]
  },
  {
   "cell_type": "code",
   "execution_count": 103,
   "id": "04c1f96e",
   "metadata": {},
   "outputs": [
    {
     "data": {
      "text/plain": [
       "339.0"
      ]
     },
     "execution_count": 103,
     "metadata": {},
     "output_type": "execute_result"
    }
   ],
   "source": [
    "series_wine_new.max()"
   ]
  },
  {
   "cell_type": "code",
   "execution_count": 104,
   "id": "0429c75c",
   "metadata": {},
   "outputs": [
    {
     "data": {
      "text/plain": [
       "'Portugal'"
      ]
     },
     "execution_count": 104,
     "metadata": {},
     "output_type": "execute_result"
    }
   ],
   "source": [
    "series_wine_new.idxmax() # gives id with maximum value"
   ]
  },
  {
   "cell_type": "code",
   "execution_count": 105,
   "id": "390a71b5",
   "metadata": {},
   "outputs": [
    {
     "data": {
      "text/plain": [
       "country\n",
       "Portugal    339.0\n",
       "Name: wine_servings, dtype: float64"
      ]
     },
     "execution_count": 105,
     "metadata": {},
     "output_type": "execute_result"
    }
   ],
   "source": [
    "series_wine_new[series_wine_new==series_wine_new.max()]"
   ]
  },
  {
   "cell_type": "code",
   "execution_count": 106,
   "id": "cc9074b2",
   "metadata": {},
   "outputs": [
    {
     "data": {
      "text/plain": [
       "'Brunei'"
      ]
     },
     "execution_count": 106,
     "metadata": {},
     "output_type": "execute_result"
    }
   ],
   "source": [
    "series_wine_new.idxmin() # alphabetically first out of many values"
   ]
  },
  {
   "cell_type": "code",
   "execution_count": 107,
   "id": "6b0f2dbc",
   "metadata": {},
   "outputs": [
    {
     "data": {
      "text/plain": [
       "'Portugal'"
      ]
     },
     "execution_count": 107,
     "metadata": {},
     "output_type": "execute_result"
    }
   ],
   "source": [
    "series_wine_new[series_wine_new==series_wine_new.max()].index[0]"
   ]
  },
  {
   "cell_type": "markdown",
   "id": "a6690db6",
   "metadata": {},
   "source": [
    "## we can either sort by values or by index"
   ]
  },
  {
   "cell_type": "code",
   "execution_count": 109,
   "id": "ecb10a1a",
   "metadata": {},
   "outputs": [
    {
     "data": {
      "text/plain": [
       "country\n",
       "Thailand           1.0\n",
       "Solomon Islands    1.0\n",
       "Brunei             1.0\n",
       "Haiti              1.0\n",
       "Cambodia           1.0\n",
       "                  ... \n",
       "Sri Lanka          NaN\n",
       "Sudan              NaN\n",
       "Tajikistan         NaN\n",
       "Uganda             NaN\n",
       "Yemen              NaN\n",
       "Name: wine_servings, Length: 193, dtype: float64"
      ]
     },
     "execution_count": 109,
     "metadata": {},
     "output_type": "execute_result"
    }
   ],
   "source": [
    "series_wine_new.sort_values() "
   ]
  },
  {
   "cell_type": "code",
   "execution_count": 110,
   "id": "b711a6af",
   "metadata": {},
   "outputs": [
    {
     "data": {
      "text/plain": [
       "country\n",
       "Portugal      339.0\n",
       "Andorra       312.0\n",
       "Denmark       278.0\n",
       "Slovenia      276.0\n",
       "Luxembourg    271.0\n",
       "              ...  \n",
       "Sri Lanka       NaN\n",
       "Sudan           NaN\n",
       "Tajikistan      NaN\n",
       "Uganda          NaN\n",
       "Yemen           NaN\n",
       "Name: wine_servings, Length: 193, dtype: float64"
      ]
     },
     "execution_count": 110,
     "metadata": {},
     "output_type": "execute_result"
    }
   ],
   "source": [
    "series_wine_new.sort_values(ascending=False) "
   ]
  },
  {
   "cell_type": "code",
   "execution_count": 111,
   "id": "ce00a897",
   "metadata": {},
   "outputs": [
    {
     "data": {
      "text/plain": [
       "country\n",
       "Afghanistan                 NaN\n",
       "Bangladesh                  NaN\n",
       "Bhutan                      NaN\n",
       "Burundi                     NaN\n",
       "North Korea                 NaN\n",
       "                           ... \n",
       "Jordan                      1.0\n",
       "Solomon Islands             1.0\n",
       "Central African Republic    1.0\n",
       "Haiti                       1.0\n",
       "Chad                        1.0\n",
       "Name: wine_servings, Length: 193, dtype: float64"
      ]
     },
     "execution_count": 111,
     "metadata": {},
     "output_type": "execute_result"
    }
   ],
   "source": [
    "series_wine_new.sort_values(ascending=False,na_position='first') "
   ]
  },
  {
   "cell_type": "markdown",
   "id": "f4697cd5",
   "metadata": {},
   "source": [
    "## nlargest() and nsmallest()"
   ]
  },
  {
   "cell_type": "code",
   "execution_count": 113,
   "id": "9c03238d",
   "metadata": {},
   "outputs": [
    {
     "data": {
      "text/plain": [
       "1.0"
      ]
     },
     "execution_count": 113,
     "metadata": {},
     "output_type": "execute_result"
    }
   ],
   "source": [
    "series_wine_new.min()"
   ]
  },
  {
   "cell_type": "code",
   "execution_count": 114,
   "id": "cbbe74ea",
   "metadata": {},
   "outputs": [
    {
     "data": {
      "text/plain": [
       "339.0"
      ]
     },
     "execution_count": 114,
     "metadata": {},
     "output_type": "execute_result"
    }
   ],
   "source": [
    "series_wine_new.max()"
   ]
  },
  {
   "cell_type": "code",
   "execution_count": 115,
   "id": "3753f925",
   "metadata": {},
   "outputs": [
    {
     "data": {
      "text/plain": [
       "country\n",
       "Afghanistan      NaN\n",
       "Albania         54.0\n",
       "Algeria         14.0\n",
       "Andorra        312.0\n",
       "Angola          45.0\n",
       "               ...  \n",
       "Venezuela        3.0\n",
       "Vietnam          1.0\n",
       "Yemen            NaN\n",
       "Zambia           4.0\n",
       "Zimbabwe         4.0\n",
       "Name: wine_servings, Length: 193, dtype: float64"
      ]
     },
     "execution_count": 115,
     "metadata": {},
     "output_type": "execute_result"
    }
   ],
   "source": [
    "series_wine_new"
   ]
  },
  {
   "cell_type": "code",
   "execution_count": 118,
   "id": "9325074f",
   "metadata": {},
   "outputs": [
    {
     "data": {
      "text/plain": [
       "country\n",
       "Portugal             339.0\n",
       "Andorra              312.0\n",
       "Denmark              278.0\n",
       "Slovenia             276.0\n",
       "Luxembourg           271.0\n",
       "Croatia              254.0\n",
       "Italy                237.0\n",
       "Equatorial Guinea    233.0\n",
       "Argentina            221.0\n",
       "Greece               218.0\n",
       "Name: wine_servings, dtype: float64"
      ]
     },
     "execution_count": 118,
     "metadata": {},
     "output_type": "execute_result"
    }
   ],
   "source": [
    "series_wine_new.sort_values(ascending=False)[:10]"
   ]
  },
  {
   "cell_type": "code",
   "execution_count": 119,
   "id": "b20dddb5",
   "metadata": {},
   "outputs": [
    {
     "data": {
      "text/plain": [
       "country\n",
       "Portugal             339.0\n",
       "Andorra              312.0\n",
       "Denmark              278.0\n",
       "Slovenia             276.0\n",
       "Luxembourg           271.0\n",
       "Croatia              254.0\n",
       "Italy                237.0\n",
       "Equatorial Guinea    233.0\n",
       "Argentina            221.0\n",
       "Greece               218.0\n",
       "Name: wine_servings, dtype: float64"
      ]
     },
     "execution_count": 119,
     "metadata": {},
     "output_type": "execute_result"
    }
   ],
   "source": [
    "series_wine_new.nlargest(10)"
   ]
  },
  {
   "cell_type": "code",
   "execution_count": 121,
   "id": "e564ec5a",
   "metadata": {},
   "outputs": [
    {
     "data": {
      "text/plain": [
       "country\n",
       "Brunei                      1.0\n",
       "Cambodia                    1.0\n",
       "Canada                      1.0\n",
       "Central African Republic    1.0\n",
       "Chad                        1.0\n",
       "Comoros                     1.0\n",
       "DR Congo                    1.0\n",
       "Egypt                       1.0\n",
       "Fiji                        1.0\n",
       "Gambia                      1.0\n",
       "Ghana                       1.0\n",
       "Guyana                      1.0\n",
       "Haiti                       1.0\n",
       "Jordan                      1.0\n",
       "Kiribati                    1.0\n",
       "Malawi                      1.0\n",
       "Mali                        1.0\n",
       "Morocco                     1.0\n",
       "Namibia                     1.0\n",
       "Nicaragua                   1.0\n",
       "Niger                       1.0\n",
       "Oman                        1.0\n",
       "Papua New Guinea            1.0\n",
       "Philippines                 1.0\n",
       "Solomon Islands             1.0\n",
       "Thailand                    1.0\n",
       "Tanzania                    1.0\n",
       "Vietnam                     1.0\n",
       "El Salvador                 2.0\n",
       "Name: wine_servings, dtype: float64"
      ]
     },
     "execution_count": 121,
     "metadata": {},
     "output_type": "execute_result"
    }
   ],
   "source": [
    "series_wine_new.nsmallest(29)"
   ]
  },
  {
   "cell_type": "markdown",
   "id": "c810fc14",
   "metadata": {},
   "source": [
    "## sort_index()"
   ]
  },
  {
   "cell_type": "code",
   "execution_count": 122,
   "id": "10c44bec",
   "metadata": {},
   "outputs": [
    {
     "data": {
      "text/plain": [
       "country\n",
       "Afghanistan      NaN\n",
       "Albania         54.0\n",
       "Algeria         14.0\n",
       "Andorra        312.0\n",
       "Angola          45.0\n",
       "Name: wine_servings, dtype: float64"
      ]
     },
     "execution_count": 122,
     "metadata": {},
     "output_type": "execute_result"
    }
   ],
   "source": [
    "series_wine_new.head()"
   ]
  },
  {
   "cell_type": "code",
   "execution_count": 123,
   "id": "fd7b7a15",
   "metadata": {},
   "outputs": [
    {
     "data": {
      "text/plain": [
       "country\n",
       "Afghanistan      NaN\n",
       "Albania         54.0\n",
       "Algeria         14.0\n",
       "Andorra        312.0\n",
       "Angola          45.0\n",
       "               ...  \n",
       "Venezuela        3.0\n",
       "Vietnam          1.0\n",
       "Yemen            NaN\n",
       "Zambia           4.0\n",
       "Zimbabwe         4.0\n",
       "Name: wine_servings, Length: 193, dtype: float64"
      ]
     },
     "execution_count": 123,
     "metadata": {},
     "output_type": "execute_result"
    }
   ],
   "source": [
    "series_wine_new.sort_index()"
   ]
  },
  {
   "cell_type": "code",
   "execution_count": 124,
   "id": "17782fe9",
   "metadata": {},
   "outputs": [
    {
     "data": {
      "text/plain": [
       "country\n",
       "Zimbabwe         4.0\n",
       "Zambia           4.0\n",
       "Yemen            NaN\n",
       "Vietnam          1.0\n",
       "Venezuela        3.0\n",
       "               ...  \n",
       "Angola          45.0\n",
       "Andorra        312.0\n",
       "Algeria         14.0\n",
       "Albania         54.0\n",
       "Afghanistan      NaN\n",
       "Name: wine_servings, Length: 193, dtype: float64"
      ]
     },
     "execution_count": 124,
     "metadata": {},
     "output_type": "execute_result"
    }
   ],
   "source": [
    "series_wine_new.sort_index(ascending=False)"
   ]
  },
  {
   "cell_type": "code",
   "execution_count": 125,
   "id": "5fc58288",
   "metadata": {},
   "outputs": [
    {
     "data": {
      "text/plain": [
       "country\n",
       "Zimbabwe         4.0\n",
       "Zambia           4.0\n",
       "Yemen            NaN\n",
       "Vietnam          1.0\n",
       "Venezuela        3.0\n",
       "               ...  \n",
       "Angola          45.0\n",
       "Andorra        312.0\n",
       "Algeria         14.0\n",
       "Albania         54.0\n",
       "Afghanistan      NaN\n",
       "Name: wine_servings, Length: 193, dtype: float64"
      ]
     },
     "execution_count": 125,
     "metadata": {},
     "output_type": "execute_result"
    }
   ],
   "source": [
    "series_wine_new.sort_index(ascending=False,na_position='first')"
   ]
  },
  {
   "cell_type": "code",
   "execution_count": 126,
   "id": "b57a7de8",
   "metadata": {},
   "outputs": [],
   "source": [
    "# since there are no null values in the index, no na is seen"
   ]
  },
  {
   "cell_type": "code",
   "execution_count": 127,
   "id": "72de80e8",
   "metadata": {},
   "outputs": [],
   "source": [
    "series_index_sorted = series_wine_new.sort_index(ascending=False,na_position='first')"
   ]
  },
  {
   "cell_type": "code",
   "execution_count": 128,
   "id": "378ef03d",
   "metadata": {},
   "outputs": [
    {
     "data": {
      "text/plain": [
       "country\n",
       "Zimbabwe         4.0\n",
       "Zambia           4.0\n",
       "Yemen            NaN\n",
       "Vietnam          1.0\n",
       "Venezuela        3.0\n",
       "               ...  \n",
       "Angola          45.0\n",
       "Andorra        312.0\n",
       "Algeria         14.0\n",
       "Albania         54.0\n",
       "Afghanistan      NaN\n",
       "Name: wine_servings, Length: 193, dtype: float64"
      ]
     },
     "execution_count": 128,
     "metadata": {},
     "output_type": "execute_result"
    }
   ],
   "source": [
    "series_index_sorted"
   ]
  },
  {
   "cell_type": "code",
   "execution_count": 131,
   "id": "cd864d71",
   "metadata": {},
   "outputs": [],
   "source": [
    "fifty_plus = series_wine_new[series_wine_new>50]"
   ]
  },
  {
   "cell_type": "code",
   "execution_count": 133,
   "id": "f84430ae",
   "metadata": {},
   "outputs": [
    {
     "data": {
      "text/plain": [
       "country\n",
       "Bahamas                51.0\n",
       "Seychelles             51.0\n",
       "Albania                54.0\n",
       "Lithuania              56.0\n",
       "Poland                 56.0\n",
       "Estonia                59.0\n",
       "Gabon                  59.0\n",
       "Latvia                 62.0\n",
       "St. Lucia              71.0\n",
       "Russian Federation     73.0\n",
       "Cook Islands           74.0\n",
       "Paraguay               74.0\n",
       "Iceland                78.0\n",
       "South Africa           81.0\n",
       "USA                    84.0\n",
       "Macedonia              86.0\n",
       "Bulgaria               94.0\n",
       "Finland                97.0\n",
       "Spain                 112.0\n",
       "Cyprus                113.0\n",
       "Name: wine_servings, dtype: float64"
      ]
     },
     "execution_count": 133,
     "metadata": {},
     "output_type": "execute_result"
    }
   ],
   "source": [
    "# now choose the country with smallest 20 wine servings\n",
    "\n",
    "fifty_plus.nsmallest(20)"
   ]
  },
  {
   "cell_type": "code",
   "execution_count": 134,
   "id": "1ed5aee1",
   "metadata": {},
   "outputs": [],
   "source": [
    "# find the mean, median and std dev for above"
   ]
  },
  {
   "cell_type": "code",
   "execution_count": 136,
   "id": "ee8e70f7",
   "metadata": {},
   "outputs": [
    {
     "data": {
      "text/plain": [
       "count     20.000000\n",
       "mean      74.250000\n",
       "std       19.072921\n",
       "min       51.000000\n",
       "25%       58.250000\n",
       "50%       73.500000\n",
       "75%       84.500000\n",
       "max      113.000000\n",
       "Name: wine_servings, dtype: float64"
      ]
     },
     "execution_count": 136,
     "metadata": {},
     "output_type": "execute_result"
    }
   ],
   "source": [
    "fifty_plus.nsmallest(20).describe()"
   ]
  },
  {
   "cell_type": "markdown",
   "id": "a42d5252",
   "metadata": {},
   "source": [
    "## Series Arithmetic and fill_value()"
   ]
  },
  {
   "cell_type": "code",
   "execution_count": 155,
   "id": "dbeaed64",
   "metadata": {},
   "outputs": [
    {
     "data": {
      "text/plain": [
       "country\n",
       "Afghanistan      NaN\n",
       "Albania         56.0\n",
       "Algeria         16.0\n",
       "Andorra        314.0\n",
       "Angola          47.0\n",
       "               ...  \n",
       "Venezuela        5.0\n",
       "Vietnam          3.0\n",
       "Yemen            NaN\n",
       "Zambia           6.0\n",
       "Zimbabwe         6.0\n",
       "Name: wine_servings, Length: 193, dtype: float64"
      ]
     },
     "execution_count": 155,
     "metadata": {},
     "output_type": "execute_result"
    }
   ],
   "source": [
    "series_wine_new+2\n",
    "\n",
    "# series will align by index label\n",
    "# pandas will connect them by label before performing any operation"
   ]
  },
  {
   "cell_type": "code",
   "execution_count": 138,
   "id": "bc91b670",
   "metadata": {},
   "outputs": [
    {
     "data": {
      "text/plain": [
       "country\n",
       "Afghanistan      NaN\n",
       "Albania         88.0\n",
       "Algeria          8.0\n",
       "Andorra        604.0\n",
       "Angola          70.0\n",
       "               ...  \n",
       "Venezuela      -14.0\n",
       "Vietnam        -18.0\n",
       "Yemen            NaN\n",
       "Zambia         -12.0\n",
       "Zimbabwe       -12.0\n",
       "Name: wine_servings, Length: 193, dtype: float64"
      ]
     },
     "execution_count": 138,
     "metadata": {},
     "output_type": "execute_result"
    }
   ],
   "source": [
    "(series_wine_new-10)*2"
   ]
  },
  {
   "cell_type": "code",
   "execution_count": 139,
   "id": "de5c09df",
   "metadata": {},
   "outputs": [
    {
     "data": {
      "text/plain": [
       "country\n",
       "Afghanistan      NaN\n",
       "Albania         54.0\n",
       "Algeria         14.0\n",
       "Andorra        312.0\n",
       "Angola          45.0\n",
       "               ...  \n",
       "Venezuela        3.0\n",
       "Vietnam          1.0\n",
       "Yemen            NaN\n",
       "Zambia           4.0\n",
       "Zimbabwe         4.0\n",
       "Name: wine_servings, Length: 193, dtype: float64"
      ]
     },
     "execution_count": 139,
     "metadata": {},
     "output_type": "execute_result"
    }
   ],
   "source": [
    "series_wine_new"
   ]
  },
  {
   "cell_type": "code",
   "execution_count": 142,
   "id": "b95041ab",
   "metadata": {},
   "outputs": [],
   "source": [
    "drink_added = pd.Series({'Albania':10, 'Algeria':10 })"
   ]
  },
  {
   "cell_type": "code",
   "execution_count": 143,
   "id": "52ba1e77",
   "metadata": {},
   "outputs": [
    {
     "data": {
      "text/plain": [
       "Afghanistan     NaN\n",
       "Albania        64.0\n",
       "Algeria        24.0\n",
       "Andorra         NaN\n",
       "Angola          NaN\n",
       "               ... \n",
       "Venezuela       NaN\n",
       "Vietnam         NaN\n",
       "Yemen           NaN\n",
       "Zambia          NaN\n",
       "Zimbabwe        NaN\n",
       "Length: 193, dtype: float64"
      ]
     },
     "execution_count": 143,
     "metadata": {},
     "output_type": "execute_result"
    }
   ],
   "source": [
    "series_wine_new+drink_added"
   ]
  },
  {
   "cell_type": "code",
   "execution_count": 146,
   "id": "f0243b37",
   "metadata": {},
   "outputs": [
    {
     "data": {
      "text/plain": [
       "Afghanistan     NaN\n",
       "Albania        64.0\n",
       "Algeria        24.0\n",
       "Andorra         NaN\n",
       "Angola          NaN\n",
       "               ... \n",
       "Venezuela       NaN\n",
       "Vietnam         NaN\n",
       "Yemen           NaN\n",
       "Zambia          NaN\n",
       "Zimbabwe        NaN\n",
       "Length: 193, dtype: float64"
      ]
     },
     "execution_count": 146,
     "metadata": {},
     "output_type": "execute_result"
    }
   ],
   "source": [
    "series_wine_new.add(drink_added)"
   ]
  },
  {
   "cell_type": "code",
   "execution_count": 147,
   "id": "f2e9e5d7",
   "metadata": {},
   "outputs": [
    {
     "data": {
      "text/plain": [
       "Afghanistan      NaN\n",
       "Albania         64.0\n",
       "Algeria         24.0\n",
       "Andorra        312.0\n",
       "Angola          45.0\n",
       "               ...  \n",
       "Venezuela        3.0\n",
       "Vietnam          1.0\n",
       "Yemen            NaN\n",
       "Zambia           4.0\n",
       "Zimbabwe         4.0\n",
       "Length: 193, dtype: float64"
      ]
     },
     "execution_count": 147,
     "metadata": {},
     "output_type": "execute_result"
    }
   ],
   "source": [
    "series_wine_new.add(drink_added,fill_value=0)"
   ]
  },
  {
   "cell_type": "code",
   "execution_count": 148,
   "id": "1433f4fe",
   "metadata": {},
   "outputs": [],
   "source": [
    "drink_added = pd.Series({'Albania':10, 'Algeria':10,'Afghanistan':30 })"
   ]
  },
  {
   "cell_type": "code",
   "execution_count": 149,
   "id": "9f74a929",
   "metadata": {},
   "outputs": [
    {
     "data": {
      "text/plain": [
       "Afghanistan     30.0\n",
       "Albania         64.0\n",
       "Algeria         24.0\n",
       "Andorra        312.0\n",
       "Angola          45.0\n",
       "               ...  \n",
       "Venezuela        3.0\n",
       "Vietnam          1.0\n",
       "Yemen            NaN\n",
       "Zambia           4.0\n",
       "Zimbabwe         4.0\n",
       "Length: 193, dtype: float64"
      ]
     },
     "execution_count": 149,
     "metadata": {},
     "output_type": "execute_result"
    }
   ],
   "source": [
    "series_wine_new.add(drink_added,fill_value=0)"
   ]
  },
  {
   "cell_type": "code",
   "execution_count": 150,
   "id": "ed6b24af",
   "metadata": {},
   "outputs": [
    {
     "data": {
      "text/plain": [
       "Afghanistan    -30.0\n",
       "Albania         44.0\n",
       "Algeria          4.0\n",
       "Andorra        312.0\n",
       "Angola          45.0\n",
       "               ...  \n",
       "Venezuela        3.0\n",
       "Vietnam          1.0\n",
       "Yemen            NaN\n",
       "Zambia           4.0\n",
       "Zimbabwe         4.0\n",
       "Length: 193, dtype: float64"
      ]
     },
     "execution_count": 150,
     "metadata": {},
     "output_type": "execute_result"
    }
   ],
   "source": [
    "series_wine_new.subtract(drink_added,fill_value=0)"
   ]
  },
  {
   "cell_type": "code",
   "execution_count": 151,
   "id": "1e93f7a1",
   "metadata": {},
   "outputs": [
    {
     "data": {
      "text/plain": [
       "Afghanistan    0.0\n",
       "Albania        5.4\n",
       "Algeria        1.4\n",
       "Andorra        inf\n",
       "Angola         inf\n",
       "              ... \n",
       "Venezuela      inf\n",
       "Vietnam        inf\n",
       "Yemen          NaN\n",
       "Zambia         inf\n",
       "Zimbabwe       inf\n",
       "Length: 193, dtype: float64"
      ]
     },
     "execution_count": 151,
     "metadata": {},
     "output_type": "execute_result"
    }
   ],
   "source": [
    "series_wine_new.divide(drink_added,fill_value=0)"
   ]
  },
  {
   "cell_type": "code",
   "execution_count": 152,
   "id": "3127924d",
   "metadata": {},
   "outputs": [
    {
     "data": {
      "text/plain": [
       "Afghanistan      0.0\n",
       "Albania        540.0\n",
       "Algeria        140.0\n",
       "Andorra          0.0\n",
       "Angola           0.0\n",
       "               ...  \n",
       "Venezuela        0.0\n",
       "Vietnam          0.0\n",
       "Yemen            NaN\n",
       "Zambia           0.0\n",
       "Zimbabwe         0.0\n",
       "Length: 193, dtype: float64"
      ]
     },
     "execution_count": 152,
     "metadata": {},
     "output_type": "execute_result"
    }
   ],
   "source": [
    "series_wine_new.multiply(drink_added,fill_value=0)"
   ]
  },
  {
   "cell_type": "code",
   "execution_count": 153,
   "id": "64046ace",
   "metadata": {},
   "outputs": [
    {
     "data": {
      "text/plain": [
       "Afghanistan    NaN\n",
       "Albania        5.4\n",
       "Algeria        1.4\n",
       "Andorra        NaN\n",
       "Angola         NaN\n",
       "              ... \n",
       "Venezuela      NaN\n",
       "Vietnam        NaN\n",
       "Yemen          NaN\n",
       "Zambia         NaN\n",
       "Zimbabwe       NaN\n",
       "Length: 193, dtype: float64"
      ]
     },
     "execution_count": 153,
     "metadata": {},
     "output_type": "execute_result"
    }
   ],
   "source": [
    "series_wine_new.divide(drink_added)"
   ]
  },
  {
   "cell_type": "code",
   "execution_count": 157,
   "id": "6e1447e2",
   "metadata": {},
   "outputs": [],
   "source": [
    "## calculating variance and std dev"
   ]
  },
  {
   "cell_type": "code",
   "execution_count": 158,
   "id": "c122b916",
   "metadata": {},
   "outputs": [
    {
     "data": {
      "text/plain": [
       "5796.52561153286"
      ]
     },
     "execution_count": 158,
     "metadata": {},
     "output_type": "execute_result"
    }
   ],
   "source": [
    "series_wine_new.var()"
   ]
  },
  {
   "cell_type": "code",
   "execution_count": 166,
   "id": "1f664e10",
   "metadata": {},
   "outputs": [
    {
     "data": {
      "text/plain": [
       "5796.5256115328575"
      ]
     },
     "execution_count": 166,
     "metadata": {},
     "output_type": "execute_result"
    }
   ],
   "source": [
    "((series_wine_new.subtract(series_wine_new.mean()))**2).sum()/(series_wine_new.count()-1)"
   ]
  },
  {
   "cell_type": "code",
   "execution_count": 167,
   "id": "ea426e68",
   "metadata": {},
   "outputs": [
    {
     "data": {
      "text/plain": [
       "76.13491716376173"
      ]
     },
     "execution_count": 167,
     "metadata": {},
     "output_type": "execute_result"
    }
   ],
   "source": [
    "series_wine_new.std()"
   ]
  },
  {
   "cell_type": "code",
   "execution_count": 169,
   "id": "dc9c07b4",
   "metadata": {},
   "outputs": [
    {
     "data": {
      "text/plain": [
       "76.13491716376171"
      ]
     },
     "execution_count": 169,
     "metadata": {},
     "output_type": "execute_result"
    }
   ],
   "source": [
    "(((series_wine_new.subtract(series_wine_new.mean()))**2).sum()/(series_wine_new.count()-1))**(1/2)"
   ]
  },
  {
   "cell_type": "markdown",
   "id": "8fb32e95",
   "metadata": {},
   "source": [
    "## pairwise differences with diff"
   ]
  },
  {
   "cell_type": "code",
   "execution_count": 170,
   "id": "86f70d90",
   "metadata": {},
   "outputs": [],
   "source": [
    "# current-previous value diffrences"
   ]
  },
  {
   "cell_type": "code",
   "execution_count": 173,
   "id": "66e739c2",
   "metadata": {},
   "outputs": [
    {
     "data": {
      "text/plain": [
       "country\n",
       "Afghanistan      NaN\n",
       "Albania          NaN\n",
       "Algeria        -40.0\n",
       "Andorra        298.0\n",
       "Angola        -267.0\n",
       "Name: wine_servings, dtype: float64"
      ]
     },
     "execution_count": 173,
     "metadata": {},
     "output_type": "execute_result"
    }
   ],
   "source": [
    "series_wine_new.diff().head() # with the lag of 1"
   ]
  },
  {
   "cell_type": "code",
   "execution_count": 172,
   "id": "eab3a120",
   "metadata": {},
   "outputs": [
    {
     "data": {
      "text/plain": [
       "country\n",
       "Afghanistan      NaN\n",
       "Albania         54.0\n",
       "Algeria         14.0\n",
       "Andorra        312.0\n",
       "Angola          45.0\n",
       "               ...  \n",
       "Venezuela        3.0\n",
       "Vietnam          1.0\n",
       "Yemen            NaN\n",
       "Zambia           4.0\n",
       "Zimbabwe         4.0\n",
       "Name: wine_servings, Length: 193, dtype: float64"
      ]
     },
     "execution_count": 172,
     "metadata": {},
     "output_type": "execute_result"
    }
   ],
   "source": [
    "series_wine_new"
   ]
  },
  {
   "cell_type": "code",
   "execution_count": 175,
   "id": "766e3019",
   "metadata": {},
   "outputs": [
    {
     "data": {
      "text/plain": [
       "country\n",
       "Afghanistan      NaN\n",
       "Albania          NaN\n",
       "Algeria          NaN\n",
       "Andorra        258.0\n",
       "Angola          31.0\n",
       "Name: wine_servings, dtype: float64"
      ]
     },
     "execution_count": 175,
     "metadata": {},
     "output_type": "execute_result"
    }
   ],
   "source": [
    "series_wine_new.diff(periods=2).head()"
   ]
  },
  {
   "cell_type": "code",
   "execution_count": 176,
   "id": "70bb2cc4",
   "metadata": {},
   "outputs": [
    {
     "data": {
      "text/plain": [
       "country\n",
       "Afghanistan      NaN\n",
       "Albania         40.0\n",
       "Algeria       -298.0\n",
       "Andorra        267.0\n",
       "Angola           0.0\n",
       "Name: wine_servings, dtype: float64"
      ]
     },
     "execution_count": 176,
     "metadata": {},
     "output_type": "execute_result"
    }
   ],
   "source": [
    " series_wine_new.diff(periods=-1).head()"
   ]
  },
  {
   "cell_type": "markdown",
   "id": "e1c794d6",
   "metadata": {},
   "source": [
    "## series iteration"
   ]
  },
  {
   "cell_type": "code",
   "execution_count": 177,
   "id": "605cc30f",
   "metadata": {},
   "outputs": [],
   "source": [
    "mini_alc = series_wine_new[:10]"
   ]
  },
  {
   "cell_type": "code",
   "execution_count": 178,
   "id": "c869bc64",
   "metadata": {},
   "outputs": [
    {
     "data": {
      "text/plain": [
       "country\n",
       "Afghanistan            NaN\n",
       "Albania               54.0\n",
       "Algeria               14.0\n",
       "Andorra              312.0\n",
       "Angola                45.0\n",
       "Antigua & Barbuda     45.0\n",
       "Argentina            221.0\n",
       "Armenia               11.0\n",
       "Australia            212.0\n",
       "Austria              191.0\n",
       "Name: wine_servings, dtype: float64"
      ]
     },
     "execution_count": 178,
     "metadata": {},
     "output_type": "execute_result"
    }
   ],
   "source": [
    "mini_alc"
   ]
  },
  {
   "cell_type": "code",
   "execution_count": 179,
   "id": "5e08445e",
   "metadata": {},
   "outputs": [
    {
     "name": "stdout",
     "output_type": "stream",
     "text": [
      "nan\n",
      "54.0\n",
      "14.0\n",
      "312.0\n",
      "45.0\n",
      "45.0\n",
      "221.0\n",
      "11.0\n",
      "212.0\n",
      "191.0\n"
     ]
    }
   ],
   "source": [
    "for i in mini_alc:\n",
    "    print(i)"
   ]
  },
  {
   "cell_type": "code",
   "execution_count": 182,
   "id": "3abea168",
   "metadata": {},
   "outputs": [
    {
     "name": "stdout",
     "output_type": "stream",
     "text": [
      "Afghanistan\n",
      "Albania\n",
      "Algeria\n",
      "Andorra\n",
      "Angola\n",
      "Antigua & Barbuda\n",
      "Argentina\n",
      "Armenia\n",
      "Australia\n",
      "Austria\n"
     ]
    }
   ],
   "source": [
    "for i in mini_alc.index:\n",
    "    print(i)"
   ]
  },
  {
   "cell_type": "code",
   "execution_count": 184,
   "id": "a959e1a3",
   "metadata": {},
   "outputs": [
    {
     "name": "stdout",
     "output_type": "stream",
     "text": [
      "Afghanistan nan\n",
      "Albania 54.0\n",
      "Algeria 14.0\n",
      "Andorra 312.0\n",
      "Angola 45.0\n",
      "Antigua & Barbuda 45.0\n",
      "Argentina 221.0\n",
      "Armenia 11.0\n",
      "Australia 212.0\n",
      "Austria 191.0\n"
     ]
    }
   ],
   "source": [
    "for k,v in mini_alc.items():\n",
    "    print(k,v)"
   ]
  },
  {
   "cell_type": "code",
   "execution_count": 188,
   "id": "770f5af5",
   "metadata": {},
   "outputs": [
    {
     "name": "stdout",
     "output_type": "stream",
     "text": [
      "Afghanistan nan\n",
      "Albania 54.0\n",
      "Algeria 14.0\n",
      "Andorra 312.0\n",
      "Angola 45.0\n",
      "Antigua & Barbuda 45.0\n",
      "Argentina 221.0\n",
      "Armenia 11.0\n",
      "Australia 212.0\n",
      "Austria 191.0\n"
     ]
    }
   ],
   "source": [
    "for i in mini_alc.index:\n",
    "    print(i,mini_alc[i])"
   ]
  },
  {
   "cell_type": "code",
   "execution_count": 191,
   "id": "4c642178",
   "metadata": {},
   "outputs": [
    {
     "name": "stdout",
     "output_type": "stream",
     "text": [
      "('Afghanistan', nan)\n",
      "('Albania', 54.0)\n",
      "('Algeria', 14.0)\n",
      "('Andorra', 312.0)\n",
      "('Angola', 45.0)\n",
      "('Antigua & Barbuda', 45.0)\n",
      "('Argentina', 221.0)\n",
      "('Armenia', 11.0)\n",
      "('Australia', 212.0)\n",
      "('Austria', 191.0)\n"
     ]
    }
   ],
   "source": [
    "for i in mini_alc.items(): # uses zip behind the scene / lazily evaluated\n",
    "    print(i)"
   ]
  },
  {
   "cell_type": "markdown",
   "id": "fabb0a7e",
   "metadata": {},
   "source": [
    "## Filtering"
   ]
  },
  {
   "cell_type": "code",
   "execution_count": 192,
   "id": "f5211e2e",
   "metadata": {},
   "outputs": [],
   "source": [
    "# filter(), where(), mask()"
   ]
  },
  {
   "cell_type": "code",
   "execution_count": 198,
   "id": "055292ef",
   "metadata": {},
   "outputs": [
    {
     "data": {
      "text/plain": [
       "country\n",
       "Vanuatu      11.0\n",
       "Venezuela     3.0\n",
       "Vietnam       1.0\n",
       "Name: wine_servings, dtype: float64"
      ]
     },
     "execution_count": 198,
     "metadata": {},
     "output_type": "execute_result"
    }
   ],
   "source": [
    "series_wine_new.filter(regex='^V')"
   ]
  },
  {
   "cell_type": "code",
   "execution_count": 200,
   "id": "59eda4ec",
   "metadata": {},
   "outputs": [
    {
     "data": {
      "text/plain": [
       "country\n",
       "Afghanistan      NaN\n",
       "Kazakhstan      12.0\n",
       "Kyrgyzstan       6.0\n",
       "Pakistan         NaN\n",
       "Tajikistan       NaN\n",
       "Turkmenistan    32.0\n",
       "Uzbekistan       8.0\n",
       "Name: wine_servings, dtype: float64"
      ]
     },
     "execution_count": 200,
     "metadata": {},
     "output_type": "execute_result"
    }
   ],
   "source": [
    "series_wine_new.filter(like='stan') # applied to the index"
   ]
  },
  {
   "cell_type": "code",
   "execution_count": 201,
   "id": "98b712e1",
   "metadata": {},
   "outputs": [],
   "source": [
    "# filter by value"
   ]
  },
  {
   "cell_type": "code",
   "execution_count": 202,
   "id": "74ce50e2",
   "metadata": {},
   "outputs": [
    {
     "data": {
      "text/plain": [
       "country\n",
       "Afghanistan      NaN\n",
       "Albania         54.0\n",
       "Algeria         14.0\n",
       "Andorra        312.0\n",
       "Angola          45.0\n",
       "               ...  \n",
       "Venezuela        3.0\n",
       "Vietnam          1.0\n",
       "Yemen            NaN\n",
       "Zambia           4.0\n",
       "Zimbabwe         4.0\n",
       "Name: wine_servings, Length: 193, dtype: float64"
      ]
     },
     "execution_count": 202,
     "metadata": {},
     "output_type": "execute_result"
    }
   ],
   "source": [
    "series_wine_new"
   ]
  },
  {
   "cell_type": "code",
   "execution_count": 203,
   "id": "4aa3f73f",
   "metadata": {},
   "outputs": [],
   "source": [
    "def gt200(x):\n",
    "    return x>200"
   ]
  },
  {
   "cell_type": "code",
   "execution_count": 205,
   "id": "742b26fc",
   "metadata": {},
   "outputs": [
    {
     "data": {
      "text/plain": [
       "country\n",
       "Andorra              312.0\n",
       "Argentina            221.0\n",
       "Australia            212.0\n",
       "Belgium              212.0\n",
       "Croatia              254.0\n",
       "Denmark              278.0\n",
       "Equatorial Guinea    233.0\n",
       "Greece               218.0\n",
       "Italy                237.0\n",
       "Luxembourg           271.0\n",
       "Portugal             339.0\n",
       "Slovenia             276.0\n",
       "Name: wine_servings, dtype: float64"
      ]
     },
     "execution_count": 205,
     "metadata": {},
     "output_type": "execute_result"
    }
   ],
   "source": [
    "series_wine_new[gt200]"
   ]
  },
  {
   "cell_type": "code",
   "execution_count": 211,
   "id": "5942cce2",
   "metadata": {},
   "outputs": [
    {
     "data": {
      "text/plain": [
       "country\n",
       "Andorra              312.0\n",
       "Argentina            221.0\n",
       "Australia            212.0\n",
       "Belgium              212.0\n",
       "Croatia              254.0\n",
       "Denmark              278.0\n",
       "Equatorial Guinea    233.0\n",
       "Greece               218.0\n",
       "Italy                237.0\n",
       "Luxembourg           271.0\n",
       "Portugal             339.0\n",
       "Slovenia             276.0\n",
       "Name: wine_servings, dtype: float64"
      ]
     },
     "execution_count": 211,
     "metadata": {},
     "output_type": "execute_result"
    }
   ],
   "source": [
    "series_wine_new[series_wine_new>200]\n",
    "    \n",
    "# square bracket indexing with callable"
   ]
  },
  {
   "cell_type": "code",
   "execution_count": 208,
   "id": "d6c2bd84",
   "metadata": {},
   "outputs": [
    {
     "data": {
      "text/plain": [
       "country\n",
       "Afghanistan    too small\n",
       "Albania        too small\n",
       "Algeria        too small\n",
       "Andorra            312.0\n",
       "Angola         too small\n",
       "                 ...    \n",
       "Venezuela      too small\n",
       "Vietnam        too small\n",
       "Yemen          too small\n",
       "Zambia         too small\n",
       "Zimbabwe       too small\n",
       "Name: wine_servings, Length: 193, dtype: object"
      ]
     },
     "execution_count": 208,
     "metadata": {},
     "output_type": "execute_result"
    }
   ],
   "source": [
    "series_wine_new.where(lambda x:x>200, other='too small')\n",
    "# if value is false, replaced with too small"
   ]
  },
  {
   "cell_type": "code",
   "execution_count": 209,
   "id": "0871236f",
   "metadata": {},
   "outputs": [
    {
     "data": {
      "text/plain": [
       "country\n",
       "Afghanistan      NaN\n",
       "Albania          NaN\n",
       "Algeria          NaN\n",
       "Andorra        312.0\n",
       "Angola           NaN\n",
       "               ...  \n",
       "Venezuela        NaN\n",
       "Vietnam          NaN\n",
       "Yemen            NaN\n",
       "Zambia           NaN\n",
       "Zimbabwe         NaN\n",
       "Name: wine_servings, Length: 193, dtype: float64"
      ]
     },
     "execution_count": 209,
     "metadata": {},
     "output_type": "execute_result"
    }
   ],
   "source": [
    "series_wine_new.where(lambda x:x>200)\n"
   ]
  },
  {
   "cell_type": "code",
   "execution_count": 212,
   "id": "82260e88",
   "metadata": {},
   "outputs": [
    {
     "data": {
      "text/plain": [
       "country\n",
       "Andorra              312.0\n",
       "Argentina            221.0\n",
       "Australia            212.0\n",
       "Belgium              212.0\n",
       "Croatia              254.0\n",
       "Denmark              278.0\n",
       "Equatorial Guinea    233.0\n",
       "Greece               218.0\n",
       "Italy                237.0\n",
       "Luxembourg           271.0\n",
       "Portugal             339.0\n",
       "Slovenia             276.0\n",
       "Name: wine_servings, dtype: float64"
      ]
     },
     "execution_count": 212,
     "metadata": {},
     "output_type": "execute_result"
    }
   ],
   "source": [
    "series_wine_new.where(lambda x:x>200).dropna()\n",
    "# combination of where with dropna"
   ]
  },
  {
   "cell_type": "code",
   "execution_count": 213,
   "id": "d9f901ef",
   "metadata": {},
   "outputs": [
    {
     "data": {
      "text/plain": [
       "country\n",
       "Albania              54.0\n",
       "Algeria              14.0\n",
       "Angola               45.0\n",
       "Antigua & Barbuda    45.0\n",
       "Armenia              11.0\n",
       "                     ... \n",
       "Vanuatu              11.0\n",
       "Venezuela             3.0\n",
       "Vietnam               1.0\n",
       "Zambia                4.0\n",
       "Zimbabwe              4.0\n",
       "Name: wine_servings, Length: 150, dtype: float64"
      ]
     },
     "execution_count": 213,
     "metadata": {},
     "output_type": "execute_result"
    }
   ],
   "source": [
    "series_wine_new.where(lambda x:x<=200).dropna()\n"
   ]
  },
  {
   "cell_type": "code",
   "execution_count": 215,
   "id": "7ccf53fe",
   "metadata": {},
   "outputs": [],
   "source": [
    "# mask() method,, replacement method, just opposite of where\n",
    "# replaces where the condition is true"
   ]
  },
  {
   "cell_type": "code",
   "execution_count": 216,
   "id": "c5085550",
   "metadata": {},
   "outputs": [
    {
     "data": {
      "text/plain": [
       "country\n",
       "Albania              54.0\n",
       "Algeria              14.0\n",
       "Angola               45.0\n",
       "Antigua & Barbuda    45.0\n",
       "Armenia              11.0\n",
       "                     ... \n",
       "Vanuatu              11.0\n",
       "Venezuela             3.0\n",
       "Vietnam               1.0\n",
       "Zambia                4.0\n",
       "Zimbabwe              4.0\n",
       "Name: wine_servings, Length: 150, dtype: float64"
      ]
     },
     "execution_count": 216,
     "metadata": {},
     "output_type": "execute_result"
    }
   ],
   "source": [
    "series_wine_new.mask(lambda x: x>200).dropna()"
   ]
  },
  {
   "cell_type": "markdown",
   "id": "e9d20823",
   "metadata": {},
   "source": [
    "## Transforming with update(), apply() and map()"
   ]
  },
  {
   "cell_type": "code",
   "execution_count": 226,
   "id": "7487c4cf",
   "metadata": {},
   "outputs": [],
   "source": [
    "# spot vs global transform"
   ]
  },
  {
   "cell_type": "code",
   "execution_count": 218,
   "id": "9231ff0e",
   "metadata": {},
   "outputs": [
    {
     "data": {
      "text/plain": [
       "14.0"
      ]
     },
     "execution_count": 218,
     "metadata": {},
     "output_type": "execute_result"
    }
   ],
   "source": [
    "series_wine_new.loc['Algeria']"
   ]
  },
  {
   "cell_type": "code",
   "execution_count": 219,
   "id": "8c809948",
   "metadata": {},
   "outputs": [],
   "source": [
    "series_wine_new.loc['Algeria']=20"
   ]
  },
  {
   "cell_type": "code",
   "execution_count": 220,
   "id": "5a2f570e",
   "metadata": {},
   "outputs": [
    {
     "data": {
      "text/plain": [
       "20.0"
      ]
     },
     "execution_count": 220,
     "metadata": {},
     "output_type": "execute_result"
    }
   ],
   "source": [
    "series_wine_new.loc['Algeria']"
   ]
  },
  {
   "cell_type": "code",
   "execution_count": 221,
   "id": "3ad01568",
   "metadata": {},
   "outputs": [
    {
     "data": {
      "text/plain": [
       "country\n",
       "Afghanistan      NaN\n",
       "Albania         54.0\n",
       "Algeria         20.0\n",
       "Andorra        312.0\n",
       "Angola          45.0\n",
       "Name: wine_servings, dtype: float64"
      ]
     },
     "execution_count": 221,
     "metadata": {},
     "output_type": "execute_result"
    }
   ],
   "source": [
    "series_wine_new.head()"
   ]
  },
  {
   "cell_type": "code",
   "execution_count": 246,
   "id": "1ed4275c",
   "metadata": {},
   "outputs": [],
   "source": [
    "series_wine_new.update(pd.Series(data=[200,20],index=['Albania','Algeria']))\n",
    "\n",
    "# modifies series values in place using another series\n",
    "\n",
    "# ser.update(other_series)"
   ]
  },
  {
   "cell_type": "code",
   "execution_count": 225,
   "id": "49f08f77",
   "metadata": {},
   "outputs": [
    {
     "data": {
      "text/plain": [
       "country\n",
       "Afghanistan      NaN\n",
       "Albania        200.0\n",
       "Algeria         20.0\n",
       "Andorra        312.0\n",
       "Angola          45.0\n",
       "               ...  \n",
       "Venezuela        3.0\n",
       "Vietnam          1.0\n",
       "Yemen            NaN\n",
       "Zambia           4.0\n",
       "Zimbabwe         4.0\n",
       "Name: wine_servings, Length: 193, dtype: float64"
      ]
     },
     "execution_count": 225,
     "metadata": {},
     "output_type": "execute_result"
    }
   ],
   "source": [
    "series_wine_new"
   ]
  },
  {
   "cell_type": "code",
   "execution_count": 248,
   "id": "2a434b1c",
   "metadata": {},
   "outputs": [
    {
     "name": "stdout",
     "output_type": "stream",
     "text": [
      "CPU times: user 742 µs, sys: 0 ns, total: 742 µs\n",
      "Wall time: 699 µs\n"
     ]
    },
    {
     "data": {
      "text/plain": [
       "country\n",
       "Afghanistan        NaN\n",
       "Albania        40000.0\n",
       "Algeria          400.0\n",
       "Andorra        97344.0\n",
       "Angola          2025.0\n",
       "                ...   \n",
       "Venezuela          9.0\n",
       "Vietnam            1.0\n",
       "Yemen              NaN\n",
       "Zambia            16.0\n",
       "Zimbabwe          16.0\n",
       "Name: wine_servings, Length: 193, dtype: float64"
      ]
     },
     "execution_count": 248,
     "metadata": {},
     "output_type": "execute_result"
    }
   ],
   "source": [
    "%%time\n",
    "series_wine_new.apply(lambda x: x**2)\n",
    "\n",
    "# applies function on each series values\n",
    "# ser.apply(np.sqrt)"
   ]
  },
  {
   "cell_type": "code",
   "execution_count": 230,
   "id": "d43dc332",
   "metadata": {},
   "outputs": [
    {
     "name": "stdout",
     "output_type": "stream",
     "text": [
      "CPU times: user 269 µs, sys: 55 µs, total: 324 µs\n",
      "Wall time: 331 µs\n"
     ]
    },
    {
     "data": {
      "text/plain": [
       "country\n",
       "Afghanistan        NaN\n",
       "Albania        40000.0\n",
       "Algeria          400.0\n",
       "Andorra        97344.0\n",
       "Angola          2025.0\n",
       "                ...   \n",
       "Venezuela          9.0\n",
       "Vietnam            1.0\n",
       "Yemen              NaN\n",
       "Zambia            16.0\n",
       "Zimbabwe          16.0\n",
       "Name: wine_servings, Length: 193, dtype: float64"
      ]
     },
     "execution_count": 230,
     "metadata": {},
     "output_type": "execute_result"
    }
   ],
   "source": [
    "%%time\n",
    "series_wine_new.apply(np.square)"
   ]
  },
  {
   "cell_type": "code",
   "execution_count": 235,
   "id": "106e9db8",
   "metadata": {},
   "outputs": [],
   "source": [
    "def mutiply_by_self(x):\n",
    "    return x*x"
   ]
  },
  {
   "cell_type": "code",
   "execution_count": 236,
   "id": "f2a17446",
   "metadata": {},
   "outputs": [
    {
     "data": {
      "text/plain": [
       "country\n",
       "Afghanistan        NaN\n",
       "Albania        40000.0\n",
       "Algeria          400.0\n",
       "Andorra        97344.0\n",
       "Angola          2025.0\n",
       "                ...   \n",
       "Venezuela          9.0\n",
       "Vietnam            1.0\n",
       "Yemen              NaN\n",
       "Zambia            16.0\n",
       "Zimbabwe          16.0\n",
       "Name: wine_servings, Length: 193, dtype: float64"
      ]
     },
     "execution_count": 236,
     "metadata": {},
     "output_type": "execute_result"
    }
   ],
   "source": [
    "series_wine_new.apply(mutiply_by_self)"
   ]
  },
  {
   "cell_type": "code",
   "execution_count": 238,
   "id": "9b9d7171",
   "metadata": {},
   "outputs": [],
   "source": [
    "def multiply_by_self_with_min(x,min_servings):\n",
    "    if x<min_servings:\n",
    "        return x**2\n",
    "    return x"
   ]
  },
  {
   "cell_type": "code",
   "execution_count": 240,
   "id": "99dd86d0",
   "metadata": {},
   "outputs": [
    {
     "data": {
      "text/plain": [
       "country\n",
       "Afghanistan       NaN\n",
       "Albania         200.0\n",
       "Algeria         400.0\n",
       "Andorra         312.0\n",
       "Angola         2025.0\n",
       "                ...  \n",
       "Venezuela         9.0\n",
       "Vietnam           1.0\n",
       "Yemen             NaN\n",
       "Zambia           16.0\n",
       "Zimbabwe         16.0\n",
       "Name: wine_servings, Length: 193, dtype: float64"
      ]
     },
     "execution_count": 240,
     "metadata": {},
     "output_type": "execute_result"
    }
   ],
   "source": [
    "series_wine_new.apply(multiply_by_self_with_min, args=(200,)) # using positional argumnet"
   ]
  },
  {
   "cell_type": "code",
   "execution_count": 250,
   "id": "10923aae",
   "metadata": {},
   "outputs": [
    {
     "data": {
      "text/plain": [
       "country\n",
       "Afghanistan       NaN\n",
       "Albania         200.0\n",
       "Algeria         400.0\n",
       "Andorra         312.0\n",
       "Angola         2025.0\n",
       "                ...  \n",
       "Venezuela         9.0\n",
       "Vietnam           1.0\n",
       "Yemen             NaN\n",
       "Zambia           16.0\n",
       "Zimbabwe         16.0\n",
       "Name: wine_servings, Length: 193, dtype: float64"
      ]
     },
     "execution_count": 250,
     "metadata": {},
     "output_type": "execute_result"
    }
   ],
   "source": [
    "# using keywords arguments\n",
    "\n",
    "\n",
    "series_wine_new.apply(multiply_by_self_with_min, min_servings=200)\n",
    "\n",
    "\n",
    "# if the transformation is specific stick with apply (most flexible)"
   ]
  },
  {
   "cell_type": "code",
   "execution_count": 252,
   "id": "32a8e802",
   "metadata": {},
   "outputs": [
    {
     "data": {
      "text/plain": [
       "country\n",
       "Afghanistan        NaN\n",
       "Albania        40000.0\n",
       "Algeria          400.0\n",
       "Andorra        97344.0\n",
       "Angola          2025.0\n",
       "                ...   \n",
       "Venezuela          9.0\n",
       "Vietnam            1.0\n",
       "Yemen              NaN\n",
       "Zambia            16.0\n",
       "Zimbabwe          16.0\n",
       "Name: wine_servings, Length: 193, dtype: float64"
      ]
     },
     "execution_count": 252,
     "metadata": {},
     "output_type": "execute_result"
    }
   ],
   "source": [
    "series_wine_new.map(mutiply_by_self)\n",
    "\n",
    "# subs series values with other from a function, series, or dict\n",
    "\n",
    "# ser.map({'old_value':'new_value'})\n",
    "# flexible in terms of input as it accept different types of input"
   ]
  },
  {
   "cell_type": "code",
   "execution_count": 251,
   "id": "4d1b8094",
   "metadata": {},
   "outputs": [],
   "source": [
    "# series_wine_new.map(multiply_by_self_with_min, min_servings=200)"
   ]
  },
  {
   "cell_type": "code",
   "execution_count": 258,
   "id": "089c9e2e",
   "metadata": {},
   "outputs": [],
   "source": [
    "beer = pd.read_csv('datasets/drinks.csv',usecols=['country','beer_servings'],index_col='country',squeeze=True)"
   ]
  },
  {
   "cell_type": "code",
   "execution_count": 259,
   "id": "68000bd4",
   "metadata": {},
   "outputs": [
    {
     "data": {
      "text/plain": [
       "count    178.000000\n",
       "mean     102.870787\n",
       "std      100.645713\n",
       "min        1.000000\n",
       "25%       21.000000\n",
       "50%       60.000000\n",
       "75%      172.500000\n",
       "max      376.000000\n",
       "Name: beer_servings, dtype: float64"
      ]
     },
     "execution_count": 259,
     "metadata": {},
     "output_type": "execute_result"
    }
   ],
   "source": [
    "beer.describe()"
   ]
  },
  {
   "cell_type": "code",
   "execution_count": 264,
   "id": "dc247e95",
   "metadata": {},
   "outputs": [],
   "source": [
    "#right-skewed/ right-tail (med<mean)"
   ]
  },
  {
   "cell_type": "code",
   "execution_count": 261,
   "id": "e23b9d51",
   "metadata": {},
   "outputs": [
    {
     "data": {
      "text/plain": [
       "country\n",
       "Afghanistan            NaN\n",
       "Albania               89.0\n",
       "Algeria               25.0\n",
       "Andorra              245.0\n",
       "Angola               217.0\n",
       "Antigua & Barbuda     12.0\n",
       "Argentina            193.0\n",
       "Armenia               21.0\n",
       "Australia            261.0\n",
       "Austria              279.0\n",
       "Name: beer_servings, dtype: float64"
      ]
     },
     "execution_count": 261,
     "metadata": {},
     "output_type": "execute_result"
    }
   ],
   "source": [
    "beer.head(10)"
   ]
  },
  {
   "cell_type": "code",
   "execution_count": 266,
   "id": "6a936b73",
   "metadata": {},
   "outputs": [
    {
     "data": {
      "text/plain": [
       "149.11111111111111"
      ]
     },
     "execution_count": 266,
     "metadata": {},
     "output_type": "execute_result"
    }
   ],
   "source": [
    "beer.head(10).mean() # higher than overall mean"
   ]
  },
  {
   "cell_type": "code",
   "execution_count": 262,
   "id": "a6526fa8",
   "metadata": {},
   "outputs": [
    {
     "data": {
      "text/plain": [
       "<AxesSubplot:>"
      ]
     },
     "execution_count": 262,
     "metadata": {},
     "output_type": "execute_result"
    },
    {
     "data": {
      "image/png": "[encoded data removed]",
      "text/plain": [
       "<Figure size 432x288 with 1 Axes>"
      ]
     },
     "metadata": {
      "needs_background": "light"
     },
     "output_type": "display_data"
    }
   ],
   "source": [
    "beer.hist()"
   ]
  },
  {
   "cell_type": "code",
   "execution_count": 269,
   "id": "e04477a5",
   "metadata": {},
   "outputs": [
    {
     "data": {
      "text/plain": [
       "country\n",
       "Afghanistan          high\n",
       "Albania               low\n",
       "Algeria               low\n",
       "Andorra              high\n",
       "Angola               high\n",
       "Antigua & Barbuda     low\n",
       "Argentina            high\n",
       "Armenia               low\n",
       "Australia            high\n",
       "Austria              high\n",
       "Name: beer_servings, dtype: object"
      ]
     },
     "execution_count": 269,
     "metadata": {},
     "output_type": "execute_result"
    }
   ],
   "source": [
    "(beer[:10]-beer.mean()).apply(lambda x: 'low' if x<0 else 'high')"
   ]
  },
  {
   "cell_type": "code",
   "execution_count": 271,
   "id": "5928a8dd",
   "metadata": {},
   "outputs": [
    {
     "data": {
      "text/plain": [
       "high    6\n",
       "low     4\n",
       "Name: beer_servings, dtype: int64"
      ]
     },
     "execution_count": 271,
     "metadata": {},
     "output_type": "execute_result"
    }
   ],
   "source": [
    "((beer[:10]-beer.mean()).apply(lambda x: 'low' if x<0 else 'high')).value_counts()"
   ]
  },
  {
   "cell_type": "code",
   "execution_count": 272,
   "id": "a27080d3",
   "metadata": {},
   "outputs": [
    {
     "data": {
      "text/plain": [
       "low     112\n",
       "high     81\n",
       "Name: beer_servings, dtype: int64"
      ]
     },
     "execution_count": 272,
     "metadata": {},
     "output_type": "execute_result"
    }
   ],
   "source": [
    "((beer-beer.mean()).apply(lambda x: 'low' if x<0 else 'high')).value_counts()"
   ]
  },
  {
   "cell_type": "markdown",
   "id": "4f0cc8e0",
   "metadata": {},
   "source": [
    "## Z-Score"
   ]
  },
  {
   "cell_type": "code",
   "execution_count": 273,
   "id": "d09ef6b4",
   "metadata": {},
   "outputs": [
    {
     "data": {
      "text/plain": [
       "country\n",
       "Afghanistan         NaN\n",
       "Albania       -0.137818\n",
       "Algeria       -0.773712\n",
       "Andorra        1.412174\n",
       "Angola         1.133970\n",
       "                 ...   \n",
       "Venezuela      2.286528\n",
       "Vietnam        0.080771\n",
       "Yemen         -0.962493\n",
       "Zambia        -0.704161\n",
       "Zimbabwe      -0.386214\n",
       "Name: beer_servings, Length: 193, dtype: float64"
      ]
     },
     "execution_count": 273,
     "metadata": {},
     "output_type": "execute_result"
    }
   ],
   "source": [
    "z_score = (beer-beer.mean())/beer.std()\n",
    "z_score"
   ]
  },
  {
   "cell_type": "code",
   "execution_count": 293,
   "id": "dc859729",
   "metadata": {},
   "outputs": [],
   "source": [
    "# largest abs z-score\n",
    "\n",
    "# np.abs(z_score).argmax()"
   ]
  },
  {
   "cell_type": "code",
   "execution_count": 287,
   "id": "1597ab4e",
   "metadata": {},
   "outputs": [
    {
     "data": {
      "text/plain": [
       "2.7137689844109123"
      ]
     },
     "execution_count": 287,
     "metadata": {},
     "output_type": "execute_result"
    }
   ],
   "source": [
    "np.abs(z_score).max()"
   ]
  },
  {
   "cell_type": "code",
   "execution_count": 282,
   "id": "aa68a66e",
   "metadata": {},
   "outputs": [
    {
     "data": {
      "text/plain": [
       "-1.012172141315241"
      ]
     },
     "execution_count": 282,
     "metadata": {},
     "output_type": "execute_result"
    }
   ],
   "source": [
    "z_score.min()"
   ]
  },
  {
   "cell_type": "code",
   "execution_count": 283,
   "id": "10b9b579",
   "metadata": {},
   "outputs": [
    {
     "data": {
      "text/plain": [
       "2.7137689844109123"
      ]
     },
     "execution_count": 283,
     "metadata": {},
     "output_type": "execute_result"
    }
   ],
   "source": [
    "z_score.max()"
   ]
  },
  {
   "cell_type": "code",
   "execution_count": 286,
   "id": "cdaedfa1",
   "metadata": {},
   "outputs": [
    {
     "data": {
      "text/plain": [
       "2.7137689844109123"
      ]
     },
     "execution_count": 286,
     "metadata": {},
     "output_type": "execute_result"
    }
   ],
   "source": [
    "z_score.abs().max()"
   ]
  },
  {
   "cell_type": "code",
   "execution_count": 290,
   "id": "4f4b1cba",
   "metadata": {},
   "outputs": [
    {
     "data": {
      "text/plain": [
       "'Namibia'"
      ]
     },
     "execution_count": 290,
     "metadata": {},
     "output_type": "execute_result"
    }
   ],
   "source": [
    "beer.idxmax()"
   ]
  },
  {
   "cell_type": "code",
   "execution_count": 291,
   "id": "1b480094",
   "metadata": {},
   "outputs": [
    {
     "data": {
      "text/plain": [
       "376.0"
      ]
     },
     "execution_count": 291,
     "metadata": {},
     "output_type": "execute_result"
    }
   ],
   "source": [
    "beer[beer.idxmax()]"
   ]
  },
  {
   "cell_type": "code",
   "execution_count": 294,
   "id": "5f93470c",
   "metadata": {},
   "outputs": [
    {
     "data": {
      "text/plain": [
       "376.0"
      ]
     },
     "execution_count": 294,
     "metadata": {},
     "output_type": "execute_result"
    }
   ],
   "source": [
    "z_score.max()*beer.std()+beer.mean()"
   ]
  },
  {
   "cell_type": "code",
   "execution_count": null,
   "id": "d943f954",
   "metadata": {},
   "outputs": [],
   "source": []
  }
 ],
 "metadata": {
  "kernelspec": {
   "display_name": "Python 3",
   "language": "python",
   "name": "python3"
  },
  "language_info": {
   "codemirror_mode": {
    "name": "ipython",
    "version": 3
   },
   "file_extension": ".py",
   "mimetype": "text/x-python",
   "name": "python",
   "nbconvert_exporter": "python",
   "pygments_lexer": "ipython3",
   "version": "3.7.10"
  }
 },
 "nbformat": 4,
 "nbformat_minor": 5
}
