{
 "cells": [
  {
   "cell_type": "code",
   "execution_count": 1,
   "id": "f51297bd",
   "metadata": {},
   "outputs": [],
   "source": [
    "import pandas as pd\n",
    "import numpy as np"
   ]
  },
  {
   "cell_type": "markdown",
   "id": "79419047",
   "metadata": {},
   "source": [
    "### Reading JSON"
   ]
  },
  {
   "cell_type": "code",
   "execution_count": 4,
   "id": "77efced2",
   "metadata": {},
   "outputs": [],
   "source": [
    "folks = pd.read_json('datasets/folks.json')"
   ]
  },
  {
   "cell_type": "code",
   "execution_count": 5,
   "id": "13b6a680",
   "metadata": {},
   "outputs": [
    {
     "data": {
      "text/html": [
       "<div>\n",
       "<style scoped>\n",
       "    .dataframe tbody tr th:only-of-type {\n",
       "        vertical-align: middle;\n",
       "    }\n",
       "\n",
       "    .dataframe tbody tr th {\n",
       "        vertical-align: top;\n",
       "    }\n",
       "\n",
       "    .dataframe thead th {\n",
       "        text-align: right;\n",
       "    }\n",
       "</style>\n",
       "<table border=\"1\" class=\"dataframe\">\n",
       "  <thead>\n",
       "    <tr style=\"text-align: right;\">\n",
       "      <th></th>\n",
       "      <th>name</th>\n",
       "      <th>salary</th>\n",
       "      <th>occupation</th>\n",
       "    </tr>\n",
       "  </thead>\n",
       "  <tbody>\n",
       "    <tr>\n",
       "      <th>0</th>\n",
       "      <td>Brian Dogood</td>\n",
       "      <td>64000</td>\n",
       "      <td>Software Technician</td>\n",
       "    </tr>\n",
       "    <tr>\n",
       "      <th>1</th>\n",
       "      <td>Leah Bokeh</td>\n",
       "      <td>73200</td>\n",
       "      <td>Data Scientist</td>\n",
       "    </tr>\n",
       "    <tr>\n",
       "      <th>2</th>\n",
       "      <td>Mark Prescott</td>\n",
       "      <td>76400</td>\n",
       "      <td>Business Consultant</td>\n",
       "    </tr>\n",
       "    <tr>\n",
       "      <th>3</th>\n",
       "      <td>Jurgen Gupta</td>\n",
       "      <td>94300</td>\n",
       "      <td>Aerospace Engineer</td>\n",
       "    </tr>\n",
       "  </tbody>\n",
       "</table>\n",
       "</div>"
      ],
      "text/plain": [
       "            name  salary           occupation\n",
       "0   Brian Dogood   64000  Software Technician\n",
       "1     Leah Bokeh   73200       Data Scientist\n",
       "2  Mark Prescott   76400  Business Consultant\n",
       "3   Jurgen Gupta   94300   Aerospace Engineer"
      ]
     },
     "execution_count": 5,
     "metadata": {},
     "output_type": "execute_result"
    }
   ],
   "source": [
    "folks.head()"
   ]
  },
  {
   "cell_type": "code",
   "execution_count": 6,
   "id": "6db183da",
   "metadata": {},
   "outputs": [
    {
     "data": {
      "text/plain": [
       "pandas.core.frame.DataFrame"
      ]
     },
     "execution_count": 6,
     "metadata": {},
     "output_type": "execute_result"
    }
   ],
   "source": [
    "type(folks)"
   ]
  },
  {
   "cell_type": "code",
   "execution_count": 7,
   "id": "856a1d35",
   "metadata": {},
   "outputs": [
    {
     "name": "stdout",
     "output_type": "stream",
     "text": [
      "<class 'pandas.core.frame.DataFrame'>\n",
      "RangeIndex: 4 entries, 0 to 3\n",
      "Data columns (total 3 columns):\n",
      " #   Column      Non-Null Count  Dtype \n",
      "---  ------      --------------  ----- \n",
      " 0   name        4 non-null      object\n",
      " 1   salary      4 non-null      int64 \n",
      " 2   occupation  4 non-null      object\n",
      "dtypes: int64(1), object(2)\n",
      "memory usage: 224.0+ bytes\n"
     ]
    }
   ],
   "source": [
    "folks.info()"
   ]
  },
  {
   "cell_type": "markdown",
   "id": "b9d7e5c9",
   "metadata": {},
   "source": [
    "### Reading HTML"
   ]
  },
  {
   "cell_type": "code",
   "execution_count": 8,
   "id": "9b81fbc8",
   "metadata": {},
   "outputs": [],
   "source": [
    "data_url = 'https://en.wikipedia.org/wiki/List_of_countries_and_dependencies_by_population'"
   ]
  },
  {
   "cell_type": "code",
   "execution_count": 9,
   "id": "97b297fe",
   "metadata": {},
   "outputs": [],
   "source": [
    "countries = pd.read_html(data_url)"
   ]
  },
  {
   "cell_type": "code",
   "execution_count": 12,
   "id": "6b85516b",
   "metadata": {},
   "outputs": [
    {
     "data": {
      "text/plain": [
       "list"
      ]
     },
     "execution_count": 12,
     "metadata": {},
     "output_type": "execute_result"
    }
   ],
   "source": [
    "type(countries)"
   ]
  },
  {
   "cell_type": "code",
   "execution_count": 13,
   "id": "47ccd10c",
   "metadata": {},
   "outputs": [
    {
     "data": {
      "text/plain": [
       "2"
      ]
     },
     "execution_count": 13,
     "metadata": {},
     "output_type": "execute_result"
    }
   ],
   "source": [
    "len(countries)"
   ]
  },
  {
   "cell_type": "code",
   "execution_count": 15,
   "id": "94df7fec",
   "metadata": {},
   "outputs": [
    {
     "data": {
      "text/html": [
       "<div>\n",
       "<style scoped>\n",
       "    .dataframe tbody tr th:only-of-type {\n",
       "        vertical-align: middle;\n",
       "    }\n",
       "\n",
       "    .dataframe tbody tr th {\n",
       "        vertical-align: top;\n",
       "    }\n",
       "\n",
       "    .dataframe thead th {\n",
       "        text-align: right;\n",
       "    }\n",
       "</style>\n",
       "<table border=\"1\" class=\"dataframe\">\n",
       "  <thead>\n",
       "    <tr style=\"text-align: right;\">\n",
       "      <th></th>\n",
       "      <th>Rank</th>\n",
       "      <th>Country / Dependency</th>\n",
       "      <th>UN Region</th>\n",
       "      <th>Population</th>\n",
       "      <th>Percentage of the world</th>\n",
       "      <th>Date</th>\n",
       "      <th>Source (official or from the United Nations)</th>\n",
       "      <th>Notes</th>\n",
       "    </tr>\n",
       "  </thead>\n",
       "  <tbody>\n",
       "    <tr>\n",
       "      <th>0</th>\n",
       "      <td>–</td>\n",
       "      <td>World</td>\n",
       "      <td>NaN</td>\n",
       "      <td>7964193000</td>\n",
       "      <td>100%</td>\n",
       "      <td>15 Jul 2022</td>\n",
       "      <td>UN projection[2]</td>\n",
       "      <td>NaN</td>\n",
       "    </tr>\n",
       "    <tr>\n",
       "      <th>1</th>\n",
       "      <td>1</td>\n",
       "      <td>China</td>\n",
       "      <td>Asia</td>\n",
       "      <td>1412600000</td>\n",
       "      <td>NaN</td>\n",
       "      <td>31 Dec 2021</td>\n",
       "      <td>National annual estimate[3]</td>\n",
       "      <td>The population figure refers to mainland China...</td>\n",
       "    </tr>\n",
       "    <tr>\n",
       "      <th>2</th>\n",
       "      <td>2</td>\n",
       "      <td>India</td>\n",
       "      <td>Asia</td>\n",
       "      <td>1373761000</td>\n",
       "      <td>NaN</td>\n",
       "      <td>1 Mar 2022</td>\n",
       "      <td>Annual national estimate[4]</td>\n",
       "      <td>The figure includes the population of Indian-a...</td>\n",
       "    </tr>\n",
       "    <tr>\n",
       "      <th>3</th>\n",
       "      <td>3</td>\n",
       "      <td>United States</td>\n",
       "      <td>Americas</td>\n",
       "      <td>332888089</td>\n",
       "      <td>NaN</td>\n",
       "      <td>15 Jul 2022</td>\n",
       "      <td>National population clock[5]</td>\n",
       "      <td>The figure includes the 50 states and the Dist...</td>\n",
       "    </tr>\n",
       "    <tr>\n",
       "      <th>4</th>\n",
       "      <td>4</td>\n",
       "      <td>Indonesia</td>\n",
       "      <td>Asia[b]</td>\n",
       "      <td>272248500</td>\n",
       "      <td>NaN</td>\n",
       "      <td>1 Jul 2021</td>\n",
       "      <td>National annual estimate[6]</td>\n",
       "      <td>NaN</td>\n",
       "    </tr>\n",
       "    <tr>\n",
       "      <th>...</th>\n",
       "      <td>...</td>\n",
       "      <td>...</td>\n",
       "      <td>...</td>\n",
       "      <td>...</td>\n",
       "      <td>...</td>\n",
       "      <td>...</td>\n",
       "      <td>...</td>\n",
       "      <td>...</td>\n",
       "    </tr>\n",
       "    <tr>\n",
       "      <th>237</th>\n",
       "      <td>–</td>\n",
       "      <td>Niue</td>\n",
       "      <td>Oceania</td>\n",
       "      <td>1549</td>\n",
       "      <td>NaN</td>\n",
       "      <td>1 Jul 2021</td>\n",
       "      <td>National annual projection[94]</td>\n",
       "      <td>NaN</td>\n",
       "    </tr>\n",
       "    <tr>\n",
       "      <th>238</th>\n",
       "      <td>–</td>\n",
       "      <td>Tokelau (New Zealand)</td>\n",
       "      <td>Oceania</td>\n",
       "      <td>1501</td>\n",
       "      <td>NaN</td>\n",
       "      <td>1 Jul 2021</td>\n",
       "      <td>National annual projection[94]</td>\n",
       "      <td>NaN</td>\n",
       "    </tr>\n",
       "    <tr>\n",
       "      <th>239</th>\n",
       "      <td>195</td>\n",
       "      <td>Vatican City</td>\n",
       "      <td>Europe</td>\n",
       "      <td>825</td>\n",
       "      <td>NaN</td>\n",
       "      <td>1 Feb 2019</td>\n",
       "      <td>Monthly national estimate[198]</td>\n",
       "      <td>The total population of 825 consisted of 453 r...</td>\n",
       "    </tr>\n",
       "    <tr>\n",
       "      <th>240</th>\n",
       "      <td>–</td>\n",
       "      <td>Cocos (Keeling) Islands (Australia)</td>\n",
       "      <td>Oceania</td>\n",
       "      <td>573</td>\n",
       "      <td>NaN</td>\n",
       "      <td>30 Jun 2020</td>\n",
       "      <td>National annual estimate[197]</td>\n",
       "      <td>NaN</td>\n",
       "    </tr>\n",
       "    <tr>\n",
       "      <th>241</th>\n",
       "      <td>–</td>\n",
       "      <td>Pitcairn Islands (United Kingdom)</td>\n",
       "      <td>Oceania</td>\n",
       "      <td>40</td>\n",
       "      <td>NaN</td>\n",
       "      <td>1 Jan 2021</td>\n",
       "      <td>National annual estimate[199]</td>\n",
       "      <td>NaN</td>\n",
       "    </tr>\n",
       "  </tbody>\n",
       "</table>\n",
       "<p>242 rows × 8 columns</p>\n",
       "</div>"
      ],
      "text/plain": [
       "    Rank                 Country / Dependency UN Region  Population  \\\n",
       "0      –                                World       NaN  7964193000   \n",
       "1      1                                China      Asia  1412600000   \n",
       "2      2                                India      Asia  1373761000   \n",
       "3      3                        United States  Americas   332888089   \n",
       "4      4                            Indonesia   Asia[b]   272248500   \n",
       "..   ...                                  ...       ...         ...   \n",
       "237    –                                 Niue   Oceania        1549   \n",
       "238    –                Tokelau (New Zealand)   Oceania        1501   \n",
       "239  195                         Vatican City    Europe         825   \n",
       "240    –  Cocos (Keeling) Islands (Australia)   Oceania         573   \n",
       "241    –    Pitcairn Islands (United Kingdom)   Oceania          40   \n",
       "\n",
       "    Percentage of the world         Date  \\\n",
       "0                      100%  15 Jul 2022   \n",
       "1                       NaN  31 Dec 2021   \n",
       "2                       NaN   1 Mar 2022   \n",
       "3                       NaN  15 Jul 2022   \n",
       "4                       NaN   1 Jul 2021   \n",
       "..                      ...          ...   \n",
       "237                     NaN   1 Jul 2021   \n",
       "238                     NaN   1 Jul 2021   \n",
       "239                     NaN   1 Feb 2019   \n",
       "240                     NaN  30 Jun 2020   \n",
       "241                     NaN   1 Jan 2021   \n",
       "\n",
       "    Source (official or from the United Nations)  \\\n",
       "0                               UN projection[2]   \n",
       "1                    National annual estimate[3]   \n",
       "2                    Annual national estimate[4]   \n",
       "3                   National population clock[5]   \n",
       "4                    National annual estimate[6]   \n",
       "..                                           ...   \n",
       "237               National annual projection[94]   \n",
       "238               National annual projection[94]   \n",
       "239               Monthly national estimate[198]   \n",
       "240                National annual estimate[197]   \n",
       "241                National annual estimate[199]   \n",
       "\n",
       "                                                 Notes  \n",
       "0                                                  NaN  \n",
       "1    The population figure refers to mainland China...  \n",
       "2    The figure includes the population of Indian-a...  \n",
       "3    The figure includes the 50 states and the Dist...  \n",
       "4                                                  NaN  \n",
       "..                                                 ...  \n",
       "237                                                NaN  \n",
       "238                                                NaN  \n",
       "239  The total population of 825 consisted of 453 r...  \n",
       "240                                                NaN  \n",
       "241                                                NaN  \n",
       "\n",
       "[242 rows x 8 columns]"
      ]
     },
     "execution_count": 15,
     "metadata": {},
     "output_type": "execute_result"
    }
   ],
   "source": [
    "countries[0]"
   ]
  },
  {
   "cell_type": "code",
   "execution_count": 17,
   "id": "5dc75d0f",
   "metadata": {},
   "outputs": [],
   "source": [
    "# countries[1]"
   ]
  },
  {
   "cell_type": "code",
   "execution_count": 25,
   "id": "f44fa682",
   "metadata": {},
   "outputs": [],
   "source": [
    "countries = countries[0].loc[:,['Country / Dependency','Population']]"
   ]
  },
  {
   "cell_type": "code",
   "execution_count": 28,
   "id": "8270fc3b",
   "metadata": {},
   "outputs": [],
   "source": [
    "countries = countries.rename({'Country / Dependency':'Country'},axis=1)[1:]"
   ]
  },
  {
   "cell_type": "code",
   "execution_count": 29,
   "id": "3c08b7e8",
   "metadata": {},
   "outputs": [
    {
     "data": {
      "text/html": [
       "<div>\n",
       "<style scoped>\n",
       "    .dataframe tbody tr th:only-of-type {\n",
       "        vertical-align: middle;\n",
       "    }\n",
       "\n",
       "    .dataframe tbody tr th {\n",
       "        vertical-align: top;\n",
       "    }\n",
       "\n",
       "    .dataframe thead th {\n",
       "        text-align: right;\n",
       "    }\n",
       "</style>\n",
       "<table border=\"1\" class=\"dataframe\">\n",
       "  <thead>\n",
       "    <tr style=\"text-align: right;\">\n",
       "      <th></th>\n",
       "      <th>Country</th>\n",
       "      <th>Population</th>\n",
       "    </tr>\n",
       "  </thead>\n",
       "  <tbody>\n",
       "    <tr>\n",
       "      <th>1</th>\n",
       "      <td>China</td>\n",
       "      <td>1412600000</td>\n",
       "    </tr>\n",
       "    <tr>\n",
       "      <th>2</th>\n",
       "      <td>India</td>\n",
       "      <td>1373761000</td>\n",
       "    </tr>\n",
       "    <tr>\n",
       "      <th>3</th>\n",
       "      <td>United States</td>\n",
       "      <td>332888089</td>\n",
       "    </tr>\n",
       "    <tr>\n",
       "      <th>4</th>\n",
       "      <td>Indonesia</td>\n",
       "      <td>272248500</td>\n",
       "    </tr>\n",
       "    <tr>\n",
       "      <th>5</th>\n",
       "      <td>Pakistan</td>\n",
       "      <td>229488994</td>\n",
       "    </tr>\n",
       "  </tbody>\n",
       "</table>\n",
       "</div>"
      ],
      "text/plain": [
       "         Country  Population\n",
       "1          China  1412600000\n",
       "2          India  1373761000\n",
       "3  United States   332888089\n",
       "4      Indonesia   272248500\n",
       "5       Pakistan   229488994"
      ]
     },
     "execution_count": 29,
     "metadata": {},
     "output_type": "execute_result"
    }
   ],
   "source": [
    "countries.head()"
   ]
  },
  {
   "cell_type": "code",
   "execution_count": 40,
   "id": "e3b302ec",
   "metadata": {},
   "outputs": [
    {
     "data": {
      "image/png": "[encoded data removed]",
      "text/plain": [
       "<Figure size 864x576 with 1 Axes>"
      ]
     },
     "metadata": {},
     "output_type": "display_data"
    }
   ],
   "source": [
    "import matplotlib.pyplot as plt\n",
    "plt.style.use('ggplot')\n",
    "countries.set_index('Country').squeeze().nlargest(10).plot(kind='bar',figsize=(12,8));"
   ]
  },
  {
   "cell_type": "markdown",
   "id": "70fc36a8",
   "metadata": {},
   "source": [
    "### Reading Excel"
   ]
  },
  {
   "cell_type": "code",
   "execution_count": 41,
   "id": "f2ac35b8",
   "metadata": {},
   "outputs": [],
   "source": [
    "# xls -----> binary format\n",
    "# xlsx ----> xml based, avalilabe in newer versions"
   ]
  },
  {
   "cell_type": "code",
   "execution_count": 49,
   "id": "03f251be",
   "metadata": {},
   "outputs": [],
   "source": [
    "folks = pd.read_excel('datasets/folks.xlsx',sheet_name='folks')"
   ]
  },
  {
   "cell_type": "code",
   "execution_count": 50,
   "id": "9dd3f746",
   "metadata": {},
   "outputs": [
    {
     "data": {
      "text/html": [
       "<div>\n",
       "<style scoped>\n",
       "    .dataframe tbody tr th:only-of-type {\n",
       "        vertical-align: middle;\n",
       "    }\n",
       "\n",
       "    .dataframe tbody tr th {\n",
       "        vertical-align: top;\n",
       "    }\n",
       "\n",
       "    .dataframe thead th {\n",
       "        text-align: right;\n",
       "    }\n",
       "</style>\n",
       "<table border=\"1\" class=\"dataframe\">\n",
       "  <thead>\n",
       "    <tr style=\"text-align: right;\">\n",
       "      <th></th>\n",
       "      <th>name</th>\n",
       "      <th>salary</th>\n",
       "      <th>occupation</th>\n",
       "    </tr>\n",
       "  </thead>\n",
       "  <tbody>\n",
       "    <tr>\n",
       "      <th>0</th>\n",
       "      <td>Brian Dogood</td>\n",
       "      <td>64000</td>\n",
       "      <td>Software Technician</td>\n",
       "    </tr>\n",
       "    <tr>\n",
       "      <th>1</th>\n",
       "      <td>Leah Bokeh</td>\n",
       "      <td>73200</td>\n",
       "      <td>Data Scientist</td>\n",
       "    </tr>\n",
       "    <tr>\n",
       "      <th>2</th>\n",
       "      <td>Mark Prescott</td>\n",
       "      <td>76400</td>\n",
       "      <td>Business Consultant</td>\n",
       "    </tr>\n",
       "    <tr>\n",
       "      <th>3</th>\n",
       "      <td>Jurgen Gupta</td>\n",
       "      <td>94300</td>\n",
       "      <td>Aerospace Engineer</td>\n",
       "    </tr>\n",
       "  </tbody>\n",
       "</table>\n",
       "</div>"
      ],
      "text/plain": [
       "            name  salary           occupation\n",
       "0   Brian Dogood   64000  Software Technician\n",
       "1     Leah Bokeh   73200       Data Scientist\n",
       "2  Mark Prescott   76400  Business Consultant\n",
       "3   Jurgen Gupta   94300   Aerospace Engineer"
      ]
     },
     "execution_count": 50,
     "metadata": {},
     "output_type": "execute_result"
    }
   ],
   "source": [
    "folks.head()"
   ]
  },
  {
   "cell_type": "code",
   "execution_count": 48,
   "id": "1f25e592",
   "metadata": {},
   "outputs": [],
   "source": [
    "hobbies = pd.read_excel('datasets/folks.xlsx',sheet_name='hobbies')"
   ]
  },
  {
   "cell_type": "code",
   "execution_count": 51,
   "id": "da83c01c",
   "metadata": {},
   "outputs": [
    {
     "data": {
      "text/html": [
       "<div>\n",
       "<style scoped>\n",
       "    .dataframe tbody tr th:only-of-type {\n",
       "        vertical-align: middle;\n",
       "    }\n",
       "\n",
       "    .dataframe tbody tr th {\n",
       "        vertical-align: top;\n",
       "    }\n",
       "\n",
       "    .dataframe thead th {\n",
       "        text-align: right;\n",
       "    }\n",
       "</style>\n",
       "<table border=\"1\" class=\"dataframe\">\n",
       "  <thead>\n",
       "    <tr style=\"text-align: right;\">\n",
       "      <th></th>\n",
       "      <th>name</th>\n",
       "      <th>hobby</th>\n",
       "    </tr>\n",
       "  </thead>\n",
       "  <tbody>\n",
       "    <tr>\n",
       "      <th>0</th>\n",
       "      <td>Brian Dogood</td>\n",
       "      <td>Fishing</td>\n",
       "    </tr>\n",
       "    <tr>\n",
       "      <th>1</th>\n",
       "      <td>Leah Bokeh</td>\n",
       "      <td>Skateboarding</td>\n",
       "    </tr>\n",
       "    <tr>\n",
       "      <th>2</th>\n",
       "      <td>Mark Prescott</td>\n",
       "      <td>Value Investing</td>\n",
       "    </tr>\n",
       "    <tr>\n",
       "      <th>3</th>\n",
       "      <td>Jurgen Gupta</td>\n",
       "      <td>Drawing</td>\n",
       "    </tr>\n",
       "  </tbody>\n",
       "</table>\n",
       "</div>"
      ],
      "text/plain": [
       "            name            hobby\n",
       "0   Brian Dogood          Fishing\n",
       "1     Leah Bokeh    Skateboarding\n",
       "2  Mark Prescott  Value Investing\n",
       "3   Jurgen Gupta          Drawing"
      ]
     },
     "execution_count": 51,
     "metadata": {},
     "output_type": "execute_result"
    }
   ],
   "source": [
    "hobbies.head()"
   ]
  },
  {
   "cell_type": "code",
   "execution_count": 55,
   "id": "aa8c6959",
   "metadata": {},
   "outputs": [
    {
     "data": {
      "text/html": [
       "<div>\n",
       "<style scoped>\n",
       "    .dataframe tbody tr th:only-of-type {\n",
       "        vertical-align: middle;\n",
       "    }\n",
       "\n",
       "    .dataframe tbody tr th {\n",
       "        vertical-align: top;\n",
       "    }\n",
       "\n",
       "    .dataframe thead th {\n",
       "        text-align: right;\n",
       "    }\n",
       "</style>\n",
       "<table border=\"1\" class=\"dataframe\">\n",
       "  <thead>\n",
       "    <tr style=\"text-align: right;\">\n",
       "      <th></th>\n",
       "      <th>name</th>\n",
       "      <th>salary</th>\n",
       "      <th>occupation</th>\n",
       "    </tr>\n",
       "  </thead>\n",
       "  <tbody>\n",
       "    <tr>\n",
       "      <th>0</th>\n",
       "      <td>Brian Dogood</td>\n",
       "      <td>64000</td>\n",
       "      <td>Software Technician</td>\n",
       "    </tr>\n",
       "    <tr>\n",
       "      <th>1</th>\n",
       "      <td>Leah Bokeh</td>\n",
       "      <td>73200</td>\n",
       "      <td>Data Scientist</td>\n",
       "    </tr>\n",
       "    <tr>\n",
       "      <th>2</th>\n",
       "      <td>Mark Prescott</td>\n",
       "      <td>76400</td>\n",
       "      <td>Business Consultant</td>\n",
       "    </tr>\n",
       "    <tr>\n",
       "      <th>3</th>\n",
       "      <td>Jurgen Gupta</td>\n",
       "      <td>94300</td>\n",
       "      <td>Aerospace Engineer</td>\n",
       "    </tr>\n",
       "  </tbody>\n",
       "</table>\n",
       "</div>"
      ],
      "text/plain": [
       "            name  salary           occupation\n",
       "0   Brian Dogood   64000  Software Technician\n",
       "1     Leah Bokeh   73200       Data Scientist\n",
       "2  Mark Prescott   76400  Business Consultant\n",
       "3   Jurgen Gupta   94300   Aerospace Engineer"
      ]
     },
     "execution_count": 55,
     "metadata": {},
     "output_type": "execute_result"
    }
   ],
   "source": [
    "# position based indexing for sheet_name\n",
    "# xlrd --- for excel reading\n",
    "# xlwt --- for excel writing\n",
    "\n",
    "pd.read_excel('datasets/folks.xlsx',0)"
   ]
  },
  {
   "cell_type": "code",
   "execution_count": 53,
   "id": "5613ce29",
   "metadata": {},
   "outputs": [
    {
     "data": {
      "text/html": [
       "<div>\n",
       "<style scoped>\n",
       "    .dataframe tbody tr th:only-of-type {\n",
       "        vertical-align: middle;\n",
       "    }\n",
       "\n",
       "    .dataframe tbody tr th {\n",
       "        vertical-align: top;\n",
       "    }\n",
       "\n",
       "    .dataframe thead th {\n",
       "        text-align: right;\n",
       "    }\n",
       "</style>\n",
       "<table border=\"1\" class=\"dataframe\">\n",
       "  <thead>\n",
       "    <tr style=\"text-align: right;\">\n",
       "      <th></th>\n",
       "      <th>name</th>\n",
       "      <th>hobby</th>\n",
       "    </tr>\n",
       "  </thead>\n",
       "  <tbody>\n",
       "    <tr>\n",
       "      <th>0</th>\n",
       "      <td>Brian Dogood</td>\n",
       "      <td>Fishing</td>\n",
       "    </tr>\n",
       "    <tr>\n",
       "      <th>1</th>\n",
       "      <td>Leah Bokeh</td>\n",
       "      <td>Skateboarding</td>\n",
       "    </tr>\n",
       "    <tr>\n",
       "      <th>2</th>\n",
       "      <td>Mark Prescott</td>\n",
       "      <td>Value Investing</td>\n",
       "    </tr>\n",
       "    <tr>\n",
       "      <th>3</th>\n",
       "      <td>Jurgen Gupta</td>\n",
       "      <td>Drawing</td>\n",
       "    </tr>\n",
       "  </tbody>\n",
       "</table>\n",
       "</div>"
      ],
      "text/plain": [
       "            name            hobby\n",
       "0   Brian Dogood          Fishing\n",
       "1     Leah Bokeh    Skateboarding\n",
       "2  Mark Prescott  Value Investing\n",
       "3   Jurgen Gupta          Drawing"
      ]
     },
     "execution_count": 53,
     "metadata": {},
     "output_type": "execute_result"
    }
   ],
   "source": [
    "pd.read_excel('datasets/folks.xlsx',1)"
   ]
  },
  {
   "cell_type": "code",
   "execution_count": 56,
   "id": "43400a57",
   "metadata": {},
   "outputs": [
    {
     "name": "stdout",
     "output_type": "stream",
     "text": [
      "Name: xlrd\r\n",
      "Version: 2.0.1\r\n",
      "Summary: Library for developers to extract data from Microsoft Excel (tm) .xls spreadsheet files\r\n",
      "Home-page: http://www.python-excel.org/\r\n",
      "Author: Chris Withers\r\n",
      "Author-email: chris@withers.org\r\n",
      "License: BSD\r\n",
      "Location: /home/aayush/anaconda3/lib/python3.7/site-packages\r\n",
      "Requires: \r\n",
      "Required-by: \r\n"
     ]
    }
   ],
   "source": [
    "!pip show xlrd"
   ]
  },
  {
   "cell_type": "code",
   "execution_count": 57,
   "id": "73e5cd4e",
   "metadata": {},
   "outputs": [
    {
     "name": "stdout",
     "output_type": "stream",
     "text": [
      "Name: openpyxl\r\n",
      "Version: 3.0.7\r\n",
      "Summary: A Python library to read/write Excel 2010 xlsx/xlsm files\r\n",
      "Home-page: https://openpyxl.readthedocs.io\r\n",
      "Author: See AUTHORS\r\n",
      "Author-email: charlie.clark@clark-consulting.eu\r\n",
      "License: MIT\r\n",
      "Location: /home/aayush/anaconda3/lib/python3.7/site-packages\r\n",
      "Requires: et-xmlfile\r\n",
      "Required-by: \r\n"
     ]
    }
   ],
   "source": [
    "!pip show openpyxl"
   ]
  },
  {
   "cell_type": "markdown",
   "id": "dded3e64",
   "metadata": {},
   "source": [
    "### Creating Output: The to_* Family of Methods"
   ]
  },
  {
   "cell_type": "code",
   "execution_count": 59,
   "id": "f8355ae2",
   "metadata": {},
   "outputs": [],
   "source": [
    "hobbies = pd.read_excel('datasets/folks.xlsx',1)"
   ]
  },
  {
   "cell_type": "code",
   "execution_count": 60,
   "id": "778bb2c8",
   "metadata": {},
   "outputs": [
    {
     "data": {
      "text/html": [
       "<div>\n",
       "<style scoped>\n",
       "    .dataframe tbody tr th:only-of-type {\n",
       "        vertical-align: middle;\n",
       "    }\n",
       "\n",
       "    .dataframe tbody tr th {\n",
       "        vertical-align: top;\n",
       "    }\n",
       "\n",
       "    .dataframe thead th {\n",
       "        text-align: right;\n",
       "    }\n",
       "</style>\n",
       "<table border=\"1\" class=\"dataframe\">\n",
       "  <thead>\n",
       "    <tr style=\"text-align: right;\">\n",
       "      <th></th>\n",
       "      <th>name</th>\n",
       "      <th>hobby</th>\n",
       "    </tr>\n",
       "  </thead>\n",
       "  <tbody>\n",
       "    <tr>\n",
       "      <th>0</th>\n",
       "      <td>Brian Dogood</td>\n",
       "      <td>Fishing</td>\n",
       "    </tr>\n",
       "    <tr>\n",
       "      <th>1</th>\n",
       "      <td>Leah Bokeh</td>\n",
       "      <td>Skateboarding</td>\n",
       "    </tr>\n",
       "    <tr>\n",
       "      <th>2</th>\n",
       "      <td>Mark Prescott</td>\n",
       "      <td>Value Investing</td>\n",
       "    </tr>\n",
       "    <tr>\n",
       "      <th>3</th>\n",
       "      <td>Jurgen Gupta</td>\n",
       "      <td>Drawing</td>\n",
       "    </tr>\n",
       "  </tbody>\n",
       "</table>\n",
       "</div>"
      ],
      "text/plain": [
       "            name            hobby\n",
       "0   Brian Dogood          Fishing\n",
       "1     Leah Bokeh    Skateboarding\n",
       "2  Mark Prescott  Value Investing\n",
       "3   Jurgen Gupta          Drawing"
      ]
     },
     "execution_count": 60,
     "metadata": {},
     "output_type": "execute_result"
    }
   ],
   "source": [
    "hobbies.head()"
   ]
  },
  {
   "cell_type": "code",
   "execution_count": 61,
   "id": "5c1d6cc2",
   "metadata": {},
   "outputs": [],
   "source": [
    "# add a new person and save the resulting df to csv"
   ]
  },
  {
   "cell_type": "code",
   "execution_count": 63,
   "id": "20c1c558",
   "metadata": {},
   "outputs": [],
   "source": [
    "hobbies.loc[4] ={'name':'aayush',\n",
    "                 'hobby':'traveling'}"
   ]
  },
  {
   "cell_type": "code",
   "execution_count": 64,
   "id": "fd0a3366",
   "metadata": {},
   "outputs": [
    {
     "data": {
      "text/html": [
       "<div>\n",
       "<style scoped>\n",
       "    .dataframe tbody tr th:only-of-type {\n",
       "        vertical-align: middle;\n",
       "    }\n",
       "\n",
       "    .dataframe tbody tr th {\n",
       "        vertical-align: top;\n",
       "    }\n",
       "\n",
       "    .dataframe thead th {\n",
       "        text-align: right;\n",
       "    }\n",
       "</style>\n",
       "<table border=\"1\" class=\"dataframe\">\n",
       "  <thead>\n",
       "    <tr style=\"text-align: right;\">\n",
       "      <th></th>\n",
       "      <th>name</th>\n",
       "      <th>hobby</th>\n",
       "    </tr>\n",
       "  </thead>\n",
       "  <tbody>\n",
       "    <tr>\n",
       "      <th>0</th>\n",
       "      <td>Brian Dogood</td>\n",
       "      <td>Fishing</td>\n",
       "    </tr>\n",
       "    <tr>\n",
       "      <th>1</th>\n",
       "      <td>Leah Bokeh</td>\n",
       "      <td>Skateboarding</td>\n",
       "    </tr>\n",
       "    <tr>\n",
       "      <th>2</th>\n",
       "      <td>Mark Prescott</td>\n",
       "      <td>Value Investing</td>\n",
       "    </tr>\n",
       "    <tr>\n",
       "      <th>3</th>\n",
       "      <td>Jurgen Gupta</td>\n",
       "      <td>Drawing</td>\n",
       "    </tr>\n",
       "    <tr>\n",
       "      <th>4</th>\n",
       "      <td>aayush</td>\n",
       "      <td>traveling</td>\n",
       "    </tr>\n",
       "  </tbody>\n",
       "</table>\n",
       "</div>"
      ],
      "text/plain": [
       "            name            hobby\n",
       "0   Brian Dogood          Fishing\n",
       "1     Leah Bokeh    Skateboarding\n",
       "2  Mark Prescott  Value Investing\n",
       "3   Jurgen Gupta          Drawing\n",
       "4         aayush        traveling"
      ]
     },
     "execution_count": 64,
     "metadata": {},
     "output_type": "execute_result"
    }
   ],
   "source": [
    "hobbies.head()"
   ]
  },
  {
   "cell_type": "code",
   "execution_count": 65,
   "id": "ebe4919c",
   "metadata": {},
   "outputs": [],
   "source": [
    "hobbies.loc[5] =['rama','sleeping']"
   ]
  },
  {
   "cell_type": "code",
   "execution_count": 66,
   "id": "b351c4b2",
   "metadata": {},
   "outputs": [
    {
     "data": {
      "text/html": [
       "<div>\n",
       "<style scoped>\n",
       "    .dataframe tbody tr th:only-of-type {\n",
       "        vertical-align: middle;\n",
       "    }\n",
       "\n",
       "    .dataframe tbody tr th {\n",
       "        vertical-align: top;\n",
       "    }\n",
       "\n",
       "    .dataframe thead th {\n",
       "        text-align: right;\n",
       "    }\n",
       "</style>\n",
       "<table border=\"1\" class=\"dataframe\">\n",
       "  <thead>\n",
       "    <tr style=\"text-align: right;\">\n",
       "      <th></th>\n",
       "      <th>name</th>\n",
       "      <th>hobby</th>\n",
       "    </tr>\n",
       "  </thead>\n",
       "  <tbody>\n",
       "    <tr>\n",
       "      <th>0</th>\n",
       "      <td>Brian Dogood</td>\n",
       "      <td>Fishing</td>\n",
       "    </tr>\n",
       "    <tr>\n",
       "      <th>1</th>\n",
       "      <td>Leah Bokeh</td>\n",
       "      <td>Skateboarding</td>\n",
       "    </tr>\n",
       "    <tr>\n",
       "      <th>2</th>\n",
       "      <td>Mark Prescott</td>\n",
       "      <td>Value Investing</td>\n",
       "    </tr>\n",
       "    <tr>\n",
       "      <th>3</th>\n",
       "      <td>Jurgen Gupta</td>\n",
       "      <td>Drawing</td>\n",
       "    </tr>\n",
       "    <tr>\n",
       "      <th>4</th>\n",
       "      <td>aayush</td>\n",
       "      <td>traveling</td>\n",
       "    </tr>\n",
       "    <tr>\n",
       "      <th>5</th>\n",
       "      <td>rama</td>\n",
       "      <td>sleeping</td>\n",
       "    </tr>\n",
       "  </tbody>\n",
       "</table>\n",
       "</div>"
      ],
      "text/plain": [
       "            name            hobby\n",
       "0   Brian Dogood          Fishing\n",
       "1     Leah Bokeh    Skateboarding\n",
       "2  Mark Prescott  Value Investing\n",
       "3   Jurgen Gupta          Drawing\n",
       "4         aayush        traveling\n",
       "5           rama         sleeping"
      ]
     },
     "execution_count": 66,
     "metadata": {},
     "output_type": "execute_result"
    }
   ],
   "source": [
    "hobbies"
   ]
  },
  {
   "cell_type": "code",
   "execution_count": 68,
   "id": "0a75861f",
   "metadata": {},
   "outputs": [],
   "source": [
    "hobbies['age']=[20,20,12,12,20,34]"
   ]
  },
  {
   "cell_type": "code",
   "execution_count": 69,
   "id": "b78b3096",
   "metadata": {},
   "outputs": [
    {
     "data": {
      "text/html": [
       "<div>\n",
       "<style scoped>\n",
       "    .dataframe tbody tr th:only-of-type {\n",
       "        vertical-align: middle;\n",
       "    }\n",
       "\n",
       "    .dataframe tbody tr th {\n",
       "        vertical-align: top;\n",
       "    }\n",
       "\n",
       "    .dataframe thead th {\n",
       "        text-align: right;\n",
       "    }\n",
       "</style>\n",
       "<table border=\"1\" class=\"dataframe\">\n",
       "  <thead>\n",
       "    <tr style=\"text-align: right;\">\n",
       "      <th></th>\n",
       "      <th>name</th>\n",
       "      <th>hobby</th>\n",
       "      <th>age</th>\n",
       "    </tr>\n",
       "  </thead>\n",
       "  <tbody>\n",
       "    <tr>\n",
       "      <th>0</th>\n",
       "      <td>Brian Dogood</td>\n",
       "      <td>Fishing</td>\n",
       "      <td>20</td>\n",
       "    </tr>\n",
       "    <tr>\n",
       "      <th>1</th>\n",
       "      <td>Leah Bokeh</td>\n",
       "      <td>Skateboarding</td>\n",
       "      <td>20</td>\n",
       "    </tr>\n",
       "    <tr>\n",
       "      <th>2</th>\n",
       "      <td>Mark Prescott</td>\n",
       "      <td>Value Investing</td>\n",
       "      <td>12</td>\n",
       "    </tr>\n",
       "    <tr>\n",
       "      <th>3</th>\n",
       "      <td>Jurgen Gupta</td>\n",
       "      <td>Drawing</td>\n",
       "      <td>12</td>\n",
       "    </tr>\n",
       "    <tr>\n",
       "      <th>4</th>\n",
       "      <td>aayush</td>\n",
       "      <td>traveling</td>\n",
       "      <td>20</td>\n",
       "    </tr>\n",
       "    <tr>\n",
       "      <th>5</th>\n",
       "      <td>rama</td>\n",
       "      <td>sleeping</td>\n",
       "      <td>34</td>\n",
       "    </tr>\n",
       "  </tbody>\n",
       "</table>\n",
       "</div>"
      ],
      "text/plain": [
       "            name            hobby  age\n",
       "0   Brian Dogood          Fishing   20\n",
       "1     Leah Bokeh    Skateboarding   20\n",
       "2  Mark Prescott  Value Investing   12\n",
       "3   Jurgen Gupta          Drawing   12\n",
       "4         aayush        traveling   20\n",
       "5           rama         sleeping   34"
      ]
     },
     "execution_count": 69,
     "metadata": {},
     "output_type": "execute_result"
    }
   ],
   "source": [
    "hobbies"
   ]
  },
  {
   "cell_type": "code",
   "execution_count": 71,
   "id": "697dd4a8",
   "metadata": {},
   "outputs": [
    {
     "data": {
      "text/plain": [
       "array([27.78836397, 39.79709118, 37.5435585 , 29.16175491, 24.60920603])"
      ]
     },
     "execution_count": 71,
     "metadata": {},
     "output_type": "execute_result"
    }
   ],
   "source": [
    "np.random.uniform(23,40,5)"
   ]
  },
  {
   "cell_type": "code",
   "execution_count": 75,
   "id": "efa10038",
   "metadata": {},
   "outputs": [],
   "source": [
    "hobbies.to_csv('hobbies.csv',index=False)"
   ]
  },
  {
   "cell_type": "code",
   "execution_count": 76,
   "id": "7c272712",
   "metadata": {},
   "outputs": [
    {
     "data": {
      "text/html": [
       "<div>\n",
       "<style scoped>\n",
       "    .dataframe tbody tr th:only-of-type {\n",
       "        vertical-align: middle;\n",
       "    }\n",
       "\n",
       "    .dataframe tbody tr th {\n",
       "        vertical-align: top;\n",
       "    }\n",
       "\n",
       "    .dataframe thead th {\n",
       "        text-align: right;\n",
       "    }\n",
       "</style>\n",
       "<table border=\"1\" class=\"dataframe\">\n",
       "  <thead>\n",
       "    <tr style=\"text-align: right;\">\n",
       "      <th></th>\n",
       "      <th>name</th>\n",
       "      <th>hobby</th>\n",
       "      <th>age</th>\n",
       "    </tr>\n",
       "  </thead>\n",
       "  <tbody>\n",
       "    <tr>\n",
       "      <th>0</th>\n",
       "      <td>Brian Dogood</td>\n",
       "      <td>Fishing</td>\n",
       "      <td>20</td>\n",
       "    </tr>\n",
       "    <tr>\n",
       "      <th>1</th>\n",
       "      <td>Leah Bokeh</td>\n",
       "      <td>Skateboarding</td>\n",
       "      <td>20</td>\n",
       "    </tr>\n",
       "    <tr>\n",
       "      <th>2</th>\n",
       "      <td>Mark Prescott</td>\n",
       "      <td>Value Investing</td>\n",
       "      <td>12</td>\n",
       "    </tr>\n",
       "    <tr>\n",
       "      <th>3</th>\n",
       "      <td>Jurgen Gupta</td>\n",
       "      <td>Drawing</td>\n",
       "      <td>12</td>\n",
       "    </tr>\n",
       "    <tr>\n",
       "      <th>4</th>\n",
       "      <td>aayush</td>\n",
       "      <td>traveling</td>\n",
       "      <td>20</td>\n",
       "    </tr>\n",
       "    <tr>\n",
       "      <th>5</th>\n",
       "      <td>rama</td>\n",
       "      <td>sleeping</td>\n",
       "      <td>34</td>\n",
       "    </tr>\n",
       "  </tbody>\n",
       "</table>\n",
       "</div>"
      ],
      "text/plain": [
       "            name            hobby  age\n",
       "0   Brian Dogood          Fishing   20\n",
       "1     Leah Bokeh    Skateboarding   20\n",
       "2  Mark Prescott  Value Investing   12\n",
       "3   Jurgen Gupta          Drawing   12\n",
       "4         aayush        traveling   20\n",
       "5           rama         sleeping   34"
      ]
     },
     "execution_count": 76,
     "metadata": {},
     "output_type": "execute_result"
    }
   ],
   "source": [
    "pd.read_csv('hobbies.csv')"
   ]
  },
  {
   "cell_type": "code",
   "execution_count": 77,
   "id": "1bdbdfae",
   "metadata": {},
   "outputs": [
    {
     "name": "stdout",
     "output_type": "stream",
     "text": [
      " DataFrameII.ipynb\t\t'multiple dataframe.ipynb'\r\n",
      " Dataframes.ipynb\t\t Reading_Data.ipynb\r\n",
      " datasets\t\t\t Reshaping_with_Pivots.ipynb\r\n",
      " GroupBy_Aggregates.ipynb\t series_at_glance.ipynb\r\n",
      "'Handling Data and Time.ipynb'\t series_methods_and_handling.ipynb\r\n",
      " hobbies.csv\t\t\t'String Manipulation.ipynb'\r\n",
      " MultiIndex.ipynb\t\t visualizing_data.ipynb\r\n"
     ]
    }
   ],
   "source": [
    "!ls"
   ]
  },
  {
   "cell_type": "code",
   "execution_count": 78,
   "id": "5bfe8f1d",
   "metadata": {},
   "outputs": [
    {
     "name": "stdout",
     "output_type": "stream",
     "text": [
      "/home/aayush/data_science/Data_Analysis\r\n"
     ]
    }
   ],
   "source": [
    "!pwd"
   ]
  },
  {
   "cell_type": "code",
   "execution_count": 79,
   "id": "91910ebc",
   "metadata": {},
   "outputs": [],
   "source": [
    "!rm sample_data -rf"
   ]
  },
  {
   "cell_type": "code",
   "execution_count": 80,
   "id": "ff22588c",
   "metadata": {},
   "outputs": [],
   "source": [
    "!rm hobbies.csv -rf"
   ]
  },
  {
   "cell_type": "code",
   "execution_count": 81,
   "id": "1214d450",
   "metadata": {},
   "outputs": [
    {
     "name": "stdout",
     "output_type": "stream",
     "text": [
      " DataFrameII.ipynb\t\t Reading_Data.ipynb\r\n",
      " Dataframes.ipynb\t\t Reshaping_with_Pivots.ipynb\r\n",
      " datasets\t\t\t series_at_glance.ipynb\r\n",
      " GroupBy_Aggregates.ipynb\t series_methods_and_handling.ipynb\r\n",
      "'Handling Data and Time.ipynb'\t'String Manipulation.ipynb'\r\n",
      " MultiIndex.ipynb\t\t visualizing_data.ipynb\r\n",
      "'multiple dataframe.ipynb'\r\n"
     ]
    }
   ],
   "source": [
    "!ls"
   ]
  },
  {
   "cell_type": "code",
   "execution_count": 82,
   "id": "e9f033db",
   "metadata": {},
   "outputs": [],
   "source": [
    "hobbies.to_csv('datasets/hobbies.csv',index=False)"
   ]
  },
  {
   "cell_type": "code",
   "execution_count": 83,
   "id": "b2a18952",
   "metadata": {},
   "outputs": [
    {
     "name": "stdout",
     "output_type": "stream",
     "text": [
      "2017BostonMarathonTop1000.csv  games_sales.csv\t\tparty.csv\r\n",
      "BrentOilPrices.csv\t       hobbies.csv\t\tregions.csv\r\n",
      "drinks.csv\t\t       ivies.csv\t\tscores.csv\r\n",
      "eng.csv\t\t\t       liberal_arts.csv\t\tsoccer.csv\r\n",
      "folks.json\t\t       mid_career_salaries.csv\tstate.csv\r\n",
      "folks.xlsx\t\t       nutrition.csv\t\ttech_giants.csv\r\n"
     ]
    }
   ],
   "source": [
    "!ls datasets/"
   ]
  },
  {
   "cell_type": "code",
   "execution_count": 85,
   "id": "ff1c781e",
   "metadata": {},
   "outputs": [],
   "source": [
    "hobbies.to_json('datasets/hobbies.json')"
   ]
  },
  {
   "cell_type": "code",
   "execution_count": 86,
   "id": "84d89cd6",
   "metadata": {},
   "outputs": [
    {
     "data": {
      "text/html": [
       "<div>\n",
       "<style scoped>\n",
       "    .dataframe tbody tr th:only-of-type {\n",
       "        vertical-align: middle;\n",
       "    }\n",
       "\n",
       "    .dataframe tbody tr th {\n",
       "        vertical-align: top;\n",
       "    }\n",
       "\n",
       "    .dataframe thead th {\n",
       "        text-align: right;\n",
       "    }\n",
       "</style>\n",
       "<table border=\"1\" class=\"dataframe\">\n",
       "  <thead>\n",
       "    <tr style=\"text-align: right;\">\n",
       "      <th></th>\n",
       "      <th>name</th>\n",
       "      <th>hobby</th>\n",
       "      <th>age</th>\n",
       "    </tr>\n",
       "  </thead>\n",
       "  <tbody>\n",
       "    <tr>\n",
       "      <th>0</th>\n",
       "      <td>Brian Dogood</td>\n",
       "      <td>Fishing</td>\n",
       "      <td>20</td>\n",
       "    </tr>\n",
       "    <tr>\n",
       "      <th>1</th>\n",
       "      <td>Leah Bokeh</td>\n",
       "      <td>Skateboarding</td>\n",
       "      <td>20</td>\n",
       "    </tr>\n",
       "    <tr>\n",
       "      <th>2</th>\n",
       "      <td>Mark Prescott</td>\n",
       "      <td>Value Investing</td>\n",
       "      <td>12</td>\n",
       "    </tr>\n",
       "    <tr>\n",
       "      <th>3</th>\n",
       "      <td>Jurgen Gupta</td>\n",
       "      <td>Drawing</td>\n",
       "      <td>12</td>\n",
       "    </tr>\n",
       "    <tr>\n",
       "      <th>4</th>\n",
       "      <td>aayush</td>\n",
       "      <td>traveling</td>\n",
       "      <td>20</td>\n",
       "    </tr>\n",
       "    <tr>\n",
       "      <th>5</th>\n",
       "      <td>rama</td>\n",
       "      <td>sleeping</td>\n",
       "      <td>34</td>\n",
       "    </tr>\n",
       "  </tbody>\n",
       "</table>\n",
       "</div>"
      ],
      "text/plain": [
       "            name            hobby  age\n",
       "0   Brian Dogood          Fishing   20\n",
       "1     Leah Bokeh    Skateboarding   20\n",
       "2  Mark Prescott  Value Investing   12\n",
       "3   Jurgen Gupta          Drawing   12\n",
       "4         aayush        traveling   20\n",
       "5           rama         sleeping   34"
      ]
     },
     "execution_count": 86,
     "metadata": {},
     "output_type": "execute_result"
    }
   ],
   "source": [
    "pd.read_json('datasets/hobbies.json')"
   ]
  },
  {
   "cell_type": "code",
   "execution_count": 88,
   "id": "2b034c64",
   "metadata": {},
   "outputs": [],
   "source": [
    "hobbies.to_html('datasets/hobbies.html')"
   ]
  },
  {
   "cell_type": "markdown",
   "id": "b2e8be77",
   "metadata": {},
   "source": [
    "### Pickling"
   ]
  },
  {
   "cell_type": "code",
   "execution_count": 92,
   "id": "cae94bbb",
   "metadata": {},
   "outputs": [],
   "source": [
    "googl = {'ticker':'GOOGL','shares':10, 'book_cost':1540.23}"
   ]
  },
  {
   "cell_type": "code",
   "execution_count": 93,
   "id": "14454c3e",
   "metadata": {},
   "outputs": [],
   "source": [
    "import pickle"
   ]
  },
  {
   "cell_type": "code",
   "execution_count": 95,
   "id": "21200f46",
   "metadata": {},
   "outputs": [],
   "source": [
    "pickle_output = open('my_stock','wb')\n",
    "\n",
    "# pointer to the file"
   ]
  },
  {
   "cell_type": "code",
   "execution_count": 96,
   "id": "00aabb06",
   "metadata": {},
   "outputs": [],
   "source": [
    "pickle.dump(googl,pickle_output)"
   ]
  },
  {
   "cell_type": "code",
   "execution_count": 97,
   "id": "ac765635",
   "metadata": {},
   "outputs": [],
   "source": [
    "pickle_output.close()"
   ]
  },
  {
   "cell_type": "code",
   "execution_count": 98,
   "id": "b232ab76",
   "metadata": {},
   "outputs": [
    {
     "name": "stdout",
     "output_type": "stream",
     "text": [
      " DataFrameII.ipynb\t\t my_stock\r\n",
      " Dataframes.ipynb\t\t Reading_Data.ipynb\r\n",
      " datasets\t\t\t Reshaping_with_Pivots.ipynb\r\n",
      " GroupBy_Aggregates.ipynb\t series_at_glance.ipynb\r\n",
      "'Handling Data and Time.ipynb'\t series_methods_and_handling.ipynb\r\n",
      " MultiIndex.ipynb\t\t'String Manipulation.ipynb'\r\n",
      "'multiple dataframe.ipynb'\t visualizing_data.ipynb\r\n"
     ]
    }
   ],
   "source": [
    "!ls"
   ]
  },
  {
   "cell_type": "code",
   "execution_count": 99,
   "id": "9b5cbd6a",
   "metadata": {},
   "outputs": [],
   "source": [
    "pickle_input = open('my_stock','rb')"
   ]
  },
  {
   "cell_type": "code",
   "execution_count": 100,
   "id": "c77fadca",
   "metadata": {},
   "outputs": [],
   "source": [
    "stock_dict = pickle.load(pickle_input)"
   ]
  },
  {
   "cell_type": "code",
   "execution_count": 101,
   "id": "11477a96",
   "metadata": {},
   "outputs": [
    {
     "data": {
      "text/plain": [
       "{'ticker': 'GOOGL', 'shares': 10, 'book_cost': 1540.23}"
      ]
     },
     "execution_count": 101,
     "metadata": {},
     "output_type": "execute_result"
    }
   ],
   "source": [
    "stock_dict"
   ]
  },
  {
   "cell_type": "code",
   "execution_count": 102,
   "id": "89dffbcd",
   "metadata": {},
   "outputs": [
    {
     "name": "stdout",
     "output_type": "stream",
     "text": [
      "0000000 0380 717d 2800 0658 0000 7400 6369 656b\r\n",
      "0000010 7172 5801 0005 0000 4f47 474f 714c 5802\r\n",
      "0000020 0006 0000 6873 7261 7365 0371 0a4b 0958\r\n",
      "0000030 0000 6200 6f6f 5f6b 6f63 7473 0471 4047\r\n",
      "0000040 1098 85eb b81e 7552 002e               \r\n",
      "0000049\r\n"
     ]
    }
   ],
   "source": [
    "!hexdump my_stock"
   ]
  },
  {
   "cell_type": "code",
   "execution_count": 104,
   "id": "492c5161",
   "metadata": {},
   "outputs": [],
   "source": [
    "folio = pd.read_pickle('datasets/portfolio')"
   ]
  },
  {
   "cell_type": "code",
   "execution_count": 105,
   "id": "0d421387",
   "metadata": {},
   "outputs": [
    {
     "data": {
      "text/html": [
       "<div>\n",
       "<style scoped>\n",
       "    .dataframe tbody tr th:only-of-type {\n",
       "        vertical-align: middle;\n",
       "    }\n",
       "\n",
       "    .dataframe tbody tr th {\n",
       "        vertical-align: top;\n",
       "    }\n",
       "\n",
       "    .dataframe thead th {\n",
       "        text-align: right;\n",
       "    }\n",
       "</style>\n",
       "<table border=\"1\" class=\"dataframe\">\n",
       "  <thead>\n",
       "    <tr style=\"text-align: right;\">\n",
       "      <th></th>\n",
       "      <th>ticker</th>\n",
       "      <th>shares</th>\n",
       "      <th>book_cost</th>\n",
       "    </tr>\n",
       "  </thead>\n",
       "  <tbody>\n",
       "    <tr>\n",
       "      <th>0</th>\n",
       "      <td>AAPL</td>\n",
       "      <td>150</td>\n",
       "      <td>123.23</td>\n",
       "    </tr>\n",
       "    <tr>\n",
       "      <th>1</th>\n",
       "      <td>GOOGL</td>\n",
       "      <td>10</td>\n",
       "      <td>1100.00</td>\n",
       "    </tr>\n",
       "    <tr>\n",
       "      <th>2</th>\n",
       "      <td>AMGN</td>\n",
       "      <td>230</td>\n",
       "      <td>227.23</td>\n",
       "    </tr>\n",
       "    <tr>\n",
       "      <th>3</th>\n",
       "      <td>VET</td>\n",
       "      <td>200</td>\n",
       "      <td>14.24</td>\n",
       "    </tr>\n",
       "    <tr>\n",
       "      <th>4</th>\n",
       "      <td>TSLA</td>\n",
       "      <td>100</td>\n",
       "      <td>260.00</td>\n",
       "    </tr>\n",
       "    <tr>\n",
       "      <th>5</th>\n",
       "      <td>DX</td>\n",
       "      <td>40</td>\n",
       "      <td>20.01</td>\n",
       "    </tr>\n",
       "  </tbody>\n",
       "</table>\n",
       "</div>"
      ],
      "text/plain": [
       "  ticker  shares  book_cost\n",
       "0   AAPL     150     123.23\n",
       "1  GOOGL      10    1100.00\n",
       "2   AMGN     230     227.23\n",
       "3    VET     200      14.24\n",
       "4   TSLA     100     260.00\n",
       "5     DX      40      20.01"
      ]
     },
     "execution_count": 105,
     "metadata": {},
     "output_type": "execute_result"
    }
   ],
   "source": [
    "folio"
   ]
  },
  {
   "cell_type": "code",
   "execution_count": 107,
   "id": "68780fa7",
   "metadata": {},
   "outputs": [],
   "source": [
    "folio.to_pickle('folio')"
   ]
  },
  {
   "cell_type": "code",
   "execution_count": 108,
   "id": "304a4d3d",
   "metadata": {},
   "outputs": [
    {
     "name": "stdout",
     "output_type": "stream",
     "text": [
      " DataFrameII.ipynb\t\t my_stock\r\n",
      " Dataframes.ipynb\t\t Reading_Data.ipynb\r\n",
      " datasets\t\t\t Reshaping_with_Pivots.ipynb\r\n",
      " folio\t\t\t\t series_at_glance.ipynb\r\n",
      " GroupBy_Aggregates.ipynb\t series_methods_and_handling.ipynb\r\n",
      "'Handling Data and Time.ipynb'\t'String Manipulation.ipynb'\r\n",
      " MultiIndex.ipynb\t\t visualizing_data.ipynb\r\n",
      "'multiple dataframe.ipynb'\r\n"
     ]
    }
   ],
   "source": [
    "!ls"
   ]
  },
  {
   "cell_type": "code",
   "execution_count": 110,
   "id": "9ae30aa6",
   "metadata": {},
   "outputs": [
    {
     "data": {
      "text/html": [
       "<div>\n",
       "<style scoped>\n",
       "    .dataframe tbody tr th:only-of-type {\n",
       "        vertical-align: middle;\n",
       "    }\n",
       "\n",
       "    .dataframe tbody tr th {\n",
       "        vertical-align: top;\n",
       "    }\n",
       "\n",
       "    .dataframe thead th {\n",
       "        text-align: right;\n",
       "    }\n",
       "</style>\n",
       "<table border=\"1\" class=\"dataframe\">\n",
       "  <thead>\n",
       "    <tr style=\"text-align: right;\">\n",
       "      <th></th>\n",
       "      <th>ticker</th>\n",
       "      <th>shares</th>\n",
       "      <th>book_cost</th>\n",
       "    </tr>\n",
       "  </thead>\n",
       "  <tbody>\n",
       "    <tr>\n",
       "      <th>0</th>\n",
       "      <td>AAPL</td>\n",
       "      <td>150</td>\n",
       "      <td>123.23</td>\n",
       "    </tr>\n",
       "    <tr>\n",
       "      <th>1</th>\n",
       "      <td>GOOGL</td>\n",
       "      <td>10</td>\n",
       "      <td>1100.00</td>\n",
       "    </tr>\n",
       "    <tr>\n",
       "      <th>2</th>\n",
       "      <td>AMGN</td>\n",
       "      <td>230</td>\n",
       "      <td>227.23</td>\n",
       "    </tr>\n",
       "    <tr>\n",
       "      <th>3</th>\n",
       "      <td>VET</td>\n",
       "      <td>200</td>\n",
       "      <td>14.24</td>\n",
       "    </tr>\n",
       "    <tr>\n",
       "      <th>4</th>\n",
       "      <td>TSLA</td>\n",
       "      <td>100</td>\n",
       "      <td>260.00</td>\n",
       "    </tr>\n",
       "    <tr>\n",
       "      <th>5</th>\n",
       "      <td>DX</td>\n",
       "      <td>40</td>\n",
       "      <td>20.01</td>\n",
       "    </tr>\n",
       "  </tbody>\n",
       "</table>\n",
       "</div>"
      ],
      "text/plain": [
       "  ticker  shares  book_cost\n",
       "0   AAPL     150     123.23\n",
       "1  GOOGL      10    1100.00\n",
       "2   AMGN     230     227.23\n",
       "3    VET     200      14.24\n",
       "4   TSLA     100     260.00\n",
       "5     DX      40      20.01"
      ]
     },
     "execution_count": 110,
     "metadata": {},
     "output_type": "execute_result"
    }
   ],
   "source": [
    "pd.read_pickle('folio')"
   ]
  },
  {
   "cell_type": "markdown",
   "id": "c82b847d",
   "metadata": {},
   "source": [
    "### The many other formats"
   ]
  },
  {
   "cell_type": "code",
   "execution_count": 111,
   "id": "23c55af0",
   "metadata": {},
   "outputs": [],
   "source": [
    "# io tools in pandas"
   ]
  },
  {
   "cell_type": "code",
   "execution_count": 115,
   "id": "20002e48",
   "metadata": {},
   "outputs": [],
   "source": [
    "# feather data type to serialize dataframe\n",
    "# msgpack - compact version of json\n",
    "\n",
    "\n",
    "# explore them as the need arises"
   ]
  },
  {
   "cell_type": "code",
   "execution_count": 152,
   "id": "5ced3319",
   "metadata": {},
   "outputs": [],
   "source": [
    "data_url = 'https://andybek.com/traders/'"
   ]
  },
  {
   "cell_type": "code",
   "execution_count": 153,
   "id": "c284d284",
   "metadata": {},
   "outputs": [],
   "source": [
    "positions = pd.read_html(data_url)"
   ]
  },
  {
   "cell_type": "code",
   "execution_count": 154,
   "id": "13913458",
   "metadata": {},
   "outputs": [
    {
     "data": {
      "text/plain": [
       "list"
      ]
     },
     "execution_count": 154,
     "metadata": {},
     "output_type": "execute_result"
    }
   ],
   "source": [
    "type(positions)"
   ]
  },
  {
   "cell_type": "code",
   "execution_count": 155,
   "id": "01769b4d",
   "metadata": {},
   "outputs": [
    {
     "data": {
      "text/plain": [
       "1"
      ]
     },
     "execution_count": 155,
     "metadata": {},
     "output_type": "execute_result"
    }
   ],
   "source": [
    "len(positions)"
   ]
  },
  {
   "cell_type": "code",
   "execution_count": 156,
   "id": "5a2edcce",
   "metadata": {},
   "outputs": [
    {
     "data": {
      "text/html": [
       "<div>\n",
       "<style scoped>\n",
       "    .dataframe tbody tr th:only-of-type {\n",
       "        vertical-align: middle;\n",
       "    }\n",
       "\n",
       "    .dataframe tbody tr th {\n",
       "        vertical-align: top;\n",
       "    }\n",
       "\n",
       "    .dataframe thead th {\n",
       "        text-align: right;\n",
       "    }\n",
       "</style>\n",
       "<table border=\"1\" class=\"dataframe\">\n",
       "  <thead>\n",
       "    <tr style=\"text-align: right;\">\n",
       "      <th></th>\n",
       "      <th>TraderID</th>\n",
       "      <th>Instrument</th>\n",
       "      <th>Amount</th>\n",
       "      <th>Trader Location</th>\n",
       "    </tr>\n",
       "  </thead>\n",
       "  <tbody>\n",
       "    <tr>\n",
       "      <th>0</th>\n",
       "      <td>MCBIRN</td>\n",
       "      <td>02079K107</td>\n",
       "      <td>150000</td>\n",
       "      <td>EU</td>\n",
       "    </tr>\n",
       "    <tr>\n",
       "      <th>1</th>\n",
       "      <td>WISEA</td>\n",
       "      <td>1350Z74U5</td>\n",
       "      <td>6400000</td>\n",
       "      <td>EU</td>\n",
       "    </tr>\n",
       "    <tr>\n",
       "      <th>2</th>\n",
       "      <td>IACOP</td>\n",
       "      <td>GB00B3KJDQ49</td>\n",
       "      <td>2430000</td>\n",
       "      <td>US</td>\n",
       "    </tr>\n",
       "  </tbody>\n",
       "</table>\n",
       "</div>"
      ],
      "text/plain": [
       "  TraderID    Instrument   Amount Trader Location\n",
       "0   MCBIRN     02079K107   150000              EU\n",
       "1    WISEA     1350Z74U5  6400000              EU\n",
       "2    IACOP  GB00B3KJDQ49  2430000              US"
      ]
     },
     "execution_count": 156,
     "metadata": {},
     "output_type": "execute_result"
    }
   ],
   "source": [
    "positions = positions[0]\n",
    "positions"
   ]
  },
  {
   "cell_type": "code",
   "execution_count": 157,
   "id": "54d3d018",
   "metadata": {},
   "outputs": [],
   "source": [
    "data_url2 = 'https://andybek.com/pandas-traders-names/'"
   ]
  },
  {
   "cell_type": "code",
   "execution_count": 159,
   "id": "d291a46b",
   "metadata": {},
   "outputs": [],
   "source": [
    "traders = pd.read_json(data_url2)"
   ]
  },
  {
   "cell_type": "code",
   "execution_count": 160,
   "id": "306ac32b",
   "metadata": {},
   "outputs": [
    {
     "data": {
      "text/html": [
       "<div>\n",
       "<style scoped>\n",
       "    .dataframe tbody tr th:only-of-type {\n",
       "        vertical-align: middle;\n",
       "    }\n",
       "\n",
       "    .dataframe tbody tr th {\n",
       "        vertical-align: top;\n",
       "    }\n",
       "\n",
       "    .dataframe thead th {\n",
       "        text-align: right;\n",
       "    }\n",
       "</style>\n",
       "<table border=\"1\" class=\"dataframe\">\n",
       "  <thead>\n",
       "    <tr style=\"text-align: right;\">\n",
       "      <th></th>\n",
       "      <th>names</th>\n",
       "      <th>alias</th>\n",
       "      <th>seniority</th>\n",
       "    </tr>\n",
       "  </thead>\n",
       "  <tbody>\n",
       "    <tr>\n",
       "      <th>0</th>\n",
       "      <td>Shylah McBirney</td>\n",
       "      <td>MCBIRN</td>\n",
       "      <td>Executive</td>\n",
       "    </tr>\n",
       "    <tr>\n",
       "      <th>1</th>\n",
       "      <td>Allen Wise</td>\n",
       "      <td>WISEA</td>\n",
       "      <td>Executive</td>\n",
       "    </tr>\n",
       "    <tr>\n",
       "      <th>2</th>\n",
       "      <td>Iacopo Brivio</td>\n",
       "      <td>IACOP</td>\n",
       "      <td>Junior</td>\n",
       "    </tr>\n",
       "    <tr>\n",
       "      <th>3</th>\n",
       "      <td>Allison Carter</td>\n",
       "      <td>CARTERA</td>\n",
       "      <td>Mid-level</td>\n",
       "    </tr>\n",
       "  </tbody>\n",
       "</table>\n",
       "</div>"
      ],
      "text/plain": [
       "             names    alias  seniority\n",
       "0  Shylah McBirney   MCBIRN  Executive\n",
       "1       Allen Wise    WISEA  Executive\n",
       "2    Iacopo Brivio    IACOP     Junior\n",
       "3   Allison Carter  CARTERA  Mid-level"
      ]
     },
     "execution_count": 160,
     "metadata": {},
     "output_type": "execute_result"
    }
   ],
   "source": [
    "traders"
   ]
  },
  {
   "cell_type": "code",
   "execution_count": 171,
   "id": "027d7495",
   "metadata": {},
   "outputs": [],
   "source": [
    "pickle_positions = pd.merge(positions,traders,how='inner',left_on='TraderID',right_on='alias').drop('alias',axis=1)"
   ]
  },
  {
   "cell_type": "code",
   "execution_count": 172,
   "id": "6ffd8640",
   "metadata": {},
   "outputs": [],
   "source": [
    "pickle_positions.to_pickle('pickle_positions')"
   ]
  },
  {
   "cell_type": "code",
   "execution_count": 173,
   "id": "315c290d",
   "metadata": {},
   "outputs": [],
   "source": [
    "pickle_positions.to_csv('pickle_positions.csv',index=False)"
   ]
  },
  {
   "cell_type": "code",
   "execution_count": 174,
   "id": "85b92fff",
   "metadata": {},
   "outputs": [
    {
     "data": {
      "text/html": [
       "<div>\n",
       "<style scoped>\n",
       "    .dataframe tbody tr th:only-of-type {\n",
       "        vertical-align: middle;\n",
       "    }\n",
       "\n",
       "    .dataframe tbody tr th {\n",
       "        vertical-align: top;\n",
       "    }\n",
       "\n",
       "    .dataframe thead th {\n",
       "        text-align: right;\n",
       "    }\n",
       "</style>\n",
       "<table border=\"1\" class=\"dataframe\">\n",
       "  <thead>\n",
       "    <tr style=\"text-align: right;\">\n",
       "      <th></th>\n",
       "      <th>TraderID</th>\n",
       "      <th>Instrument</th>\n",
       "      <th>Amount</th>\n",
       "      <th>Trader Location</th>\n",
       "      <th>names</th>\n",
       "      <th>seniority</th>\n",
       "    </tr>\n",
       "  </thead>\n",
       "  <tbody>\n",
       "    <tr>\n",
       "      <th>0</th>\n",
       "      <td>MCBIRN</td>\n",
       "      <td>02079K107</td>\n",
       "      <td>150000</td>\n",
       "      <td>EU</td>\n",
       "      <td>Shylah McBirney</td>\n",
       "      <td>Executive</td>\n",
       "    </tr>\n",
       "    <tr>\n",
       "      <th>1</th>\n",
       "      <td>WISEA</td>\n",
       "      <td>1350Z74U5</td>\n",
       "      <td>6400000</td>\n",
       "      <td>EU</td>\n",
       "      <td>Allen Wise</td>\n",
       "      <td>Executive</td>\n",
       "    </tr>\n",
       "    <tr>\n",
       "      <th>2</th>\n",
       "      <td>IACOP</td>\n",
       "      <td>GB00B3KJDQ49</td>\n",
       "      <td>2430000</td>\n",
       "      <td>US</td>\n",
       "      <td>Iacopo Brivio</td>\n",
       "      <td>Junior</td>\n",
       "    </tr>\n",
       "  </tbody>\n",
       "</table>\n",
       "</div>"
      ],
      "text/plain": [
       "  TraderID    Instrument   Amount Trader Location            names  seniority\n",
       "0   MCBIRN     02079K107   150000              EU  Shylah McBirney  Executive\n",
       "1    WISEA     1350Z74U5  6400000              EU       Allen Wise  Executive\n",
       "2    IACOP  GB00B3KJDQ49  2430000              US    Iacopo Brivio     Junior"
      ]
     },
     "execution_count": 174,
     "metadata": {},
     "output_type": "execute_result"
    }
   ],
   "source": [
    "pd.read_pickle('pickle_positions')"
   ]
  },
  {
   "cell_type": "code",
   "execution_count": 175,
   "id": "8a78e286",
   "metadata": {},
   "outputs": [
    {
     "data": {
      "text/html": [
       "<div>\n",
       "<style scoped>\n",
       "    .dataframe tbody tr th:only-of-type {\n",
       "        vertical-align: middle;\n",
       "    }\n",
       "\n",
       "    .dataframe tbody tr th {\n",
       "        vertical-align: top;\n",
       "    }\n",
       "\n",
       "    .dataframe thead th {\n",
       "        text-align: right;\n",
       "    }\n",
       "</style>\n",
       "<table border=\"1\" class=\"dataframe\">\n",
       "  <thead>\n",
       "    <tr style=\"text-align: right;\">\n",
       "      <th></th>\n",
       "      <th>TraderID</th>\n",
       "      <th>Instrument</th>\n",
       "      <th>Amount</th>\n",
       "      <th>Trader Location</th>\n",
       "      <th>names</th>\n",
       "      <th>seniority</th>\n",
       "    </tr>\n",
       "  </thead>\n",
       "  <tbody>\n",
       "    <tr>\n",
       "      <th>0</th>\n",
       "      <td>MCBIRN</td>\n",
       "      <td>02079K107</td>\n",
       "      <td>150000</td>\n",
       "      <td>EU</td>\n",
       "      <td>Shylah McBirney</td>\n",
       "      <td>Executive</td>\n",
       "    </tr>\n",
       "    <tr>\n",
       "      <th>1</th>\n",
       "      <td>WISEA</td>\n",
       "      <td>1350Z74U5</td>\n",
       "      <td>6400000</td>\n",
       "      <td>EU</td>\n",
       "      <td>Allen Wise</td>\n",
       "      <td>Executive</td>\n",
       "    </tr>\n",
       "    <tr>\n",
       "      <th>2</th>\n",
       "      <td>IACOP</td>\n",
       "      <td>GB00B3KJDQ49</td>\n",
       "      <td>2430000</td>\n",
       "      <td>US</td>\n",
       "      <td>Iacopo Brivio</td>\n",
       "      <td>Junior</td>\n",
       "    </tr>\n",
       "  </tbody>\n",
       "</table>\n",
       "</div>"
      ],
      "text/plain": [
       "  TraderID    Instrument   Amount Trader Location            names  seniority\n",
       "0   MCBIRN     02079K107   150000              EU  Shylah McBirney  Executive\n",
       "1    WISEA     1350Z74U5  6400000              EU       Allen Wise  Executive\n",
       "2    IACOP  GB00B3KJDQ49  2430000              US    Iacopo Brivio     Junior"
      ]
     },
     "execution_count": 175,
     "metadata": {},
     "output_type": "execute_result"
    }
   ],
   "source": [
    "pd.read_csv('pickle_positions.csv')"
   ]
  },
  {
   "cell_type": "code",
   "execution_count": null,
   "id": "c2be80c4",
   "metadata": {},
   "outputs": [],
   "source": []
  },
  {
   "cell_type": "code",
   "execution_count": null,
   "id": "68b750c0",
   "metadata": {},
   "outputs": [],
   "source": []
  }
 ],
 "metadata": {
  "kernelspec": {
   "display_name": "Python 3",
   "language": "python",
   "name": "python3"
  },
  "language_info": {
   "codemirror_mode": {
    "name": "ipython",
    "version": 3
   },
   "file_extension": ".py",
   "mimetype": "text/x-python",
   "name": "python",
   "nbconvert_exporter": "python",
   "pygments_lexer": "ipython3",
   "version": "3.7.10"
  }
 },
 "nbformat": 4,
 "nbformat_minor": 5
}
